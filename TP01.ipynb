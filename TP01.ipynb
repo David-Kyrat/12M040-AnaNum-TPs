{
 "cells": [
  {
   "cell_type": "markdown",
   "metadata": {
    "id": "CtBWV1wJ1Bh8"
   },
   "source": [
    "# TP 1 : Interpolation polynomiale"
   ]
  },
  {
   "cell_type": "markdown",
   "metadata": {
    "id": "sEg5bHvY1Bh-"
   },
   "source": [
    "Le but de l'interpolation polynomiale est de construire un polynôme $p_n(x)$ de degré au plus $n$ satisfaisant\n",
    "$$\n",
    "  p_n(x_i) = y_i\\quad \\text{pour} \\quad i = 0,1,2,\\dots,n,\n",
    "$$\n",
    "\n",
    "où les $(x_i,y_i)$ sont les points d'interpolation donnés tels que\n",
    "$a\\leq x_0< x_1<\\dots<x_{n}\\leq b$.\n",
    "\n",
    "Dans les exercices suivants, on discutera de différentes méthodes pour construire un polynôme d'interpolation.\n",
    "\n",
    "## Exercice 1 : Polynômes de Lagrange\n",
    "En utilisant la formule de Lagrange, on construit le polynôme d'interpolation\n",
    "$$\n",
    "  p_n(x) = \\sum_{i=0}^{n} y_i \\ell_i(x)\n",
    "  \\quad\\text{avec}\\quad\n",
    "  \\ell_i(x) = \\prod_{\\substack{j=0\\\\ j\\neq i}}^{n} \\frac{x-x_j}{x_i-x_j}.\n",
    "$$\n",
    "On appelle les $\\ell_i(x)$ polynômes de Lagrange. Dans cet exercice, vous allez implémenter cette formule d'interpolation.\n"
   ]
  },
  {
   "cell_type": "markdown",
   "metadata": {
    "id": "uLEbHsv489b6"
   },
   "source": [
    "### Exercice 1a)\n",
    "---\n",
    "> Écrivez deux fonctions :\n",
    ">- `polynome_lagrange` qui implémente les polynômes de Lagrange, étant donné les points d'interpolation `x_inter` et les évalue aux points `x`.\n",
    ">- `interpolation_lagrange` qui implémente l'interpolation de Lagrange, en utilisant `polynome_lagrange` ainsi que les points d'interpolation `x_inter` et `y_inter` et évalue ce polynôme aux points `x`. \n",
    "---"
   ]
  },
  {
   "cell_type": "code",
   "execution_count": 1,
   "metadata": {
    "id": "V-GUElpm1Bh_"
   },
   "outputs": [],
   "source": [
    "import numpy as np\n",
    "import matplotlib.pyplot as plt\n",
    "\n",
    "\n",
    "def lag_poly(x, x_inter, i):\n",
    "    \"\"\"\n",
    "    Returns:\n",
    "        The i-th Lagrange polynomial evaluated at x (i.e. l_i(x))\n",
    "    \"\"\"\n",
    "    fun = lambda j: (x - x_inter[j]) / (x_inter[i] - x_inter[j])\n",
    "    return np.array([fun(j) for j in prod_idxs(i, len(x_inter))]).prod(axis=0)\n",
    "\n",
    "\n",
    "def prod_idxs(i, size):\n",
    "    \"\"\"return array of (indices) js from 0 to n where each j != given i- \"\"\"\n",
    "    return np.delete(np.arange(size, dtype=int), i)\n",
    "\n",
    "\n",
    "def test(size):\n",
    "    x_inter = np.linspace(0, 1, size)\n",
    "    x = np.linspace(0, 1, size)#[1]\n",
    "    print(\"x_inter:\", x_inter)\n",
    "    print(\"x:\", x)\n",
    "    poly = lag_poly(x, x_inter, 1)\n",
    "    #print(\"l_i:\", poly)\n",
    "    print(\"len(poly) : \", np.shape(poly))\n",
    "    print(\"len(poly) : \", np.shape(poly.prod(axis=0)))\n",
    "    lis = polynome_lagrange(x, x_inter)\n",
    "   # for i in range(len(lis)):\n",
    "        #print(f\"\\tl_{i} =\", lis[i], \"\\n\")\n",
    "    print(\"shape(polynome_lagrange)\", np.shape(polynome_lagrange(x, x_inter)))\n",
    "    \"\"\" print(len(x_inter))\n",
    "    print(len(lis[0]))\n",
    "    print(len(x)) \"\"\"\n",
    "\n",
    "\n",
    "def polynome_lagrange(x, x_inter):\n",
    "    \"\"\"\n",
    "    Polynôme de Lagrange defini par points d'interpolation x_inter, evalués à x\n",
    "\n",
    "    Renvoie une liste `lagrange_liste` de la même longueur que x_inter où la\n",
    "    ième entrée correspond au polynôme de Lagrange l_i(x).\n",
    "\n",
    "    x est un vecteur, alors chaque entrée de lagrange_liste est un\n",
    "    vecteur de la même taille que x.\n",
    "    \"\"\"\n",
    "    n = len(x_inter)\n",
    "    return np.array([lag_poly(x, x_inter, i) for i in range(n)])\n",
    "\n",
    "    # ÉCRIVEZ VOTRE SOLUTION ICI\n",
    "\n",
    "\n",
    "def interpolation_lagrange(x, x_inter, y_inter):\n",
    "    \"\"\"\n",
    "    Polynôme de Lagrange defini par points d'interpolation x_inter et y_inter, evalués à x\n",
    "\n",
    "    x est un vecteur.\n",
    "    On renvoie un vecteur de même taille que x.\n",
    "    \"\"\"\n",
    "    npArr = np.array([y_inter[i]*lag_poly(x, x_inter, i) for i in range(len(y_inter))])\n",
    "\n",
    "    return np.array([y_inter[i]*lag_poly(x, x_inter, i) for i in range(len(y_inter))]).sum(axis=0)\n",
    "\n",
    "    # ÉCRIVEZ VOTRE SOLUTION ICI\n",
    "#test(8)\n",
    "\n"
   ]
  },
  {
   "cell_type": "code",
   "execution_count": 2,
   "metadata": {
    "colab": {
     "base_uri": "https://localhost:8080/",
     "height": 281
    },
    "id": "QKB3fkOj1BiB",
    "outputId": "12d86a71-308a-4b1d-cd37-25fe1bdd0e6f"
   },
   "outputs": [],
   "source": [
    "def test_polynome_lagrange():\n",
    "    for size in [5, 10]:\n",
    "        x_inter = np.linspace(0, 1, size)\n",
    "        x = np.linspace(0, 1, size)\n",
    "        poly = polynome_lagrange(x, x_inter)\n",
    "        assert (\n",
    "            len(poly) == size\n",
    "        ), \"La longueur de la sortie doit être la même que celle de x_inter\"\n",
    "        assert np.shape(poly) == (\n",
    "            size,\n",
    "            size,\n",
    "        ), \"La taille de chaque entrée doit correspondre à celle de x\"\n",
    "        assert np.allclose(\n",
    "            poly, np.eye(size)\n",
    "        ), \"Si x = x_inter, alors le polynome devrait être la matrice d'identité\"\n",
    "\n",
    "test_polynome_lagrange()"
   ]
  },
  {
   "cell_type": "code",
   "execution_count": 3,
   "metadata": {},
   "outputs": [
    {
     "data": {
      "image/png": "[encoded data removed]",
      "text/plain": [
       "<Figure size 432x288 with 1 Axes>"
      ]
     },
     "metadata": {
      "needs_background": "light"
     },
     "output_type": "display_data"
    }
   ],
   "source": [
    "def test_interpolation(interpolation_method, name):\n",
    "    num_points = 8\n",
    "\n",
    "    def plot_function(x):\n",
    "        return np.sin(x) ** 2 - np.exp(x / 10)\n",
    "\n",
    "    x_inter = np.linspace(0, 2 * np.pi, num_points)\n",
    "    y_inter = plot_function(x_inter)\n",
    "    x_plot = np.linspace(-0.3, 2.1 * np.pi, 100)\n",
    "    y_array = interpolation_method(x_plot, x_inter, y_inter)\n",
    "    \n",
    "    assert y_array.shape == x_plot.shape, \"Erreur de taille\"\n",
    "    assert np.allclose(\n",
    "        interpolation_method(x_inter, x_inter, y_inter), y_inter\n",
    "    ), \"p(x_i) = x_i doit etre vrais pour tous les noeuds  d'interpolation\"\n",
    "\n",
    "    plt.plot(x_plot, y_array, label=\"Fonction interpolée\")\n",
    "    plt.plot(x_inter, y_inter, \"o\", label=\"Points d'interpolation\")\n",
    "    y_vrais = plot_function(x_plot)\n",
    "    plt.plot(x_plot, y_vrais, label=\"Fonction vraie\")\n",
    "    plt.title(f\"Interpolation par {name}\")\n",
    "    plt.legend()\n",
    "    \n",
    "test_interpolation(interpolation_lagrange, \"Lagrange\")"
   ]
  },
  {
   "cell_type": "markdown",
   "metadata": {
    "id": "gNCzy8la1BiE"
   },
   "source": [
    "On peut réécrire la formule de Lagrange dans la forme modifiée suivante qui utilise les poids $w_{i}$:\n",
    "$$\n",
    "    p_n(x) = \\ell(x)\\sum_{i=0}^{n} y_i\\frac{w_i}{x-x_i} \n",
    "    \\quad\\text{avec}\\quad\n",
    "    \\ell(x) = \\prod_{j=0}^{n} {x-x_j},\\quad\n",
    "    w_i = \\left(\\prod_{\\substack{j=0\\\\ j\\neq i} }^{n} {x_i-x_j}\\right)^{-1},\\tag{1}\n",
    "$$\n",
    "ainsi que dans la forme barycentrique :\n",
    "$$\n",
    "    p_n(x) = \\left({\\displaystyle \\sum_{i=0}^{n}\n",
    "    y_i\\frac{w_i}{x-x_i}}\\right)\n",
    "    \\left( {\\displaystyle \\sum_{i=0}^{n}\n",
    "    \\frac{w_i}{x-x_i}}\\right)^{-1}. \\tag{2}\n",
    "$$\n",
    "Les fonctions ci-dessus sont valables seulement si $x\\neq x_j$, autrement $p_n(x_j) = y_j$. Dans cet exercice, vous allez implémenter ces deux formules.\n",
    "\n",
    "---\n",
    "> __Reflexion__ : Quel est l'avantage de telles formules comparé au polynôme de Lagrange classique ? \n",
    "---\n",
    "\n",
    "### Exercice 1 b) i)\n",
    "--- \n",
    "> Ecrivez une fonction `poids(x)` qui retourne un vecteur avec les poids $w_i$ définis ci-dessus. Ce vecteur a la même taille que `x`.\n",
    "---"
   ]
  },
  {
   "cell_type": "code",
   "execution_count": 4,
   "metadata": {
    "id": "0cVZvBKA1BiE"
   },
   "outputs": [],
   "source": [
    "import numpy as np\n",
    "    \n",
    "def stepj(x, j, n):\n",
    "    \"\"\"Return array to multiplicate element wise to get all the w_i at step j (i.e. product of (xi - xk) until k =j) \"\"\"\n",
    "    \n",
    "    return np.array([(1 if i == j else 1 / (x[i] - x[j])) for i in range(n)])\n",
    "\n",
    "def poids(x):\n",
    "    \"Retourne un vecteur de poids de la même taille que `x`.\"\n",
    "    n = len(x)\n",
    "    w = np.ones_like(x)\n",
    "    for j in range(n): w *= stepj(x, j, n)\n",
    "    return w\n",
    "\n",
    "    # ÉCRIVEZ VOTRE SOLUTION ICI\n",
    "    # Indice : mettez à jour le vecteur de w par multiplication avec des\n",
    "    # éléments de la forme x[i] - x[j].\n"
   ]
  },
  {
   "cell_type": "code",
   "execution_count": 5,
   "metadata": {
    "id": "M10_C-MJ1BiF"
   },
   "outputs": [],
   "source": [
    "def test_poids():\n",
    "    x = [0.12, 0.34, 0.56, 0.98]\n",
    "    w = poids(x)\n",
    "    assert len(w) == len(x)\n",
    "    assert np.allclose(w, [-12.0123006, 32.28305785, -24.59661551, 4.32585825])\n",
    "    x = np.linspace(0, 1, 10)\n",
    "    w = poids(x)\n",
    "    assert np.abs(np.sum(w)) < 1e-10\n",
    "    assert len(w) == len(x)\n",
    "\n",
    "\n",
    "test_poids()\n"
   ]
  },
  {
   "cell_type": "markdown",
   "metadata": {
    "id": "nhPu9U3e1BiG"
   },
   "source": [
    "### Exercice 1 b) ii)\n",
    "---\n",
    "> Ecrivez une fonction `interpolation_lagrange_v2` qui calcule le polynôme d'interpolation de Lagrange en utilisant la méthode modifiée $(1)$. Réutilisez la fonction `poids` de l'exercice précédent. Assurez-vous de vérifier si $x = x_i$ et de rendre $p(x)=y_i$ dans ce cas.\n",
    "---"
   ]
  },
  {
   "cell_type": "code",
   "execution_count": 8,
   "metadata": {
    "colab": {
     "base_uri": "https://localhost:8080/",
     "height": 281
    },
    "id": "XIwnujJs1BiG",
    "outputId": "92c3a68a-eddd-44b9-a7a3-93934000de2b"
   },
   "outputs": [
    {
     "name": "stderr",
     "output_type": "stream",
     "text": [
      "C:\\Users\\noahm\\AppData\\Local\\Temp\\ipykernel_7848\\1686634531.py:9: DeprecationWarning: elementwise comparison failed; this will raise an error in the future.\n",
      "  return val in x\n"
     ]
    },
    {
     "data": {
      "image/png": "[encoded data removed]",
      "text/plain": [
       "<Figure size 432x288 with 1 Axes>"
      ]
     },
     "metadata": {
      "needs_background": "light"
     },
     "output_type": "display_data"
    }
   ],
   "source": [
    "def eqOrIn(_x, val):\n",
    "    \"\"\"Checks if _x contains val (if _x is an array) or if val == x (if it is a scalar)\"\"\"\n",
    "    x = np.array(_x)\n",
    "    return val in x\n",
    "\n",
    "def plot_function(x):\n",
    "    return np.sin(x) ** 2 - np.exp(x / 10)\n",
    "\n",
    "def interpolation_lagrange_v2(x, x_inter, y_inter):\n",
    "    \"\"\"\n",
    "    Polynôme de Lagrange defini par points d'interpolation x_inter et y_inter, evalués à x\n",
    "\n",
    "    On renvoie un vecteur de même taille que x.\n",
    "    \"\"\"\n",
    "    n = len(x_inter)\n",
    "    w = poids(x_inter)\n",
    "\n",
    "    tmp_d = np.array([x - x_inter[i] for i in range(n)]) #? computes each x - x_i to be reused in computation of l(x) and of y_i / (x - x_i)\n",
    "    \n",
    "    d_filler = lambda i: y_inter[i] / (1 if eqOrIn(x, x_inter) else tmp_d[i])    \n",
    "    v = [d_filler(i) for i in range(n)]\n",
    "\n",
    "    l = np.prod(tmp_d, axis=0)\n",
    "\n",
    "    dot_prod = np.sum([v[i] * w[i] for i in range(n)], axis=0) #np.dot(v,w)\n",
    "    p_x = l * dot_prod\n",
    "    return p_x\n",
    "\n",
    "\n",
    "def test_interpolation(interpolation_method, name):\n",
    "    num_points = 8\n",
    "\n",
    "    def plot_function(x):\n",
    "        return np.sin(x) ** 2 - np.exp(x / 10)\n",
    "\n",
    "    x_inter = np.linspace(0, 2 * np.pi, num_points)\n",
    "    y_inter = plot_function(x_inter)\n",
    "    x_plot = np.linspace(-0.3, 2.1 * np.pi, 100)\n",
    "    y_array = interpolation_method(x_plot, x_inter, y_inter)\n",
    "    \n",
    "    assert y_array.shape == x_plot.shape, \"Erreur de taille\"\n",
    "\n",
    "    plt.plot(x_plot, y_array, label=\"Fonction interpolée\")\n",
    "    plt.plot(x_inter, y_inter, \"o\", label=\"Points d'interpolation\")\n",
    "    y_vrais = plot_function(x_plot)\n",
    "    plt.plot(x_plot, y_vrais, label=\"Fonction vraie\")\n",
    "    plt.title(f\"Interpolation par {name}\")\n",
    "    plt.legend()\n",
    "    \n",
    "test_interpolation(interpolation_lagrange_v2, \"Lagrange, modifie\")"
   ]
  },
  {
   "cell_type": "markdown",
   "metadata": {
    "id": "lbvZX2jK1BiH"
   },
   "source": [
    "### Exercice 1 b) iii)\n",
    "---\n",
    "> Même question que 1b ii), mais pour la variante barycentrique $(2)$ de la méthode de Lagrange.\n",
    "---"
   ]
  },
  {
   "cell_type": "code",
   "execution_count": null,
   "metadata": {
    "colab": {
     "base_uri": "https://localhost:8080/",
     "height": 281
    },
    "id": "_4uJbSfJ1BiH",
    "outputId": "a53e3d6e-d192-447b-c651-ede171fead40"
   },
   "outputs": [],
   "source": [
    "def interpolation_lagrange_v3(x, x_inter, y_inter):\n",
    "    \"\"\"\n",
    "    Polynôme de Lagrange defini par points d'interpolation x_inter et y_inter, evalués à x\n",
    "    \"\"\"\n",
    "    n = len(x_inter)\n",
    "    w = poids(x_inter)\n",
    "\n",
    "    # ÉCRIVEZ VOTRE SOLUTION ICI\n",
    "\n",
    "\n",
    "test_interpolation(interpolation_lagrange_v3, \"Lagrange, barycentrique\")\n"
   ]
  },
  {
   "cell_type": "markdown",
   "metadata": {
    "id": "FQQhx-AJ1BiH"
   },
   "source": [
    "## Exercice 2 : Points de Chebychev\n",
    "\n",
    "Dans les exercices précédents, on a utilisé des points d'interpolation équidistants.\n",
    "En pratique, les points de Chebyshev sont souvent utilisées en abscisse.\n",
    "Ces points sont définis sur l'intervalle $(-1,1)$ par\n",
    "$$\n",
    "  x_i = \\cos \\left(\\frac{2i+1}{2n+2}\\pi\\right), \\quad\\text{pour}\\quad\n",
    "  i = 0,\\dots, n.\n",
    "$$\n",
    "Le but de cet exercice est d'illustrer numériquement leur utilité.\n",
    "\n"
   ]
  },
  {
   "cell_type": "markdown",
   "metadata": {
    "id": "XWi5By4h9Dv8"
   },
   "source": [
    "### Exercice 2a) i)\n",
    "---\n",
    "> Implémentez une fonction `chebyshev_points(n)` qui retourne un vecteur avec les points de Chebyshev dans l'intervalle $(-1,1)$ pour un `n` donné. (faites attention : le vecteur est de taille `n+1`)  \n",
    "> Puis implémentez une fonction `chebyshev_poids(n)` qui retourne un vecteur contenant les poids associés aux points de Chebyshev en utilisant la formule explicite suivante:\n",
    "$$\n",
    "  w_i = (-1)^i\\frac{2^{n}}{n+1}\\sin\\theta_i, \\quad \\text{où} \\quad \\theta_i=\\frac{(2i+1)\\pi}{2n+2}, \\quad \\text{pour} \\quad i=0,...,n.\n",
    "$$\n",
    "\n",
    "---\n",
    "\n",
    "__Remarque__ : Cette formule explicite est dérivée en appliquant les formules d'interpolation $(1)$ et $(2)$ de l'exercice 1b) aux les points d'interpolation Chebychev. On peut aussi faire la même chose pour des points d'interpolation équidistants. "
   ]
  },
  {
   "cell_type": "code",
   "execution_count": null,
   "metadata": {
    "colab": {
     "base_uri": "https://localhost:8080/"
    },
    "id": "3udSMtnV1BiI",
    "outputId": "eab75f31-729b-4934-93d8-2457896a16d3"
   },
   "outputs": [],
   "source": [
    "def chebyshev_points(n):\n",
    "    \"Retourne les n points de Chebyshev\"\n",
    "    # ÉCRIVEZ VOTRE SOLUTION ICI\n",
    "\n",
    "\n",
    "def chebyshev_poids(n):\n",
    "    \"Retourne les n poids de Chebyshev\"\n",
    "    # ÉCRIVEZ VOTRE SOLUTION ICI\n",
    "\n",
    "\n",
    "n = 10\n",
    "# On peut vérifier que les poids produit par chebyshev_poids(n) sont bien les mêmes\n",
    "# que ceux produit par poids(chebyshev_points(n)) en utilisant np.allclose\n",
    "np.allclose(poids(chebyshev_points(n)), chebyshev_poids(n))\n"
   ]
  },
  {
   "cell_type": "code",
   "execution_count": null,
   "metadata": {
    "id": "W9MJ4DC91BiI"
   },
   "outputs": [],
   "source": [
    "def test_chebyshev_points():\n",
    "    for size in [5, 10]:\n",
    "        x = chebyshev_points(size)\n",
    "        assert (\n",
    "            len(x) == size + 1\n",
    "        ), \"Le nombre de points de Chebyshev doit être égal à n+1\"\n",
    "        assert (\n",
    "            np.mean(x) < 1e-10\n",
    "        ), \"Les points de Chebyshev doivent être centrés\"\n",
    "    assert (\n",
    "        np.abs(np.linalg.norm(chebyshev_points(7)) - 2) < 1e-8\n",
    "    ), \"Veuillez vérifier votre implémentation de chebyshev_points\"\n",
    "\n",
    "\n",
    "def test_chebyshev_poids():\n",
    "    for size in [7, 10]:\n",
    "        w = chebyshev_poids(size)\n",
    "        assert np.shape(w) == (size + 1,), \"Erreur de taille\"\n",
    "        assert np.allclose(\n",
    "            np.abs(w), np.abs(w[::-1])\n",
    "        ), \"Les poids de Chebyshev sont symétriques\"\n",
    "        assert np.allclose(\n",
    "            chebyshev_poids(size), poids(chebyshev_points(size))\n",
    "        ), \"Les poids de Chebyshev sont les mêmes que ceux produit par poids\"\n",
    "\n",
    "\n",
    "test_chebyshev_points()\n",
    "test_chebyshev_poids()\n"
   ]
  },
  {
   "cell_type": "markdown",
   "metadata": {
    "id": "7R5E6Bor1BiI"
   },
   "source": [
    "### Exercice 2a) ii)\n",
    "---\n",
    "> Implémentez une fonction `equidistant_points(n)` qui, étant donné `n`, retourne un vecteur de points équidistants dans l'intervalle $(-1,1)$. (Faites attention : le vecteur est de taille `n+1`)  \n",
    "> Puis implémentez une fonction `equidistant_poids(n)` qui retourne le vecteur de poids associés aux points équidistants en utilisant la formule explicite suivante:\n",
    "$$\n",
    "  w_i = \\frac{(-1)^{n-i} }{h^n\\,n!} \\binom{n}{i}, \\quad \\text{où} \\quad h=2/n ~~\\text{(le pas de discrétisation)}\n",
    "$$\n",
    "> **Indice** : vous pouvez utiliser les fonctions `comb` et `factorial` de la librairie `scipy.special` pour calculer les coefficients binomiaux $\\binom{n}{i}$ et les factorielles $n!$.\n",
    "---"
   ]
  },
  {
   "cell_type": "code",
   "execution_count": null,
   "metadata": {
    "colab": {
     "base_uri": "https://localhost:8080/"
    },
    "id": "7IOB7OBm1BiJ",
    "outputId": "b81a6234-7ed0-4d74-d471-44eccbc5abb6"
   },
   "outputs": [],
   "source": [
    "from scipy.special import comb, factorial\n",
    "\n",
    "\n",
    "def equidistant_points(n):\n",
    "    \"Retourne les n+1 points d'équidistance entre -1 et 1\"\n",
    "    # ÉCRIVEZ VOTRE SOLUTION ICI\n",
    "\n",
    "\n",
    "def equidistant_poids(n):\n",
    "    \"Retourne les n+1 poids des points équidistance entre -1 et 1\"\n",
    "    # ÉCRIVEZ VOTRE SOLUTION ICI\n",
    "\n",
    "\n",
    "n = 10\n",
    "# On peut vérifier que les poids produit par equidistant_poids(n) sont bien les\n",
    "# mêmes que ceux produit par poids(equidistant_points(n))\n",
    "np.allclose(poids(equidistant_points(n)), equidistant_poids(n))\n"
   ]
  },
  {
   "cell_type": "code",
   "execution_count": null,
   "metadata": {
    "id": "LEQODwbV1BiJ"
   },
   "outputs": [],
   "source": [
    "def test_equidistant_points():\n",
    "    for size in [5, 10]:\n",
    "        x = equidistant_points(size)\n",
    "        assert (\n",
    "            len(x) == size + 1\n",
    "        ), \"Le nombre de points de Chebyshev doit être égal à n+1\"\n",
    "        assert (\n",
    "            np.mean(x) < 1e-10\n",
    "        ), \"Les points de Chebyshev doivent être centrés\"\n",
    "    assert (\n",
    "        np.abs(np.linalg.norm(equidistant_points(8)) - 1.9364916731037085)\n",
    "        < 1e-8\n",
    "    ), \"Veuillez vérifier votre implémentation de equidistant_points\"\n",
    "\n",
    "\n",
    "def test_equidistant_poids():\n",
    "    for size in [7, 10]:\n",
    "        w = equidistant_poids(size)\n",
    "        assert np.shape(w) == (size + 1,), \"Erreur de taille\"\n",
    "        assert np.allclose(\n",
    "            np.abs(w), np.abs(w[::-1])\n",
    "        ), \"Les poids sont symétriques\"\n",
    "        assert np.allclose(\n",
    "            equidistant_poids(size), poids(equidistant_points(size))\n",
    "        ), \"Les poids de interpolation points sont les mêmes que ceux produit par poids\"\n",
    "\n",
    "\n",
    "test_equidistant_points()\n",
    "test_equidistant_poids()\n"
   ]
  },
  {
   "cell_type": "markdown",
   "metadata": {
    "id": "7V_7GyN41BiK"
   },
   "source": [
    "### Exercice 2 b)\n",
    "---\n",
    "> Utiliser les points de Chebyshev comme points d'interpolation pour les deux fonctions suivantes sur l'intervalle $(-1,1)$\n",
    "$$\n",
    "    f(x) = |x| + x/2 - x^2\\quad\\text{et}\\quad g(x) = \\frac{1}{1 + 25x^2}.\n",
    "$$\n",
    "> Comparer le résultat avec l'interpolation obtenue en utilisant des points équidistants -- voir par exemple la Figure ci-dessous.\n",
    ">  \n",
    "> __Remarque__ : Pesez à utiliser un repère semi-logarithmique `plt.yscale('log')` pour tracer le graphique de l'erreur, car en utilisant une échelle normale l'erreur serait trop petite pour être discernée. \n",
    ">\n",
    "> __Remarque__ : La fonction $g$ est la fonction de Runge vue en cours. \n",
    "---\n",
    "\n",
    "![](https://raw.githubusercontent.com/RikVoorhaar/tp-analyse-numerique-22-23/main/TP1/output.png)"
   ]
  },
  {
   "cell_type": "code",
   "execution_count": null,
   "metadata": {
    "colab": {
     "base_uri": "https://localhost:8080/",
     "height": 723
    },
    "id": "M4zQZNSh1BiK",
    "outputId": "13007cf6-f77b-49df-a397-bbb1fa7ab516"
   },
   "outputs": [],
   "source": [
    "def f(x):\n",
    "    return np.abs(x) + x / 2 - x**2\n",
    "\n",
    "\n",
    "def g(x):\n",
    "    return 1 / (1 + 25 * x**2)\n",
    "\n",
    "\n",
    "n = 20\n",
    "plot_x = np.linspace(-1, 1, 100)\n",
    "\n",
    "for func in [f, g]:\n",
    "    # Points d'interpolation équidistants\n",
    "    x_equidist = equidistant_points(n)\n",
    "    y_equidist = func(x_equidist)\n",
    "    # Polynôme interpolée\n",
    "    p_equidist = interpolation_lagrange(plot_x, x_equidist, y_equidist)\n",
    "\n",
    "    # Points d'interpolation Chebyshev\n",
    "    x_chebyshev = chebyshev_points(n)\n",
    "    y_chebyshev = func(x_chebyshev)\n",
    "    # Polynôme interpolée\n",
    "    p_chebyshev = interpolation_lagrange(plot_x, x_chebyshev, y_chebyshev)\n",
    "\n",
    "    # Creation de la figure\n",
    "    plt.figure(figsize=(15, 5))\n",
    "    plt.suptitle(f\"Interpolation de {func.__name__}\")\n",
    "\n",
    "    # Interpolation équidistante\n",
    "    plt.subplot(1, 3, 1)\n",
    "    plt.title(\"Interpolation equidistante\")\n",
    "    plt.ylim(np.min(y_equidist) - 0.1, np.max(y_equidist) + 0.1)\n",
    "    plt.xlabel(\"x\")\n",
    "    plt.ylabel(f\"{func.__name__}(x)\")\n",
    "    # ÉCRIVEZ VOTRE SOLUTION ICI\n",
    "\n",
    "    # Interpolation Chebyshev\n",
    "    plt.subplot(1, 3, 2)\n",
    "    plt.title(\"Abscisses de Chebyshev\")\n",
    "    plt.ylim(np.min(y_equidist) - 0.1, np.max(y_equidist) + 0.1)\n",
    "    plt.xlabel(\"x\")\n",
    "    plt.ylabel(f\"{func.__name__}(x)\")\n",
    "    # ÉCRIVEZ VOTRE SOLUTION ICI\n",
    "\n",
    "    # Trace de l'erreur entre la fonction et les deux polynôme interpolée\n",
    "    plt.subplot(1, 3, 3)\n",
    "    plt.title(\"Erreur d'interpolation\")\n",
    "    plt.xlabel(\"x\")\n",
    "    plt.ylabel(\"Erreur (log)\")\n",
    "    # ÉCRIVEZ VOTRE SOLUTION ICI\n"
   ]
  },
  {
   "cell_type": "markdown",
   "metadata": {
    "id": "daYLlkpV4N_J"
   },
   "source": [
    "---\n",
    "__Reflexion__ : Quel est l'avantage d'utiliser des points de Chebychev comparé aux points équidistants pour calculer un polynôme d'interpolation ? \n",
    "\n",
    "---"
   ]
  },
  {
   "cell_type": "markdown",
   "metadata": {
    "id": "ycj7u26g1BiL"
   },
   "source": [
    "## Exercice 3 : Formule de Newton\n",
    "On peut aussi construire un polynôme d'interpolation en utilisant la formule de Newton\n",
    "$$\n",
    "    p_n(x) = c_0 + c_1(x-x_0) +\n",
    "    c_2(x-x_0)(x-x_1)+\\cdots+c_n(x-x_0)\\cdots(x-x_{n-1}),\n",
    "$$\n",
    "où \n",
    "$$\n",
    "    c_k = \\delta^k y[x_0,x_1,\\dots,x_k],\\quad \\text{pour}\\quad  k=0,\\dots,n,\n",
    "$$\n",
    "sont les différences divisées (voir la Définition 1.2 dans le polycopié du cours)."
   ]
  },
  {
   "cell_type": "markdown",
   "metadata": {
    "id": "QcGJ29jB9Ken"
   },
   "source": [
    "### Exercice 3 a)\n",
    "---\n",
    "> Écrivez une fonction `differences_divisees(x, y)` qui produit le tableau des différences divisées pour $x,y$. \n",
    ">\n",
    ">$$\n",
    "\\begin{matrix}\n",
    "y_{0} \\\\ \n",
    "y_{1} & δ y[x_{0}, x_{1}] \\\\ \n",
    "y_{2} & δ y[x_{1}, x_{2}] & δ^{2} y[x_{0}, x_{1}, x_{2}]\\\\ \n",
    "y_{3} & δ y[x_{2}, x_{3}] & δ^{2} y[x_{1}, x_{2}, x_{3}] \n",
    "  & δ^{3} y[x_{0}, x_{1}, x_{2}, x_{3}]\n",
    "\\end{matrix}\n",
    "$$\n",
    ">\n",
    ">On remarquera que la première colonne du tableau doit être `y`, et le tableau doit être triangulaire inférieur.\n",
    "---"
   ]
  },
  {
   "cell_type": "code",
   "execution_count": null,
   "metadata": {
    "id": "CAo1Ci-u1BiL"
   },
   "outputs": [],
   "source": [
    "def differences_divisees(x, y):\n",
    "    \"\"\"Calculer le tableau des differences divisees\"\"\"\n",
    "    n = len(x)\n",
    "    assert len(x) == len(y)\n",
    "    delta = np.zeros((n, n))  # initialisation du tableau avec des zeros\n",
    "\n",
    "    # ÉCRIVEZ VOTRE SOLUTION ICI\n"
   ]
  },
  {
   "cell_type": "code",
   "execution_count": null,
   "metadata": {
    "id": "-oory0K01BiL"
   },
   "outputs": [],
   "source": [
    "def test_differences_divisees():\n",
    "    x = np.linspace(0, 1, 10)\n",
    "    y = np.sin(x)\n",
    "    delta = differences_divisees(x, y)\n",
    "    assert delta.shape == (len(x), len(y)), \"La matrice n'a pas la bonne taille\"\n",
    "    assert np.allclose(delta[:, 0], y), \"La premiere colonne n'est pas correcte\"\n",
    "    assert np.all(np.tril(delta) == delta), \"La matrice n'est pas triangulaire\"\n",
    "    assert (\n",
    "        np.abs(np.sum(delta) - 9.42591837985752) < 1e-6\n",
    "    ), \"Quelque chose est mal\"\n",
    "\n",
    "\n",
    "test_differences_divisees()\n"
   ]
  },
  {
   "cell_type": "markdown",
   "metadata": {
    "id": "vHRiM-NF1BiL"
   },
   "source": [
    "### Exercice 3 b)\n",
    "---\n",
    "> Écrivez une fonction `x_newton(x, x_inter)` qui calcule tous les polynômes\n",
    "$$\n",
    "(x-x_0)(x-x_1)\\cdots (x-x_{k-1}), k=1, ..., n, \n",
    "$$\n",
    "> qui apparaissent dans la formule d'interpolation de Newton évalués aux points `x`. La fonction doit retourner une matrice de taille `(len(x), len(x_inter))`.\n",
    "---"
   ]
  },
  {
   "cell_type": "code",
   "execution_count": null,
   "metadata": {
    "id": "RsJM1PnK1BiL"
   },
   "outputs": [],
   "source": [
    "def x_newton(x, x_inter):\n",
    "    \"\"\"Calculer les produits de coefficients pour le polynome de Newton\"\"\"\n",
    "    # ÉCRIVEZ VOTRE SOLUTION ICI\n",
    "\n",
    "\n",
    "def test_x_newton():\n",
    "    x = np.linspace(0, 1, 10)\n",
    "    x_inter = np.linspace(0, 1, 5)\n",
    "    result = x_newton(x, x_inter)\n",
    "    assert result.shape == (\n",
    "        len(x),\n",
    "        len(x_inter),\n",
    "    ), \"La matrice n'a pas la bonne taille\"\n",
    "    assert np.allclose(\n",
    "        result[:, 0], np.ones(len(x))\n",
    "    ), \"La premiere colonne n'est pas correcte\"\n",
    "    assert (\n",
    "        np.linalg.norm(result[0, 1:]) < 1e-6\n",
    "    ), \"Si x=0, la resultat doit etre (1,0,...,0)\"\n",
    "    assert (\n",
    "        np.abs(np.sum(result) - 18.152963534522176) < 1e-6\n",
    "    ), \"Quelque chose est mal\"\n",
    "\n",
    "\n",
    "test_x_newton()\n"
   ]
  },
  {
   "cell_type": "markdown",
   "metadata": {
    "id": "PwePzl3u1BiM"
   },
   "source": [
    "### Exercice 3 c)\n",
    "---\n",
    "> En utilisant `differences_divisees` et `x_newton`, écrivez une fonction `interpolation_newton(x, x_inter, y_inter)` qui effectue une interpolation de Newton en utilisant les points d'interpolation `(x_inter, y_inter)` et qui l'évalue aux points d'abscisse `x`. \n",
    "---"
   ]
  },
  {
   "cell_type": "code",
   "execution_count": null,
   "metadata": {
    "colab": {
     "base_uri": "https://localhost:8080/",
     "height": 281
    },
    "id": "5RAUtPEn1BiM",
    "outputId": "07cd7bb1-5213-4aba-d993-fc52aa432400"
   },
   "outputs": [],
   "source": [
    "def interpolation_newton(x, x_inter, y_inter):\n",
    "    \"\"\"Calculer le polynome de Newton pour les points x_i et y_i\"\"\"\n",
    "    # ÉCRIVEZ VOTRE SOLUTION ICI\n",
    "    coeffs = np.diag(differences_divisees(x_inter, y_inter))\n",
    "    p_newton = x_newton(x, x_inter) @ coeffs\n",
    "    return p_newton\n",
    "\n",
    "\n",
    "test_interpolation(interpolation_newton, \"Newton\")\n"
   ]
  },
  {
   "cell_type": "markdown",
   "metadata": {
    "id": "TSQiFH3B1BiM"
   },
   "source": [
    "### Exercice 3 d)\n",
    "---\n",
    "> $\\star$ __Bonus:__ Écrire une fonction `differences_divisees_update(delta, x_inter, x_new, y_new)` qui calcule les différences divisées de $(x_0,\\dots,x_{n+1}),(y_0,\\dots,y_{n+1})$ étant donné la table de différences divisées pour $(x_0,\\dots,x_{n}),(y_0,\\dots,y_n)$.\n",
    "---\n",
    "\n",
    "---\n",
    "__Reflexion__: Quel est l'avantage d'utiliser la formule de Newton comparé à la formule de Lagrange ? \n",
    "\n",
    "---"
   ]
  },
  {
   "cell_type": "code",
   "execution_count": null,
   "metadata": {
    "id": "rsjJF9kw1BiM"
   },
   "outputs": [],
   "source": [
    "def differences_divisees_update(delta, x_inter, x_new, y_new):\n",
    "    \"\"\"Calculer le tableau des differences divisees\"\"\"\n",
    "    n = delta.shape[0]\n",
    "\n",
    "    # ÉCRIVEZ VOTRE SOLUTION ICI\n"
   ]
  },
  {
   "cell_type": "code",
   "execution_count": null,
   "metadata": {
    "id": "YjZxUIlk1BiM"
   },
   "outputs": [],
   "source": [
    "def test_differences_divisees_update():\n",
    "    x = np.linspace(0, 1, 10)\n",
    "    y = np.sin(x)\n",
    "    delta = differences_divisees(x[:-1], y[:-1])\n",
    "    delta_true = differences_divisees(x, y)\n",
    "\n",
    "    delta_new = differences_divisees_update(delta, x[:-1], x[-1], y[-1])\n",
    "    assert np.allclose(delta_new, delta_true)\n",
    "\n",
    "\n",
    "test_differences_divisees_update()\n"
   ]
  },
  {
   "cell_type": "markdown",
   "metadata": {
    "id": "mWN3GV0E1BiM"
   },
   "source": [
    "## Exercice 4 : Interpolation de Hermite\n",
    "\n",
    "L'interpolation d'Hermite utilise la même idée que l'interpolation de Newton, mais au lieu d'interpoler les valeurs des fonctions, nous interpolons en plus les dérivées des fonctions. Nous pouvons aussi utiliser la formule de Newton pour calculer l'interpolant d'Hermite, mais avec un tableau de différences divisées modifiée, voir la formule (1.14) dans le polycopié. \n",
    "\n",
    "On nous donne les points de données $(x_i, y_i)$ et $(x_i, y_i')$ pour $i=0,\\dots,n$. À partir de ces données, nous construisons un tableau des différences divisées de $2n\\times 2n$. La première colonne est de la forme $(y_0,y_0,y_1,y_1,\\dots,y_n,y_n)$, et la deuxième colonne est de la forme $(y_0',y_1,y_0',y_1,\\dots,y_n,y_n')$. Les autres colonnes sont calculées de la même manière que dans l'interpolation de Newton.\n",
    "\n",
    "$$\n",
    "\\begin{matrix}\n",
    "y_{0} \\\\ \n",
    "y_{0} & δ y[x_{0}, x_{0}] = y_{0}'\\\\ \n",
    "y_{1} & δ y[x_{0}, x_{1}] & δ^{2} y[x_{0}, x_{0}, x_{1}] \\\\ \n",
    "y_{1} & δ y[x_{1}, x_{1}]= y_{1}' & δ^{2} y[x_{0}, x_{1}, x_{1}] & \n",
    "δ^{3} y[x_{0}, x_{0}, x_{1}, x_{1}]\n",
    "\\end{matrix}\n",
    "$$"
   ]
  },
  {
   "cell_type": "markdown",
   "metadata": {
    "id": "__MztAXl9QI9"
   },
   "source": [
    "### Exercice 4 a)\n",
    "---\n",
    "> Implémenter la fonction `differences_divisees_hermite` qui calcule la table des différences divisées pour l'interpolation d'Hermite.\n",
    "> \n",
    "> Vous pouvez utiliser la fonction `double_array` pour créer un vecteur/tableau où chaque élément est répété deux fois.\n",
    ">\n",
    ">__Astuce__ : Vous pouvez vérifier si un nombre `i` est impair en utilisant `i % 2 == 1`. Ici, `%` est l'opérateur modulo.\n",
    "\n",
    "---"
   ]
  },
  {
   "cell_type": "code",
   "execution_count": null,
   "metadata": {
    "id": "dzfEcD411BiN"
   },
   "outputs": [],
   "source": [
    "def double_array(x):\n",
    "    \"\"\"Repéter chaque élément de x deux fois\"\"\"\n",
    "    x_double = np.zeros(2 * len(x))\n",
    "    x_double[::2] = x\n",
    "    x_double[1::2] = x\n",
    "    return x_double\n",
    "\n",
    "\n",
    "def differences_divisees_hermite(x_inter, y_inter, y_inter_derivee):\n",
    "    \"\"\"\n",
    "    Calculer le tableau des differences divisees pour l'interpolation hermite\n",
    "\n",
    "    x_inter: points d'interpolation\n",
    "    y_inter: valeurs de la fonction en x_inter\n",
    "    y_inter_derivee: valeurs de la derivee de la fonction en x_inter\n",
    "    \"\"\"\n",
    "    n = len(x_inter)\n",
    "    assert len(x_inter) == len(y_inter)\n",
    "    delta = np.zeros((2 * n, 2 * n))  # initialisation du tableau avec des zeros\n",
    "\n",
    "    x_double = double_array(x_inter)\n",
    "\n",
    "    # ÉCRIVEZ VOTRE SOLUTION ICI\n"
   ]
  },
  {
   "cell_type": "code",
   "execution_count": null,
   "metadata": {
    "id": "FVvh2kS91BiN"
   },
   "outputs": [],
   "source": [
    "def test_differences_divisees_hermite():\n",
    "    size = 4\n",
    "    x = np.linspace(0, 1, size)\n",
    "    y = np.sin(x)\n",
    "    y_der = np.cos(x)\n",
    "    delta = differences_divisees_hermite(x, y, y_der)\n",
    "    assert delta.shape == (\n",
    "        2 * size,\n",
    "        2 * size,\n",
    "    ), \"La matrice n'a pas la bonne taille\"\n",
    "    assert np.allclose(\n",
    "        delta[:, 0], double_array(y)\n",
    "    ), \"La premiere colonne n'est pas correcte\"\n",
    "    assert np.all(np.tril(delta) == delta), \"La matrice n'est pas triangulaire\"\n",
    "    assert np.all(\n",
    "        delta[1::2, 1] == y_der\n",
    "    ), \"La deuxieme colonne n'est pas correcte\"\n",
    "    assert (\n",
    "        np.abs(np.sum(delta) - 7.3804764828515905) < 1e-6\n",
    "    ), \"Quelque chose est mal\"\n",
    "\n",
    "\n",
    "test_differences_divisees_hermite()\n"
   ]
  },
  {
   "cell_type": "markdown",
   "metadata": {
    "id": "jNjoIJFE1BiN"
   },
   "source": [
    "### Exercice 4 b)\n",
    "---\n",
    "> Implémenter la fonction `interpolation_hermite` qui calcule l'interpolant d'Hermite en utilisant la fonction `differences_divisees_hermite`.\n",
    "--- "
   ]
  },
  {
   "cell_type": "code",
   "execution_count": null,
   "metadata": {
    "id": "OWVI2mic1BiN"
   },
   "outputs": [],
   "source": [
    "def interpolation_hermite(x, x_inter, y_inter, y_derivee):\n",
    "    \"\"\"Calcule le polynome de Newton pour les points x_i et y_i\"\"\"\n",
    "\n",
    "    # ÉCRIVEZ VOTRE SOLUTION ICI\n"
   ]
  },
  {
   "cell_type": "code",
   "execution_count": null,
   "metadata": {
    "colab": {
     "base_uri": "https://localhost:8080/",
     "height": 281
    },
    "id": "qtF6W7AF1BiN",
    "outputId": "a74d7cdf-81e6-4bde-e308-dc24bba35502"
   },
   "outputs": [],
   "source": [
    "def test_interpolation_hermite():\n",
    "    def plot_func(x):\n",
    "        return np.sin(x) ** 2 - np.exp(x / 10)\n",
    "\n",
    "    def plot_func_derivee(x):\n",
    "        return 2 * np.sin(x) * np.cos(x) - np.exp(x / 10) / 10\n",
    "\n",
    "    n_points = 5\n",
    "    x = np.linspace(0, 2 * np.pi, n_points)\n",
    "    y = plot_func(x)\n",
    "    y_derivee = plot_func_derivee(x)\n",
    "    x_plot = np.linspace(-0.3, 2.1 * np.pi, 100)\n",
    "    y_plot = interpolation_hermite(x_plot, x, y, y_derivee)\n",
    "    y_vrais = plot_func(x_plot)\n",
    "    plt.plot(x_plot, y_plot, label=\"Fonction interpolée\")\n",
    "    plt.plot(x, y, \"o\", label=\"Points d'interpolation\")\n",
    "    plt.plot(x_plot, y_vrais, label=\"Vraie fonction\")\n",
    "    plt.legend()\n",
    "    plt.title(\"Interpolation de Hermite\")\n",
    "\n",
    "\n",
    "test_interpolation_hermite()\n"
   ]
  }
 ],
 "metadata": {
  "colab": {
   "collapsed_sections": [],
   "provenance": []
  },
  "kernelspec": {
   "display_name": "Python 3.9.12 ('base')",
   "language": "python",
   "name": "python3"
  },
  "language_info": {
   "codemirror_mode": {
    "name": "ipython",
    "version": 3
   },
   "file_extension": ".py",
   "mimetype": "text/x-python",
   "name": "python",
   "nbconvert_exporter": "python",
   "pygments_lexer": "ipython3",
   "version": "3.9.12"
  },
  "vscode": {
   "interpreter": {
    "hash": "f7d97dfa7971c3058d7e2a25adca59a02485ed5ff9ec3b608f3814ded7e621b3"
   }
  }
 },
 "nbformat": 4,
 "nbformat_minor": 1
}
