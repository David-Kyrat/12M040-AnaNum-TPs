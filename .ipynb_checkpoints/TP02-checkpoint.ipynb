{
 "cells": [
  {
   "cell_type": "markdown",
   "metadata": {
    "id": "mBRjE3wriyUA"
   },
   "source": [
    "## TP 2: Analyse des erreurs\n",
    "\n",
    "Dans ce TP, nous allons d'abord analyser les erreurs d'interpolation de la méthode de Lagrange et comment elles dépendent du nombre de nœuds utilisés, de la position de ces nœuds, et de la fonction que nous essayons d'interpoler. Ensuite, nous nous intéresserons à l'arithmétique en virgule flottante et à l'analyse des erreurs numériques. "
   ]
  },
  {
   "cell_type": "markdown",
   "metadata": {
    "id": "kYGwqKZ1iyUD"
   },
   "source": [
    "## Exercice 1: Les erreurs d'interpolation\n",
    "\n",
    "Soit $p_n(x)$ une approximation polynomiale de degré $n$ de la fonction $f$ sur l'intervalle $[a,b]$. L'erreur d'interpolation est alors définie comme suit:\n",
    "$$\n",
    "    \\max_{x\\in[a,b]} |p_n(x) - f(x)|.\n",
    "$$\n",
    "On commencera par implémenter une approximation de l'erreur d'interpolation ci-dessus."
   ]
  },
  {
   "cell_type": "markdown",
   "metadata": {
    "id": "ITNv6DKriyUE"
   },
   "source": [
    "### Exercise 1a)\n",
    "---\n",
    "> Implémenter une fonction `max_deviation(f, g, a, b)` qui estime l'erreur\n",
    "$$\n",
    "    \\max_{x\\in [a,b]} |f(x)-g(x)|\n",
    "$$\n",
    "> en évaluant les deux fonctions en de nombreux points dans l'intervalle $[a, b]$.\n",
    ">\n",
    "> **Remarque** La précision de cette fonction dépend du nombre de points d'évaluation. Si vous pensez que les exercices présentés plus loin dans ce Notebook prennent trop de temps à s'exécuter, essayez de diminuer le nombre de points (en veillant à ce que les tests passent toujours).\n",
    "----"
   ]
  },
  {
   "cell_type": "code",
   "execution_count": null,
   "metadata": {
    "id": "7Jc5giL5iyUF"
   },
   "outputs": [],
   "source": [
    "import numpy as np\n",
    "import matplotlib.pyplot as plt\n",
    "\n",
    "\n",
    "def max_deviation(f, g, a, b):\n",
    "    \"\"\"Renvoie la déviation maximale de f sur [a,b] par rapport à g\"\"\"\n",
    "    # VOTRE CODE ICI\n"
   ]
  },
  {
   "cell_type": "code",
   "execution_count": null,
   "metadata": {
    "id": "bzrwo8luiyUG"
   },
   "outputs": [],
   "source": [
    "def test_max_deviation():\n",
    "    f = np.sin\n",
    "    g = np.cos\n",
    "    max_dev = max_deviation(f, g, 0, np.pi)\n",
    "    assert max_dev > 0, \"La valeur de max_deviation doit être positive.\"\n",
    "    error = np.abs(max_dev - np.sqrt(2))\n",
    "    assert error < 1e-2, \"La valeur de max_deviation n'est pas correcte.\"\n",
    "    assert error < 1e-6, \"Rendre votre méthode plus précise.\"\n",
    "\n",
    "    def sin_taylor(x):\n",
    "        \"\"\"Renvoie l'expansion de Taylor de degré 9 de sin(x) autour de x=0\"\"\"\n",
    "        return x - x**3 / 6 + x**5 / 120 - x**7 / 5040 + x**9 / 362880\n",
    "\n",
    "    error = (\n",
    "        max_deviation(np.sin, sin_taylor, -np.pi, np.pi) - 0.006925270707505013\n",
    "    )\n",
    "    assert error < 1e-6, \"Rendre votre méthode plus précise.\"\n",
    "\n",
    "\n",
    "test_max_deviation()\n"
   ]
  },
  {
   "cell_type": "markdown",
   "metadata": {
    "id": "IPFLtf3FiyUG"
   },
   "source": [
    "Dans le TP précédent, vous avez implémenté l'interpolation de Lagrange. Alors que nous pourrions vous demander de réutiliser les fonctions que vous avez implémentées la dernière fois, vous allez plutôt utiliser les méthodes d'interpolation implémentées dans Scipy.  On peut utiliser `BarycentricInterpolator` qui utilise l'interpolation de Lagrange barycentrique.\n",
    "\n",
    "\n",
    "Son utilisation est la suivante : si `xi` et `yi = f(xi)` sont les valeurs que l'on veut utiliser pour construire le polynôme d'interpolation, alors on peut appeler\n",
    "\n",
    "```python\n",
    "    poly = BarycentricInterpolator(xi, yi)\n",
    "```\n",
    "Cela renvoie un objet qui stocke toutes les informations nécessaires pour évaluer le polynôme d'interpolation. On peut simplement appeler cet objet comme indiqué ci-dessous :\n",
    "```python\n",
    "    x = np.linspace(-1, 1, 10)\n",
    "    poly(x)\n",
    "```\n",
    "Ci-dessous, on peut le voir en action pour l'interpolation de $f(x) = 1/(1+x^2)$ :"
   ]
  },
  {
   "cell_type": "code",
   "execution_count": null,
   "metadata": {
    "colab": {
     "base_uri": "https://localhost:8080/",
     "height": 265
    },
    "id": "4EEtdwK2iyUH",
    "outputId": "3a6d4f8d-a3b5-4c34-f191-7828f3ed5971"
   },
   "outputs": [],
   "source": [
    "from scipy.interpolate import BarycentricInterpolator\n",
    "\n",
    "\n",
    "def f(x):\n",
    "    return 1 / (1 + x**2)\n",
    "\n",
    "\n",
    "n_noeuds = 4\n",
    "noeuds = np.linspace(-1, 1, n_noeuds)\n",
    "valeurs = f(noeuds)\n",
    "poly = BarycentricInterpolator(noeuds, valeurs)\n",
    "\n",
    "plot_x = np.linspace(-1, 1, 100)\n",
    "plot_y = poly(plot_x)\n",
    "plt.plot(plot_x, plot_y, label=\"Interpolation\")\n",
    "plt.plot(plot_x, f(plot_x), label=\"Original\")\n",
    "plt.plot(noeuds, valeurs, \"o\", label=\"Noeuds\")\n",
    "plt.legend()\n",
    "plt.show()\n"
   ]
  },
  {
   "cell_type": "markdown",
   "metadata": {
    "id": "VIeM91xriyUI"
   },
   "source": [
    "On souhaite maintenant étudier comment l'erreur d'interpolation évolue lorsque l'on augmente le nombre de nœuds d'interpolation. \n",
    "\n",
    "### Exercice 1b) i)\n",
    "----\n",
    "> Implémentez une fonction `interpolation_error_equidistant(f, a, b, n)` qui estime l'erreur d'interpolation\n",
    "$$\n",
    "    \\max_{x\\in[a,b]} |p_n(x)-f(x)|\n",
    "$$\n",
    "> où $p_n(x)$ est le polynôme d'interpolation de degré $n$ obtenu en utilisant la formule de Lagrange barycentrique avec des nœuds d'interpolation équidistants.\n",
    "> Vous devrez utiliser la fonction `max_deviation` de l'exercice 1a).   \n",
    ">\n",
    "> **Attention:** Le polynôme d'interpolation $p_n(x)$ est de degré $n$, ce qui nécessite $n+1$ nœuds d'interpolation !\n",
    "----\n"
   ]
  },
  {
   "cell_type": "code",
   "execution_count": null,
   "metadata": {
    "id": "LNt_N7NYiyUJ"
   },
   "outputs": [],
   "source": [
    "def interpolation_error_equidistant(f, a, b, n):\n",
    "    \"\"\"\n",
    "    Calcule l'erreur d'interpolation de degré n de f sur l'intervalle [a,b]\n",
    "    en utilisant des noeuds équidistants.\n",
    "    \"\"\"\n",
    "    # VOTRE CODE ICI\n"
   ]
  },
  {
   "cell_type": "code",
   "execution_count": null,
   "metadata": {
    "id": "Pu2WX3ZRiyUJ"
   },
   "outputs": [],
   "source": [
    "def test_interpolation_error_equidistant():\n",
    "    error4 = interpolation_error_equidistant(np.sin, -1, 1, 4)\n",
    "    error9 = interpolation_error_equidistant(np.sin, -1, 1, 9)\n",
    "    assert error4 > 0, \"L'erreur doit être positive\"\n",
    "    assert error9 > 0, \"L'erreur doit être positive\"\n",
    "    assert error4 > error9, \"L'erreur devrait diminuer avec n pour les petits n\"\n",
    "    error4_correct = 0.0009031431406134605\n",
    "    assert (\n",
    "        abs(error4 - error4_correct) / error4_correct < 1e-2\n",
    "    ), \"L'erreur n'est pas correcte\"\n",
    "    error9_correct = 2.902040829866337e-10\n",
    "    assert (\n",
    "        abs(error9 - error9_correct) / error9_correct < 1e-2\n",
    "    ), \"L'erreur n'est pas correcte\"\n",
    "\n",
    "    error19 = interpolation_error_equidistant(np.exp, 5, 10, 19)\n",
    "    assert (\n",
    "        1e-06 > error19 > 1e-10\n",
    "    ), \"Assurez-vous que vous prenez correctement en compte l'intervalle [a,b].\"\n",
    "\n",
    "\n",
    "test_interpolation_error_equidistant()\n"
   ]
  },
  {
   "cell_type": "code",
   "execution_count": null,
   "metadata": {
    "colab": {
     "base_uri": "https://localhost:8080/",
     "height": 370
    },
    "id": "qpdOQ-NWiyUK",
    "outputId": "8c18b6a1-7a02-4a6a-976c-fb01a03d1e12"
   },
   "outputs": [],
   "source": [
    "plt.figure(figsize=(10, 5))\n",
    "plt.title(\"Tracé de l'erreur d'interpolation pour $f(x) = \\exp(x)$ sur [-1,1].\")\n",
    "\n",
    "results = []\n",
    "n_vals = np.arange(2, 31)\n",
    "for n in n_vals:\n",
    "    results.append(interpolation_error_equidistant(np.exp, -1, 1, n))\n",
    "plt.plot(n_vals, results, \"o-\")\n",
    "\n",
    "plt.xticks(n_vals)\n",
    "plt.yscale(\"log\")\n",
    "plt.grid()\n",
    "plt.xlabel(\"Degré n du polynôme d'interpolation\")\n"
   ]
  },
  {
   "cell_type": "markdown",
   "metadata": {
    "id": "t1mZJCLNiyUK"
   },
   "source": [
    "> **Réflexion** : Pourquoi l'erreur descend-elle d'abord et remonte-t-elle ensuite ?"
   ]
  },
  {
   "cell_type": "markdown",
   "metadata": {
    "id": "ZnviGZD6iyUK"
   },
   "source": [
    "Bien que simple, vous avez vu que les nœuds d'interpolation équidistants ne sont pas les meilleurs. Au lieu de cela, l'utilisation des nœuds de Chebyshev est généralement privilégiée. Rappelons que les points d'interpolation de Chebyshev pour l'intervalle $[-1,1]$ sont donnés par:\n",
    "$$\n",
    "    x_k = \\cos\\left(\\frac{2k+1}{2n}\\pi\\right),\\qquad k=0,\\dots,n-1.\n",
    "$$\n",
    "Pour obtenir les nœuds de Chebyshev dans l'intervalle $[a,b]$, on peut appliquer une transformation affine.\n",
    "\n",
    "### Exercice 1b) ii)\n",
    "> Implémentez une fonction `interpolation_error_chebyshev(f, a, b, n)` qui estime l'erreur d'interpolation\n",
    "$$\n",
    "    \\max_{x\\in[a,b]} |p_n(x)-f(x)|\n",
    "$$\n",
    "> où $p_n(x)$ est le polynôme d'interpolation de degré $n$ obtenu en utilisant les noeuds d'interpolation de Chebyshev.  \n",
    "----"
   ]
  },
  {
   "cell_type": "code",
   "execution_count": null,
   "metadata": {
    "id": "-6QYh8nwiyUL"
   },
   "outputs": [],
   "source": [
    "def chebyshev_noeuds(a, b, n):\n",
    "    \"\"\"Renvoie les n noeuds de Chebyshev sur [a,b]\"\"\"\n",
    "    # VOTRE CODE ICI\n",
    "\n",
    "\n",
    "def interpolation_error_chebyshev(f, a, b, n):\n",
    "    \"\"\"\n",
    "    Calcule l'erreur d'interpolation de degré n de f sur l'intervalle [a,b] en\n",
    "    utilisant des noeuds de Chebyshev.\n",
    "    \"\"\"\n",
    "    # VOTRE CODE ICI\n"
   ]
  },
  {
   "cell_type": "code",
   "execution_count": null,
   "metadata": {
    "id": "x5Fre1spiyUL"
   },
   "outputs": [],
   "source": [
    "def test_interpolation_error_chebyshev():\n",
    "    error4 = interpolation_error_chebyshev(np.sin, -1, 1, 4)\n",
    "    error9 = interpolation_error_chebyshev(np.sin, -1, 1, 9)\n",
    "    assert error4 > 0, \"L'erreur doit être positive\"\n",
    "    assert error9 > 0, \"L'erreur doit être positive\"\n",
    "    assert error4 > error9, \"L'erreur devrait diminuer avec n pour les petits n\"\n",
    "    error4_correct = 0.0005043855644989437\n",
    "    error9_correct = 4.784317386707926e-11\n",
    "    assert (\n",
    "        abs(error4 - error4_correct) / error4_correct < 1e-2\n",
    "    ), \"L'erreur n'est pas correcte\"\n",
    "    assert (\n",
    "        abs(error9 - error9_correct) / error9_correct < 1e-2\n",
    "    ), \"L'erreur n'est pas correcte\"\n",
    "\n",
    "    error19 = interpolation_error_chebyshev(np.exp, 5, 10, 19)\n",
    "    assert (\n",
    "        1e-08 > error19 > 1e-12\n",
    "    ), \"Assurez-vous que vous prenez correctement en compte l'intervalle [a,b].\"\n",
    "\n",
    "\n",
    "test_interpolation_error_chebyshev()\n"
   ]
  },
  {
   "cell_type": "markdown",
   "metadata": {
    "id": "AfGuzIc7iyUL"
   },
   "source": [
    "Nous traçons ci-dessous l'erreur d'interpolation pour $f=\\exp$ sur l'intervalle [-1,1] en utilisant des noeuds d'interpolation équidistants et de Chebyshev.\n",
    "> **Réflexion** : Pour les petits $n$, les noeuds de Chebyshev sont un peu meilleurs que les noeuds équidistants. Pour des $n$ plus grands, l'erreur devient pire pour les noeuds équidistants, mais reste à peu près la même pour les noeuds Chebyshev. Comment cela se fait-il ?"
   ]
  },
  {
   "cell_type": "code",
   "execution_count": null,
   "metadata": {
    "colab": {
     "base_uri": "https://localhost:8080/",
     "height": 352
    },
    "id": "o7bZOfHAiyUM",
    "outputId": "20f007b8-0c40-42d7-eee6-f624afdd1f72"
   },
   "outputs": [],
   "source": [
    "plt.figure(figsize=(10, 5))\n",
    "plt.title(\"Tracé de l'erreur d'inrepolation pour $f(x) = \\exp(x)$ sur [-1,1].\")\n",
    "\n",
    "errors = []\n",
    "n_vals = np.arange(2, 31)\n",
    "for n in n_vals:\n",
    "    errors.append(interpolation_error_equidistant(np.exp, -1, 1, n))\n",
    "plt.plot(n_vals, errors, \"o-\", label=\"Equidistant\")\n",
    "\n",
    "errors = []\n",
    "n_vals = np.arange(2, 31)\n",
    "for n in n_vals:\n",
    "    errors.append(interpolation_error_chebyshev(np.exp, -1, 1, n))\n",
    "plt.plot(n_vals, errors, \"o-\", label=\"Chebyshev\")\n",
    "\n",
    "plt.xticks(n_vals)\n",
    "plt.yscale(\"log\")\n",
    "plt.xlabel(\"Degré n du polynôme d'interpolation\")\n",
    "plt.grid()\n",
    "plt.legend()\n",
    "plt.show()\n"
   ]
  },
  {
   "cell_type": "markdown",
   "metadata": {
    "id": "rdGdTQkriyUM"
   },
   "source": [
    "L'erreur d'interpolation pour des points équidistants est bornée par\n",
    "$$\n",
    "    \\max_{x\\in[a,b]}|p_n(x)-f(x)| \\leq b_{\\text{equi}} = \\max_{x\\in[a,b]}|f^{(n+1)}(x)|\\frac{1}{4(n+1)} \\left(\\frac{b-a}n\\right)^{n+1}.\n",
    "$$\n",
    "Pour les noeuds de Chebyshev, la borne est\n",
    "$$\n",
    "    \\max_{x\\in[a,b]}|p_n(x)-f(x)| \\leq b_{\\text{Cheby}} = \\max_{x\\in[a,b]}|f^{(n+1)}(x)| \\left(\\frac{(b-a)^{n+1}}{2^{2n+1}(n+1)!}\\right).\n",
    "$$\n",
    "On étudiera la précision de ces limites en pratique. Mais d'abord, pour éviter de calculer les dérivées à la main, on verra comment utiliser le module Python `sympy` pour calculer les dérivées.\n",
    "\n",
    "`sympy` est un module Python pour l'algèbre symbolique. Tout comme Maple, il peut faire des choses comme intégrer, différencier ou résoudre des expressions symboliques. Pour l'instant, on va juste voir comment il peut être utilisé pour calculer les dérivées de fonctions simples. \n",
    "\n",
    "Si on importe `x` de `sympy.abc`, alors la variable `x` est interprétée comme un symbole. On peut former des expressions avec ce symbole :"
   ]
  },
  {
   "cell_type": "code",
   "execution_count": null,
   "metadata": {
    "colab": {
     "base_uri": "https://localhost:8080/",
     "height": 38
    },
    "id": "g120Yu-GiyUM",
    "outputId": "e03cb9c4-1231-49a8-d4bf-2bbb78773989"
   },
   "outputs": [],
   "source": [
    "from sympy.abc import x\n",
    "\n",
    "poly = x**2 + 15 * x - 1\n",
    "poly\n"
   ]
  },
  {
   "cell_type": "markdown",
   "metadata": {
    "id": "1qYD5FZhiyUM"
   },
   "source": [
    "On peut différencier les expressions en utilisant `sympy.diff` comme ceci :"
   ]
  },
  {
   "cell_type": "code",
   "execution_count": null,
   "metadata": {
    "colab": {
     "base_uri": "https://localhost:8080/",
     "height": 38
    },
    "id": "77pcoOQ9iyUM",
    "outputId": "b19d501b-4ba7-4c85-c4ee-817e2351e3cc"
   },
   "outputs": [],
   "source": [
    "import sympy\n",
    "\n",
    "sympy.diff(poly, x)\n"
   ]
  },
  {
   "cell_type": "markdown",
   "metadata": {
    "id": "X9ZOowR7iyUN"
   },
   "source": [
    "On ne veut pas seulement une expression symbolique des dérivées des fonctions, on a aussi besoin d'évaluer ces dérivées en de nombreux points. On peut faire cela en utilisant la function `subs` (`poly_der2.subs(x, 1)` pour évaluer la fonction en $1$). Si nous souhaitons évaluer la fonction en de nombreux points, il est plus naturel de transformer l'expression `sympy` en une fonction qui peut accepter des arrays `numpy`, à l'aide de la fonction `sympy.lambdify` comme ceci :"
   ]
  },
  {
   "cell_type": "code",
   "execution_count": null,
   "metadata": {
    "colab": {
     "base_uri": "https://localhost:8080/"
    },
    "id": "hAcH55LRiyUN",
    "outputId": "85170d61-6657-4ba3-e140-6f25830e6c44"
   },
   "outputs": [],
   "source": [
    "from sympy.abc import x\n",
    "import sympy\n",
    "\n",
    "poly = x**10 - x**5 + 16\n",
    "poly_der2 = sympy.diff(poly, x, 2)  # deuxième dérivée\n",
    "f = sympy.lambdify(x, poly_der2, \"numpy\")  # convertir en fonction numpy\n",
    "f(np.linspace(-1, 1, 10))\n"
   ]
  },
  {
   "cell_type": "markdown",
   "metadata": {
    "id": "-9PGQ9gYiyUN"
   },
   "source": [
    "### Exercice 1c) i)\n",
    "----\n",
    "> Ecrivez une fonction `nder(expr, n)` qui prend une expression `sympy` qui dépend de `x` en entrée, et sort la `n`ième dérivée sous forme de fonction `numpy`. Ecrivez ensuite les fonctions `b_equidistant(f, a, b, n)` et `b_chebyshev(f, a, b, n)` qui calculent respectivement les bornes d'erreur d'interpolation $b_{\\text{equi}}$ et $b_{\\text{Cheby}}$.\n",
    ">\n",
    "> Faites attention à votre implémentation de `b_chebyshev` ; vous devrez peut-être réarranger les termes de la formule pour éviter d'avoir des fractions dont le numérateur et le dénominateur sont tous deux très grands. \n",
    "----"
   ]
  },
  {
   "cell_type": "code",
   "execution_count": null,
   "metadata": {
    "id": "c_IkE01wiyUN"
   },
   "outputs": [],
   "source": [
    "def nder(expr, n):\n",
    "    \"\"\"Calcule la nième dérivée de expr comme fonction numpy\"\"\"\n",
    "    # VOTRE CODE ICI\n",
    "\n",
    "\n",
    "def b_equidistant(f, a, b, n):\n",
    "    \"\"\"\n",
    "    Calcule les bornes d'erreur pour l'interpolation de Lagrange équidistante.\n",
    "\n",
    "     - L'interpolation est effectuée sur l'intervalle [a,b].\n",
    "     - f est une expression sympy\n",
    "     - n est le degré du polynôme d'interpolation\n",
    "    \"\"\"\n",
    "    # VOTRE CODE ICI\n",
    "\n",
    "\n",
    "def b_chebyshev(f, a, b, n):\n",
    "    \"\"\"\n",
    "    Calcule les bornes d'erreur pour l'interpolation de Lagrange Chebyshev.\n",
    "\n",
    "     - L'interpolation est effectuée sur l'intervalle [a,b].\n",
    "     - f est une expression sympy\n",
    "     - n est le degré du polynôme d'interpolation\n",
    "    \"\"\"\n",
    "    # VOTRE CODE ICI\n"
   ]
  },
  {
   "cell_type": "code",
   "execution_count": null,
   "metadata": {
    "id": "DnmTrspbiyUN"
   },
   "outputs": [],
   "source": [
    "def test_nder():\n",
    "    from sympy.abc import x\n",
    "\n",
    "    poly = x**2 + 15 * x - 1\n",
    "    x_samples = np.linspace(-1, 1, 10)\n",
    "    deriv1 = nder(poly, 1)\n",
    "    assert np.allclose(\n",
    "        deriv1(x_samples), 2 * x_samples + 15\n",
    "    ), \"La dérivée n'est pas correcte\"\n",
    "    deriv2 = nder(poly, 2)\n",
    "    assert np.allclose(\n",
    "        deriv2(x_samples), 2 * np.ones_like(x_samples)\n",
    "    ), \"La dérivée n'est pas correcte\"\n",
    "    deriv3 = nder(poly, 3)\n",
    "    assert np.allclose(\n",
    "        deriv3(x_samples), np.zeros_like(x_samples)\n",
    "    ), \"La dérivée n'est pas correcte\"\n",
    "\n",
    "    func = sympy.sin(x)\n",
    "    deriv101 = nder(func, 101)\n",
    "    assert np.allclose(\n",
    "        deriv101(x_samples), np.cos(x_samples)\n",
    "    ), \"La dérivée n'est pas correcte\"\n",
    "\n",
    "\n",
    "def test_b_equidistant():\n",
    "    expr = sympy.sin(x) ** 2\n",
    "    error = b_equidistant(expr, -1, 1, 5)\n",
    "    assert error > 0, \"L'erreur doit être positive\"\n",
    "    correct_error = 0.005461333332241047\n",
    "    assert (\n",
    "        abs(error - correct_error) / correct_error < 1e-2\n",
    "    ), \"L'erreur n'est pas correcte\"\n",
    "\n",
    "    expr = sympy.cos(x) - 2 * sympy.sin(x)\n",
    "    error = b_equidistant(expr, -np.pi, np.pi, 7)\n",
    "    assert error > 0, \"L'erreur doit être positive\"\n",
    "    correct_error = 0.02944351467839892\n",
    "    assert (\n",
    "        abs(error - correct_error) / correct_error < 1e-2\n",
    "    ), \"L'erreur n'est pas correcte\"\n",
    "\n",
    "\n",
    "def test_b_chebyshev():\n",
    "    expr = sympy.sin(x) ** 2\n",
    "    error = b_chebyshev(expr, -1, 1, 5)\n",
    "    assert error > 0, \"L'erreur doit être positive\"\n",
    "    correct_error = 0.0013888888886111055\n",
    "    assert (\n",
    "        abs(error - correct_error) / correct_error < 1e-2\n",
    "    ), \"L'erreur n'est pas correcte\"\n",
    "\n",
    "    expr = sympy.cos(x) - 2 * sympy.sin(x)\n",
    "    error = b_chebyshev(expr, -np.pi, np.pi, 7)\n",
    "    assert error > 0, \"L'erreur doit être positive\"\n",
    "    correct_error = 0.004111056926946459\n",
    "    assert (\n",
    "        abs(error - correct_error) / correct_error < 1e-2\n",
    "    ), \"L'erreur n'est pas correcte\"\n",
    "\n",
    "\n",
    "test_nder()\n",
    "test_b_equidistant()\n",
    "test_b_chebyshev()\n"
   ]
  },
  {
   "cell_type": "markdown",
   "metadata": {
    "id": "odIU92JSiyUO"
   },
   "source": [
    "On trace ci-dessous les erreurs d'interpolation pour $f=\\exp$ sur l'intervalle [-1,1] pour les noeuds équidistants et de Chebyshev, ainsi que les bornes théoriques respectives. \n"
   ]
  },
  {
   "cell_type": "code",
   "execution_count": null,
   "metadata": {
    "colab": {
     "base_uri": "https://localhost:8080/",
     "height": 352
    },
    "id": "iFojx_pmiyUO",
    "outputId": "33e38695-18f7-4389-ed3a-a2697c76a93e"
   },
   "outputs": [],
   "source": [
    "def interpolation_error_comparison(expr, a, b, n_max):\n",
    "    plt.figure(figsize=(10, 5))\n",
    "    func_numpy = sympy.lambdify(x, expr, \"numpy\")\n",
    "    n_vals = np.arange(1, n_max)\n",
    "\n",
    "    # Equidistant\n",
    "    erreurs_vrais = []\n",
    "    erreurs_theoriques = []\n",
    "    for n in n_vals:\n",
    "        erreurs_vrais.append(\n",
    "            interpolation_error_equidistant(func_numpy, -1, 1, n)\n",
    "        )\n",
    "        erreurs_theoriques.append(b_equidistant(expr, -1, 1, n))\n",
    "    plt.plot(n_vals, erreurs_vrais, \"-\", c=\"r\", label=\"Equidistant\")\n",
    "    plt.plot(n_vals, erreurs_theoriques, \"--\", c=\"r\", label=\"$b_{equi}$\")\n",
    "\n",
    "    # Chebyshev\n",
    "    erreurs_vrais = []\n",
    "    erreurs_theoriques = []\n",
    "    for n in n_vals:\n",
    "        erreurs_vrais.append(\n",
    "            interpolation_error_chebyshev(func_numpy, -1, 1, n)\n",
    "        )\n",
    "        erreurs_theoriques.append(b_chebyshev(expr, -1, 1, n))\n",
    "    plt.plot(n_vals, erreurs_vrais, \"-\", c=\"b\", label=\"Chebyshev\")\n",
    "    plt.plot(n_vals, erreurs_theoriques, \"--\", c=\"b\", label=\"$b_{Cheby}$\")\n",
    "\n",
    "    plt.title(f\"Erreurs d'interpolation pour $f(x) = {sympy.latex(expr)}$\")\n",
    "    x_ticks = n_vals\n",
    "    if len(x_ticks) > 25:\n",
    "        x_ticks = x_ticks[:: len(x_ticks) // 20]\n",
    "    plt.xticks(x_ticks)\n",
    "    plt.yscale(\"log\")\n",
    "    plt.xlabel(\"Degré n du polynôme d'interpolation\")\n",
    "    plt.legend()\n",
    "    plt.grid()\n",
    "\n",
    "\n",
    "interpolation_error_comparison(sympy.exp(x), -1, 1, 20)\n"
   ]
  },
  {
   "cell_type": "markdown",
   "metadata": {
    "id": "8UMAo7D4iyUO"
   },
   "source": [
    "### Exercice 1c) ii)\n",
    "> Utilisez `interpolation_error_comparison` pour réaliser des tracés similaires pour les fonctions $1/(1+x^2)$ et $\\sin(x)$. \n",
    "> - Observez-vous une différence dans la vitesse de décroissance de l'erreur entre ces deux fonctions ? Pourquoi ?\n",
    "> - Finalement, l'erreur d'interpolation devient pire que la borne théorique, à la fois pour les noeuds d'interpolation équidistants et de Chebyshev. Pourquoi la valeur de $n$ à laquelle cela se produit diffère-t-elle entre ces deux fonctions ?\n",
    ">\n",
    "> **Remarque** : Si le temps d'exécution est très long, changez votre fonction `max_deviation` de l'exercice 1a) pour qu'elle soit moins coûteuse à calculer."
   ]
  },
  {
   "cell_type": "code",
   "execution_count": null,
   "metadata": {
    "colab": {
     "base_uri": "https://localhost:8080/",
     "height": 692
    },
    "id": "MxSjVFlPiyUO",
    "outputId": "6776e76a-19ec-4081-cb6d-5b3c843ca4e4"
   },
   "outputs": [],
   "source": [
    "# VOTRE CODE ICI\n"
   ]
  },
  {
   "cell_type": "markdown",
   "metadata": {
    "id": "cYAZUsoQiyUP"
   },
   "source": [
    "### Exercice 1d)\n",
    "> On considère l'erreur d'interpolation pour les noeuds de Chebyshev. Si une fonction $f$ est $k$ fois différentiable, alors\n",
    "$$\n",
    "    \\max_{x\\in[a,b]}|p_n(x)-f(x)| \\leq C_k n^{-k}\n",
    "$$\n",
    "> où $C_k>0$ est une constante indépendante de $n$. Nous allons confirmer cette relation numériquement.\n",
    ">\n",
    "> Pour $f_1(x) = |x|$, $f_2(x) = |\\sin(5x)|^3$ :\n",
    "> - Tracez l'erreur d'interpolation en utilisant les noeuds de Chebyshev sur l'intervalle $[-1,1]$ pour $n=1,\\dots,100$.   \n",
    "> - Si $f_i$ est $k$ fois différentiable, alors tracez $n^{-k}$ dans le même graphe.  \n",
    "> - L'erreur d'interpolation a-t-elle la même pente que $n^{-k}$ ? \n",
    "> - Utilisez une échelle log-log en utilisant `plt.loglog()` pour mieux voir cette relation.\n",
    "> - Assurez-vous d'ajouter une légende et un titre, et d'utiliser les options de traçage pour rendre le tracé plus clair."
   ]
  },
  {
   "cell_type": "code",
   "execution_count": null,
   "metadata": {
    "colab": {
     "base_uri": "https://localhost:8080/",
     "height": 589
    },
    "id": "CyTy6xgUiyUP",
    "outputId": "5a712c03-e8b1-4a77-f809-38eb9326533d"
   },
   "outputs": [],
   "source": [
    "# VOTRE CODE ICI\n"
   ]
  },
  {
   "cell_type": "markdown",
   "metadata": {
    "id": "nmTr163U-INr"
   },
   "source": [
    "**Reflexion** : L'erreur d'interpolation semble former deux lignes parallèles, en effet elle alterne entre de plus grandes et de plus petites valeurs. Comment cela se fait-il ?"
   ]
  },
  {
   "cell_type": "markdown",
   "metadata": {
    "id": "6gf2KWZoiyUP"
   },
   "source": [
    "## Exercice 2: Introduction à l’analyse des erreurs d’arrondi\n",
    "\n",
    "Les nombres à virgule flottante dans numpy sont par défaut représentés sur 64 bits, mais on peut aussi les représenter sur 32 bits. Il existe aussi des formats pour les nombres à virgule flottante moins courants comme 16 bits et 128 bits, mais ils ne sont que partiellement supportés par numpy. Rappelez-vous que tous éléments des arrays de numpy ont un type de données, qui est stocké dans `.dtype`:"
   ]
  },
  {
   "cell_type": "code",
   "execution_count": null,
   "metadata": {
    "colab": {
     "base_uri": "https://localhost:8080/"
    },
    "id": "H7MnnPV7iyUP",
    "outputId": "14fd4231-6ec2-4731-c4d7-f418e93f44b6"
   },
   "outputs": [],
   "source": [
    "import numpy as np\n",
    "\n",
    "A = np.linspace(-1, 1, 10)\n",
    "A.dtype\n"
   ]
  },
  {
   "cell_type": "markdown",
   "metadata": {
    "id": "x76Zmtj9iyUP"
   },
   "source": [
    "Pour créer un array avec un `dtype` donné, nous pouvons utiliser le paramètre `dtype`. On peut aussi appeler `.astype()` sur n'importe quel array numpy pour convertir tous ses éléments à un type différent. Notez que si nous convertissons de 64 à 32 bits par exemple, il y a bien sûr une perte de précision."
   ]
  },
  {
   "cell_type": "code",
   "execution_count": null,
   "metadata": {
    "colab": {
     "base_uri": "https://localhost:8080/"
    },
    "id": "Lt6zzubniyUQ",
    "outputId": "e2604f58-4612-4567-dd47-cd2da477805b"
   },
   "outputs": [],
   "source": [
    "A = np.linspace(-1, 1, 10, dtype=np.float32)\n",
    "print(A.dtype)\n",
    "\n",
    "A = np.linspace(-1, 1, 10).astype(np.float32)\n",
    "print(A.dtype)\n"
   ]
  },
  {
   "cell_type": "markdown",
   "metadata": {
    "id": "RlraGSLViyUQ"
   },
   "source": [
    "Il existe également plusieurs formats pour les nombres entiers. Par exemple, `int32` encode les entiers sur 32 bits, c'est-à-dire cet entier peut prendre une valeur comprise dans l'intervalle $[-2^{31},\\dots,2^{31}-1]$. Les arrays de nombres entiers peuvent être convertis en arrays de nombres à virgule et inversement (faites attention aux arrondis)."
   ]
  },
  {
   "cell_type": "code",
   "execution_count": null,
   "metadata": {
    "colab": {
     "base_uri": "https://localhost:8080/"
    },
    "id": "zAkH2YxUiyUQ",
    "outputId": "f1ff9394-5c26-4ed7-c144-056087b5cdcc"
   },
   "outputs": [],
   "source": [
    "A = np.linspace(-1, 1, 11)\n",
    "print(A)\n",
    "A.astype(np.int32)\n"
   ]
  },
  {
   "cell_type": "markdown",
   "metadata": {
    "id": "1uPdcKahiyUQ"
   },
   "source": [
    "Pour trouver des informations sur un nombre à virgule flottante, on peut utiliser `np.finfo`. Celui-ci renvoie un objet qui stocke des informations utiles sur le format de ce nombre. Par exemple, l'attribut `.eps` de cet objet renvoie l'epsilon machine pour le format de nombre à virgule flottante donné:"
   ]
  },
  {
   "cell_type": "code",
   "execution_count": null,
   "metadata": {
    "colab": {
     "base_uri": "https://localhost:8080/"
    },
    "id": "Ch3qD7XhiyUQ",
    "outputId": "a48919f4-64df-4da3-c581-bd945c97650c"
   },
   "outputs": [],
   "source": [
    "f64_info = np.finfo(np.float64)\n",
    "f64_info.eps\n"
   ]
  },
  {
   "cell_type": "markdown",
   "metadata": {
    "id": "N2VbMo1siyUQ"
   },
   "source": [
    "### Exercise 2a)\n",
    "----\n",
    "> Utilisez `np.finfo` pour imprimer les informations suivantes sur le type de données `float32` :\n",
    "> - L'epsilon de la machine\n",
    "> - Le plus petit nombre positif normalisé\n",
    "> - Le plus grand nombre positif\n",
    "> \n",
    "> Lisez [la documentation](https://numpy.org/doc/1.21/reference/generated/numpy.finfo.html) pour trouver les attributs appropriés.\n",
    "----"
   ]
  },
  {
   "cell_type": "code",
   "execution_count": null,
   "metadata": {
    "colab": {
     "base_uri": "https://localhost:8080/"
    },
    "id": "fCseCCPviyUR",
    "outputId": "2d0f3b59-deaf-4cff-b5fb-6970c2b86c44"
   },
   "outputs": [],
   "source": [
    "# VOTRE CODE ICI\n"
   ]
  },
  {
   "cell_type": "markdown",
   "metadata": {
    "id": "0O_U-U4TiyUR"
   },
   "source": [
    "Rappelez-vous que, par l'exemple 2.2 du cours, les nombres à virgule flottante normalisés de 32 bits ont la forme suivante :\n",
    "$$\n",
    "    \\tilde x = (-1)^s\\times 1.m\\times 2^{e-127}\n",
    "$$\n",
    "Où $s$ est le signe, $m$ est la mantisse et $e$ est l'exposant. Avec numpy, on peut extraire la mantisse et l'exposant en utilisant `np.frexp`, qui donne la mantisse et l'exposant sous une forme légèrement différente. Pour les nombres normalisés, la mantisse est soit entre $0.5$ et $1$, soit entre $-1$ et $-0.5$, alors que pour les nombres dénormalisés, la mantisse est entre $-0.5$ et $0.5$. L'exposant est un nombre entier $\\leq 127$. Pour tous les nombres on a alors que $\\tilde x = m\\times 2^e$ (même les nombres dénormalisés). L'exception bien sûr sont les valeurs à virgule flottante `NaN`, $-\\infty$ et $+\\infty$.\n",
    "\n",
    "Par exemple, on voit ci-dessous comment 10.0 est décomposé en une mantisse et un exposant."
   ]
  },
  {
   "cell_type": "code",
   "execution_count": null,
   "metadata": {
    "colab": {
     "base_uri": "https://localhost:8080/"
    },
    "id": "sF6t9Rd0iyUR",
    "outputId": "549c4d6f-b029-4957-b3f0-70655babbe0c"
   },
   "outputs": [],
   "source": [
    "mantisse, exposant = np.frexp(10.0)\n",
    "print(f\"Mantisse: {mantisse}, exposant: {exposant}\")\n",
    "mantisse * 2**exposant\n"
   ]
  },
  {
   "cell_type": "markdown",
   "metadata": {
    "id": "4vr-Ib8GiyUS"
   },
   "source": [
    "### Exercise 2b)\n",
    "----\n",
    "> Dans deux figures distinctes, tracez la mantisse et l'exposant des nombres à virgule flottante de 32 bits entre $10^{-50}$ et $10^{50}$. Placez l'exposant en base 10 sur l'axe horizontal.\n",
    ">\n",
    "> Que se passe-t-il lorsque les nombres à virgule flottante deviennent plus petits que le plus petit nombre normalisé ? Que se passe-t-il lorsqu'ils deviennent plus grands que le plus grand nombre représentable ? Cela correspond-il à ce qui devrait se passer avec la mantisse dans la spécification IEEE ?\n",
    "> \n",
    "> Portez une attention particulière à l'axe horizontal des deux graphiques. Pourquoi y a-t-il une différence ?\n",
    "> \n",
    "> Tapez vos réponses dans un commentaire ou une cellule markdown.\n",
    "----"
   ]
  },
  {
   "cell_type": "code",
   "execution_count": null,
   "metadata": {
    "colab": {
     "base_uri": "https://localhost:8080/",
     "height": 391
    },
    "id": "X2tzqxauiyUS",
    "outputId": "e77c7544-ece8-4377-87c0-076f803e94b9"
   },
   "outputs": [],
   "source": [
    "# VOTRE CODE ICI\n"
   ]
  },
  {
   "cell_type": "markdown",
   "metadata": {
    "id": "wwkYk6rViyUS"
   },
   "source": [
    "----\n",
    "Lorsque l'on travaille avec des nombres à virgule flottante, des erreurs d'arrondi et des débordements peuvent se produire si l'on prend inutilement des fractions de très grands nombres. Par exemple :"
   ]
  },
  {
   "cell_type": "code",
   "execution_count": null,
   "metadata": {
    "colab": {
     "base_uri": "https://localhost:8080/"
    },
    "id": "Ea1jD3a3iyUS",
    "outputId": "6a976c7e-c3c5-420c-b873-a8a57cc087e8"
   },
   "outputs": [],
   "source": [
    "print(1.00 / 2.00)\n",
    "nombre_grand = 10.0**308\n",
    "print((1.00 * nombre_grand) / (2.00 * nombre_grand))\n"
   ]
  },
  {
   "cell_type": "markdown",
   "metadata": {
    "id": "05RxoYw0iyUS"
   },
   "source": [
    "Si on choisit `nombre_grand` pour être encore plus grand, alors cela produit une erreur d'overflow. L'astuce consiste donc à éviter ces grandes fractions en simplifiant une expression. Il n'est pas toujours évident comment le faire. Considérons le cas particulier suivant de la formule du binôme de Newton :\n",
    "$$\n",
    "    1 = (1+1)^n/2^n = \\sum_{k=0}^n \\binom nk 2^{-n} \\tag{$\\star$}\n",
    "$$\n",
    "Si $n$ et $k$ sont très grands, alors chaque terme de cette somme est le produit d'un très grand et d'un très petit nombre, ce qui est une situation que nous aimerions éviter. On a ci-dessous une implémentation naïve de cette formule qui fonctionne bien pour $n=100$, mais pour $n=10\\,000$ par exemple cela ne fonctionne pas (essayez !)."
   ]
  },
  {
   "cell_type": "code",
   "execution_count": null,
   "metadata": {
    "colab": {
     "base_uri": "https://localhost:8080/"
    },
    "id": "3HLh21l-iyUS",
    "outputId": "be6237f4-578d-4042-f1d1-590796afc73e"
   },
   "outputs": [],
   "source": [
    "from scipy.special import comb\n",
    "\n",
    "\n",
    "def formule_naive(k, n):\n",
    "    \"\"\"\n",
    "    Calcule le kième terme de la formule (*)\n",
    "\n",
    "    - n est un nombre entier positif\n",
    "    - k est soit un entier positif, soit un array numpy d'entiers positifs, tous\n",
    "      inférieurs ou égaux à n.\n",
    "    \"\"\"\n",
    "    return comb(n, k) / 2**n\n",
    "\n",
    "\n",
    "n = 100\n",
    "np.sum(formule_naive(np.arange(n + 1), n))\n"
   ]
  },
  {
   "cell_type": "markdown",
   "metadata": {
    "id": "Q30G5rMBiyUT"
   },
   "source": [
    "Nous pouvons résoudre ce problème d'overflow en prenant un logarithme :\n",
    "$$\n",
    "    \\binom nk 2^{-n} = \\exp\\left( \\log\\left(\\binom nk\\right)-n\\log 2\\right)\n",
    "$$\n",
    "Cependant, il faut maintenant calculer le logarithme d'un coefficient binomial. Cela peut être fait en exprimant le coefficient binomial en termes de factorielles, puis d'utiliser la formule :\n",
    "$$\n",
    "    \\log(n !) = \\log\\Gamma(n+1)\n",
    "$$\n",
    "Heureusement, $\\log\\Gamma$ peut être calculé en utilisant `scipy.special.loggamma`.\n",
    "\n",
    "### Exercice 2c)\n",
    "----\n",
    "> Implémentez une fonction `formule_bon(n, k)` qui calcule le `k`ième terme de la somme $(\\star)$ sans rencontrer de problèmes d'overflow même pour de très grandes valeurs de $n$ et $k$.\n",
    "----"
   ]
  },
  {
   "cell_type": "code",
   "execution_count": null,
   "metadata": {
    "colab": {
     "base_uri": "https://localhost:8080/"
    },
    "id": "aVLbd7rdiyUT",
    "outputId": "03d4207d-79f9-42a7-d988-1a4a9bf0f719"
   },
   "outputs": [],
   "source": [
    "from scipy.special import loggamma\n",
    "\n",
    "\n",
    "def log_comb(n, k):\n",
    "    \"\"\"\n",
    "    Calcul du logarithme du coefficient binomial\n",
    "\n",
    "    - n est un nombre entier positif\n",
    "    - k est soit un entier positif, soit un array numpy d'entiers positifs, tous\n",
    "      inférieurs ou égaux à n.\n",
    "    \"\"\"\n",
    "    # VOTRE CODE ICI\n",
    "\n",
    "\n",
    "def formule_bon(k, n):\n",
    "    \"\"\"\n",
    "    Calcule le kième terme de la formule (*)\n",
    "\n",
    "    - n est un nombre entier positif\n",
    "    - k est soit un entier positif, soit un array numpy d'entiers positifs, tous\n",
    "      inférieurs ou égaux à n.\n",
    "    \"\"\"\n",
    "    # VOTRE CODE ICI\n",
    "\n",
    "\n",
    "n = 10_000\n",
    "np.sum(formule_bon(np.arange(n + 1), n))  # devrait être environ 1.0\n"
   ]
  },
  {
   "cell_type": "code",
   "execution_count": null,
   "metadata": {
    "id": "yFdqLb9RiyUU"
   },
   "outputs": [],
   "source": [
    "def test_formule_bon():\n",
    "    n = 20\n",
    "    assert np.allclose(\n",
    "        formule_bon(np.arange(n + 1), n), formule_naive(np.arange(n + 1), n)\n",
    "    ), \"formule_bon ne donne pas le même résultat que formule_naive\"\n",
    "\n",
    "    n = 10_000\n",
    "    s = np.sum(formule_bon(np.arange(n + 1), n))\n",
    "    assert abs(s - 1) < 1e-6, \"formule_bon ne donne pas la bonne somme\"\n",
    "\n",
    "    assert (\n",
    "        abs(formule_bon(100_000, 200_000) - 0.0017841218869290864) < 1e-6\n",
    "    ), \"formule_bon ne donne pas la bonne valeur pour k=100_000, n=200_000\"\n",
    "\n",
    "    assert (\n",
    "        abs(np.sum(formule_bon(np.arange(5001), 10_000)) - 0.5039893230697347)\n",
    "        < 1e-6\n",
    "    ), \"formule_bon ne donne pas la bonne somme pour n=10_000\"\n",
    "\n",
    "\n",
    "test_formule_bon()\n"
   ]
  },
  {
   "cell_type": "markdown",
   "metadata": {
    "id": "sbb9FgbQiyUU"
   },
   "source": [
    "Une formule utile faisant intervenir des produits et des fractions de très grands nombres est la formule de Sterling, qui donne l'approximation suivante pour $n!$ :\n",
    "$$\n",
    "    n ! \\approx \\sqrt{2\\pi n}\\cdot n^n / e^n \\tag{$\\star \\star$}\n",
    "$$\n",
    "Nous allons étudier la vitesse de convergence de cette approximation.\n",
    "\n",
    "### Exercice 2d)\n",
    "---\n",
    "> Ecrivez une fonction `quotient_sterling` qui approxime le logarithme du quotient des côtés gauche et droit de l'approximation de Stirling $(\\star\\star)$.\n",
    "> \n",
    "> Faites un graphique qui montre la vitesse à laquelle ce quotient logarithmique converge vers 0. Utilisez des valeurs de $n$ entre $1$ et $10^{10}$. Utilisez des axes horizontaux et verticaux appropriés pour faciliter l'interprétation de la relation. N'oubliez pas d'ajouter des étiquettes descriptives aux axes et d'ajouter un titre.\n",
    "---"
   ]
  },
  {
   "cell_type": "code",
   "execution_count": null,
   "metadata": {
    "colab": {
     "base_uri": "https://localhost:8080/",
     "height": 299
    },
    "id": "1nB6IgKciyUU",
    "outputId": "2d4beaa9-7b77-4b93-a495-306173930660"
   },
   "outputs": [],
   "source": [
    "def quotient_sterling(n):\n",
    "    \"\"\"\n",
    "    Calcule le logarithme de quotient de deux côtés de la formule de Sterling\n",
    "    \"\"\"\n",
    "    if isinstance(n, np.ndarray):\n",
    "        n = n.astype(np.int64)  # on s'assure que n est un entier\n",
    "\n",
    "    # VOTRE CODE ICI\n",
    "\n",
    "\n",
    "# VOTRE CODE ICI POUR LE GRAPHIQUE\n",
    "\n"
   ]
  }
 ],
 "metadata": {
  "colab": {
   "collapsed_sections": [],
   "provenance": []
  },
  "kernelspec": {
   "display_name": "Python 3 (ipykernel)",
   "language": "python",
   "name": "python3"
  },
  "language_info": {
   "codemirror_mode": {
    "name": "ipython",
    "version": 3
   },
   "file_extension": ".py",
   "mimetype": "text/x-python",
   "name": "python",
   "nbconvert_exporter": "python",
   "pygments_lexer": "ipython3",
   "version": "3.10.8"
  },
  "vscode": {
   "interpreter": {
    "hash": "aa8f53eae326bb3efc32035631559d37779200e37cbfd9a8c4c0dd4a4acba3ea"
   }
  },
  "widgets": {
   "application/vnd.jupyter.widget-state+json": {
    "state": {},
    "version_major": 2,
    "version_minor": 0
   }
  }
 },
 "nbformat": 4,
 "nbformat_minor": 4
}
