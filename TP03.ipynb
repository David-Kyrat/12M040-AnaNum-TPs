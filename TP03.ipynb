{
  "cells": [
    {
      "cell_type": "markdown",
      "metadata": {
        "id": "GfxCL8DQb08Z"
      },
      "source": [
        "## TP 3 : Erreurs d'arrondi\n",
        "\n",
        "Dans ce TP, on se concentrera sur les erreurs d'arrondi. On s'intéressera aux erreurs d'arrondi qui apparaissent dans la recherche et l'évaluation des racines de polynômes et dans le calcul des dérivées de fonctions analytiques."
      ]
    },
    {
      "cell_type": "markdown",
      "metadata": {
        "id": "JI4948Gcb08d"
      },
      "source": [
        "## Exercice 1 :  Erreurs d'arrondi et racines d'un polynôme.\n",
        "\n",
        "Dans cet exercice, on veut trouver les racines d'un polynôme, c.-à-d. résoudre\n",
        "$$\n",
        "p(x)=\\sum_{i=0}^n a_ix^i=0.\n",
        "$$\n",
        "Il est bien connu qu'un polynôme de  degré $n$ a $n$ racines $x_1\\, ,\\, x_2\\, \\dots,\\, x_n \\in\\mathbb{C}$."
      ]
    },
    {
      "cell_type": "markdown",
      "metadata": {
        "id": "SUDsWk4Xb08e"
      },
      "source": [
        "### Exercice 1 a)\n",
        " > Pour $p(x)=a_0 + a_1x + a_2x^2$, on peut trouver ses racines en utilisant la formule suivante\n",
        "$$\n",
        "x_{1,2}=\\frac{-a_1\\pm \\sqrt{a_1^2-4a_0a_2}}{2a_2}.\n",
        "$$\n",
        "> Appliquer la formule pour $p(x) = (x-10^{m})(x-10^{-m})$. Tracez l'erreur relative de $x_1$, $x_2$ par rapport aux vraies valeurs des racines pour $m=1,\\dots,12$.  \n",
        ">\n",
        "> _Explication_: Quand $a_1$ et $\\sqrt{a_1^2-4a_0a_2}$ sont du même ordre de grandeur, des annulations vont apparaître dans l'opération  $-a_1\\pm \\sqrt{a_1^2-4a_0a_2}$.\n",
        "---"
      ]
    },
    {
      "cell_type": "code",
      "execution_count": null,
      "metadata": {
        "colab": {
          "base_uri": "https://localhost:8080/",
          "height": 283
        },
        "id": "rehwK9HDb08f",
        "outputId": "d0a73b34-5808-4602-c7fe-7c6d981d7413"
      },
      "outputs": [],
      "source": [
        "import numpy as np\n",
        "import matplotlib.pyplot as plt\n",
        "\n",
        "\n",
        "def sol_quadratic(coeff):\n",
        "    \"\"\"\n",
        "    Calcule les racines d'un polynôme quadratique à coefficients `coeff`\n",
        "\n",
        "    `coeff` est une liste, et son premier élément est le coefficient du monomial\n",
        "    de degré 2.\n",
        "    \"\"\"\n",
        "    a0, a1, a2 = coeff\n",
        "    # VOTRE CODE ICI\n",
        "\n",
        "\n",
        "errors1 = []\n",
        "errors2 = []\n",
        "m_vals = np.linspace(1, 13, 50)\n",
        "for m in m_vals:\n",
        "    x1, x2 = sol_quadratic([1, -(10.0 ** (-m)) - 10.0**m, 1])\n",
        "    errors1.append(abs(x1 - 10**m) / 10.0**m)\n",
        "    errors2.append(abs(x2 - 10 ** (-m)) * 10.0**m)\n",
        "\n",
        "\n",
        "plt.plot(m_vals, errors1, label=\"Erreur relative de x1\")\n",
        "plt.plot(m_vals, errors2, label=\"Erreur relative de x2\")\n",
        "plt.legend()\n"
      ]
    },
    {
      "cell_type": "markdown",
      "metadata": {
        "id": "3b0tpmxyb08i"
      },
      "source": [
        "> _Réflexion_ : L'une des deux racines est trouvée avec précision, et l'autre ne l'est pas. Pourquoi pensez-vous que c'est le cas ?\n",
        "\n",
        "> Réflexion : La méthode s'effondre aux alentours de $m=8$. Pourquoi à cette valeur ?"
      ]
    },
    {
      "cell_type": "markdown",
      "metadata": {
        "id": "vMDW4cCtb08k"
      },
      "source": [
        "### Exercice 1b) \n",
        "On peut utiliser la méthode de Newton (qui sera étudiée plus en détail plus tard dans le cours) pour calculer itérativement les racines d'une fonction $p(x)$ en utilisant la formule suivante :\n",
        "$$\n",
        "    x_{n+1}=x_n-\\frac{p(x_n)}{p'(x_n)},\n",
        "$$\n",
        "\n",
        "----\n",
        "> Implémentez `methode_newton`, selon la description ci-dessous. Elle devrait afficher un avertissement si elle ne converge pas. Calculez $x_1$ et $x_2$ en utilisant la question précédente, et introduisez-les dans la méthode de Newton comme valeurs initiales avec $p(x)$ le polynôme de l'exercice précédent pour $m=10$. \n",
        ">\n",
        "> La méthode converge-t-elle pour les deux valeurs ? L'application de la méthode de Newton a-t-elle amélioré le résultat ?\n",
        "----\n",
        "\n",
        "_Indice : utilisez `np.polyval(coeff, x)` pour évaluer un polynôme, et utilisez `np.polyder(coeff)` pour obtenir les coefficients de la dérivée d'un polynôme._"
      ]
    },
    {
      "cell_type": "code",
      "execution_count": null,
      "metadata": {
        "colab": {
          "base_uri": "https://localhost:8080/"
        },
        "id": "5acjMmaBb08k",
        "outputId": "5ab8aebe-983f-4312-b6eb-7d47fddcddb4"
      },
      "outputs": [],
      "source": [
        "def newtons_method(coeff, x0, tol=1e-8, maxiter=100):\n",
        "    \"\"\"\n",
        "    Calculer la racine d'un polynôme par la méthode de Newton\n",
        "\n",
        "    Les coefficients du polynôme sont donnés par `coeff` sous forme de liste où\n",
        "    le premier élément est le coefficient du monomial de plus haut degré.\n",
        "\n",
        "    La valeur initiale est `x0`.\n",
        "\n",
        "    Après chaque itération, nous vérifions si `abs(p(x)) < tol`, si c'est le\n",
        "    cas, on retourne `x`.\n",
        "\n",
        "    Si après `maxiter` itérations on n'a pas trouvé de solution à cette\n",
        "    tolérance, on informe l'utilisateur via une instruction print que la méthode\n",
        "    n'a pas convergé.\n",
        "    \"\"\"\n",
        "    # VOTRE CODE ICI\n",
        "\n",
        "\n",
        "# VOTRE CODE ICI\n"
      ]
    },
    {
      "cell_type": "markdown",
      "metadata": {
        "id": "2oFUnnv2b08m"
      },
      "source": [
        "Pour des polynômes de degré $n$, on peut utiliser la fonction `np.roots` pour calculer plus précisement les racines numériquement. Pour construire des polynômes, on peut utiliser `np.polymul` pour obtenir les coefficients des produits de deux polynômes. Par exemple ci-dessous on construit le polynôme $(x^2-2)^3$ et on calcule ses racines.\n"
      ]
    },
    {
      "cell_type": "code",
      "execution_count": null,
      "metadata": {
        "colab": {
          "base_uri": "https://localhost:8080/"
        },
        "id": "9iR9e3ETb08m",
        "outputId": "8096ce76-f720-40b8-fb2f-b1734b92d80f"
      },
      "outputs": [],
      "source": [
        "poly = [1.0]  # Commencer avec p(x) = 1.0\n",
        "for i in range(3):\n",
        "    poly = np.polymul(poly, [1, 0, -2])  # Multiplier par (x^2 - 2)\n",
        "print(f\"Les coefficients de (x**2-2)**3: {poly}\")\n",
        "racines = np.roots(poly)\n",
        "print(f\"Les racines de (x**2-2)**3: {racines}\")\n"
      ]
    },
    {
      "cell_type": "markdown",
      "metadata": {
        "id": "J6z1aH3Jb08m"
      },
      "source": [
        "Observez que les racines sont des nombres complexes. En précision infinie, on devrait obtenir les racines $\\sqrt{2}$ et $-\\sqrt{2}$, ainsi les parties imaginaires de ces racines devraient être égales à 0. Pourtant, certaines des racines trouvées par `np.roots` ont une partie imaginaire non nulle en raison d'erreurs d'arrondi."
      ]
    },
    {
      "cell_type": "markdown",
      "metadata": {
        "id": "zwzLuUCkb08n"
      },
      "source": [
        "### Exercice 1c)\n",
        "> Trouvez les racines du polynôme de Wilkinson perturbé : \n",
        "$$\n",
        "  p_\\delta (x)=\\prod_{i=1}^{20}(x-i)+ \\delta\\cdot  x^{19},\n",
        "$$\n",
        "> ou $\\delta$ est un parmètre de perturbation. \n",
        ">\n",
        "> Tracez le résultat dans le plan complexe pour $\\delta=0,\\,10^{-4},\\,10^{-8},\\,10^{-16}$.\n",
        ">\n",
        "> _Indication_ : Vous pouvez utiliser `np.real` et `np.imag` pour obtenir les parties réelles et imaginaires d'un nombre ou d'un array.\n",
        "---- \n",
        "\n",
        "**Important** : assurez-vous que les coefficients du polynôme de Wilkinson soient stockés en format virgule flottante et non en format entier, sinon vous risquez d'obtenir des résultats imprécis."
      ]
    },
    {
      "cell_type": "code",
      "execution_count": null,
      "metadata": {
        "colab": {
          "base_uri": "https://localhost:8080/",
          "height": 297
        },
        "id": "6-3fiBSEb08n",
        "outputId": "fa6c201f-8c63-43e3-cbef-371b0eba2d85"
      },
      "outputs": [],
      "source": [
        "from copy import copy\n",
        "\n",
        "# Vous pouvez utiliser la fonction copy pour copier une liste comme ceci :\n",
        "# liste2 = copy(liste1)\n",
        "\n",
        "# VOTRE CODE ICI\n"
      ]
    },
    {
      "cell_type": "markdown",
      "metadata": {
        "id": "DXei2km-b08n"
      },
      "source": [
        "### Exercice 1d)\n",
        "Remarquez que l'on peut écrire \n",
        "$$\n",
        "    p_\\delta (x)=\\prod_{i=1}^{20}(x-i)+ \\delta\\cdot  x^{19} =\\prod_{i=1}^{20}(x-x_i)\n",
        "$$\n",
        "avec $x_i$ les racines.On peut traiter $x_i(\\delta)$ comme une fonction de $\\delta$, et on a\n",
        "$$\n",
        "\\frac{d x_i}{d \\delta} \\,\\bigg|_{\\delta=0}\n",
        "= \\frac{x_i^{19}}{\\prod_{j\\neq i} (x_j-x_i)}\\bigg|_{\\delta=0}\n",
        "= \\prod_{j\\neq i} \\frac{i}{j-i}.\n",
        "$$\n",
        "\n",
        "Ici $\\left|\\dfrac{d x_i}{d \\delta} \\right |_{\\delta=0}$ mesure la condition (en sens absolu) des racines  $x_i(0)=i$, c.-à-d., la sensibilité de $x_i$ aux perturbations par $\\delta$. \n",
        "\n",
        "----\n",
        "> Calculer la sensibilité de toutes les racines $x_i$ en utilisant la formule ci-dessus. Utilisez cette dernière pour expliquer vos observations de la figure que vous avez faite dans l'exercice précédent.\n",
        ">\n",
        "> Écrivez votre explication sous forme de commentaire ou de cellule markdown. \n",
        "---- "
      ]
    },
    {
      "cell_type": "code",
      "execution_count": null,
      "metadata": {
        "colab": {
          "base_uri": "https://localhost:8080/"
        },
        "id": "w9pZzGqRb08n",
        "outputId": "6bfa962c-97e3-402d-cf4c-8b0a60371041"
      },
      "outputs": [],
      "source": [
        "# VOTRE CODE ICI\n"
      ]
    },
    {
      "cell_type": "markdown",
      "metadata": {
        "id": "i6o9MVeGb08o"
      },
      "source": [
        "## Exercice 2 : Approcher la dérivée\n",
        "\n",
        "On veut approximer numériquement les dérivées de fonctions analytiques en utilisant les différences finies.\n",
        "\n",
        "--- \n",
        "> Ecrivez deux fonctions `diff_reel` et `diff_complex` qui approximent respectivement la dérivée d'une fonction analytique en utilisant les formules suivantes :\n",
        "\n",
        "$$\n",
        "    \\texttt{diff_reel}(x_0,h,f) := \\frac{f(x_0+h) - f(x_0)}{h}\n",
        "$$\n",
        "$$\n",
        "    \\texttt{diff_complex}(x_0,h,f) := \\mathrm{Im}\\left( \\frac{f(x_0+ih)}{h}\\right)\n",
        "$$\n",
        ">   Implémentez `diff_reel` et `diff_complex`. Essayez votre implémentation sur la fonction\n",
        "$$\n",
        "    f(x) = \\frac{x^2 \\cos^3 x + \\sin^3 x }{e^x}\n",
        "$$\n",
        "> en $x_0 = \\pi/4$. \n",
        ">\n",
        "> Tracer l'erreur d'approximation des dérivées en fonction de $h$ pour $h$ entre $10^{-16}$ et $1$. \n",
        "Utilisez un tracé logarithmique, et ajoutez les courbes $y=h$ et $y=h^2$ au tracé. \n",
        ">\n",
        "> _Conseil_ : Vous pouvez utiliser `sympy` pour calculer la dérivée de $f$ si vous ne voulez pas la calculer à la main. \n",
        "---\n"
      ]
    },
    {
      "cell_type": "code",
      "execution_count": null,
      "metadata": {
        "colab": {
          "base_uri": "https://localhost:8080/",
          "height": 283
        },
        "id": "l3cD_zsMb08o",
        "outputId": "51185865-7ef6-4b06-df04-3012e8026f56"
      },
      "outputs": [],
      "source": [
        "# VOTRE CODE ICI\n",
        "from sympy.abc import x\n",
        "import sympy\n"
      ]
    },
    {
      "cell_type": "markdown",
      "metadata": {
        "id": "SOO7uPvKb08p"
      },
      "source": [
        "> _Réflexion:_ En précision infinie, la première méthode satisfait $|\\texttt{diff_reel}(x_0,h,f) -f'(x_0)| = O(h)$, et la seconde satisfait $|\\texttt{diff_complex}(x_0,h,f) -f'(x_0)| = O(h^2)$. Essayez de déduire ce résultat vous-même.\n",
        "\n",
        "> _Réflexion:_ Pourquoi est-ce que la première méthode suit la ligne $O(h)$ mais remonte pour de petites valeurs de $h$ ? "
      ]
    },
    {
      "cell_type": "markdown",
      "metadata": {
        "id": "en8EcaBHb08p"
      },
      "source": [
        "## Exercice 3 : Méthode de Horner\n",
        "\n",
        "Dans cet exercice, on va implémenter la méthode de Horner pour évaluer des polynômes. On rappelle que la règle de Horner est donnée par\n",
        "$$\n",
        "    a_n x^n + a_{n-1}x^{n-1}+\\cdots+ a_1x+a_0 = a_0 + x(a_1+x(a_2+x(a_3+\\cdots+x(a_{n-1}+xa_n))))\n",
        "$$\n",
        "Cette formule peut être utilisée pour évaluer un polynôme en utilisant $n$ opérations d'addition et de multiplication, ce qui la rend plus efficace qu'un calcul plus naïf."
      ]
    },
    {
      "cell_type": "markdown",
      "metadata": {
        "id": "rKDJ4vXJb08p"
      },
      "source": [
        "### Exercice 3a)\n",
        "> Implémentez une fonction `methode_horner(coeff, x)` qui évalue un polynôme au point `x` en utilisant la méthode de Horner."
      ]
    },
    {
      "cell_type": "code",
      "execution_count": null,
      "metadata": {
        "id": "twXvZHyOb08p"
      },
      "outputs": [],
      "source": [
        "def methode_horner(coeff, x):\n",
        "    \"\"\"\n",
        "    Calculer la valeur d'un polynôme en x en utilisant la méthode de Horner\n",
        "\n",
        "    Les coefficients du polynôme sont donnés par `coeff` sous forme de liste où\n",
        "    le premier élément est le coefficient du monomial de plus haut degré.\n",
        "    \"\"\"\n",
        "    # VOTRE CODE ICI\n"
      ]
    },
    {
      "cell_type": "code",
      "execution_count": null,
      "metadata": {
        "id": "wiaOK2Oib08q"
      },
      "outputs": [],
      "source": [
        "def test_methode_horner():\n",
        "    # Le résultat devrait être équivalent à np.polyval de numpy.\n",
        "    coeff = [1, 2, 3, 4, 5]\n",
        "    assert np.allclose(\n",
        "        np.polyval(coeff, 2), methode_horner(coeff, 2)\n",
        "    ), \"Votre implémentation diffère de np.polyval\"\n",
        "    coeff = np.linspace(3, -5, 10)\n",
        "    x = 179.57\n",
        "    assert np.allclose(\n",
        "        np.polyval(coeff, x), methode_horner(coeff, x)\n",
        "    ), \"Votre implémentation diffère de np.polyval\"\n",
        "\n",
        "\n",
        "test_methode_horner()\n"
      ]
    },
    {
      "cell_type": "markdown",
      "metadata": {
        "id": "5pMQkXOYb08q"
      },
      "source": [
        "### Exercice 3b)\n",
        "> Tracez le résultat de votre implémentation de la méthode de Horner appliquée au polynôme $p(x) = (x-2)^9$ pour $x\\in [2-0.07, 2+0.07]$. Sur le même graphique, tracez également sa vraie valeur calculée en utilisant `(x-2)**9`."
      ]
    },
    {
      "cell_type": "code",
      "execution_count": null,
      "metadata": {
        "colab": {
          "base_uri": "https://localhost:8080/",
          "height": 294
        },
        "id": "51Dy47a6b08q",
        "outputId": "ac3aee76-5897-45d9-ccf5-8bb56e3b952c"
      },
      "outputs": [],
      "source": [
        "# VOTRE CODE ICI\n"
      ]
    },
    {
      "cell_type": "markdown",
      "metadata": {
        "id": "DJdrTtvzb08q"
      },
      "source": [
        "### Exercice 3c)\n",
        "\n",
        "On peut montrer que l'erreur de la méthode de Horner est bornée par :\n",
        "$$\n",
        "|p(x) - \\widehat p(x)| \\leq \\frac{2n\\varepsilon}{1-2n\\varepsilon} \\sum_{i=0}^n|a_ix^i|,\n",
        "$$\t\n",
        "où  $\\varepsilon$ est la précision de la machine, et  $\\widehat{p}(x)$ est le $p(x)$ calculé en arithmétique flottante.\n",
        "\n",
        "---\n",
        "> Tracez la borne supérieure de l'erreur absolue de la méthode de Horner pour $p(x)=(x-2)^9$ pour $x\\in [2-0.07,2+0.07]$. Sur la même figure, tracez l'erreur absolue de votre implémentation de la méthode de Horner pour le même polynôme.\n",
        "----\n"
      ]
    },
    {
      "cell_type": "code",
      "execution_count": null,
      "metadata": {
        "colab": {
          "base_uri": "https://localhost:8080/",
          "height": 279
        },
        "id": "ZGEcCCwUb08q",
        "outputId": "ba3f48c2-2ae9-430b-88df-6fd1dd8e2af3"
      },
      "outputs": [],
      "source": [
        "EPSILON = np.finfo(np.float64).eps  # epsilon machine\n",
        "\n",
        "\n",
        "def borne_horner(coeff, x, eps=EPSILON):\n",
        "    \"\"\"\n",
        "    Calculer la borne supérieure de l'erreur de la méthode de Horner en `x`.\n",
        "\n",
        "    Les coefficients du polynôme sont donnés par `coeff` sous forme de liste où\n",
        "    le premier élément est le coefficient du monomial de plus haut degré.\n",
        "\n",
        "    Le paramètre `eps` est l'erreur machine. (defaut : 2.22e-16)\n",
        "    \"\"\"\n",
        "    # VOTRE CODE ICI\n",
        "\n",
        "\n",
        "# VOTRE CODE ICI\n"
      ]
    }
  ],
  "metadata": {
    "colab": {
      "collapsed_sections": [],
      "provenance": [],
      "toc_visible": true
    },
    "kernelspec": {
      "display_name": "Python 3.10.7 ('.venv': venv)",
      "language": "python",
      "name": "python3"
    },
    "language_info": {
      "codemirror_mode": {
        "name": "ipython",
        "version": 3
      },
      "file_extension": ".py",
      "mimetype": "text/x-python",
      "name": "python",
      "nbconvert_exporter": "python",
      "pygments_lexer": "ipython3",
      "version": "3.10.7"
    },
    "orig_nbformat": 4,
    "vscode": {
      "interpreter": {
        "hash": "84c4cf9d41f4d3e2da903ac961d4ad71e131edb88617ebe46bd9d8fef2f82bcd"
      }
    }
  },
  "nbformat": 4,
  "nbformat_minor": 0
}
