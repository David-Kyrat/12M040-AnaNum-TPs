{
  "cells": [
    {
      "cell_type": "markdown",
      "metadata": {
        "id": "lRpNbyzUTP9b"
      },
      "source": [
        "# TP4 : Intégration numérique\n",
        "\n",
        "Dans ce TP, on étudiera comment mettre en œuvre des méthodes d'intégration numérique pratiques. On commencera par la formule de Newton-Cotes, qui utilise des nœuds uniformément espacés. On considèrera ensuite les polynômes de Legendre et la formule de quadrature de Gauss, qui est plus précise. Enfin, on examinera les formules de quadrature composées."
      ]
    },
    {
      "cell_type": "markdown",
      "metadata": {
        "id": "mmwEZxkFTP9p"
      },
      "source": [
        "## Exercice 1 : La formule de Newton-Cotes\n",
        "\n",
        "On rappelle que pour les nœuds $a\\leq c_1<c_2<\\ldots<c_s\\leq b$, la formule de quadrature est donnée par\n",
        "$$\n",
        "    \\int_a^b\\! f(x)\\, \\mathrm{d}x \\approx \\sum_{i=1}^s f(c_i) w_i \\;,\n",
        "$$\n",
        "où les poids $w_i$ et les polynômes de Lagrange $\\ell_i$ sont donnés par\n",
        "$$\n",
        "    w_i = \\int_{a}^b\\! \\ell_i(t)\\,\\mathrm{d}t,\\qquad \\ell_i(t) = \\prod_{j=1,j\\neq i}^s \\frac{t-c_j}{c_i-c_j} \\;.\n",
        "$$\n",
        "Ceci se déduit de l'approximation de l'intégrale $\\int_a^b f(x)\\,\\mathrm{d}x$ en approximant d'abord $f$ par un polynôme $p(t)$ de degré $s-1$ en utilisant l'interpolation dans les noeuds $(c_1,\\dots,c_s)$, puis en utilisant $\\int_a^bf(x)\\,\\mathrm{d}x\\approx\\int_a^bp(x)\\,\\mathrm{d}x$."
      ]
    },
    {
      "cell_type": "markdown",
      "metadata": {
        "id": "Ncpi7TBsTP9q"
      },
      "source": [
        "### Exercice 1a)\n",
        "> Implémenter une fonction `quadrature_poids(a, b, c_liste)` qui prend en entrée le domaine d'intégration $[a, b]$ et les noeuds d'interpolation `c_liste = [c1, ..., cs]` et calcule les poids de quadrature $w_i$ définis ci-dessus.\n",
        ">\n",
        "> Vous devez d'abord implémenter la fonction `lagrange_poly(i, c_liste)` qui calcule les coefficients du polynôme de Lagrange $\\ell_i$ définis ci-dessus.\n",
        "----\n",
        "\n",
        "Les fonctions suivantes peuvent vous être utiles :\n",
        "- `np.prod(a)` donne le produit de toutes les entrées d'un array `a`. Par exemple, `np.prod([2, 3, 4])` donne `12`.  \n",
        "- `np.poly(racines)` donne les coefficients d'un polynôme dont les racines sont données par `racines`. Par exemple, `np.poly([-1, 0, 1])` donne `[1, 0, -1, 0]` ce qui correspond au polynôme $x^3-x=(x+1)x(x-1)$.  \n",
        "- `np.polyint(coeff)` donne les coefficients de l'intégrale $q(t) = \\int_0^t\\!p(x)\\,\\mathrm{d}x$ où les coefficients de $p(t)$ sont donnés par `coeff`.  \n",
        "- `np.polyval(coeff, x)` évalue en `x` le polynôme dont les coefficients sont donnés par `coeff`. Ici, `x` peut être une valeur unique ou un array de valeurs."
      ]
    },
    {
      "cell_type": "code",
      "execution_count": null,
      "metadata": {
        "id": "Zlig3GjETP9r"
      },
      "outputs": [],
      "source": [
        "import numpy as np\n",
        "\n",
        "\n",
        "def lagrange_poly(i, c_liste):\n",
        "    \"\"\"\n",
        "    Polynôme de Lagrange pour le i-ième point pour les noeuds `c_liste`.\n",
        "\n",
        "    Renvoie le polynôme sous la forme d'un array numpy de coefficients.\n",
        "    \"\"\"\n",
        "    # Si c_liste a une longueur de un, renvoier le polynôme constant 1\n",
        "    if len(c_liste) == 1:\n",
        "        return np.array([1.0])\n",
        "\n",
        "    # VOTRE CODE ICI\n",
        "\n",
        "\n",
        "def quadrature_poids(a, b, c_liste):\n",
        "    \"\"\"\n",
        "    Poids de Newton-Cotes pour les noeuds `c_liste` sur l'intervalle [a, b].\n",
        "\n",
        "    Renvoie les poids de quadrature sous forme d'un array numpy.\n",
        "    \"\"\"\n",
        "    # VOTRE CODE ICI\n"
      ]
    },
    {
      "cell_type": "code",
      "execution_count": null,
      "metadata": {
        "id": "SZAVYEefTP9s"
      },
      "outputs": [],
      "source": [
        "def test_lagrange_poly():\n",
        "    assert np.allclose(\n",
        "        lagrange_poly(0, np.array([0, 0.5, 1])), np.array([2, -3, 1])\n",
        "    ), \"La fonction lagrange_poly ne fonctionne pas correctement\"\n",
        "    assert np.allclose(\n",
        "        lagrange_poly(1, np.array([0, 0.5, 1])), np.array([-4, 4, 0])\n",
        "    ), \"La fonction lagrange_poly ne fonctionne pas correctement\"\n",
        "\n",
        "    poly10 = lagrange_poly(4, np.linspace(-1, 1, 10))\n",
        "    assert poly10.shape == (10,), \"La polynôme n'a pas le bon degré\"\n",
        "    assert (\n",
        "        np.abs(np.sum(poly10)) < 1e-14\n",
        "    ), \"La somme des coefficients doit être nulle pour un liste de noeuds symétriques\"\n",
        "    assert lagrange_poly(0, [1]) == np.array(\n",
        "        [1]\n",
        "    ), \"Si c_liste est de longueur 1, la fonction doit retourner un polynôme constant\"\n",
        "\n",
        "\n",
        "test_lagrange_poly()\n",
        "\n",
        "\n",
        "def test_quadrature_poids():\n",
        "    from scipy.special import roots_legendre\n",
        "\n",
        "    assert np.allclose(\n",
        "        quadrature_poids(0, 1, np.array([0.5])), np.array([1])\n",
        "    ), \"newton_cotes_poids ne fonctionne pas pour les noeuds [0.5] (regle point milieu)\"\n",
        "    assert np.allclose(\n",
        "        quadrature_poids(0, 1, np.array([0, 1])), np.array([0.5, 0.5])\n",
        "    ), \"newton_cotes_poids ne fonctionne pas pour les noeuds [0,1] (regle trapèze)\"\n",
        "    assert np.allclose(\n",
        "        quadrature_poids(0, 1, np.array([0, 0.5, 1])),\n",
        "        np.array([1 / 6, 2 / 3, 1 / 6]),\n",
        "    ), \"newton_cotes_poids ne fonctionne pas pour les noeuds [0,0.5,1] (regle de Simpson)\"\n",
        "\n",
        "    assert np.allclose(\n",
        "        quadrature_poids(-3, 3, np.array([-1, 0, 1])), np.array([9, -12, 9])\n",
        "    ), \"newton_cotes_poids ne fonctionne pas pour les noeuds [-1,0,1]  sur [-3,3]\"\n",
        "    assert np.allclose(\n",
        "        quadrature_poids(-12, 3, np.array([-10, -5, 0, 1])),\n",
        "        np.array([4.52045455, 5.175, 1.725, 3.57954545]),\n",
        "    ), \"newton_cotes_poids ne fonctionne pas pour les noeuds [-10,-5,0,1]  sur [-12,3]\"\n",
        "\n",
        "    for i in [2.5, 10]:\n",
        "        racines, poids = roots_legendre(10)\n",
        "        assert np.allclose(\n",
        "            quadrature_poids(-1, 1, racines), poids\n",
        "        ), \"newton_cotes_poids ne fonctionne pas pour les noeuds de Legendre\"\n",
        "\n",
        "\n",
        "test_quadrature_poids()\n"
      ]
    },
    {
      "cell_type": "markdown",
      "metadata": {
        "id": "yQIeMvFoTP9u"
      },
      "source": [
        "### Exercise 1b)\n",
        "La manière la plus simple de choisir des nœuds est de considerer la partition uniforme $a\\leq c_1<\\cdots c_s\\leq b$ où $c_1=a$, $c_s=b$ et $|c_i-c_{i+1}|=h$ pour tout $i$. \n",
        "(Si $s=1$ alors $c_1=(a+b)/2$ à la place). Cela conduit à la formule de la quadrature de Newton-Cotes.\n",
        "\n",
        "---\n",
        "> Implémentez la fonction `newton_cotes(f, a, b, s)` qui approxime $\\int_a^b f(x)\\,\\mathrm{d}x$ en utilisant la formule de quadrature en `s` étages avec des noeuds uniformément espacés.\n",
        "---"
      ]
    },
    {
      "cell_type": "code",
      "execution_count": null,
      "metadata": {
        "id": "yfACRpk5TP9u"
      },
      "outputs": [],
      "source": [
        "def newton_cotes(f, a, b, s):\n",
        "    \"\"\"\n",
        "    Approxime l'integrale de `f` de `a` à `b` en utilisant la formule de\n",
        "    quadrature en `s` étages avec des noeuds uniformément espacés.\n",
        "    \"\"\"\n",
        "    # VOTRE CODE ICI\n"
      ]
    },
    {
      "cell_type": "code",
      "execution_count": null,
      "metadata": {
        "id": "I6b4mQKZTP9u"
      },
      "outputs": [],
      "source": [
        "def test_newton_cotes():\n",
        "    assert (\n",
        "        abs(newton_cotes(lambda x: x**2, 0, 1, 3) - 1 / 3) < 1e-12\n",
        "    ), \"La formule de Newton-Cotes de degré 3 ne fonctionne pas correctement pour f(x) = x**2\"\n",
        "    assert (\n",
        "        abs(newton_cotes(lambda x: x**2, 0, 1, 2) - 1 / 2) < 1e-12\n",
        "    ), \"La formule de Newton-Cotes de degré 3 ne fonctionne pas correctement pour f(x) = x**2\"\n",
        "    assert (\n",
        "        abs(newton_cotes(lambda x: x**3, 0, 1, 3) - 1 / 4) < 1e-12\n",
        "    ), \"La formule de Newton-Cotes de degré 3 ne fonctionne pas correctement pour f(x) = x**3\"\n",
        "    assert (\n",
        "        abs(newton_cotes(lambda x: x**3, -2, 1, 3) + 3.75) < 1e-12\n",
        "    ), \"La formule de Newton-Cotes de degré 3 ne fonctionne pas correctement pour f(x) = x**3\"\n",
        "\n",
        "    assert (\n",
        "        abs(newton_cotes(np.cos, -2, 1, 3) - 1.8172428584412441) < 1e-12\n",
        "    ), \"La formule de Newton-Cotes de degré 3 ne fonctionne pas correctement pour f(x) = cos(x)\"\n",
        "\n",
        "\n",
        "test_newton_cotes()\n"
      ]
    },
    {
      "cell_type": "markdown",
      "metadata": {
        "id": "9yC3RKn_TP9v"
      },
      "source": [
        "Nous traçons ci-dessous l'erreur absolue de la formule de Newton-Cotes pour $f(x)=\\sin(x)$ sur $[0, 4]$ et $f(x) = 1/(1+x^2)$ sur $[-5, 5]$."
      ]
    },
    {
      "cell_type": "code",
      "execution_count": null,
      "metadata": {
        "id": "Pj6FzYKwTP9v",
        "outputId": "34e392fd-8d0f-4eff-90d0-fbd810bfc27f"
      },
      "outputs": [],
      "source": [
        "import matplotlib.pyplot as plt\n",
        "\n",
        "\n",
        "def plot_newton_cotes(f, f_int_vrais, a, b, s_list, title=None):\n",
        "    errors = []\n",
        "    for s in s_list:\n",
        "        approx = newton_cotes(f, a, b, s)\n",
        "        errors.append(np.abs(f_int_vrais - approx))\n",
        "    plt.plot(s_list, errors, \"-o\")\n",
        "    plt.xlabel(\"Nombre d'étages de la formule ($s$)\")\n",
        "    plt.ylabel(\"Erreur absolue\")\n",
        "    plt.yscale(\"log\")\n",
        "    plt.grid()\n",
        "    plt.xticks(s_list)\n",
        "    plt.title(title)\n",
        "    plt.show()\n",
        "\n",
        "\n",
        "plot_newton_cotes(\n",
        "    np.sin,\n",
        "    1 - np.cos(4),\n",
        "    0,\n",
        "    4,\n",
        "    np.arange(2, 21),\n",
        "    title=r\"Erreur de quadrature pour $\\int_0^4 \\sin(x) \\mathrm{d}x$\",\n",
        ")\n",
        "\n",
        "\n",
        "def fonction_runge(x):\n",
        "    return 1 / (1 + x**2)\n",
        "\n",
        "\n",
        "plot_newton_cotes(\n",
        "    fonction_runge,\n",
        "    2 * np.arctan(5),\n",
        "    -5,\n",
        "    5,\n",
        "    np.arange(2, 21),\n",
        "    title=r\"Erreur de quadrature pour $\\int_{-5}^51/(1+x^2) \\mathrm{d}x$\",\n",
        ")\n"
      ]
    },
    {
      "cell_type": "markdown",
      "metadata": {
        "id": "6iU4fmHoTP9w"
      },
      "source": [
        "> **Réflexion** : Vous devriez observer que pour $\\sin(x)$, l'erreur absolue diminue avec l'ordre d'intégration jusqu'à environ $s=14$, puis recommence à augmenter rapidement. Pourquoi cela se produit-il ?\n",
        "\n",
        "\n",
        "> **Réflexion** : La formule de Newton-Cotes donne des résultats très imprécis pour la fonction de Runge $f(x)=1/(1+x^2)$. Pourquoi cela se produit-il ?\n"
      ]
    },
    {
      "cell_type": "markdown",
      "metadata": {
        "id": "qG2MdXi6TP9w"
      },
      "source": [
        "## Exercice 2: Polynômes de Legendre et formules de quadrature de Gauss\n",
        "\n",
        "On rappelle que les polynômes de Legendre $P_k$ pour $k\\geq 1$ forment un système orthogonal de polynômes sur l'intervalle $[-1,1]$ par rapport au produit scalaire\n",
        "$$\n",
        "    \\langle f,\\,g\\rangle := \\int_{-1}^1\\!f(\\tau)\\cdot g(\\tau)\\,\\mathrm{d}\\tau \\;.\n",
        "$$\n",
        "On normalise les polynômes de telle sorte que $P_k(1)=1$. En utilisant le théorème 4.10, on peut calculer les polynômes de Legendre en utilisant les relations de récurrence suivantes :\n",
        "$$\n",
        "    P_0(\\tau) = 1,\\quad P_1(\\tau)=\\tau,\n",
        "$$\n",
        "$$\n",
        "    (k+1)P_{k+1}(\\tau)=(2k+1)\\tau P_k(\\tau)-k P_{k-1}(\\tau) \\;.\n",
        "$$"
      ]
    },
    {
      "cell_type": "markdown",
      "metadata": {
        "id": "Hpdx82SbTP9w"
      },
      "source": [
        "### Exercice 2a)\n",
        "> Implémentez la fonction `legendre_coeff(k)` qui retourne les coefficients des `k` premiers polynômes de Legendre $(P_0,\\dots,P_{k-1})$ sous forme de matrice $k\\times k$. Utilisez la relation de récurrence ci-dessus. La $i$-ième ligne correspond à $P_{i}$ et la $j$-ième colonne correspond au coefficient de $x^{k-j-1}$.\n",
        "---\n",
        "Vous pouvez utiliser `np.polymul` pour calculer le produit de deux polynômes à partir de leurs coefficients, et `np.polyadd` pour ajouter deux polynômes. Notez également que vous pouvez multiplier des polynômes par un scalaire en manipulant directement les coefficients."
      ]
    },
    {
      "cell_type": "code",
      "execution_count": null,
      "metadata": {
        "id": "uec_R1K0TP9x"
      },
      "outputs": [],
      "source": [
        "def legendre_coeff(k):\n",
        "    \"\"\"\n",
        "    Renvoie une matrice contenant les coefficients des k premiers polynômes de\n",
        "    Legendre.\n",
        "    \"\"\"\n",
        "    # VOTRE CODE ICI\n"
      ]
    },
    {
      "cell_type": "code",
      "execution_count": null,
      "metadata": {
        "id": "F0kQATRWTP9x"
      },
      "outputs": [],
      "source": [
        "def test_legendre_coeff():\n",
        "    from scipy.special import legendre\n",
        "\n",
        "    for k in range(1, 10):\n",
        "        coeff_mat = legendre_coeff(k)\n",
        "        assert coeff_mat.shape == (\n",
        "            k,\n",
        "            k,\n",
        "        ), \"legendre_coeff ne retourne pas une matrice de la bonne taille\"\n",
        "        for j in range(k):\n",
        "            leg = np.array(legendre(j))\n",
        "            assert np.allclose(\n",
        "                legendre(j), coeff_mat[j, -j - 1 :]\n",
        "            ), f\"legendre_coeff ne fonctionne pas pour k = {k}\"\n",
        "\n",
        "\n",
        "test_legendre_coeff()\n"
      ]
    },
    {
      "cell_type": "markdown",
      "metadata": {
        "id": "pUvq2jn1TP9x"
      },
      "source": [
        "### Exercise 2b)\n",
        "\n",
        "Au lieu d'utiliser des nœuds uniformément espacés dans la formule de quadrature, on peut utiliser les nœuds donnés par les racines des polynômes de Legendre. C'est-à-dire qu'on a $-1< c_1< \\cdots< c_s < 1$ avec $P_s(c_k) = 0$.\n",
        "\n",
        "---\n",
        "> Implémenter la fonction `legendre_poids(s)` qui renvoie les racines de $P_s$ et les poids de quadrature correspondant à ces racines.\n",
        "---\n",
        "\n"
      ]
    },
    {
      "cell_type": "code",
      "execution_count": null,
      "metadata": {
        "id": "l-Hgue0NTP9x"
      },
      "outputs": [],
      "source": [
        "def legendre_poids(s):\n",
        "    \"\"\"Calcule les racines de polynôme de Legendre et les poids de quadrature de\n",
        "    Gauss-Legendre pour s étages.\n",
        "\n",
        "    Renvoie un tuple `(racines, poids)` où `racines` et `poids` sont des numpy\n",
        "    arrays avec taille `s`.\"\"\"\n",
        "\n",
        "    # VOTRE CODE ICI\n"
      ]
    },
    {
      "cell_type": "code",
      "execution_count": null,
      "metadata": {
        "id": "DEEI7OuNTP9y"
      },
      "outputs": [],
      "source": [
        "def test_legendre_poids():\n",
        "    from scipy.special import roots_legendre\n",
        "\n",
        "    for k in [2, 5, 10]:\n",
        "        racines1, poids1 = legendre_poids(k)\n",
        "        racines2, poids2 = roots_legendre(k)\n",
        "        assert len(racines1) == len(\n",
        "            racines2\n",
        "        ), \"legendre_poids ne retourne pas le bon nombre de racines\"\n",
        "        assert len(poids1) == len(\n",
        "            poids2\n",
        "        ), \"legendre_poids ne retourne pas le bon nombre de poids\"\n",
        "        assert np.allclose(\n",
        "            np.argsort(racines1), np.arange(k)\n",
        "        ), \"legendre_poids ne retourne pas les racines dans le bon ordre\"\n",
        "        assert np.allclose(\n",
        "            racines1, racines2\n",
        "        ), \"legendre_poids ne retourne pas les bonnes racines\"\n",
        "        assert np.allclose(\n",
        "            poids1, poids2\n",
        "        ), \"legendre_poids ne retourne pas les bons poids\"\n",
        "\n",
        "\n",
        "test_legendre_poids()\n"
      ]
    },
    {
      "cell_type": "markdown",
      "metadata": {
        "id": "cuBrfThETP9y"
      },
      "source": [
        "### Exercise 2c)\n",
        "> Implémentez la fonction `quadrature_gauss(f, a, b, s)` qui approxime l'intégrale $\\int_{a}^bf(x)\\,\\mathrm{d}x$ en utilisant la règle de quadrature de Gauss d'ordre $s$ (c'est-à-dire en utilisant les noeuds et les poids que vous venez de calculer en 2b)).\n",
        "---\n",
        "\n",
        "Si vous n'avez pas réussi à résoudre 2a) et 2b), alors vous pouvez utiliser `racines, poids = scipy.special.roots_legendre(s)` au lieu d'utiliser la fonction `legendre_poids`."
      ]
    },
    {
      "cell_type": "code",
      "execution_count": null,
      "metadata": {
        "id": "zU4yAf9UTP9y"
      },
      "outputs": [],
      "source": [
        "from scipy.special import roots_legendre\n",
        "\n",
        "\n",
        "def quadrature_gauss(f, a, b, s):\n",
        "    \"\"\"\n",
        "    Approximer l'intégrale de f de a à b par la formule de Gauss en s étages.\n",
        "    \"\"\"\n",
        "    # VOTRE CODE ICI\n"
      ]
    },
    {
      "cell_type": "code",
      "execution_count": null,
      "metadata": {
        "id": "4FhkKnibTP9y"
      },
      "outputs": [],
      "source": [
        "def test_qaudrature_gauss():\n",
        "    assert (\n",
        "        abs(quadrature_gauss(lambda x: x**2, 0, 1, 3) - 1 / 3) < 1e-12\n",
        "    ), \"La formule de Gauss à 3 étages ne fonctionne pas correctement pour f(x) = x**2\"\n",
        "    assert (\n",
        "        abs(quadrature_gauss(lambda x: x**2, 0, 1, 2) - 1 / 3) < 1e-12\n",
        "    ), \"La formule de Gauss à 2 étages ne fonctionne pas correctement pour f(x) = x**2\"\n",
        "    assert (\n",
        "        abs(quadrature_gauss(lambda x: x**3, 0, 1, 3) - 1 / 4) < 1e-12\n",
        "    ), \"La formule de Gauss à 3 étages ne fonctionne pas correctement pour f(x) = x**3\"\n",
        "    assert (\n",
        "        abs(quadrature_gauss(lambda x: x**3, -2, 1, 3) + 3.75) < 1e-12\n",
        "    ), \"La formule de Gauss à 3 étages ne fonctionne pas correctement pour f(x) = x**3\"\n",
        "\n",
        "    assert (\n",
        "        abs(quadrature_gauss(np.cos, -2, 1, 3) - 1.751656940673832) < 1e-12\n",
        "    ), \"La formule de Gauss à 3 étages ne fonctionne pas correctement pour f(x) = cos(x)\"\n",
        "\n",
        "\n",
        "test_qaudrature_gauss()\n"
      ]
    },
    {
      "cell_type": "markdown",
      "metadata": {
        "id": "5_30LmyITP9y"
      },
      "source": [
        "On trace ci-dessous l'erreur absolue de la formule de quadrature de Gauss pour les mêmes fonctions que précédemment."
      ]
    },
    {
      "cell_type": "code",
      "execution_count": null,
      "metadata": {
        "id": "SibkMYZfTP9z",
        "outputId": "387221b0-bc06-4a7b-a4f9-1788338d628d"
      },
      "outputs": [],
      "source": [
        "def plot_quadrature_gauss(f, f_int_true, a, b, s_list, title=None):\n",
        "    errors = []\n",
        "    for s in s_list:\n",
        "        approx = quadrature_gauss(f, a, b, s)\n",
        "        errors.append(np.abs(f_int_true - approx))\n",
        "    plt.plot(s_list, errors, \"-o\")\n",
        "    plt.xlabel(\"Nombre d'étages de la formule ($s$)\")\n",
        "    plt.ylabel(\"Erreur absolue\")\n",
        "    plt.yscale(\"log\")\n",
        "    plt.grid()\n",
        "    plt.xticks(s_list)\n",
        "    plt.title(title)\n",
        "    plt.show()\n",
        "\n",
        "\n",
        "plot_quadrature_gauss(\n",
        "    np.sin,\n",
        "    1 - np.cos(4),\n",
        "    0,\n",
        "    4,\n",
        "    np.arange(2, 21),\n",
        "    title=r\"Erreur de quadrature pour $\\int_0^4 \\sin(x) \\mathrm{d}x$\",\n",
        ")\n",
        "\n",
        "true_integral = 2 * np.arctan(5)\n",
        "\n",
        "\n",
        "def fonction_runge(x):\n",
        "    return 1 / (1 + x**2)\n",
        "\n",
        "\n",
        "plot_quadrature_gauss(\n",
        "    fonction_runge,\n",
        "    true_integral,\n",
        "    -5,\n",
        "    5,\n",
        "    np.arange(2, 21),\n",
        "    title=r\"Erreur de quadrature pour $\\int_{-5}^51/(1+x^2) \\mathrm{d}x$\",\n",
        ")\n"
      ]
    },
    {
      "cell_type": "markdown",
      "metadata": {
        "id": "Ple0qk-wTP9z"
      },
      "source": [
        "> **Réflexion** : L'erreur de la formule de quadrature de Gauss est-elle meilleure ou pire que celle de Newton-Cotes ? Pourquoi ?\n",
        "\n",
        "> **Réflexion** : Comparez le tracé ci-dessus en utilisant `scipy.special.roots_legendre` et `legendre_poids`. Vous pouvez constater qu'en utilisant la fonction `scipy`, nous obtenons de bien meilleurs résultats pour les degrés supérieurs. Comment cela se fait-il ?\n"
      ]
    },
    {
      "cell_type": "markdown",
      "metadata": {
        "id": "rjd_YSmYTP90"
      },
      "source": [
        "## Exercise 3: Formules de quadrature composées\n",
        "\n",
        "Un moyen simple d'améliorer la précision d'une méthode de quadrature consiste à diviser d'abord le domaine d'intégration en sous-intervalles. Autrement dit, on subdivise $[a,b] = [c_0,c_1]\\sqcup[c_1,c_2]\\sqcup [c_{N-1},c_N]$, et on calcule\n",
        "$$\n",
        "    \\int_{a}^b f(x)\\,\\mathrm dx = \\sum_{i=1}^N \\int_{c_{i-1}}^{c_i}f(x)\\mathrm dx \\;.\n",
        "$$\n",
        "Chaque intégrale de la somme est ensuite approchée par quadrature. Ceci est particulièrement utile pour intégrer des fonctions difficiles à interpoler à l'aide de polynômes, comme la fonction de Runge. \n",
        "\n",
        "---\n",
        "> Implémenter la fonction `quadrature_composee(f, a, b, s, N)` qui approxime $\\int_{a}^bf(x)\\,\\mathrm{d}x$ en appliquant la formule de qaudrature de Gauss avec $s$ étages avec $N$ sous-intervalles uniformément espacés. \n",
        "---\n",
        "\n",
        "Plutôt que d'utiliser la fonction `quadrature_gauss(f, a, b, s)` de l'exercice 2c), vous pouvez utiliser la fonction `scipy` `scipy.integrate.fixed_quad` qui fait la même chose, mais qui peut être plus précise. Vous pouvez utiliser cette fonction comme suit :\n",
        "```\n",
        "    val, _ = fixed_quad(f, a, b, n=s)\n",
        "```"
      ]
    },
    {
      "cell_type": "code",
      "execution_count": null,
      "metadata": {
        "id": "m0lrprzJTP90"
      },
      "outputs": [],
      "source": [
        "from scipy.integrate import fixed_quad\n",
        "\n",
        "\n",
        "def quadrature_composee(f, a, b, s, N):\n",
        "    \"\"\"\n",
        "    Approximer l'intégrale de `f` de `a` à `b` en utilisant une subdivision\n",
        "    uniforme.\n",
        "\n",
        "    L'intervalle d'intégration est divisé en N sous-intervalles de même\n",
        "    longueur. L'intégrale sur chaque sous-intervalle est approximée en utilisant\n",
        "    la formule de quadrature de Gauss.\n",
        "    \"\"\"\n",
        "    # VOTRE CODE ICI\n"
      ]
    },
    {
      "cell_type": "markdown",
      "metadata": {
        "id": "9gJ1D7WWTP90"
      },
      "source": [
        "Vous pouvez utiliser les graphiques ci-dessous pour vérifier que votre implémentation fonctionne correctement. Ce graphique représente l'erreur absolue pour les mêmes fonctions que ci-dessous. Pour comparer correctement les formules composées avec différentes valeurs de $s$, nous utilisons le nombre d'évaluations de la fonction sur l'axe $x$ plutôt que le nombre $N$ de subdivisions."
      ]
    },
    {
      "cell_type": "code",
      "execution_count": null,
      "metadata": {
        "id": "ObSSxey_TP90",
        "outputId": "d9180b06-a296-428b-f50e-5f2f9cbf814f"
      },
      "outputs": [],
      "source": [
        "def plot_quadrature_composee(f, f_int_true, a, b, N_list, s_list, title=None):\n",
        "    for s in s_list:\n",
        "        errors = []\n",
        "        for N in N_list:\n",
        "            approx = quadrature_composee(f, a, b, s, N)\n",
        "            errors.append(np.max([np.abs(f_int_true - approx), 1e-16]))\n",
        "        plt.plot(N_list * s, errors, \"-o\", label=f\"{s}\")\n",
        "    plt.xlabel(\"Nombre de evaluations de $f$\")\n",
        "    plt.ylabel(\"Erreur absolue\")\n",
        "    plt.loglog()\n",
        "    plt.grid()\n",
        "    plt.title(title)\n",
        "    plt.legend(title=\"Nombre d'étages ($s$)\")\n",
        "    plt.show()\n",
        "\n",
        "\n",
        "odres = [2, 3, 5, 9, 15]\n",
        "plot_quadrature_composee(\n",
        "    np.sin,\n",
        "    1 - np.cos(4),\n",
        "    0,\n",
        "    4,\n",
        "    np.arange(2, 21),\n",
        "    odres,\n",
        "    title=r\"Erreur de quadrature pour $\\int_0^4 \\sin(x) \\mathrm{d}x$\",\n",
        ")\n",
        "\n",
        "plot_quadrature_composee(\n",
        "    fonction_runge,\n",
        "    true_integral,\n",
        "    -5,\n",
        "    5,\n",
        "    np.arange(2, 21),\n",
        "    odres,\n",
        "    title=r\"Erreur de quadrature pour $\\int_{-5}^51/(1+x^2) \\mathrm{d}x$\",\n",
        ")\n"
      ]
    },
    {
      "cell_type": "markdown",
      "metadata": {
        "id": "j9xlUqTETP90"
      },
      "source": [
        "> **Réflexion:** Est-il toujours avantageux d'utiliser un plus grand nombre d'étapes pour la quadrature ? \n"
      ]
    }
  ],
  "metadata": {
    "colab": {
      "collapsed_sections": [],
      "provenance": [],
      "toc_visible": true
    },
    "kernelspec": {
      "display_name": "Python 3.9.0 ('tensors')",
      "language": "python",
      "name": "python3"
    },
    "language_info": {
      "codemirror_mode": {
        "name": "ipython",
        "version": 3
      },
      "file_extension": ".py",
      "mimetype": "text/x-python",
      "name": "python",
      "nbconvert_exporter": "python",
      "pygments_lexer": "ipython3",
      "version": "3.9.0"
    },
    "orig_nbformat": 4,
    "vscode": {
      "interpreter": {
        "hash": "53e3584a94e8c7d99898d4a2cb47bea56236d638682d6d87741bc73b63e7db14"
      }
    }
  },
  "nbformat": 4,
  "nbformat_minor": 0
}
