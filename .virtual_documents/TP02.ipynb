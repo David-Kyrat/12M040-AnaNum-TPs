import matplotlib.pyplot as plt
import numpy as np


def max_deviation(f, g, a, b):
    """Renvoie la déviation maximale de f sur [a,b] par rapport à g"""
    # VOTRE CODE ICI
    nb_points = 1000
    def_set = np.linspace(a, b, num=nb_points)
    return np.max([np.abs(f(x) - g(x)) for x in def_set])



def test_max_deviation():
    f = np.sin
    g = np.cos
    max_dev = max_deviation(f, g, 0, np.pi)
    assert max_dev > 0, "La valeur de max_deviation doit être positive."
    error = np.abs(max_dev - np.sqrt(2))
    assert error < 1e-2, "La valeur de max_deviation n'est pas correcte."
    assert error < 1e-6, "Rendre votre méthode plus précise."

    def sin_taylor(x):
        """Renvoie l'expansion de Taylor de degré 9 de sin(x) autour de x=0"""
        return x - x**3 / 6 + x**5 / 120 - x**7 / 5040 + x**9 / 362880

    error = (
        max_deviation(np.sin, sin_taylor, -np.pi, np.pi) - 0.006925270707505013
    )
    assert error < 1e-6, "Rendre votre méthode plus précise."


test_max_deviation()


from scipy.interpolate import BarycentricInterpolator


def f(x):
    return 1 / (1 + x**2)


n_noeuds = 4
noeuds = np.linspace(-1, 1, n_noeuds)
valeurs = f(noeuds)
poly = BarycentricInterpolator(noeuds, valeurs)

plot_x = np.linspace(-1, 1, 100)
plot_y = poly(plot_x)
plt.plot(plot_x, plot_y, label="Interpolation")
plt.plot(plot_x, f(plot_x), label="Original")
plt.plot(noeuds, valeurs, "o", label="Noeuds")
plt.legend()
plt.show()


def interpolation_error_equidistant(f, a, b, n):
    """
    Calcule l'erreur d'interpolation de degré n de f sur l'intervalle [a,b]
    en utilisant des noeuds équidistants.
    """
    nodes = np.linspace(a, b, n)
    yis = f(nodes)
    xs = np.linspace(a, b, num=1000)
    poly = BarycentricInterpolator(nodes, yis)
    return max_deviation(f, poly(xs), a, b)

    # VOTRE CODE ICI


def test_interpolation_error_equidistant():
    error4 = interpolation_error_equidistant(np.sin, -1, 1, 4)
    error9 = interpolation_error_equidistant(np.sin, -1, 1, 9)
    assert error4 > 0, "L'erreur doit être positive"
    assert error9 > 0, "L'erreur doit être positive"
    assert error4 > error9, "L'erreur devrait diminuer avec n pour les petits n"
    error4_correct = 0.0009031431406134605
    assert (
        abs(error4 - error4_correct) / error4_correct < 1e-2
    ), "L'erreur n'est pas correcte"
    error9_correct = 2.902040829866337e-10
    assert (
        abs(error9 - error9_correct) / error9_correct < 1e-2
    ), "L'erreur n'est pas correcte"

    error19 = interpolation_error_equidistant(np.exp, 5, 10, 19)
    assert (
        1e-06 > error19 > 1e-10
    ), "Assurez-vous que vous prenez correctement en compte l'intervalle [a,b]."


test_interpolation_error_equidistant()


plt.figure(figsize=(10, 5))
plt.title("Tracé de l'erreur d'interpolation pour $f(x) = \exp(x)$ sur [-1,1].")

results = []
n_vals = np.arange(2, 31)
for n in n_vals:
    results.append(interpolation_error_equidistant(np.exp, -1, 1, n))
plt.plot(n_vals, results, "o-")

plt.xticks(n_vals)
plt.yscale("log")
plt.grid()
plt.xlabel("Degré n du polynôme d'interpolation")


def chebyshev_noeuds(a, b, n):
    """Renvoie les n noeuds de Chebyshev sur [a,b]"""
    # VOTRE CODE ICI


def interpolation_error_chebyshev(f, a, b, n):
    """
    Calcule l'erreur d'interpolation de degré n de f sur l'intervalle [a,b] en
    utilisant des noeuds de Chebyshev.
    """
    # VOTRE CODE ICI


def test_interpolation_error_chebyshev():
    error4 = interpolation_error_chebyshev(np.sin, -1, 1, 4)
    error9 = interpolation_error_chebyshev(np.sin, -1, 1, 9)
    assert error4 > 0, "L'erreur doit être positive"
    assert error9 > 0, "L'erreur doit être positive"
    assert error4 > error9, "L'erreur devrait diminuer avec n pour les petits n"
    error4_correct = 0.0005043855644989437
    error9_correct = 4.784317386707926e-11
    assert (
        abs(error4 - error4_correct) / error4_correct < 1e-2
    ), "L'erreur n'est pas correcte"
    assert (
        abs(error9 - error9_correct) / error9_correct < 1e-2
    ), "L'erreur n'est pas correcte"

    error19 = interpolation_error_chebyshev(np.exp, 5, 10, 19)
    assert (
        1e-08 > error19 > 1e-12
    ), "Assurez-vous que vous prenez correctement en compte l'intervalle [a,b]."


test_interpolation_error_chebyshev()


plt.figure(figsize=(10, 5))
plt.title("Tracé de l'erreur d'inrepolation pour $f(x) = \exp(x)$ sur [-1,1].")

errors = []
n_vals = np.arange(2, 31)
for n in n_vals:
    errors.append(interpolation_error_equidistant(np.exp, -1, 1, n))
plt.plot(n_vals, errors, "o-", label="Equidistant")

errors = []
n_vals = np.arange(2, 31)
for n in n_vals:
    errors.append(interpolation_error_chebyshev(np.exp, -1, 1, n))
plt.plot(n_vals, errors, "o-", label="Chebyshev")

plt.xticks(n_vals)
plt.yscale("log")
plt.xlabel("Degré n du polynôme d'interpolation")
plt.grid()
plt.legend()
plt.show()


from sympy.abc import x

poly = x**2 + 15 * x - 1
poly


import sympy

sympy.diff(poly, x)


import sympy
from sympy.abc import x

poly = x**10 - x**5 + 16
poly_der2 = sympy.diff(poly, x, 2)  # deuxième dérivée
f = sympy.lambdify(x, poly_der2, "numpy")  # convertir en fonction numpy
f(np.linspace(-1, 1, 10))


def nder(expr, n):
    """Calcule la nième dérivée de expr comme fonction numpy"""
    # VOTRE CODE ICI


def b_equidistant(f, a, b, n):
    """
    Calcule les bornes d'erreur pour l'interpolation de Lagrange équidistante.

     - L'interpolation est effectuée sur l'intervalle [a,b].
     - f est une expression sympy
     - n est le degré du polynôme d'interpolation
    """
    # VOTRE CODE ICI


def b_chebyshev(f, a, b, n):
    """
    Calcule les bornes d'erreur pour l'interpolation de Lagrange Chebyshev.

     - L'interpolation est effectuée sur l'intervalle [a,b].
     - f est une expression sympy
     - n est le degré du polynôme d'interpolation
    """
    # VOTRE CODE ICI


def test_nder():
    from sympy.abc import x

    poly = x**2 + 15 * x - 1
    x_samples = np.linspace(-1, 1, 10)
    deriv1 = nder(poly, 1)
    assert np.allclose(
        deriv1(x_samples), 2 * x_samples + 15
    ), "La dérivée n'est pas correcte"
    deriv2 = nder(poly, 2)
    assert np.allclose(
        deriv2(x_samples), 2 * np.ones_like(x_samples)
    ), "La dérivée n'est pas correcte"
    deriv3 = nder(poly, 3)
    assert np.allclose(
        deriv3(x_samples), np.zeros_like(x_samples)
    ), "La dérivée n'est pas correcte"

    func = sympy.sin(x)
    deriv101 = nder(func, 101)
    assert np.allclose(
        deriv101(x_samples), np.cos(x_samples)
    ), "La dérivée n'est pas correcte"


def test_b_equidistant():
    expr = sympy.sin(x) ** 2
    error = b_equidistant(expr, -1, 1, 5)
    assert error > 0, "L'erreur doit être positive"
    correct_error = 0.005461333332241047
    assert (
        abs(error - correct_error) / correct_error < 1e-2
    ), "L'erreur n'est pas correcte"

    expr = sympy.cos(x) - 2 * sympy.sin(x)
    error = b_equidistant(expr, -np.pi, np.pi, 7)
    assert error > 0, "L'erreur doit être positive"
    correct_error = 0.02944351467839892
    assert (
        abs(error - correct_error) / correct_error < 1e-2
    ), "L'erreur n'est pas correcte"


def test_b_chebyshev():
    expr = sympy.sin(x) ** 2
    error = b_chebyshev(expr, -1, 1, 5)
    assert error > 0, "L'erreur doit être positive"
    correct_error = 0.0013888888886111055
    assert (
        abs(error - correct_error) / correct_error < 1e-2
    ), "L'erreur n'est pas correcte"

    expr = sympy.cos(x) - 2 * sympy.sin(x)
    error = b_chebyshev(expr, -np.pi, np.pi, 7)
    assert error > 0, "L'erreur doit être positive"
    correct_error = 0.004111056926946459
    assert (
        abs(error - correct_error) / correct_error < 1e-2
    ), "L'erreur n'est pas correcte"


test_nder()
test_b_equidistant()
test_b_chebyshev()


def interpolation_error_comparison(expr, a, b, n_max):
    plt.figure(figsize=(10, 5))
    func_numpy = sympy.lambdify(x, expr, "numpy")
    n_vals = np.arange(1, n_max)

    # Equidistant
    erreurs_vrais = []
    erreurs_theoriques = []
    for n in n_vals:
        erreurs_vrais.append(
            interpolation_error_equidistant(func_numpy, -1, 1, n)
        )
        erreurs_theoriques.append(b_equidistant(expr, -1, 1, n))
    plt.plot(n_vals, erreurs_vrais, "-", c="r", label="Equidistant")
    plt.plot(n_vals, erreurs_theoriques, "--", c="r", label="$b_{equi}$")

    # Chebyshev
    erreurs_vrais = []
    erreurs_theoriques = []
    for n in n_vals:
        erreurs_vrais.append(
            interpolation_error_chebyshev(func_numpy, -1, 1, n)
        )
        erreurs_theoriques.append(b_chebyshev(expr, -1, 1, n))
    plt.plot(n_vals, erreurs_vrais, "-", c="b", label="Chebyshev")
    plt.plot(n_vals, erreurs_theoriques, "--", c="b", label="$b_{Cheby}$")

    plt.title(f"Erreurs d'interpolation pour $f(x) = {sympy.latex(expr)}$")
    x_ticks = n_vals
    if len(x_ticks) > 25:
        x_ticks = x_ticks[:: len(x_ticks) // 20]
    plt.xticks(x_ticks)
    plt.yscale("log")
    plt.xlabel("Degré n du polynôme d'interpolation")
    plt.legend()
    plt.grid()


interpolation_error_comparison(sympy.exp(x), -1, 1, 20)


# VOTRE CODE ICI


# VOTRE CODE ICI


import numpy as np

A = np.linspace(-1, 1, 10)
A.dtype


A = np.linspace(-1, 1, 10, dtype=np.float32)
print(A.dtype)

A = np.linspace(-1, 1, 10).astype(np.float32)
print(A.dtype)


A = np.linspace(-1, 1, 11)
print(A)
A.astype(np.int32)


f64_info = np.finfo(np.float64)
f64_info.eps


# VOTRE CODE ICI


mantisse, exposant = np.frexp(10.0)
print(f"Mantisse: {mantisse}, exposant: {exposant}")
mantisse * 2**exposant


# VOTRE CODE ICI


print(1.00 / 2.00)
nombre_grand = 10.0**308
print((1.00 * nombre_grand) / (2.00 * nombre_grand))


from scipy.special import comb


def formule_naive(k, n):
    """
    Calcule le kième terme de la formule (*)

    - n est un nombre entier positif
    - k est soit un entier positif, soit un array numpy d'entiers positifs, tous
      inférieurs ou égaux à n.
    """
    return comb(n, k) / 2**n


n = 100
np.sum(formule_naive(np.arange(n + 1), n))


from scipy.special import loggamma


def log_comb(n, k):
    """
    Calcul du logarithme du coefficient binomial

    - n est un nombre entier positif
    - k est soit un entier positif, soit un array numpy d'entiers positifs, tous
      inférieurs ou égaux à n.
    """
    # VOTRE CODE ICI


def formule_bon(k, n):
    """
    Calcule le kième terme de la formule (*)

    - n est un nombre entier positif
    - k est soit un entier positif, soit un array numpy d'entiers positifs, tous
      inférieurs ou égaux à n.
    """
    # VOTRE CODE ICI


n = 10_000
np.sum(formule_bon(np.arange(n + 1), n))  # devrait être environ 1.0


def test_formule_bon():
    n = 20
    assert np.allclose(
        formule_bon(np.arange(n + 1), n), formule_naive(np.arange(n + 1), n)
    ), "formule_bon ne donne pas le même résultat que formule_naive"

    n = 10_000
    s = np.sum(formule_bon(np.arange(n + 1), n))
    assert abs(s - 1) < 1e-6, "formule_bon ne donne pas la bonne somme"

    assert (
        abs(formule_bon(100_000, 200_000) - 0.0017841218869290864) < 1e-6
    ), "formule_bon ne donne pas la bonne valeur pour k=100_000, n=200_000"

    assert (
        abs(np.sum(formule_bon(np.arange(5001), 10_000)) - 0.5039893230697347)
        < 1e-6
    ), "formule_bon ne donne pas la bonne somme pour n=10_000"


test_formule_bon()


def quotient_sterling(n):
    """
    Calcule le logarithme de quotient de deux côtés de la formule de Sterling
    """
    if isinstance(n, np.ndarray):
        n = n.astype(np.int64)  # on s'assure que n est un entier

    # VOTRE CODE ICI


# VOTRE CODE ICI POUR LE GRAPHIQUE
