{
 "cells": [
  {
   "attachments": {},
   "cell_type": "markdown",
   "metadata": {},
   "source": [
    "# TP7: Décomposition QR\n",
    "\n",
    "La décomposition QR est une décomposition centrale en analyse numérique. Elle est principalement utilisée pour trouver une base de l'image d'une matrice, mais elle est aussi utilisée pour résoudre des systèmes linéaires, pour calculer les valeurs propres d'une matrice, etc.\n",
    "\n",
    "Au programme de ce TP:\n",
    "- Introduction à la décomposition QR\n",
    "  - Fonctions de numpy et scipy\n",
    "  - Propriétés de la décomposition QR\n",
    "- Algorithmes de décomposition QR\n",
    "  - Gram-Schmidt\n",
    "  - Gram-Schmidt modifié\n",
    "  - Householder\n",
    "- Stabilité numérique des algorithmes\n",
    "- Application à la résolution de systèmes linéaires\n",
    "- Bonus: Algorithme de Givens"
   ]
  },
  {
   "attachments": {},
   "cell_type": "markdown",
   "metadata": {},
   "source": [
    "## Échauffement: Introduction à la décomposition QR\n",
    "\n",
    "Commençons par nous familiariser avec la décomposition QR. \n",
    "\n",
    "La décomposition QR d'une matrice $A$ est une décomposition de la forme \n",
    "$$A = QR$$ \n",
    "où $Q$ est une matrice orthogonale et $R$ est une matrice triangulaire supérieure.\n",
    "\n",
    "Les deux principaux packages de Python pour le calcul scientifique sont `numpy` et `scipy`. Chaque package contient des fonctions pour calculer la décomposition QR. \n",
    "- Pour numpy, la fonction est `numpy.linalg.qr`. La documentation est disponible [ici](https://docs.scipy.org/doc/numpy/reference/generated/numpy.linalg.qr.html).\n",
    "- Pour scipy, la fonction est `scipy.linalg.qr`. La documentation est disponible [ici](https://docs.scipy.org/doc/scipy/reference/generated/scipy.linalg.qr.html).\n",
    "\n",
    "Comme vous pouvez le voir dans la documentation, `scipy` offre plus de possibilités que `numpy`. Nous l'utiliserons donc pour ce TP."
   ]
  },
  {
   "attachments": {},
   "cell_type": "markdown",
   "metadata": {},
   "source": [
    "### Exercice 0.1\n",
    "\n",
    "Après avoir importé numpy et scipy, générez une matrice aléatoire $A$ de taille $4 \\times 3$ et calculez la décomposition QR de $A$ avec la fonction `scipy.linalg.qr`. Affichez les matrices $Q$ et $R$.\n",
    "\n",
    "Comparez les résultats en ajoutant l'argument `mode='economic'` à la fonction `scipy.linalg.qr`. Quelle est la différence entre les deux décompositions?\n"
   ]
  },
  {
   "cell_type": "code",
   "execution_count": null,
   "metadata": {},
   "outputs": [],
   "source": [
    "import numpy as np\n",
    "import scipy as sp\n",
    "# VOTRE CODE ICI\n"
   ]
  },
  {
   "attachments": {},
   "cell_type": "markdown",
   "metadata": {},
   "source": [
    "### Exercice 0.2\n",
    "\n",
    "Vérifiez les propriétés suivantes de la décomposition QR:\n",
    "- $A = QR$.\n",
    "- $Q$ est orthogonale.\n",
    "- $||A||_F = ||R||_F$."
   ]
  },
  {
   "cell_type": "code",
   "execution_count": null,
   "metadata": {},
   "outputs": [],
   "source": [
    "# VOTRE CODE ICI\n"
   ]
  },
  {
   "attachments": {},
   "cell_type": "markdown",
   "metadata": {},
   "source": [
    "## Exercice 1: Algorithmes de décomposition QR\n",
    "\n",
    "Le but de cet exercice est d'implémenter soi-même les différents algorithmes de décomposition QR vus en cours."
   ]
  },
  {
   "attachments": {},
   "cell_type": "markdown",
   "metadata": {},
   "source": [
    "### Exercice 1.1: Méthode de Gram-Schmidt\n",
    "\n",
    "Implémentez une fonction `GramSchmidt` qui prend en argument une matrice $A$ et qui renvoie la matrice $Q$ telle que $$A = QR,$$ où $Q$ est une matrice orthogonale et $R$ est une matrice triangulaire supérieure, au moyen de la procédure d'orthogonalisation de Gram-Schmidt. \n",
    "\n",
    "Voir l'algorithme 6.6 du polycopié.\n",
    "\n",
    "Comme lors de l'échauffement, testez votre code sur une matrice aléatoire de taille $4 \\times 3$ en vérifiant les propriétés de $Q$ et $R$, et $||A - QR||_2$.\n"
   ]
  },
  {
   "cell_type": "code",
   "execution_count": null,
   "metadata": {},
   "outputs": [],
   "source": [
    "def GramSchmidt(A):\n",
    "    \"\"\"\n",
    "    Décomposition QR de A par la méthode de Gram-Schmidt classique (non stable).\n",
    "\n",
    "    Entrées\n",
    "    -------\n",
    "    A : ndarray\n",
    "        Matrice de taille m x n. (m >= n)\n",
    "\n",
    "    Sorties\n",
    "    -------\n",
    "    Q : ndarray\n",
    "        Matrice orthogonale de taille m x n.\n",
    "    R : ndarray\n",
    "        Matrice triangulaire supérieure de taille n x n.\n",
    "    \"\"\"\n",
    "    m, n = A.shape\n",
    "    Q = np.zeros((m,n))\n",
    "    R = np.zeros((n,n))\n",
    "    # VOTRE CODE ICI\n",
    "    \n",
    "    return Q, R\n"
   ]
  },
  {
   "cell_type": "code",
   "execution_count": null,
   "metadata": {},
   "outputs": [],
   "source": [
    "# VOTRE TEST ICI\n",
    "\n",
    "\n"
   ]
  },
  {
   "cell_type": "code",
   "execution_count": null,
   "metadata": {},
   "outputs": [],
   "source": [
    "# TEST AUTOMATIQUE\n",
    "from numpy.testing import assert_allclose\n",
    "from numpy.random import randn\n",
    "from tqdm import tqdm\n",
    "\n",
    "all_m = np.linspace(10, 100, 10, dtype=int)\n",
    "all_n = np.linspace(10, 100, 10, dtype=int)\n",
    "\n",
    "for m, n in tqdm(zip(all_m, all_n)):\n",
    "    if m < n:\n",
    "        continue\n",
    "    A = randn(m, n)\n",
    "    Q, R = GramSchmidt(A)\n",
    "    # Check that A = QR\n",
    "    assert_allclose(A, Q @ R, atol=1e-10, err_msg=\"A != QR\")\n",
    "    # Note: with Gram-Schmidt, Q is not necessarily orthogonal\n",
    "\n",
    "print(\"Tests automatiques passés avec succès.\")"
   ]
  },
  {
   "attachments": {},
   "cell_type": "markdown",
   "metadata": {},
   "source": [
    "### Exercice 1.2: Décomposition QR par la méthode de Gram-Schmidt modifiée\n",
    "\n",
    "Similairement à la question précédente, écrire une fonction `GramSchmidtMod` qui utilise la méthode de Gram-Schmidt modifiée.\n",
    "\n",
    "Voir l'Algorithme 6.7 du polycopié.\n",
    "\n",
    "Comme précédemment, testez simplement votre code sur une matrice $4 \\times 3$. \n",
    "Nous verrons dans l'exercice 1.4 que la méthode de Gram-Schmidt modifiée est plus stable numériquement que la méthode de Gram-Schmidt."
   ]
  },
  {
   "cell_type": "code",
   "execution_count": null,
   "metadata": {},
   "outputs": [],
   "source": [
    "def GramSchmidtMod(A):\n",
    "    \"\"\"\n",
    "    Décomposition QR de A par la méthode de Gram-Schmidt modifiée (stable).\n",
    "\n",
    "    Entrées\n",
    "    -------\n",
    "    A : ndarray\n",
    "        Matrice de taille m x n. (m >= n)\n",
    "\n",
    "    Sorties\n",
    "    -------\n",
    "    Q : ndarray\n",
    "        Matrice orthogonale de taille m x n.\n",
    "    R : ndarray\n",
    "        Matrice triangulaire supérieure de taille n x n.\n",
    "    \"\"\"\n",
    "    m, n = A.shape\n",
    "    Q = np.zeros((m,n))\n",
    "    R = np.zeros((n,n))\n",
    "    # VOTRE CODE ICI\n",
    "    \n",
    "    return Q, R\n"
   ]
  },
  {
   "cell_type": "code",
   "execution_count": null,
   "metadata": {},
   "outputs": [],
   "source": [
    "# VOTRE TEST ICI\n",
    "\n",
    "\n"
   ]
  },
  {
   "cell_type": "code",
   "execution_count": null,
   "metadata": {},
   "outputs": [],
   "source": [
    "# TEST AUTOMATIQUE\n",
    "from numpy.testing import assert_allclose\n",
    "from numpy.random import randn\n",
    "from tqdm import tqdm\n",
    "\n",
    "all_m = np.linspace(10, 100, 10, dtype=int)\n",
    "all_n = np.linspace(10, 100, 10, dtype=int)\n",
    "\n",
    "for m, n in tqdm(zip(all_m, all_n)):\n",
    "    if m < n:\n",
    "        continue\n",
    "    A = randn(m, n)\n",
    "    Q, R = GramSchmidtMod(A)\n",
    "    # Check that A = QR\n",
    "    assert_allclose(A, Q @ R, atol=1e-10, err_msg=\"A != QR\")\n",
    "    # Note: with modified Gram-Schmidt, Q is not necessarily orthogonal\n",
    "\n",
    "print(\"Tests automatiques passés avec succès.\")"
   ]
  },
  {
   "attachments": {},
   "cell_type": "markdown",
   "metadata": {},
   "source": [
    "### Exercice 1.3: Décomposition QR par la méthode de Householder\n",
    "\n",
    "Écrire une fonction `Householder` qui calcule la décomposition QR d'une matrice $A$ par la méthode de Householder.\n",
    "\n",
    "Voir l'algorithme 6.11 du polycopié.\n",
    "\n",
    "Dans cet algorithme, la mise à jour de $R$ est donnée par \n",
    "$$R_{k:m,k} = R_{k:m,k} - 2 v_k (v_k^T R_{k:m,k}).$$\n",
    "Similairement, on peut obtenir (comment?) que la mise à jour de $Q$ est donnée par\n",
    "$$Q_{k,k:m} = Q_{k,k:m} - 2 v_k (v_k^T Q_{k,k:m}).$$\n"
   ]
  },
  {
   "cell_type": "code",
   "execution_count": null,
   "metadata": {},
   "outputs": [],
   "source": [
    "def Householder(A):\n",
    "    \"\"\"\n",
    "    Décomposition QR de A par la méthode de Householder.\n",
    "\n",
    "    Entrées\n",
    "    -------\n",
    "    A : ndarray\n",
    "        Matrice de taille m x n. (m >= n)\n",
    "\n",
    "    Sorties\n",
    "    -------\n",
    "    Q : ndarray\n",
    "        Matrice orthogonale de taille m x n.\n",
    "    R : ndarray\n",
    "        Matrice triangulaire supérieure de taille n x n.\n",
    "    \"\"\"\n",
    "    m, n = A.shape\n",
    "    Q = np.eye(m)\n",
    "    R = A.copy()\n",
    "    # VOTRE CODE ICI\n",
    "    \n",
    "    return Q, R"
   ]
  },
  {
   "cell_type": "code",
   "execution_count": null,
   "metadata": {},
   "outputs": [],
   "source": [
    "# VOTRE TEST ICI\n"
   ]
  },
  {
   "cell_type": "code",
   "execution_count": null,
   "metadata": {},
   "outputs": [],
   "source": [
    "# TEST AUTOMATIQUE\n",
    "from numpy.testing import assert_allclose\n",
    "from numpy.random import randn\n",
    "from tqdm import tqdm\n",
    "\n",
    "all_m = np.linspace(10, 100, 10, dtype=int)\n",
    "all_n = np.linspace(10, 100, 10, dtype=int)\n",
    "\n",
    "for m, n in tqdm(zip(all_m, all_n)):\n",
    "    if m < n:\n",
    "        continue\n",
    "    A = randn(m, n)\n",
    "    Q, R = Householder(A)\n",
    "    # Check that A = QR\n",
    "    assert_allclose(A, Q @ R, atol=1e-10, err_msg=\"A != QR\")\n",
    "    # Check that Q is orthogonal\n",
    "    assert_allclose(Q.T @ Q, np.eye(Q.shape[1]), atol=1e-10, err_msg=\"Q is not orthogonal\")\n",
    "\n",
    "print(\"Tests automatiques passés avec succès.\")\n"
   ]
  },
  {
   "attachments": {},
   "cell_type": "markdown",
   "metadata": {},
   "source": [
    "## Exercice 2 : Stabilité numérique"
   ]
  },
  {
   "attachments": {},
   "cell_type": "markdown",
   "metadata": {},
   "source": [
    "Dans cet exercice, nous allons comparer la stabilité numérique des différents algorithmes de décomposition QR. Plus particulièrement, nous allons étudier l'orthogonalité des matrices $Q$ obtenues. Si ces matrices ne sont pas orthogonales, c'est suffisant pour montrer que la méthode correspondante n'est pas numériquement stable.\n",
    "\n",
    "Pour cela, nous allons utiliser des matrices particulières. Pour $n=5$, la matrice de Frank $F_5$ est définie par $$F_5 = \\begin{pmatrix} 1 & 1 & 1 & 1 & 1 \\\\ 1 & 2 & 2 & 2 & 2 \\\\ 0 & 2 & 3 & 3 & 3 \\\\ 0 & 0 & 3 & 4 & 4 \\\\ 0 & 0 & 0 & 4 & 5 \\end{pmatrix}.$$\n",
    "\n",
    "Le code ci-dessous permet de générer une matrice de Frank de taille $n \\times n$.\n",
    "\n",
    "Fixons $n=50$. Pour comparer les méthodes, considérons les matrices $$A_{50} = F_{50} + \\alpha I_{50}, \\quad \\text{ où } \\alpha \\in [1, 10].$$\n"
   ]
  },
  {
   "cell_type": "code",
   "execution_count": null,
   "metadata": {},
   "outputs": [],
   "source": [
    "def generate_Frank(n):\n",
    "    \"\"\"\n",
    "    Génère la matrice de Frank de taille n x n.\n",
    "    \"\"\"\n",
    "    F = np.zeros((n,n))\n",
    "    for i in np.arange(n):\n",
    "        for j in np.arange(n):\n",
    "            if j < i-1:\n",
    "                F[i,j] = 0\n",
    "            elif j == i-1:\n",
    "                F[i,j] = i\n",
    "            else:\n",
    "                F[i,j] = i + 1\n",
    "    return F\n",
    "\n",
    "# Matrice de Frank de taille 5 x 5\n",
    "F = generate_Frank(5)\n",
    "print(\"F = \\n\", F)\n",
    "\n",
    "# Paramètres\n",
    "n = 50\n",
    "list_alpha = np.linspace(1, 10, 100)\n",
    "Fn = generate_Frank(n)\n",
    "In = np.eye(n)\n",
    "\n",
    "# Boucle sur alpha\n",
    "cond_A = np.zeros_like(list_alpha)\n",
    "for i, alpha in enumerate(list_alpha):\n",
    "    A = Fn + alpha * In\n",
    "    cond_A[i] = np.linalg.cond(A)\n",
    "\n",
    "# Plot du conditionnement en fonction de alpha\n",
    "import matplotlib.pyplot as plt\n",
    "plt.figure()\n",
    "plt.semilogy(list_alpha, cond_A)\n",
    "plt.grid()\n",
    "plt.xlabel(r\"$\\alpha$\")\n",
    "plt.xlim(list_alpha[0], list_alpha[-1])\n",
    "plt.ylabel(r\"Conditionnement de $A$\")\n",
    "plt.show()"
   ]
  },
  {
   "attachments": {},
   "cell_type": "markdown",
   "metadata": {},
   "source": [
    "Comme on peut le voir sur le graphique ci-dessus, la conditionnement de la matrice $A_{50}$ est très élevé. Par conséquent, si l'on utilise une méthode de décomposition QR non stable, les erreurs d'arrondi peuvent se propager et conduire à des résultats faussés. "
   ]
  },
  {
   "attachments": {},
   "cell_type": "markdown",
   "metadata": {},
   "source": [
    "### Exercice 2.1 : Stabilité numérique\n",
    "\n",
    "Pour plusieurs valeurs $\\alpha \\in [1, 10]$:\n",
    "- Calculez la décomposition QR de $A_{50}$ avec les méthodes implémentées dans les exercices précédents et la fonction `scipy.linalg.qr`.\n",
    "- Pour chaque méthode, tracez $||Q^T Q - I_{50}||_1$ en fonction de $\\alpha$. \n",
    "- Commentez les résultats.\n",
    "\n",
    "Indication: Utilisez une échelle logarithmique pour l'axe des ordonnées avec `plt.semilogy`."
   ]
  },
  {
   "cell_type": "code",
   "execution_count": null,
   "metadata": {},
   "outputs": [],
   "source": [
    "# Paramètres\n",
    "n = 50\n",
    "nb_alpha = 100\n",
    "list_alpha = np.linspace(1, 10, nb_alpha)\n",
    "Fn = generate_Frank(n)\n",
    "In = np.eye(n)\n",
    "\n",
    "# Boucle sur alpha\n",
    "err_ref = np.zeros_like(list_alpha)\n",
    "err_gm = np.zeros_like(list_alpha)\n",
    "err_gmm = np.zeros_like(list_alpha)\n",
    "err_h = np.zeros_like(list_alpha)\n",
    "for i, alpha in enumerate(list_alpha):\n",
    "    A = Fn + alpha * In\n",
    "\n",
    "    # Reference\n",
    "    Q_ref, R_ref = sp.linalg.qr(A)\n",
    "    err_ref[i] = np.linalg.norm(In - Q_ref.T @ Q_ref, ord=1)\n",
    "\n",
    "    # VOTRE CODE ICI\n",
    "\n",
    "# Plot\n",
    "from matplotlib import pyplot as plt\n",
    "fig = plt.figure(figsize=(12, 6))\n",
    "plt.semilogy(list_alpha, err_ref, label=\"Référence (scipy)\")\n",
    "plt.semilogy(list_alpha, err_gm, label=\"Gram-Schmidt\")\n",
    "plt.semilogy(list_alpha, err_gmm, label=\"Gram-Schmidt modifié\")\n",
    "plt.semilogy(list_alpha, err_h, label=\"Householder\")\n",
    "plt.grid()\n",
    "plt.xlabel(r\"$\\alpha$\")\n",
    "plt.xlim(list_alpha[0], list_alpha[-1])\n",
    "plt.ylabel(r\"$||I - Q^T Q||_1$\")\n",
    "plt.legend()\n",
    "plt.show()\n"
   ]
  },
  {
   "attachments": {},
   "cell_type": "markdown",
   "metadata": {},
   "source": [
    "*Votre réponse ici*\n",
    "\n",
    "\n"
   ]
  },
  {
   "attachments": {},
   "cell_type": "markdown",
   "metadata": {},
   "source": [
    "## Exercice 3: Application à la résolution de systèmes linéaires"
   ]
  },
  {
   "attachments": {},
   "cell_type": "markdown",
   "metadata": {},
   "source": [
    "La décomposition QR peut être utilisée pour résoudre des systèmes linéaires. En effet,\n",
    "$$A x = b \\iff QR x = b \\iff R x = Q^T b.$$\n",
    "De plus, comme $R$ est triangulaire supérieure, on peut résoudre le système $Rx = y$ facilement (voir TP5). On pourra utiliser la fonction `scipy.linalg.solve_triangular` pour cela.\n",
    "\n",
    "### Exercice 3.1\n",
    "\n",
    "Écrire une fonction `QRsolve` qui prend en argument une matrice $A$ et un vecteur $b$ et qui renvoie la solution du système $Ax = b$. Utiliser l'argument `mode` pour choisir la méthode de décomposition QR à utiliser.\n"
   ]
  },
  {
   "cell_type": "code",
   "execution_count": null,
   "metadata": {},
   "outputs": [],
   "source": [
    "def QRsolve(A, b, mode):\n",
    "    \"\"\"\n",
    "    Résolution du système linéaire Ax = b par la méthode QR.\n",
    "    \"\"\"\n",
    "    # VOTRE CODE ICI\n",
    "\n"
   ]
  },
  {
   "attachments": {},
   "cell_type": "markdown",
   "metadata": {},
   "source": [
    "### Exercice 3.2\n",
    "\n",
    "Testez votre méthode avec les trois algorithmes sur le système linéaire suivant:\n",
    "\n",
    "$$A = \\begin{pmatrix} 2 & 1 & 3 \\\\ 2 & 6 & 8 \\\\ 6 & 8 & 18 \\end{pmatrix}, \\quad b = \\begin{pmatrix} 2 \\\\ 3 \\\\ 1 \\end{pmatrix}.$$\n",
    "\n",
    "La solution exacte est $x = \\begin{pmatrix} \\frac{12}{5} & \\frac{17}{10} & -\\frac{3}{2} \\end{pmatrix}^T$."
   ]
  },
  {
   "cell_type": "code",
   "execution_count": null,
   "metadata": {},
   "outputs": [],
   "source": [
    "# Données\n",
    "A = np.array([[2, 1, 3], [2, 6, 8], [6, 8, 18]], dtype=float)\n",
    "b = np.array([2, 3, 1], dtype=float)\n",
    "x_ref = np.array([12/5, 17/10, -3/2], dtype=float)\n",
    "\n",
    "# VOTRE CODE ICI\n",
    "\n"
   ]
  },
  {
   "attachments": {},
   "cell_type": "markdown",
   "metadata": {},
   "source": [
    "### Exercice 3.3\n",
    "\n",
    "Pour $n=50$, considérons le système linéaire $$A_{50} x = b_{50},$$ où $A_{50}$ est la matrice de Frank de taille $50 \\times 50$ et $b_{50}$ est un vecteur aléatoire de taille $50$.\n",
    "\n",
    "- Que fait le code ci-dessous?\n",
    "- Éditez le code pour comparer les trois méthodes de décomposition QR implémentées pour résoudre les systèmes linéaires.\n",
    "- Commentez les résultats."
   ]
  },
  {
   "cell_type": "code",
   "execution_count": null,
   "metadata": {},
   "outputs": [],
   "source": [
    "# Paramètres\n",
    "n = 50\n",
    "np.random.seed(0)\n",
    "b = np.random.randn(n)\n",
    "list_alpha = np.linspace(3, 20, 100)\n",
    "\n",
    "# Initialisation\n",
    "cond_A = np.zeros_like(list_alpha)\n",
    "forward_err_gm = np.zeros_like(list_alpha)\n",
    "forward_err_gmm = np.zeros_like(list_alpha)\n",
    "forward_err_h = np.zeros_like(list_alpha)\n",
    "forward_err_scipy = np.zeros_like(list_alpha)\n",
    "\n",
    "# Boucle sur alpha\n",
    "for i, alpha in enumerate(list_alpha):\n",
    "    A = Fn + alpha * In\n",
    "    cond_A[i] = np.linalg.cond(A)\n",
    "\n",
    "    # Reference\n",
    "    x_ref = np.linalg.solve(A, b)\n",
    "\n",
    "    # Gram-Schmidt\n",
    "    x_gm = # VOTRE CODE ICI\n",
    "    forward_err_gm[i] = np.linalg.norm(x_ref - x_gm, 2) / np.linalg.norm(x_ref, 2)\n",
    "\n",
    "    # Gram-Schmidt modifié\n",
    "    x_gmm = # VOTRE CODE ICI\n",
    "    forward_err_gmm[i] = np.linalg.norm(x_ref - x_gmm, 2) / np.linalg.norm(x_ref, 2)\n",
    "\n",
    "    # Householder\n",
    "    x_h = # VOTRE CODE ICI\n",
    "    forward_err_h[i] = np.linalg.norm(x_ref - x_h, 2) / np.linalg.norm(x_ref, 2)\n",
    "\n",
    "    # Scipy\n",
    "    x_scipy = # VOTRE CODE ICI\n",
    "    forward_err_scipy[i] = np.linalg.norm(x_ref - x_scipy, 2) / np.linalg.norm(x_ref, 2)\n",
    "\n",
    "\n",
    "# Plot\n",
    "from matplotlib import pyplot as plt\n",
    "fig = plt.figure(figsize=(12, 6))\n",
    "\n",
    "plt.subplot(121)\n",
    "plt.semilogy(list_alpha, cond_A, label=\"Conditionnement\")\n",
    "plt.grid()\n",
    "plt.xlabel(r\"$\\alpha$\")\n",
    "plt.xlim(list_alpha[0], list_alpha[-1])\n",
    "plt.ylabel(r\"$\\kappa(A)$\")\n",
    "plt.legend()\n",
    "\n",
    "plt.subplot(122)\n",
    "plt.semilogy(list_alpha, forward_err_gm, label=\"Gram-Schmidt\")\n",
    "plt.semilogy(list_alpha, forward_err_gmm, label=\"Gram-Schmidt modifié\")\n",
    "plt.semilogy(list_alpha, forward_err_h, label=\"Householder\")\n",
    "plt.semilogy(list_alpha, forward_err_scipy, label=\"Scipy\")\n",
    "plt.grid()\n",
    "plt.xlabel(r\"$\\alpha$\")\n",
    "plt.xlim(list_alpha[0], list_alpha[-1])\n",
    "plt.ylabel(\"Forward error\")\n",
    "plt.legend()\n",
    "\n",
    "\n",
    "plt.show()\n",
    "\n"
   ]
  },
  {
   "attachments": {},
   "cell_type": "markdown",
   "metadata": {},
   "source": [
    "*Votre réponse ici*\n"
   ]
  },
  {
   "attachments": {},
   "cell_type": "markdown",
   "metadata": {},
   "source": [
    "## Exercice 4 (Bonus): Algorithme de Givens\n",
    "\n",
    "Dans la série 15, un exercice porte sur l'algorithme de Givens. Cet algorithme permet de calculer la décomposition QR d'une matrice $A$ en effectuant des rotations de Givens sur les colonnes de $A$.\n",
    "\n",
    "Dans certains cas, comme pour les matrices de Frank, l'algorithme de Givens est plus efficace que la méthode de Householder."
   ]
  },
  {
   "attachments": {},
   "cell_type": "markdown",
   "metadata": {},
   "source": [
    "### Exercice 4.1\n",
    "\n",
    "Comme dans la série 15, écrire une fonction `Givens_rotation` qui prend en argument deux scalaires $a$ et $b$ et qui renvoie la matrice de rotation de Givens correspondante."
   ]
  },
  {
   "cell_type": "code",
   "execution_count": null,
   "metadata": {},
   "outputs": [],
   "source": [
    "def Givens_rotation(a, b):\n",
    "    \"\"\"\n",
    "    Calcul de la matrice de rotation de Givens.\n",
    "    \"\"\"\n",
    "    # VOTRE CODE ICI\n",
    "    "
   ]
  },
  {
   "cell_type": "code",
   "execution_count": null,
   "metadata": {},
   "outputs": [],
   "source": [
    "# TEST AUTOMATIQUE\n",
    "from numpy.testing import assert_allclose\n",
    "# Cas b = 0\n",
    "c, s = Givens_rotation(1, 0)\n",
    "assert_allclose(c, 1, err_msg=\"Problème avec c lorsque b = 0\")\n",
    "assert_allclose(s, 0, err_msg=\"Problème avec s lorsque b = 0\")\n",
    "# Cas b > a\n",
    "c, s = Givens_rotation(1, 2)\n",
    "assert_allclose(s, 1 / np.sqrt(5/4), err_msg=\"Problème avec s lorsque b > a\")\n",
    "assert_allclose(c, - 1/2 * 1 / np.sqrt(5/4), err_msg=\"Problème avec c lorsque b > a\")\n",
    "# Cas b < a\n",
    "c, s = Givens_rotation(2, 1)\n",
    "assert_allclose(c, 1 / np.sqrt(5/4), err_msg=\"Problème avec c lorsque b < a\")\n",
    "assert_allclose(s, - 1/2 * 1 / np.sqrt(5/4), err_msg=\"Problème avec s lorsque b < a\")\n",
    "\n",
    "print(\"Tests passés avec succès !\")"
   ]
  },
  {
   "attachments": {},
   "cell_type": "markdown",
   "metadata": {},
   "source": [
    "### Exercice 4.2\n",
    "\n",
    "Écrire une fonction `Givens` qui calcule la décomposition QR d'une matrice $A$ par l'algorithme de Givens."
   ]
  },
  {
   "cell_type": "code",
   "execution_count": null,
   "metadata": {},
   "outputs": [],
   "source": [
    "def Givens(A):\n",
    "    \"\"\"\n",
    "    Décomposition QR par la méthode de Givens.\n",
    "    \"\"\"\n",
    "    m, n = A.shape\n",
    "    Q = np.eye(m)\n",
    "    R = A.copy()\n",
    "    # VOTRE CODE ICI\n",
    "    \n",
    "    return Q, R"
   ]
  },
  {
   "cell_type": "code",
   "execution_count": null,
   "metadata": {},
   "outputs": [],
   "source": [
    "# TEST AUTOMATIQUE\n",
    "from numpy.testing import assert_allclose\n",
    "from numpy.random import randn\n",
    "from tqdm import tqdm\n",
    "\n",
    "np.random.seed(0)\n",
    "all_m, all_n = 10 * np.random.randint(1, 10, size=(2, 100))\n",
    "\n",
    "for m, n in tqdm(zip(all_m, all_n)):\n",
    "    A = randn(m, n)\n",
    "    Q, R = Givens(A)\n",
    "    # Check that A = QR\n",
    "    assert_allclose(A, Q @ R, atol=1e-10, err_msg=\"A != QR\")\n",
    "    # Check that Q is orthogonal\n",
    "    assert_allclose(Q.T @ Q, np.eye(Q.shape[1]), atol=1e-10, err_msg=\"Q is not orthogonal\")\n",
    "\n",
    "print(\"Tests automatiques passés avec succès.\")"
   ]
  },
  {
   "attachments": {},
   "cell_type": "markdown",
   "metadata": {},
   "source": [
    "### Exercice 4.3\n",
    "\n",
    "Considérons la matrice $A_{50}$ de l'exercice 3, avec $\\alpha = 1$.\n",
    "\n",
    "- Comparer la stabilité numérique de la méthode de Householder et de l'algorithme de Givens en calculant $||Q^T Q - I_{50}||_1$.\n",
    "- Comparer le temps de calcul de chaque méthode avec la commande `%timeit`.\n",
    "\n",
    "**Remarque:** Le temps de calcul dépend de votre implémentation. Pour optimiser votre méthode, vous pouvez économiser des calculs en détectant les cas où $b = 0$."
   ]
  },
  {
   "cell_type": "code",
   "execution_count": null,
   "metadata": {},
   "outputs": [],
   "source": [
    "n = 50\n",
    "Fn = generate_Frank(n)\n",
    "In = np.eye(n)\n",
    "A = Fn + In\n",
    "\n",
    "# Stabilité numérique\n",
    "# VOTRE CODE ICI\n",
    "\n",
    "\n"
   ]
  },
  {
   "cell_type": "code",
   "execution_count": null,
   "metadata": {},
   "outputs": [],
   "source": [
    "# Temps de calcul\n",
    "print('Scipy:')\n",
    "%timeit sp.linalg.qr(A)\n",
    "# VOTRE CODE ICI"
   ]
  },
  {
   "cell_type": "code",
   "execution_count": null,
   "metadata": {},
   "outputs": [],
   "source": []
  }
 ],
 "metadata": {
  "kernelspec": {
   "display_name": "teaching",
   "language": "python",
   "name": "python3"
  },
  "language_info": {
   "codemirror_mode": {
    "name": "ipython",
    "version": 3
   },
   "file_extension": ".py",
   "mimetype": "text/x-python",
   "name": "python",
   "nbconvert_exporter": "python",
   "pygments_lexer": "ipython3",
   "version": "3.11.0"
  },
  "orig_nbformat": 4,
  "vscode": {
   "interpreter": {
    "hash": "112636ffc901f9de72bbe7266a0ede258d75bb786f9e0cb42dc192bccd4b68c6"
   }
  }
 },
 "nbformat": 4,
 "nbformat_minor": 2
}
