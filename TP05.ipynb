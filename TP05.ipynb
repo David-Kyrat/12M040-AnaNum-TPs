{
  "cells": [
    {
      "cell_type": "markdown",
      "metadata": {
        "id": "YA5RZgs0vgWY"
      },
      "source": [
        "# TP5 : Systèmes linéaires et stabilité numérique\n",
        "\n",
        "Dans ce TP, on étudiera les techniques de résolution de systèmes linéaires et on analysera leur stabilité numérique. On implémentera une telle méthode, basé sur la décomposition LU, qui sera stable et rapide. Ensuite on verra deux méthodes instables pour résoudre les systèmes linéaires : la règle de Cramer et le calcul direct de la matrice inverse. Enfin, on utilisera notre solveur pour résoudre l'équation de Poisson."
      ]
    },
    {
      "cell_type": "markdown",
      "metadata": {
        "id": "e4V7QwQqvgWa"
      },
      "source": [
        "## Exercice 1 : Utilisation de la factorisation LU pour résoudre des systèmes linéaires\n",
        "\n",
        "La factorisation LU peut être utilisée pour résoudre des systèmes linéaires. Soit $A$ une matrice carrée et $b$ un vecteur. On peut écrire $A = PLU$ où $P$ est une matrice de permutation, $L$ une matrice triangulaire inférieure et $U$ une matrice triangulaire supérieure. On peut donc résoudre le système linéaire $Ax = b$ en résolvant deux systèmes triangulaires. \n",
        "\n",
        "Un système triangulaire peut être résolu en utilisant la substitution, comme montré après l'équation (5.9) du polycopié. On peut toujours supposer que tous les éléments diagonaux des matrices $L$ et $U$ sont non nuls. \n",
        "\n",
        "\n",
        "### Exercice 1a)\n",
        "> Implémentez les fonctions `solve_triu` et `solve_tril` qui résolvent, respectivement, le système triangulaire supérieur $Ux = b$ et le système triangulaire inférieur $Ly = b$. \n",
        "---"
      ]
    },
    {
      "cell_type": "code",
      "execution_count": 2,
      "metadata": {
        "id": "YGcUb737vgWb"
      },
      "outputs": [],
      "source": [
        "import numpy as np\n",
        "\n",
        "\n",
        "def solve_triu(U, b):\n",
        "    \"\"\"\n",
        "    Résout Ux = b où U est carré et triangulaire supérieur.\n",
        "\n",
        "    On suppose que toutes les entrées diagonales de U sont différentes de zéro.\n",
        "    b est un vecteur.\n",
        "    \"\"\"\n",
        "    # VOTRE CODE ICI\n",
        "\n",
        "\n",
        "def solve_tril(L, b):\n",
        "    \"\"\"\n",
        "    Résout Ux = b où U est carré et triangulaire inférieur.\n",
        "\n",
        "    On suppose que toutes les entrées diagonales de U sont différentes de zéro.\n",
        "    b est un vecteur.\n",
        "    \"\"\"\n",
        "    # VOTRE CODE ICI\n"
      ]
    },
    {
      "cell_type": "code",
      "execution_count": 3,
      "metadata": {
        "id": "fldQAGfvvgWd"
      },
      "outputs": [],
      "source": [
        "def test_solve_triu_tril():\n",
        "    for n in (2, 5, 10):\n",
        "        A = np.random.normal(size=(n, n))\n",
        "        U = np.triu(A)\n",
        "        x_true = np.random.normal(size=n)\n",
        "        b = U @ x_true\n",
        "        x = solve_triu(U, b)\n",
        "        assert x.shape == (n,), \"x n'a pas la bonne taille pour solve_triu\"\n",
        "        assert np.linalg.norm(U @ x - b) < 1e-10, \"Ux != b pour solve_triu\"\n",
        "\n",
        "        L = np.tril(A)\n",
        "        x = solve_tril(L, b)\n",
        "        assert x.shape == (n,), \"x n'a pas la bonne taille pour solve_tril\"\n",
        "        assert np.linalg.norm(L @ x - b) < 1e-10, \"Ux != b pour solve_tril\"\n",
        "\n",
        "\n",
        "test_solve_triu_tril()\n"
      ]
    },
    {
      "cell_type": "markdown",
      "metadata": {
        "id": "BN47NRlPvgWe"
      },
      "source": [
        "On peut obtenir la factorisation LU d'une matrice en utilisant `scipy.linalg.lu`. La fonction renvoie la matrice de permutation $P$, la matrice triangulaire inférieure $L$ et la matrice triangulaire supérieure $U$ :"
      ]
    },
    {
      "cell_type": "code",
      "execution_count": 4,
      "metadata": {
        "colab": {
          "base_uri": "https://localhost:8080/"
        },
        "id": "2k79P_j9vgWe",
        "outputId": "9297cfb5-5584-410d-fb46-4579502c7d09"
      },
      "outputs": [
        {
          "name": "stdout",
          "output_type": "stream",
          "text": [
            "P = \n",
            " [[0. 1. 0.]\n",
            " [0. 0. 1.]\n",
            " [1. 0. 0.]]\n",
            "L = \n",
            " [[1.         0.         0.        ]\n",
            " [0.14285714 1.         0.        ]\n",
            " [0.57142857 0.5        1.        ]]\n",
            "U = \n",
            " [[7.         8.         9.        ]\n",
            " [0.         0.85714286 1.71428571]\n",
            " [0.         0.         0.        ]]\n",
            "P @ L @ U = \n",
            " [[1. 2. 3.]\n",
            " [4. 5. 6.]\n",
            " [7. 8. 9.]]\n"
          ]
        }
      ],
      "source": [
        "import scipy.linalg\n",
        "\n",
        "A = np.array([[1, 2, 3], [4, 5, 6], [7, 8, 9]])\n",
        "\n",
        "P, L, U = scipy.linalg.lu(A)\n",
        "print(\"P = \\n\", P)\n",
        "print(\"L = \\n\", L)\n",
        "print(\"U = \\n\", U)\n",
        "\n",
        "print(\"P @ L @ U = \\n\", P @ L @ U)\n"
      ]
    },
    {
      "cell_type": "markdown",
      "metadata": {
        "id": "EdNeDmxovgWf"
      },
      "source": [
        "### Exercice 1b)\n",
        "> Implémentez une fonction `solve_lu` qui résout un système linéaire $Ax = b$ en utilisant la factorisation LU de la forme $A=PLU$.\n",
        "> Utilisez les fonctions `solve_triu` et `solve_tril` pour résoudre les systèmes triangulaires.\n",
        "---\n",
        "\n",
        "_Si vous n'avez pas réussi à résoudre l'exercice 1a), vous pouvez utiliser les fonctions `scipy.linalg.solve_triangular(A, b, lower=False)` et `scipy.linalg.solve_triangular(A, b, lower=True)` pour résoudre respectivement un système triangulaire supérieur et inférieur._"
      ]
    },
    {
      "cell_type": "code",
      "execution_count": 5,
      "metadata": {
        "id": "i6LW05Y-vgWg"
      },
      "outputs": [],
      "source": [
        "import scipy.linalg\n",
        "\n",
        "\n",
        "def solve_lu(A, b):\n",
        "    \"\"\"\n",
        "    Résout Ax = b où A est un carré en utilisant la décomposition LU.\n",
        "\n",
        "    Retourne un vecteur x de même forme que b.\n",
        "    \"\"\"\n",
        "    P, L, U = scipy.linalg.lu(A)\n",
        "\n",
        "    # VOTRE CODE ICI\n"
      ]
    },
    {
      "cell_type": "code",
      "execution_count": 6,
      "metadata": {
        "id": "InqJm73bN6NF"
      },
      "outputs": [],
      "source": [
        "def test_solve_lu():\n",
        "    for n in range(1, 30):\n",
        "        A = np.random.normal(size=(n, n))\n",
        "        x_true = np.random.normal(size=n)\n",
        "        b = A @ x_true\n",
        "        x = solve_lu(A, b)\n",
        "        assert x.shape == (n,), \"x n'a pas la bonne taille pour solve_lu\"\n",
        "        assert np.linalg.norm(A @ x - b) < 1e-10, \"Ax != b pour solve_lu\"\n",
        "\n",
        "\n",
        "test_solve_lu()\n"
      ]
    },
    {
      "cell_type": "markdown",
      "metadata": {
        "id": "rWJlaR-mvgWg"
      },
      "source": [
        "> _À partir de maintenant, si vous n'avez pas réussi à résoudre l'exercice 1b), vous pouvez utiliser la fonction `np.linalg.solve` pour résoudre les systèmes linéaires au lieu de `solve_lu`._ "
      ]
    },
    {
      "cell_type": "markdown",
      "metadata": {
        "id": "8a3osZOfvgWh"
      },
      "source": [
        "## Exercice 2 : Règle de Cramer\n",
        "\n",
        "On peut résoudre les systèmes linéaires $Ax=b$ en utilisant la règle de Cramer\n",
        "$$\n",
        "    x_i = \\frac{\\det(A_i)}{\\det(A)}, \\quad i=1,\\dots,n\n",
        "$$\n",
        "où $A_i$ est la matrice obtenue à partir de $A$ en remplaçant la $i$-ième colonne par $b$. \n",
        "\n",
        "Pour utiliser cette méthode, il faut disposer d'un moyen efficace de calculer le déterminant d'une matrice. La formule combinatoire, ou l'expansion de Laplace, à laquelle vous êtes peut-être habitué lorsque vous calculez les déterminants à la main, est très coûteuse à calculer (elle coûte $O(n !)$ flops). À la place, on peut utiliser la factorisation LU pour calculer le déterminant d'une matrice. Si l'on écrit $A = PLU$, on a alors\n",
        "$$\n",
        "    \\det(A) = \\det(P)\\det(L)\\det(U).\n",
        "$$\n",
        "Il est facile de vérifier à partir de la définition que le déterminant d'une matrice triangulaire est simplement le produit des entrées diagonales. Le déterminant d'une matrice de permutation dépend de la parité de la permutation et est soit $1$ (paire) soit $-1$ (impaire). Par conséquent, on peut calculer le déterminant d'une matrice en calculant sa factorisation LU, puis en multipliant les diagonales de $L$ et $U$ et le signe de $P$. "
      ]
    },
    {
      "cell_type": "markdown",
      "metadata": {
        "id": "JDvq4SJWvgWh"
      },
      "source": [
        "### Exercice 2a)\n",
        "> Implémentez une fonction `det` qui calcule le déterminant d'une matrice en utilisant la décomposition LU.\n",
        ">\n",
        "> Vous pouvez utiliser la fonction `permutation_signature` qui calcule la signature (et donc le déterminant) d'une matrice de permutation.\n",
        "---"
      ]
    },
    {
      "cell_type": "code",
      "execution_count": 7,
      "metadata": {
        "id": "3ACUG2gLvgWh"
      },
      "outputs": [],
      "source": [
        "def permutation_signature(P):\n",
        "    \"\"\"\n",
        "    Calculer le déterminant d'une matrice de permutation.\n",
        "    \"\"\"\n",
        "    from sympy.combinatorics import Permutation\n",
        "\n",
        "    perm = Permutation(np.nonzero(P)[1])  # convertir en permutation sympy\n",
        "    sign = perm.signature()\n",
        "    return sign\n",
        "\n",
        "\n",
        "def det(A):\n",
        "    \"\"\"\n",
        "    Calculer le déterminant d'une matrice carrée A en utilisant la décomposition LU.\n",
        "    \"\"\"\n",
        "    # VOTRE CODE ICI\n"
      ]
    },
    {
      "cell_type": "code",
      "execution_count": 8,
      "metadata": {
        "id": "lL9kK4RKvgWi"
      },
      "outputs": [],
      "source": [
        "def test_det():\n",
        "    for n in range(1, 30):\n",
        "        A = np.random.normal(size=(n, n))\n",
        "        assert (\n",
        "            abs(np.linalg.det(A) - det(A)) / abs(np.linalg.det(A)) < 1e-5\n",
        "        ), \"det(A) != np.linalg.det(A)\"\n",
        "\n",
        "\n",
        "test_det()\n"
      ]
    },
    {
      "cell_type": "markdown",
      "metadata": {
        "id": "Z9MNAI2gvgWi"
      },
      "source": [
        "### Exercice 2b)\n",
        "> Implémentez une fonction `solve_cramer` qui résout un système linéaire $Ax=b$ en utilisant la règle de Cramer. \n",
        "----\n",
        "\n",
        "_Vous pouvez utiliser la fonction `np.linalg.det` pour calculer le déterminant d'une matrice si vous n'avez pas réussi à résoudre 2a)._"
      ]
    },
    {
      "cell_type": "code",
      "execution_count": 9,
      "metadata": {
        "id": "BJ2yc-sSvgWi"
      },
      "outputs": [],
      "source": [
        "def solve_cramer(A, b):\n",
        "    \"\"\"\n",
        "    Résout Ax = b en utilisant la règle de Cramer.\n",
        "    \"\"\"\n",
        "    n = A.shape[0]\n",
        "\n",
        "    # VOTRE CODE ICI\n"
      ]
    },
    {
      "cell_type": "code",
      "execution_count": 10,
      "metadata": {
        "id": "_3XI20_mvgWj"
      },
      "outputs": [],
      "source": [
        "def test_solve_cramer():\n",
        "    for n in range(1, 30):\n",
        "        A = np.random.normal(size=(n, n))\n",
        "        x_true = np.random.normal(size=n)\n",
        "        b = A @ x_true\n",
        "        x = solve_cramer(A, b)\n",
        "        assert x.shape == (n,), \"x n'a pas la bonne taille pour solve_cramer\"\n",
        "        assert np.linalg.norm(A @ x - b) < 1e-10, \"Ax != b pour solve_cramer\"\n",
        "\n",
        "\n",
        "test_solve_cramer()\n"
      ]
    },
    {
      "cell_type": "markdown",
      "metadata": {
        "id": "uez_lcrTvgWj"
      },
      "source": [
        "La règle de Cramer a deux problèmes : elle est relativement lente et n'est pas numériquement stable. Considérons le premier problème en chronométrant l'exécution de la règle de Cramer sur une matrice aléatoire $A$ et un vecteur aléatoire $b$, par rapport à `solve_lu`. "
      ]
    },
    {
      "cell_type": "code",
      "execution_count": 24,
      "metadata": {
        "colab": {
          "base_uri": "https://localhost:8080/"
        },
        "id": "I4szJk9ovgWj",
        "outputId": "4f4f4e73-2515-4577-acf7-7c21c460dbcf"
      },
      "outputs": [
        {
          "name": "stdout",
          "output_type": "stream",
          "text": [
            "temps de solve_lu: 1.622e-02 s\n",
            "temps de solve_cramer: 5.143e-01 s\n",
            "solve_lu est 31.7 fois plus rapide que solve_cramer\n"
          ]
        }
      ],
      "source": [
        "from time import perf_counter\n",
        "\n",
        "# perf_counter est un fonction précise qui retourne le temps en secondes\n",
        "\n",
        "n = 100\n",
        "A = np.random.normal(size=(n, n))\n",
        "b = np.random.normal(size=n)\n",
        "\n",
        "temps_avant = perf_counter()\n",
        "solve_lu(A, b)\n",
        "temps_lu = perf_counter() - temps_avant\n",
        "print(f\"temps de solve_lu: {temps_lu:.3e} s\")\n",
        "\n",
        "temps_avant = perf_counter()\n",
        "solve_cramer(A, b)\n",
        "temps_cramer = perf_counter() - temps_avant\n",
        "print(f\"temps de solve_cramer: {temps_cramer:.3e} s\")\n",
        "\n",
        "print(\n",
        "    f\"solve_lu est {temps_cramer / temps_lu:.1f} fois plus rapide que solve_cramer\"\n",
        ")\n"
      ]
    },
    {
      "cell_type": "markdown",
      "metadata": {
        "id": "iPU5DzVMvgWl"
      },
      "source": [
        "Ensuite, on étudiera la stabilité de la règle de Cramer par rapport à la méthode utilisant la factorisation LU. Pour ce faire, on peut calculer l'erreur forward et le résidu pour les systèmes de la forme $Ax=b$ où $A$ est une matrice aléatoire avec une condition $\\kappa$ donnée. Si $\\hat x$ est une solution perturbée de $Ax=b$, alors la stabilité forward peut être mesurée par l'erreur relative\n",
        "$$\n",
        "    E_f = \\frac{\\|x - \\hat x\\|_2}{\\|x\\|_2}\n",
        "$$\n",
        "La stabilité backward peut être mesurée par le résidu relative\n",
        "$$\n",
        "    E_b = \\frac{\\|A\\hat x - b\\|_2}{\\|b\\|_2}\n",
        "$$\n",
        "\n",
        "Pour voir comment les deux méthodes se comportent, on peut tracer ces deux erreurs en fonction du conditionnement de $A$. On peut générer une matrice aléatoire avec une condition `cond` donnée en utilisant la fonction `random_matrix` définie ci-dessous. "
      ]
    },
    {
      "cell_type": "code",
      "execution_count": 12,
      "metadata": {
        "colab": {
          "base_uri": "https://localhost:8080/"
        },
        "id": "FNTTWtb5vgWl",
        "outputId": "1d64a376-7572-42fa-b6de-5e10eda1991f"
      },
      "outputs": [
        {
          "data": {
            "text/plain": [
              "10.000000000000002"
            ]
          },
          "execution_count": 12,
          "metadata": {},
          "output_type": "execute_result"
        }
      ],
      "source": [
        "def random_matrix(n, cond):\n",
        "    \"\"\"\n",
        "    Créez une matrice aléatoire (n, n) avec conditionnement `cond`.\n",
        "    \"\"\"\n",
        "    A = np.random.normal(size=(n, n))\n",
        "    U, _, V = np.linalg.svd(A)\n",
        "    S = np.diag(np.logspace(0, -np.log10(cond), n))\n",
        "    return U @ S @ V\n",
        "\n",
        "\n",
        "# Crée une matrice aléatoire avec conditionnement 10\n",
        "A = random_matrix(5, 10)\n",
        "np.linalg.cond(A)\n"
      ]
    },
    {
      "cell_type": "markdown",
      "metadata": {
        "id": "lbPIPs4LvgWm"
      },
      "source": [
        "### Exercice 2c)\n",
        "> Comparez l'erreur forward et le résidu pour la règle de Cramer et la factorisation LU pour les systèmes $Ax=b$ où $A$ est une matrice aléatoire avec un conditionnement spécifié. \n",
        "> Pour ce faire, complétez les quatre fonctions ci-dessous conformément à leur description. \n",
        ">\n",
        "> Vous pouvez utiliser la fonction `random_matrix(n, cond)` définie ci-dessus pour générer une matrice aléatoire avec un conditionnement spécifié.\n",
        "---"
      ]
    },
    {
      "cell_type": "code",
      "execution_count": 25,
      "metadata": {
        "colab": {
          "base_uri": "https://localhost:8080/",
          "height": 549
        },
        "id": "GxXc0jyTvgWm",
        "outputId": "159b41ab-248f-471b-ac93-3e5ab55d9aa0"
      },
      "outputs": [
        {
          "data": {
            "image/png": "[encoded data removed]",
            "text/plain": [
              "<Figure size 432x288 with 1 Axes>"
            ]
          },
          "metadata": {
            "needs_background": "light"
          },
          "output_type": "display_data"
        },
        {
          "data": {
            "image/png": "[encoded data removed]",
            "text/plain": [
              "<Figure size 432x288 with 1 Axes>"
            ]
          },
          "metadata": {
            "needs_background": "light"
          },
          "output_type": "display_data"
        }
      ],
      "source": [
        "import matplotlib.pyplot as plt\n",
        "import numpy as np\n",
        "\n",
        "\n",
        "def forward_error(x_true, x_estim):\n",
        "    \"\"\"Calcule l'erreur relative forward E_f définie ci-dessus.\"\"\"\n",
        "\n",
        "    # VOTRE CODE ICI\n",
        "\n",
        "\n",
        "def residual_error(A, b, x_true, x_estim):\n",
        "    \"\"\"Calcule le residu E_b définie ci-dessus.\"\"\"\n",
        "\n",
        "    # VOTRE CODE ICI\n",
        "\n",
        "\n",
        "def plot_forward_errors(n, condition_numbers, solve_method, nom):\n",
        "    \"\"\"\n",
        "    Tracez l'erreur forward E_f en fonction du conditionnement pour\n",
        "    une méthode de résolution donnée.\n",
        "\n",
        "    Paramètres\n",
        "    ----------\n",
        "    n : La taille de la matrice A.\n",
        "    condition_numbers : Une liste des conditionnements.\n",
        "    solve_method : Une fonction qui prend A et b comme arguments et retourne un solution approximatif.\n",
        "    nom : Le nom de la méthode de résolution, et le label utilisé pour la légende du tracé.\n",
        "    \"\"\"\n",
        "    np.random.seed(179)  # fixer la seed pour pouvoir reproduire ses résultats\n",
        "\n",
        "    # VOTRE CODE ICI\n",
        "\n",
        "\n",
        "def plot_residual_errors(n, condition_numbers, solve_method, nom):\n",
        "    \"\"\"\n",
        "    Tracez le residu E_b en fonction du conditionnement pour une\n",
        "    méthode de résolution donnée.\n",
        "\n",
        "\n",
        "    Parameters\n",
        "    ----------\n",
        "    n : La taille de la matrice A.\n",
        "    condition_numbers : Une liste des conditionnements.\n",
        "    solve_method : Une fonction qui prend A et b comme arguments et retourne un solution approximatif.\n",
        "    nom : Le nom de la méthode de résolution, et le label utilisé pour la légende du tracé.\n",
        "    \"\"\"\n",
        "    np.random.seed(179)  # fixer la seed pour pouvoir reproduire ses résultats\n",
        "\n",
        "    # VOTRE CODE ICI\n",
        "\n",
        "\n",
        "n = 10\n",
        "condition_numbers = np.logspace(0, 10, 30)\n",
        "\n",
        "plot_forward_errors(n, condition_numbers, solve_lu, \"LU\")\n",
        "plot_forward_errors(n, condition_numbers, solve_cramer, \"Cramer\")\n",
        "plt.xlabel(\"Conditionnement\")\n",
        "plt.ylabel(\"Erreur forward\")\n",
        "plt.legend()\n",
        "plt.loglog()\n",
        "\n",
        "plt.figure()\n",
        "plot_residual_errors(n, condition_numbers, solve_lu, \"LU\")\n",
        "plot_residual_errors(n, condition_numbers, solve_cramer, \"Cramer\")\n",
        "plt.xlabel(\"Conditionnement\")\n",
        "plt.ylabel(\"Residu\")\n",
        "plt.legend()\n",
        "plt.loglog()\n",
        "plt.show()\n"
      ]
    },
    {
      "cell_type": "markdown",
      "metadata": {
        "id": "OGT1WKq4SWh9"
      },
      "source": [
        "> **Réflexion:** Est-ce que cela correspond à ce que vous attendiez ? Pourquoi l'erreur forward augmente-t-elle à la même vitesse pour la méthode utilisant la règle de Cramer et la méthode LU, alors que le résidu relatif croît beaucoup plus rapidement pour la méthode utilisant la règle de Cramer ?\n",
        "\n",
        "_Solution : On s'attend à ce que l'erreur forward augmente proportionnellement au conditionnement. En effet, le conditionnement caractérise précisément la variation de l'erreur directe par rapport à de petites perturbations. Le résidu relatif montre que la méthode LU est stable, alors que la méthode utilisant la règle de Cramer n'est pas (backwards) stable. Les raisons précises pour lesquelles l'une est stable et l'autre non n'est cependant pas évidente._\n"
      ]
    },
    {
      "cell_type": "code",
      "execution_count": 27,
      "metadata": {
        "id": "JZ08v1BfvgWn"
      },
      "outputs": [],
      "source": [
        "def test_forward_error():\n",
        "    x = np.arange(10)\n",
        "    assert (\n",
        "        forward_error(x, x) < 1e-10\n",
        "    ), \"forward_error ne retourne pas 0 pour x_true = x_estim\"\n",
        "    y = x + 1\n",
        "    assert (\n",
        "        abs(forward_error(x, y) - np.sqrt(10) / np.linalg.norm(x)) < 1e-8\n",
        "    ), \"forward_error ne retourne pas la bonne valeur\"\n",
        "    assert (\n",
        "        forward_error(x, y) > 0\n",
        "    ), \"forward_error ne retourne pas une valeur positive\"\n",
        "\n",
        "\n",
        "test_forward_error()\n",
        "\n",
        "\n",
        "def test_residual_error():\n",
        "    for n in [5, 10, 20]:\n",
        "        A = np.random.normal(size=(n, n))\n",
        "        x_true = np.random.normal(size=n)\n",
        "        b = A @ x_true\n",
        "        x_estim = x_true\n",
        "        assert (\n",
        "            residual_error(A, b, x_true, x_estim) < 1e-10\n",
        "        ), \"residual_error ne retourne pas 0 pour x_true = x_estim\"\n",
        "        x_estim = np.random.normal(size=n)\n",
        "        assert (\n",
        "            residual_error(A, b, x_true, x_estim) > 0\n",
        "        ), \"residual_error ne retourne pas une valeur positive\"\n",
        "\n",
        "        A = np.eye(n)\n",
        "        x_true = np.ones(n)\n",
        "        b = A @ x_true\n",
        "        x_estim = x_true + 1\n",
        "        assert (\n",
        "            abs(residual_error(A, b, x_true, x_estim) - 1) < 1e-8\n",
        "        ), \"residual_error ne retourne pas la bonne valeur\"\n",
        "\n",
        "\n",
        "test_residual_error()\n"
      ]
    },
    {
      "cell_type": "markdown",
      "metadata": {
        "id": "YkG4J2B4vgWn"
      },
      "source": [
        "## Exercice 3 : Un faux-pas numérique : utiliser l'inverse pour résoudre des systèmes linéaires.\n",
        "\n",
        "On peut résoudre des systèmes linéaires $Ax=b$ en utilisant l'inverse de $A$ : $x = A^{-1}b$. Cependant, ce n'est pas une bonne idée car cette méthode n'est pas numériquement stable. On étudiera cela en calculant l'erreur directe et le résidu pour les systèmes $Ax=b$ où $A$ est une matrice aléatoire avec un conditionnement spécifié."
      ]
    },
    {
      "cell_type": "markdown",
      "metadata": {
        "id": "psbVUoP_vgWo"
      },
      "source": [
        "### Exercice 3a)\n",
        "> Implémentez une fonction `matrix_inverse(A)` qui calcule l'inverse de `A` en utilisant la méthode d'élimination de Gauss. Pour cela on peut s'aider de la décomposition LU, en effet, en utilisant `solve_lu`, on peut résoudre les systèmes linéaires $Ax_i = e_i$, où $e_i$ est le $i$-ième vecteur unitaire, et ainsi calculer l'inverse de $A$ colone par colone. Implémentez ensuite une fonction `solve_inverse` qui résout un système linéaire $Ax=b$ en utilisant l'inverse de $A$ calculé par `matrix_inverse`.\n",
        ">\n",
        "> Vous pouvez utiliser la fonction `np.eye(n)` pour construire une matrice identité de taille $n$.\n",
        "---"
      ]
    },
    {
      "cell_type": "code",
      "execution_count": 15,
      "metadata": {
        "id": "LLlVrmCTvgWo"
      },
      "outputs": [],
      "source": [
        "def matrix_inverse(A):\n",
        "    \"\"\"\n",
        "    Calculez l'inverse de A en utilisant la décomposition LU.\n",
        "    \"\"\"\n",
        "    n = A.shape[0]\n",
        "\n",
        "    # VOTRE CODE ICI\n",
        "\n",
        "\n",
        "def solve_inverse(A, b):\n",
        "    \"\"\"\n",
        "    Résout Ax = b en utilisant l'inverse de A.\n",
        "    \"\"\"\n",
        "    # VOTRE CODE ICI\n"
      ]
    },
    {
      "cell_type": "code",
      "execution_count": 16,
      "metadata": {
        "id": "Ql_NSvOwvgWo"
      },
      "outputs": [],
      "source": [
        "def test_matrix_inverse():\n",
        "    for n in [2, 5, 10]:\n",
        "        A = np.random.normal(size=(n, n))\n",
        "        A_inv = matrix_inverse(A)\n",
        "        assert A_inv.shape == (n, n), \"A_inv n'est pas de la bonne taille\"\n",
        "        assert np.linalg.norm(A @ A_inv - np.eye(n)) < 1e-10, \"A@A_inv != I\"\n",
        "        assert np.linalg.norm(A_inv @ A - np.eye(n)) < 1e-10, \"A_inv@A != I\"\n",
        "\n",
        "\n",
        "test_matrix_inverse()\n",
        "\n",
        "\n",
        "def test_solve_inverse():\n",
        "    for n in range(1, 30):\n",
        "        A = np.random.normal(size=(n, n))\n",
        "        x_true = np.random.normal(size=n)\n",
        "        b = A @ x_true\n",
        "        x = solve_inverse(A, b)\n",
        "        assert x.shape == (n,), \"x n'est pas de la bonne taille\"\n",
        "        assert np.linalg.norm(A @ x - b) < 1e-10, \"Ax != b pour solve_inverse\"\n",
        "\n",
        "\n",
        "test_solve_inverse()\n"
      ]
    },
    {
      "cell_type": "markdown",
      "metadata": {
        "id": "yX_uiSQovgWp"
      },
      "source": [
        "En utilisant les fonctions de l'exercice 2c), on peut analyser la stabilité de la méthode inverse, et on observe qu'elle se comporte de manière très similaire à la règle de Cramer."
      ]
    },
    {
      "cell_type": "code",
      "execution_count": 17,
      "metadata": {
        "colab": {
          "base_uri": "https://localhost:8080/",
          "height": 549
        },
        "id": "2ByMnksjvgWp",
        "outputId": "18ff3dd2-355e-4d9d-ff05-c3800feccf60"
      },
      "outputs": [
        {
          "data": {
            "image/png": "[encoded data removed]",
            "text/plain": [
              "<Figure size 432x288 with 1 Axes>"
            ]
          },
          "metadata": {
            "needs_background": "light"
          },
          "output_type": "display_data"
        },
        {
          "data": {
            "image/png": "[encoded data removed]",
            "text/plain": [
              "<Figure size 432x288 with 1 Axes>"
            ]
          },
          "metadata": {
            "needs_background": "light"
          },
          "output_type": "display_data"
        }
      ],
      "source": [
        "n = 10\n",
        "condition_numbers = np.logspace(0, 10, 30)\n",
        "\n",
        "plot_forward_errors(n, condition_numbers, solve_lu, \"LU\")\n",
        "plot_forward_errors(n, condition_numbers, solve_cramer, \"Cramer\")\n",
        "plot_forward_errors(n, condition_numbers, solve_inverse, \"Inverse\")\n",
        "plt.xlabel(\"Conditionnement\")\n",
        "plt.ylabel(\"Erreur forward\")\n",
        "plt.legend()\n",
        "plt.loglog()\n",
        "\n",
        "plt.figure()\n",
        "plot_residual_errors(n, condition_numbers, solve_lu, \"LU\")\n",
        "plot_residual_errors(n, condition_numbers, solve_cramer, \"Cramer\")\n",
        "plot_residual_errors(n, condition_numbers, solve_inverse, \"Inverse\")\n",
        "plt.xlabel(\"Conditionnement\")\n",
        "plt.ylabel(\"Residu\")\n",
        "plt.legend()\n",
        "plt.loglog()\n",
        "plt.show()\n"
      ]
    },
    {
      "cell_type": "markdown",
      "metadata": {
        "id": "blNle-BuvgWp"
      },
      "source": [
        "## Exercice 4: Équation de Poisson en dimension 1\n",
        "\n",
        "Prenons une fine barre métallique homogène de longueur $L$ et de section constante. On suppose que la barre est thermiquement isolée, de telle manière que la chaleur se propage uniquement suivant la barre. On applique une source thermique extérieure $H(x)$ tout au long de la barre. On pose $u(x,t)$ la température au point $x$ de la barre et au temps $t$. Alors en appliquant le principe de conservation de l'énergie, on obtient l'équation suivante, appelée équation de la chaleur 1D:\n",
        "$$\n",
        "    \\frac{\\partial u(x,t)}{\\partial t} =\\alpha^2 \\, \\frac{\\partial^2 u(x,t)}{\\partial^2 x} +H(x), \\qquad x\\in [0,L], \\quad t>0,\n",
        "$$\n",
        "où $\\alpha^2$ est le coefficient de diffusion. On suppose aussi que les extrémités de la barre sont maintenues à une température nulle,\n",
        "$$\n",
        "    u(0,t) = u(L,t)=0.\n",
        "$$\n",
        "Si la température initiale est donnée par $g(x)$, alors on a\n",
        "$$\n",
        "    u(x,0)= g(x) \\qquad \\text{avec}\\qquad g(0)=g(L)=0. \n",
        "$$\n",
        "À présent, on s'intéresse aux solutions stationnaires de cette équation, c'est à dire les solutions vérifiant $\\frac{\\partial u(x,t)}{\\partial t}=0$. L'équation de la chaleur stationnaire ainsi obtenue est appelée équation de Poisson. À présent, la température ne dépend plus du temps $t$. Si l'on appelle la température $\\phi(x)$ et la source de chaleur extérieure $F(x)$, l'équation de Poisson est donnée par\n",
        "$$\n",
        "    -\\, \\frac{\\partial^2 \\phi(x)}{\\partial^2 x} = F(x), \\qquad x\\in [0,L],\\tag{$*$}\n",
        "$$\n",
        "$$\n",
        "    \\phi(0) = \\phi(L)=0.\n",
        "$$\n",
        "Pour résoudre $(*)$ numériquement, on divise l'intervalle $[0,L]$ en $n$ sous-intervalles de longueur $h=L/n$ avec $0=x_{0}<x_{1}<...<x_{n}<x_{n}=L$. On utilise alors un schéma de différences finies pour approcher $\\phi_{xx}:= \\frac{\\partial^2 \\phi(x)}{\\partial^2 x}$, et on obtient finalement\n",
        "\n",
        "$$\n",
        "\\frac{1}{h^2} \\begin{pmatrix} 2 & -1\\\\-1 & 2 & -1\\\\ & -1 & \\ddots & \\ddots\\\\\n",
        "& & \\ddots & \\ddots & -1\\\\\n",
        "& & & -1 & 2 \\end{pmatrix} \\begin{pmatrix}\n",
        "\\phi_{1} \\\\\n",
        "\\phi_{2}\\\\\n",
        "\\vdots\\\\\n",
        "\\phi_{n-2}\\\\\n",
        "\\phi_{n-1}\n",
        "\\end{pmatrix} = \\begin{pmatrix}\n",
        "F_{1} \\\\\n",
        "F_{2}\\\\\n",
        "\\vdots\\\\\n",
        "F_{n-2}\\\\\n",
        "F_{n-1}\n",
        "\\end{pmatrix},\\tag{$**$}\n",
        "$$\n",
        "où $F_{i}=F(x_{i})$. \n",
        "\n",
        "On résoudra $(**)$ numériquement en utilisant la factorisation LU. Pour comparer les résultats à la solution exacte, on peut choisir un $\\phi$ satisfaisant $(*)$ et calculer $F$ à partir de celui-ci. On utilisera la fonction suivante pour calculer $F$ à partir de $\\phi$ :\n",
        "$$\n",
        "    \\phi(x) = x(x-L) + 2\\sin(\\pi x/L)\n",
        "$$\n",
        "On utilisera `sympy` pour calculer sa dérivée et la stocker comme une fonction :"
      ]
    },
    {
      "cell_type": "code",
      "execution_count": 32,
      "metadata": {
        "colab": {
          "base_uri": "https://localhost:8080/"
        },
        "id": "2cP3iVQjvgWq",
        "outputId": "df012b8b-70cd-42c9-de46-3a5751b22e6c"
      },
      "outputs": [
        {
          "name": "stdout",
          "output_type": "stream",
          "text": [
            "phi = x*(x - 1) + 2*sin(pi*x)\n",
            "  F = -2*(-pi**2*sin(pi*x) + 1)\n"
          ]
        }
      ],
      "source": [
        "from sympy.abc import x\n",
        "from sympy import lambdify, sin, pi\n",
        "\n",
        "L = 1\n",
        "\n",
        "# Phi et F comme expression sympy\n",
        "phi_sympy = x * (x - L) + 2 * sin(pi * x / L)\n",
        "F_sympy = -phi_sympy.diff(x, 2)\n",
        "print(\"phi =\", phi_sympy)\n",
        "print(\"  F =\", F_sympy)\n",
        "\n",
        "# Assurer que phi(0)=phi(L)=0\n",
        "assert phi_sympy.subs(x, 0) == 0\n",
        "assert phi_sympy.subs(x, L) == 0\n",
        "\n",
        "# On convertit les expressions sympy en fonctions qui acceptent des arrays numpy\n",
        "phi = lambdify(x, phi_sympy, \"numpy\")\n",
        "F = lambdify(x, F_sympy, \"numpy\")\n"
      ]
    },
    {
      "cell_type": "markdown",
      "metadata": {
        "id": "zDICwYMEvgWq"
      },
      "source": [
        "### Exercise 4a)\n",
        "> Implémentez une fonction `solve_poisson` qui résout l'équation de Poisson stationnaire. Assurez-vous d'utiliser les bons points d'échantillonnage $x_1,\\dots,x_{n-1}$, en omettant $x_0=0$ et $x_n=L=1$.\n",
        "----"
      ]
    },
    {
      "cell_type": "code",
      "execution_count": 19,
      "metadata": {
        "colab": {
          "base_uri": "https://localhost:8080/",
          "height": 265
        },
        "id": "ZplK1UECvgWq",
        "outputId": "7338bdcb-b90c-4511-85eb-64b7a50e828e"
      },
      "outputs": [
        {
          "data": {
            "image/png": "[encoded data removed]",
            "text/plain": [
              "<Figure size 432x288 with 1 Axes>"
            ]
          },
          "metadata": {
            "needs_background": "light"
          },
          "output_type": "display_data"
        }
      ],
      "source": [
        "import numpy as np\n",
        "import matplotlib.pyplot as plt\n",
        "\n",
        "\n",
        "def solve_poisson(F, L, n):\n",
        "    \"\"\"\n",
        "    Calcule la solution stationnaire de l'équation de Poisson -phi'' = F sur [0, L].\n",
        "\n",
        "    F : Une fonction représentant la source de chaleur externe\n",
        "    L : Longueur de la barre\n",
        "    n : Nombre de points dans la discrétisation\n",
        "    \"\"\"\n",
        "    # VOTRE CODE ICI\n",
        "\n",
        "\n",
        "plot_x = np.linspace(0, L, 40)\n",
        "plt.plot(plot_x, phi(plot_x), label=\"Solution exacte\")\n",
        "\n",
        "# Les points [x_1, ..., x_(n-1)] de la discrétisation\n",
        "n = 6\n",
        "x_discret = np.linspace(0, L, n + 1)[1:-1]\n",
        "\n",
        "sol_discret = solve_poisson(F, L, n)\n",
        "\n",
        "plt.plot(x_discret, sol_discret, \"o\", label=\"Approximation discrète\")\n",
        "plt.legend()\n",
        "plt.show()\n"
      ]
    },
    {
      "cell_type": "code",
      "execution_count": 20,
      "metadata": {
        "id": "jrKajl1dvgWr"
      },
      "outputs": [],
      "source": [
        "def test_solve_poisson():\n",
        "    L = 1\n",
        "    for n in [5, 6, 10, 20]:\n",
        "        sample_x = np.linspace(0, L, n + 1)[1:-1]\n",
        "        sol = solve_poisson(F, L, n)\n",
        "        assert sol.shape == (n - 1,), \"La solution n'est pas de la bonne taille\"\n",
        "        assert (\n",
        "            np.linalg.norm(sol - sol[::-1]) < 1e-10\n",
        "        ), \"La solution doit être symétrique si F est symétrique\"\n",
        "        assert (\n",
        "            np.max(np.abs(sol - phi(sample_x))) < 0.1\n",
        "        ), \"La solution n'est pas sufficement proche de la solution exacte\"\n",
        "\n",
        "    L = 2\n",
        "    from sympy import exp\n",
        "\n",
        "    phi_sympy = x * (x - L) + 2 * sin(pi * x / L) + exp(x * (x - L)) - 1\n",
        "    assert phi_sympy.subs(x, 0) == 0\n",
        "    assert phi_sympy.subs(x, L) == 0\n",
        "    F_sympy = -phi_sympy.diff(x, 2)\n",
        "\n",
        "    phi_new = lambdify(x, phi_sympy, \"numpy\")\n",
        "    F_new = lambdify(x, F_sympy, \"numpy\")\n",
        "\n",
        "    for n in [10, 15, 20]:\n",
        "        sample_x = np.linspace(0, L, n + 1)[1:-1]\n",
        "        sol = solve_poisson(F_new, L, n)\n",
        "        sol - phi_new(sample_x)\n",
        "        try:\n",
        "            assert sol.shape == (\n",
        "                n - 1,\n",
        "            ), \"La solution n'est pas de la bonne taille\"\n",
        "            assert (\n",
        "                np.linalg.norm(sol - sol[::-1]) < 1e-10\n",
        "            ), \"La solution doit être symétrique si F est symétrique\"\n",
        "            assert (\n",
        "                np.max(np.abs(sol - phi_new(sample_x))) < 0.1\n",
        "            ), \"La solution n'est pas sufficement proche de la solution exacte\"\n",
        "        except AssertionError:\n",
        "            print(\n",
        "                \"Le code est correct pour L, F, phi comme ci-dessus, mais\",\n",
        "                \"donne une erreur pour une valeur différente de L, F et phi.\",\n",
        "            )\n",
        "            raise\n",
        "\n",
        "\n",
        "test_solve_poisson()\n"
      ]
    },
    {
      "cell_type": "markdown",
      "metadata": {
        "id": "4ff5TvQ7vgWr"
      },
      "source": [
        "### Exercice 4b)\n",
        "On peut mesurer la précision de la solution en calculant la déviation maximale\n",
        "$$\n",
        "\\max_{i=1,\\dots,n-1} \\| \\hat \\phi(x_i) - \\phi_i\\|\n",
        "$$\n",
        "où $\\hat \\phi$ est la solution exacte de l'équation de Poisson, et $\\phi_i$ est la solution numérique à $x_i$.\n",
        "\n",
        "---\n",
        "> En utilisant les mêmes $L$, $F$ et $\\phi$ que dans l'exercice précédent, étudier la convergence de la méthode en traçant la déviation maximale en fonction de $n$ pour différentes valeurs de $h$. \n",
        ">\n",
        "> Comparez la convergence à $1/n^2$.\n",
        "---"
      ]
    },
    {
      "cell_type": "code",
      "execution_count": 21,
      "metadata": {
        "colab": {
          "base_uri": "https://localhost:8080/",
          "height": 279
        },
        "id": "GvPyzrGWvgWr",
        "outputId": "da057649-4b0e-4d99-f570-10e85511d8db"
      },
      "outputs": [
        {
          "data": {
            "image/png": "[encoded data removed]",
            "text/plain": [
              "<Figure size 432x288 with 1 Axes>"
            ]
          },
          "metadata": {
            "needs_background": "light"
          },
          "output_type": "display_data"
        }
      ],
      "source": [
        "# VOTRE CODE ICI\n"
      ]
    },
    {
      "cell_type": "markdown",
      "metadata": {
        "id": "70S9WXrsvgWs"
      },
      "source": [
        "### Exercice 4c)\n",
        "Observez que la matrice du côté gauche de $(**)$ est tridiagonale, et que la plupart des entrées sont donc nulles. On peut utiliser cela à notre avantage dans le cas où $n$ est très grand (disons $n>10\\,000$). Dans ce cas, on peut utiliser la fonction scipy `solve_banded` pour résoudre le système linéaire $Ax=b$ sans jamais stocker la matrice entière $A$ en mémoire ; on ne stocke que les diagonales non nulles. La syntaxe de `solve_banded` est la suivante\n",
        "```python\n",
        "    solve_banded((lower, upper), A, b)\n",
        "```\n",
        "où `lower` et `upper` sont le nombre de sous- et super-diagonales de $A$ respectivement, et `A` est un tableau 2D contenant les diagonales non nulles de $A$ dans l'ordre suivant. Dans le cas que l'on considère, cela signifie que `lower` et `upper` sont `1` et que `A` est une matrice de forme `(3, n - 1)`, où chaque ligne est constante. \n",
        "\n",
        "_Plus généralement, nous pouvons représenter `A` comme une matrice creuse (anglais: 'sparse matrix'), ce qui signifie que nous ne stockons que les entrées non nulles. Il existe de nombreuses techniques pour résoudre des problèmes linéaires avec une matrice creuse, qui tirent généralement avantage du fait que le calcul des produits matrice-vecteur $Av$ est peu coûteux, même pour de très grandes matrices creuses. Dans l'équation (**), `A` n'est pas n'importe quelle matrice creuse ; ses entrées non nulles suivent un modèle très spécifique que l'on peut utiliser pour développer un solveur linéaire spécialisé très efficace._\n",
        "\n",
        "----\n",
        "> Implémentez une fonction `solve_poisson_sparse` avec la même syntaxe que `solve_poisson`, et qui résout l'équation de Poisson stationnaire en utilisant la fonction `solve_banded`. \n",
        "> \n",
        "> La fonction devrait calculer la réponse très rapidement, même pour de grandes valeurs de $n$ telles que $n=1\\,000\\,000$.\n",
        "----"
      ]
    },
    {
      "cell_type": "code",
      "execution_count": 33,
      "metadata": {
        "colab": {
          "base_uri": "https://localhost:8080/"
        },
        "id": "vo1Cpp6zvgWs",
        "outputId": "f28e49ca-7610-4dc1-db39-308377d848f0"
      },
      "outputs": [
        {
          "data": {
            "text/plain": [
              "array([5.28318628e-06, 1.05663746e-05, 1.58495649e-05, ...,\n",
              "       1.58495649e-05, 1.05663746e-05, 5.28318629e-06])"
            ]
          },
          "execution_count": 33,
          "metadata": {},
          "output_type": "execute_result"
        }
      ],
      "source": [
        "import scipy.linalg\n",
        "\n",
        "\n",
        "def solve_poisson_sparse(F, L, n):\n",
        "    \"\"\"\n",
        "    Calcule la solution stationnaire de l'équation de Poisson -phi'' = F sur [0, L].\n",
        "\n",
        "    Utilise `solve_banded` pour résoudre efficacement le problème linéaire pour\n",
        "    de grandes valeurs de n\n",
        "\n",
        "    F : Une fonction représentant la source de chaleur externe\n",
        "    L : Longueur de la barre\n",
        "    n : Nombre de points dans la discrétisation\n",
        "    \"\"\"\n",
        "    # VOTRE CODE ICI\n",
        "\n",
        "\n",
        "# Cela devrait fonctionner sans erreur de mémoire\n",
        "solve_poisson_sparse(F, L, 1_000_000)\n"
      ]
    },
    {
      "cell_type": "code",
      "execution_count": 34,
      "metadata": {
        "id": "M7OfzaY4vgWt"
      },
      "outputs": [],
      "source": [
        "def test_solve_poisson_sparse():\n",
        "    L = 1\n",
        "    for n in [1_000_000, 1000, 10_000, 100_000]:\n",
        "        sample_x = np.linspace(0, L, n + 1)[1:-1]\n",
        "        try:\n",
        "            sol = solve_poisson_sparse(F, L, n)\n",
        "        except MemoryError:\n",
        "            print(\n",
        "                f\"Il n'y a plus de mémoire. Ne formez pas la matrice complète !\"\n",
        "            )\n",
        "            raise\n",
        "        assert sol.shape == (n - 1,), \"La solution n'est pas de la bonne taille\"\n",
        "        assert (\n",
        "            np.linalg.norm(sol - sol[::-1]) / np.linalg.norm(sol) < 1e-6\n",
        "        ), \"La solution doit être symétrique si F est symétrique\"\n",
        "        assert (\n",
        "            np.max(np.abs(sol - phi(sample_x))) < 0.1\n",
        "        ), \"La solution n'est pas sufficement proche de la solution exacte\"\n",
        "\n",
        "    L = 2\n",
        "    from sympy import exp\n",
        "\n",
        "    phi_sympy = x * (x - L) + 2 * sin(pi * x / L) + exp(x * (x - L)) - 1\n",
        "    assert phi_sympy.subs(x, 0) == 0\n",
        "    assert phi_sympy.subs(x, L) == 0\n",
        "    F_sympy = -phi_sympy.diff(x, 2)\n",
        "\n",
        "    phi_new = lambdify(x, phi_sympy, \"numpy\")\n",
        "    F_new = lambdify(x, F_sympy, \"numpy\")\n",
        "\n",
        "    for n in [1_000_000, 1000, 10_000, 100_000]:\n",
        "        sample_x = np.linspace(0, L, n + 1)[1:-1]\n",
        "        sol = solve_poisson_sparse(F_new, L, n)\n",
        "        sol - phi_new(sample_x)\n",
        "        assert sol.shape == (n - 1,), \"La solution n'est pas de la bonne taille\"\n",
        "        assert (\n",
        "            np.linalg.norm(sol - sol[::-1]) / np.linalg.norm(sol) < 1e-6\n",
        "        ), \"La solution doit être symétrique si F est symétrique\"\n",
        "        assert (\n",
        "            np.max(np.abs(sol - phi_new(sample_x))) < 0.1\n",
        "        ), \"La solution n'est pas sufficement proche de la solution exacte\"\n",
        "\n",
        "\n",
        "test_solve_poisson_sparse()\n"
      ]
    }
  ],
  "metadata": {
    "colab": {
      "provenance": []
    },
    "kernelspec": {
      "display_name": "Python 3.9.0 ('tensors')",
      "language": "python",
      "name": "python3"
    },
    "language_info": {
      "codemirror_mode": {
        "name": "ipython",
        "version": 3
      },
      "file_extension": ".py",
      "mimetype": "text/x-python",
      "name": "python",
      "nbconvert_exporter": "python",
      "pygments_lexer": "ipython3",
      "version": "3.9.0"
    },
    "orig_nbformat": 4,
    "vscode": {
      "interpreter": {
        "hash": "53e3584a94e8c7d99898d4a2cb47bea56236d638682d6d87741bc73b63e7db14"
      }
    }
  },
  "nbformat": 4,
  "nbformat_minor": 0
}
