{
 "cells": [
  {
   "attachments": {},
   "cell_type": "markdown",
   "metadata": {},
   "source": [
    "# TP6: Algorithmes de décomposition de matrice\n",
    "\n",
    "Dans le TP5, nous avons vu comment résoudre des systèmes linéaires à partir de la factorisation LU. Dans ce TP, nous implémenterons les algorithmes qui permettent d'obtenir de telles décompositions.\n",
    "\n",
    "Au programme de ce TP:\n",
    "- Factorisation LU sans pivot, puis avec pivot.\n",
    "- Apprendre à tester soi-même son code.\n",
    "- Stabilité de la factorisation LU.\n",
    "- Factorisation de Cholesky."
   ]
  },
  {
   "attachments": {},
   "cell_type": "markdown",
   "metadata": {},
   "source": [
    "__Attention!__\n",
    "\n",
    "Faites attention lorsque vous assignez une matrice à une autre variable (voir l'exemple ci-dessous). En effet, pour économiser de la mémoire, les matrices en Python sont des pointeurs, c'est-à-dire une référence vers un espace dans la mémoire de l'ordinateur.\n",
    "Si nous écrivons `B=A`, nous disons à Python \"va chercher `B` au même endroit que `A`\".\n",
    "Pour éviter cela, il faut écrire `B = np.copy(A)`. Python va alors copier la matrice dans un autre espace mémoire et `B` sera une référence vers cette nouvelle matrice.  "
   ]
  },
  {
   "cell_type": "code",
   "execution_count": 8,
   "metadata": {},
   "outputs": [
    {
     "name": "stdout",
     "output_type": "stream",
     "text": [
      "Avant:\n",
      "A=[[1. 0. 0. 0.]\n",
      " [0. 1. 0. 0.]\n",
      " [0. 0. 1. 0.]\n",
      " [0. 0. 0. 1.]]\n",
      "\n",
      "Après:\n",
      "B=[[5. 0. 0. 0.]\n",
      " [0. 1. 0. 0.]\n",
      " [0. 0. 1. 0.]\n",
      " [0. 0. 0. 1.]]\n",
      "A=[[5. 0. 0. 0.]\n",
      " [0. 1. 0. 0.]\n",
      " [0. 0. 1. 0.]\n",
      " [0. 0. 0. 1.]]\n"
     ]
    }
   ],
   "source": [
    "# Illustration de l'usage de pointeurs en Python\n",
    "import numpy as np \n",
    "\n",
    "# Matrice identité\n",
    "A = np.eye(4) \n",
    "print(f\"Avant:\\nA={A}\\n\")\n",
    "\n",
    "B = A # Ici B et A font référence au même espace mémoire\n",
    "# B = np.copy(A) # Ici B et A font référence à des espaces mémoire différents\n",
    "\n",
    "# On change la première entrée de la matrice et on regarde les effets sur A et B\n",
    "B[0, 0] = 5\n",
    "print(f\"Après:\\nB={B}\")\n",
    "print(f\"A={A}\")"
   ]
  },
  {
   "attachments": {},
   "cell_type": "markdown",
   "metadata": {},
   "source": [
    "## Exercice 1: Factorisation LU\n",
    "\n",
    "Soit $n \\in \\mathbb N$, et soit $A \\in \\mathbb R^{n \\times n}$ une matrice carrée.\n",
    "\n",
    "Pour rappel, la factorisation LU d'une matrice $A$ est une décomposition de la forme $$A = LU,$$ où $L$ est une matrice triangulaire inférieure et $U$ est une matrice triangulaire supérieure. Le but de ce TP est d'implémenter un algorithme qui calcule la factorisation LU d'une matrice donnée. \n",
    "\n",
    "Nous verrons que l'algorithme peut être amélioré en utilisant une recherche de pivot partiel, dans ce cas on obtient la factorisation $$PA=LU \\iff A = P^T LU,$$ où $P$ est une matrice de permutation.\n",
    "\n",
    " Pour plus de détails, voir le Chapitre 5 du cours.\n"
   ]
  },
  {
   "attachments": {},
   "cell_type": "markdown",
   "metadata": {},
   "source": [
    "### Exercice 1.1: Factorisation LU sans pivot\n",
    "\n",
    "Implémentez la fonction `lu_no_pivot` qui prend en argument une matrice $A$ et qui renvoie les matrices $L$ et $U$ telles que $A = LU$. \n",
    "\n",
    "L'algorithme est décrit dans le Chapitre 5.2 du polycopié. \n",
    "\n",
    "Voici les étapes à suivre:\n",
    "- Initialiser $L = I_n$ et $U = A$.\n",
    "- Pour $k = 1, \\ldots, n-1$:\n",
    "    - Calculer $\\ell_{ik}$ pour $i = k+1, \\ldots, n$.\n",
    "    - Mettre à jour $L$ et $U$.\n",
    "- Retourner $L$ et $U$.\n",
    "\n",
    "Testez votre algorithme sur les matrice suivantes: \n",
    "$$A = \\begin{pmatrix} 4 & -3 & 1 \\\\ 0.5 & 3 & -1 \\\\ 0 & 1 & 0 \\end{pmatrix}, \\quad B = \\begin{pmatrix} 1 & 5 & 2 \\\\ 0 & 0 & 8 \\\\ 2 & 4 & 1 \\end{pmatrix}.$$\n",
    "\n",
    "Indications: \n",
    "- Pensez à copier la matrice $A$ dans $U$ avec la fonction `copy` de `numpy` (`np.copy`).\n",
    "- Les boucles `for` sont plus rapides avec `numpy` (`np.arange`) que les boucles de base (`range`) de Python."
   ]
  },
  {
   "cell_type": "code",
   "execution_count": 9,
   "metadata": {},
   "outputs": [],
   "source": [
    "import numpy as np\n",
    "\n",
    "def lu_no_pivot(A):\n",
    "    \"\"\"\n",
    "    Decomposition LU sans pivot de A en utilisant l'élimination de Gauss sans pivot.\n",
    "    \n",
    "    Entrées\n",
    "    -------\n",
    "    A : ndarray\n",
    "        Matrice carrée de taille n.\n",
    "\n",
    "    Sorties\n",
    "    -------\n",
    "    L : ndarray\n",
    "        Matrice triangulaire inférieure de taille n.\n",
    "    U : ndarray\n",
    "        Matrice triangulaire supérieure de taille n.\n",
    "    \"\"\"\n",
    "    # VOTRE CODE ICI\n",
    "    n = A.shape[0]\n",
    "    L = np.eye(n)\n",
    "    U = np.copy(A)\n",
    "    for k in np.arange(n-1):\n",
    "        for i in np.arange(k+1, n):\n",
    "            L[i,k] = U[i,k] / U[k,k]\n",
    "            U[i,k:] = U[i,k:] - U[k,k:] * L[i,k]\n",
    "    return L, U\n"
   ]
  },
  {
   "cell_type": "code",
   "execution_count": 10,
   "metadata": {},
   "outputs": [
    {
     "name": "stdout",
     "output_type": "stream",
     "text": [
      "A =  [[ 4.  -3.   1. ]\n",
      " [ 0.5  3.  -1. ]\n",
      " [ 0.   1.   0. ]]\n",
      "L @ U =  [[ 4.  -3.   1. ]\n",
      " [ 0.5  3.  -1. ]\n",
      " [ 0.   1.   0. ]]\n",
      "B =  [[1. 5. 2.]\n",
      " [0. 0. 8.]\n",
      " [2. 4. 1.]]\n",
      "L @ U =  [[ 1. nan nan]\n",
      " [ 0. nan nan]\n",
      " [nan nan nan]]\n"
     ]
    },
    {
     "name": "stderr",
     "output_type": "stream",
     "text": [
      "/var/folders/_g/lcrw_0x157qc12hdyzpf03h80000gn/T/ipykernel_9431/3126724256.py:25: RuntimeWarning: divide by zero encountered in scalar divide\n",
      "  L[i,k] = U[i,k] / U[k,k]\n",
      "/var/folders/_g/lcrw_0x157qc12hdyzpf03h80000gn/T/ipykernel_9431/3126724256.py:26: RuntimeWarning: invalid value encountered in multiply\n",
      "  U[i,k:] = U[i,k:] - U[k,k:] * L[i,k]\n",
      "/var/folders/_g/lcrw_0x157qc12hdyzpf03h80000gn/T/ipykernel_9431/738271432.py:12: RuntimeWarning: invalid value encountered in matmul\n",
      "  print(\"L @ U = \", L @ U)\n"
     ]
    }
   ],
   "source": [
    "A = np.array([[4, -3, 1], [0.5, 3, -1], [0, 1, 0]], dtype=float)\n",
    "\n",
    "B = np.array([[1, 5, 2], [0, 0, 8], [2, 4, 1]], dtype=float)\n",
    "\n",
    "# VOS TESTS ICI\n",
    "L, U = lu_no_pivot(A)\n",
    "print(\"A = \", A)\n",
    "print(\"L @ U = \", L @ U)\n",
    "\n",
    "L, U = lu_no_pivot(B)\n",
    "print(\"B = \", B)\n",
    "print(\"L @ U = \", L @ U)\n",
    "\n"
   ]
  },
  {
   "attachments": {},
   "cell_type": "markdown",
   "metadata": {},
   "source": [
    "Qu'observez-vous? Pourquoi?"
   ]
  },
  {
   "attachments": {},
   "cell_type": "markdown",
   "metadata": {},
   "source": [
    "*Votre réponse ici*\n",
    "\n",
    "**Pour la matrice A**\n",
    "\n",
    "On retrouve $A = LU$, comme attendu.\n",
    "\n",
    "**Pour la matrice B**\n",
    "\n",
    "Sans recherche de pivot, l'algorithme effectue une division par 0, ce qui est impossible. On obtient donc une erreur, ou bien \"nan\" (not a number) si on ne vérifie pas que le pivot est non nul."
   ]
  },
  {
   "cell_type": "code",
   "execution_count": 11,
   "metadata": {},
   "outputs": [
    {
     "name": "stdout",
     "output_type": "stream",
     "text": [
      "Tests automatiques réussis.\n"
     ]
    }
   ],
   "source": [
    "# Test automatique avec des matrices aléatoires\n",
    "import scipy as sp\n",
    "for n in np.arange(2, 10):\n",
    "    np.random.seed(1234)\n",
    "    A = np.random.rand(n, n)\n",
    "    L, U = lu_no_pivot(A)\n",
    "    assert np.allclose(A, L @ U), \"A != L @ U\"\n",
    "    # Vérification que L est triangulaire inférieure\n",
    "    assert np.allclose(L, np.tril(L)), \"L n'est pas triangulaire inférieure\"\n",
    "    # Vérification que U est triangulaire supérieure\n",
    "    assert np.allclose(U, np.triu(U)), \"U n'est pas triangulaire supérieure\"\n",
    "print(\"Tests automatiques réussis.\")\n"
   ]
  },
  {
   "attachments": {},
   "cell_type": "markdown",
   "metadata": {},
   "source": [
    "### Exercice 1.2: Factorisation LU avec pivot\n",
    "\n",
    "Implémenter la fonction `lu_pivot` qui prend en argument une matrice $A$ et qui renvoie les matrices $P$, $L$ et $U$ telles que $PA = LU$ (et donc, $A = P^T LU$).\n",
    "\n",
    "Dans le polycopié, voir l'Algorithme 5.10.\n",
    "\n",
    "Voici les étapes à suivre:\n",
    "- Initialiser $P = I_n$, $L = I_n$ et $U = A$.\n",
    "- Pour $k = 1, \\ldots, n-1$:\n",
    "  - Rechercher le pivot $p$ comme étant le plus grand élément de la colonne $k$ de $U$ (par exemple avec la fonction `np.argmax`).\n",
    "  - Si besoin, permuter les lignes $k$ et $p$ de $P$, $L$ et $U$.\n",
    "  - Calculer $\\ell_{ik}$ pour $i = k+1, \\ldots, n$, et mettre à jour $L$ et $U$.\n",
    "- Retourner $P$, $L$ et $U$.\n",
    "\n",
    "Testez votre algorithme sur les mêmes matrices que précédemment.\n",
    "\n",
    "Observez la matrice de permutation obtenue dans chacun des cas. Expliquez cela.\n",
    "\n",
    "Indications:\n",
    "- Attention aux indices lors de la permutation de lignes.\n",
    "- De nouveau, il est recommandé d'utiliser `np.copy` pour copier les matrices.\n",
    "- Il peut être utile de vérifier que le pivot est non nul."
   ]
  },
  {
   "cell_type": "code",
   "execution_count": 12,
   "metadata": {},
   "outputs": [],
   "source": [
    "def lu_pivot(A):\n",
    "    \"\"\"\n",
    "    Factorisation LU de A avec recherche de pivot partielle.\n",
    "\n",
    "    Entrées\n",
    "    -------\n",
    "    A : ndarray\n",
    "        Matrice carrée de taille n.\n",
    "\n",
    "    Sorties\n",
    "    -------\n",
    "    P: ndarray\n",
    "        Matrice de permutation de taille n.\n",
    "    L : ndarray\n",
    "        Matrice triangulaire inférieure de taille n.\n",
    "    U : ndarray\n",
    "        Matrice triangulaire supérieure de taille n.\n",
    "    \"\"\"\n",
    "    # VOTRE CODE ICI\n",
    "    n = A.shape[0]\n",
    "    P = np.eye(n)\n",
    "    L = np.eye(n)\n",
    "    U = np.copy(A)\n",
    "    for k in np.arange(n-1):\n",
    "        # Recherche du pivot\n",
    "        p = np.argmax(np.abs(U[k:,k])) + k \n",
    "        if p != k:\n",
    "            # Permutation des lignes\n",
    "            U[[k,p],k:] = U[[p,k],k:]\n",
    "            L[[k,p],:k] = L[[p,k],:k]\n",
    "            P[[k,p],:] = P[[p,k],:]\n",
    "        if U[k,k] != 0:\n",
    "            # Elimination de Gauss\n",
    "            for i in np.arange(k+1, n):\n",
    "                L[i,k] = U[i,k] / U[k,k]\n",
    "                U[i,k:] = U[i,k:] - U[k,k:] * L[i,k]\n",
    "        else:\n",
    "            raise ValueError(\"Matrice singulière.\")\n",
    "    return P, L, U"
   ]
  },
  {
   "cell_type": "code",
   "execution_count": 13,
   "metadata": {},
   "outputs": [
    {
     "name": "stdout",
     "output_type": "stream",
     "text": [
      "A =  [[ 4.  -3.   1. ]\n",
      " [ 0.5  3.  -1. ]\n",
      " [ 0.   1.   0. ]]\n",
      "P =  [[1. 0. 0.]\n",
      " [0. 1. 0.]\n",
      " [0. 0. 1.]]\n",
      "P @ L @ U =  [[ 4.  -3.   1. ]\n",
      " [ 0.5  3.  -1. ]\n",
      " [ 0.   1.   0. ]]\n",
      "B =  [[1. 5. 2.]\n",
      " [0. 0. 8.]\n",
      " [2. 4. 1.]]\n",
      "P =  [[0. 0. 1.]\n",
      " [1. 0. 0.]\n",
      " [0. 1. 0.]]\n",
      "P @ L @ U =  [[1. 5. 2.]\n",
      " [0. 0. 8.]\n",
      " [2. 4. 1.]]\n"
     ]
    }
   ],
   "source": [
    "A = np.array([[4, -3, 1], [0.5, 3, -1], [0, 1, 0]], dtype=float)\n",
    "\n",
    "B = np.array([[1, 5, 2], [0, 0, 8], [2, 4, 1]], dtype=float)\n",
    "\n",
    "# VOS TESTS ICI\n",
    "P, L, U = lu_pivot(A)\n",
    "print(\"A = \", A)\n",
    "print(\"P = \", P)\n",
    "print(\"P @ L @ U = \", P.T@L@U)\n",
    "\n",
    "P, L, U = lu_pivot(B)\n",
    "print(\"B = \", B)\n",
    "print(\"P = \", P)\n",
    "print(\"P @ L @ U = \", P.T@L@U)\n"
   ]
  },
  {
   "attachments": {},
   "cell_type": "markdown",
   "metadata": {},
   "source": [
    "*Votre réponse ici*\n",
    "\n",
    "**Pour la matrice A**\n",
    "\n",
    "On observe que la matrice de permutation est la matrice identité. En effet, on regardant $A$ de plus près, on voit qu'il n'y a pas besoin de changer de pivot.\n",
    "\n",
    "**Pour la matrice B**\n",
    "\n",
    "La matrice de permutation n'est pas l'identité, et la factorisation LU avec pivot est maintenant correcte. \n",
    "\n",
    "Comme nous l'avons vu en cours, la factorisation LU avec pivot est plus stable que la factorisation LU sans pivot. En effet, la factorisation LU sans pivot peut conduire à des erreurs d'arrondi importantes, qui donnent ensuite des résultats incorrects."
   ]
  },
  {
   "cell_type": "code",
   "execution_count": 14,
   "metadata": {},
   "outputs": [
    {
     "name": "stdout",
     "output_type": "stream",
     "text": [
      "Tests automatiques réussis.\n"
     ]
    }
   ],
   "source": [
    "# Test automatique avec des matrices aléatoires\n",
    "for n in np.arange(2, 10):\n",
    "    np.random.seed(1234)\n",
    "    A = np.random.rand(n, n)\n",
    "    P, L, U = lu_pivot(A)\n",
    "    assert np.allclose(A, P.T @ L @ U), \"A != P @ L @ U\"\n",
    "    # Vérification que L est triangulaire inférieure\n",
    "    assert np.allclose(L, np.tril(L)), \"L n'est pas triangulaire inférieure\"\n",
    "    # Vérification que U est triangulaire supérieure\n",
    "    assert np.allclose(U, np.triu(U)), \"U n'est pas triangulaire supérieure\"\n",
    "    # Vérification que P est une matrice de permutation\n",
    "    assert np.allclose(P @ P.T, np.eye(n)), \"P @ P.T != I\"\n",
    "A = np.zeros((5, 5))\n",
    "try:\n",
    "    P, L, U = lu_pivot(A)\n",
    "    assert False, \"Votre fonction ne détecte pas les matrices singulières.\"\n",
    "except ValueError:\n",
    "    pass\n",
    "\n",
    "print(\"Tests automatiques réussis.\")"
   ]
  },
  {
   "attachments": {},
   "cell_type": "markdown",
   "metadata": {},
   "source": [
    "### Exercice 1.3: Stabilité de la factorisation LU"
   ]
  },
  {
   "attachments": {},
   "cell_type": "markdown",
   "metadata": {},
   "source": [
    "L'algorithme de factorisation LU avec recherche de pivot partiel **est stable** au sens de la définition de backward stabilité vue en cours.\n",
    "\n",
    "**Cependant**, il est facile de trouver des matrices pour lesquelles la croissance des éléments de $U$ est très importante. Regardons cela de plus près.\n",
    "\n",
    "**Remarque:** Si vous n'avez pas réussi les exercices précédents, vous pouvez utiliser la fonction `scipy.linalg.lu` pour calculer la factorisation LU avec pivot."
   ]
  },
  {
   "attachments": {},
   "cell_type": "markdown",
   "metadata": {},
   "source": [
    "#### Exercice 1.3.1: Le pire scénario\n",
    "\n",
    "Trouvons la pire matrice possible pour la factorisation LU avec pivot. \n",
    "\n",
    "Commençons avec la matrice de taille $3 \\times 3$ suivante:\n",
    "$$A = \\begin{pmatrix} 1 & 0 & 1 \\\\ -1 & 1 & 1 \\\\ -1 & -1 & 1 \\end{pmatrix}.$$\n",
    "\n",
    "1. Calculez la factorisation LU avec pivot de cette matrice, puis inspectez les matrices $L$ et $U$ obtenues.\n",
    "\n",
    "2. Ensuite, continuez avec des matrices de taille $4 \\times 4$, $5 \\times 5$, (etc).\n"
   ]
  },
  {
   "cell_type": "code",
   "execution_count": 20,
   "metadata": {},
   "outputs": [
    {
     "name": "stdout",
     "output_type": "stream",
     "text": [
      "L =  [[ 1.  0.  0.]\n",
      " [-1.  1.  0.]\n",
      " [-1. -1.  1.]]\n",
      "U =  [[1. 0. 1.]\n",
      " [0. 1. 2.]\n",
      " [0. 0. 4.]]\n",
      "L =  [[ 1.  0.  0.  0.]\n",
      " [-1.  1.  0.  0.]\n",
      " [-1. -1.  1.  0.]\n",
      " [-1. -1. -1.  1.]]\n",
      "U =  [[1. 0. 0. 1.]\n",
      " [0. 1. 0. 2.]\n",
      " [0. 0. 1. 4.]\n",
      " [0. 0. 0. 8.]]\n",
      "L =  [[ 1.  0.  0.  0.  0.]\n",
      " [-1.  1.  0.  0.  0.]\n",
      " [-1. -1.  1.  0.  0.]\n",
      " [-1. -1. -1.  1.  0.]\n",
      " [-1. -1. -1. -1.  1.]]\n",
      "U =  [[ 1.  0.  0.  0.  1.]\n",
      " [ 0.  1.  0.  0.  2.]\n",
      " [ 0.  0.  1.  0.  4.]\n",
      " [ 0.  0.  0.  1.  8.]\n",
      " [ 0.  0.  0.  0. 16.]]\n"
     ]
    }
   ],
   "source": [
    "# Taille 3 x 3\n",
    "A = np.array([[1, 0, 1], [-1, 1, 1], [-1, -1, 1]], dtype=float)\n",
    "\n",
    "P, L, U = lu_pivot(A)\n",
    "print(\"L = \", L)\n",
    "print(\"U = \", U)\n",
    "\n",
    "# Taille 4 x 4\n",
    "A = np.array([[1, 0, 0, 1], [-1, 1, 0, 1], [-1, -1, 1, 1], [-1, -1, -1, 1]], dtype=float)\n",
    "\n",
    "P, L, U = lu_pivot(A)\n",
    "print(\"L = \", L)\n",
    "print(\"U = \", U)\n",
    "\n",
    "# Taille 5 x 5\n",
    "A = np.array([[1, 0, 0, 0, 1], [-1, 1, 0, 0, 1], [-1, -1, 1, 0, 1], [-1, -1, -1, 1, 1], [-1, -1, -1, -1, 1]], dtype=float)\n",
    "\n",
    "P, L, U = lu_pivot(A)\n",
    "print(\"L = \", L)\n",
    "print(\"U = \", U)\n"
   ]
  },
  {
   "attachments": {},
   "cell_type": "markdown",
   "metadata": {},
   "source": [
    "La recherche de pivot partiel est-elle utile?\n",
    "\n",
    "Que remarquez-vous à propos de la dernière colonne de $U$? \n",
    "Et à propos de $L$? \n",
    "\n",
    "\n",
    "Que peut-on en déduire sur les normes de $L$ et $U$?"
   ]
  },
  {
   "attachments": {},
   "cell_type": "markdown",
   "metadata": {},
   "source": [
    "*Votre réponse ici*\n",
    "\n",
    "**A propos de $U$**\n",
    "\n",
    "On remarque que la dernière colonne contient des puissances de $2$. En fait, on obtient toujours comme dernier élément de la diagonale $2^{n-1}$, où $n$ est la taille de la matrice. Ainsi, la norme de $U$ est $O(2^{n-1})$.\n",
    "\n",
    "**A propos de $L$**\n",
    "\n",
    "La diagonale de $L$ est composée de 1. Ainsi, la norme de $L$ est $O(1)$."
   ]
  },
  {
   "attachments": {},
   "cell_type": "markdown",
   "metadata": {},
   "source": [
    "#### Exercice 1.3.2: Le facteur de croissance\n",
    "\n",
    "Pour une factorisation $PA = LU$, le facteur de croissance (growth factor) est défini comme suit:\n",
    "\n",
    "$$\\rho = \\frac{\\max_{i,j} |u_{ij}|}{\\max_{i,j} |a_{ij}|}.$$\n",
    "\n",
    "Ainsi, lors de la résolution d'un système linéaire avec LU, un facteur de croissance $\\rho = 2^m$ signifie une perte de précision de $m$ bits.\n",
    "\n",
    "Il est possible de montrer que la matrice de l'exercice 1.3.1 a le plus grand facteur de croissance possible, c'est-à-dire $\\rho_{max} = 2^{n-1}$, où $n$ est la taille de la matrice. (C'est un bon exercice théorique, que vous pouvez faire.) Ainsi, avec cette matrice de taille $65 \\times 65$, on perd 64 bits de précision. \n",
    "\n",
    "Cela peut sembler dramatique, mais en pratique, de telles matrices sont très rares. Essayons de vérifier cela expérimentalement.\n",
    "\n",
    "---\n",
    "\n",
    "Écrire une fonction `growth_factor` qui prend en argument une matrice $A$ et qui renvoie le facteur de croissance $\\rho$ de la factorisation LU avec pivot de $A$. Vous pouvez vérifier votre code avec la matrice $A$ précédente, et vous devriez obtenir $\\rho = 2^{n-1}$.\n"
   ]
  },
  {
   "cell_type": "code",
   "execution_count": 57,
   "metadata": {},
   "outputs": [],
   "source": [
    "# Facteur de croissance\n",
    "def growth_factor(A):\n",
    "    \"\"\"\n",
    "    Facteur de croissance de la factorisation LU de A.\n",
    "\n",
    "    Entrées\n",
    "    -------\n",
    "    A : ndarray\n",
    "        Matrice carrée de taille n.\n",
    "\n",
    "    Sorties\n",
    "    -------\n",
    "    g : float\n",
    "        Facteur de croissance de la factorisation LU de A.\n",
    "    \"\"\"\n",
    "    # VOTRE CODE ICI\n",
    "    _, _, U = sp.linalg.lu(A)\n",
    "    return np.max(np.abs(U)) / np.max(np.abs(A))"
   ]
  },
  {
   "cell_type": "code",
   "execution_count": 58,
   "metadata": {},
   "outputs": [
    {
     "name": "stdout",
     "output_type": "stream",
     "text": [
      "Facteur de croissance de A =  16.0\n"
     ]
    }
   ],
   "source": [
    "# Votre test ici\n",
    "A = np.array([[1, 0, 0, 0, 1], [-1, 1, 0, 0, 1], [-1, -1, 1, 0, 1], [-1, -1, -1, 1, 1], [-1, -1, -1, -1, 1]], dtype=float)\n",
    "print(\"Facteur de croissance de A = \", growth_factor(A))"
   ]
  },
  {
   "attachments": {},
   "cell_type": "markdown",
   "metadata": {},
   "source": [
    "#### Exercice 1.3.3: Matrices aléatoires\n",
    "\n",
    "Pour des matrices aléatoires, essayons de voir l'évolution du facteur de croissance en fonction de la taille de la matrice.\n",
    "\n",
    "1. Lisez le code ci-dessous. Que fait-il?\n",
    "2. Complétez le code de sorte à calculer et stocker le facteur de croissance de chaque matrice aléatoire."
   ]
  },
  {
   "cell_type": "code",
   "execution_count": 60,
   "metadata": {},
   "outputs": [
    {
     "name": "stderr",
     "output_type": "stream",
     "text": [
      "100%|██████████| 20/20 [00:00<00:00, 28.74it/s] \n"
     ]
    },
    {
     "data": {
      "image/png": "[encoded data removed]",
      "text/plain": [
       "<Figure size 1000x600 with 1 Axes>"
      ]
     },
     "metadata": {},
     "output_type": "display_data"
    }
   ],
   "source": [
    "# Paramètres\n",
    "sizes = np.logspace(0, 3, 20, dtype=int)\n",
    "nb_matrices = 10\n",
    "rhos = np.zeros((len(sizes), nb_matrices))\n",
    "\n",
    "# Boucle sur les tailles\n",
    "from tqdm import tqdm\n",
    "for n in tqdm(np.arange(len(sizes))):\n",
    "    for i in np.arange(nb_matrices):\n",
    "        A = np.random.rand(sizes[n], sizes[n])\n",
    "        # VOTRE CODE ICI\n",
    "        rhos[n, i] = growth_factor(A)\n",
    "\n",
    "# Affichage de tous les facteurs de croissance, en fonction de la taille\n",
    "import matplotlib.pyplot as plt\n",
    "plt.figure(figsize=(10, 6))\n",
    "plt.plot(sizes, rhos, \"bo\", alpha=0.5)\n",
    "plt.plot(sizes, sizes**(1/2), \"r--\", label=\"O(n^(1/2))\")\n",
    "plt.legend()\n",
    "plt.xscale(\"log\")\n",
    "plt.yscale(\"log\")\n",
    "plt.xlabel(\"Taille de la matrice\")\n",
    "plt.ylabel(\"Facteur de croissance\")\n",
    "plt.grid()\n",
    "plt.show()\n",
    "\n"
   ]
  },
  {
   "attachments": {},
   "cell_type": "markdown",
   "metadata": {},
   "source": [
    "Que remarquez-vous? Comparez avec le facteur de croissance maximal."
   ]
  },
  {
   "attachments": {},
   "cell_type": "markdown",
   "metadata": {},
   "source": [
    "*Votre réponse ici*\n",
    "\n",
    "On voit que le facteur de croissance croît comme $O(n^{1/2})$, ce qui est beaucoup plus petit que $\\rho_{max} = 2^{n-1}$. \n",
    "\n",
    "Ainsi, la factorisation LU avec pivot fonctionne très bien pour des matrices aléatoires. "
   ]
  },
  {
   "attachments": {},
   "cell_type": "markdown",
   "metadata": {},
   "source": [
    "#### Exercice 1.3.4: Encore plus de matrices aléatoires\n",
    "\n",
    "Dans l'exercice précédent, nous avons utilisé seulement $10$ matrices aléatoires pour chaque taille de matrice. Le facteur de croissance observé était petit, mais peut-être avons-nous eu de la chance? Regardons alors la densité de probabilité du facteur de croissance.\n",
    "\n",
    "Le code ci-dessous génère 10'000 matrices aléatoires de taille $8 \\times 8$, $16 \\times 16$, $32 \\times 32$. \n",
    "\n",
    "/!\\ Avec la fonction `lu_pivot`, le code peut être long à s'exécuter. Si vous avez des problèmes de temps de calcul, vous pouvez utiliser la fonction `scipy.linalg.lu` qui est plus rapide.\n",
    "\n",
    "Complétez le code de sorte à calculer et stocker le facteur de croissance $\\rho$ de chaque matrice. "
   ]
  },
  {
   "cell_type": "code",
   "execution_count": 61,
   "metadata": {},
   "outputs": [
    {
     "name": "stderr",
     "output_type": "stream",
     "text": [
      "100%|██████████| 10000/10000 [00:00<00:00, 12787.15it/s]\n"
     ]
    },
    {
     "data": {
      "image/png": "[encoded data removed]",
      "text/plain": [
       "<Figure size 640x480 with 1 Axes>"
      ]
     },
     "metadata": {},
     "output_type": "display_data"
    }
   ],
   "source": [
    "# Génération de matrices aléatoires\n",
    "from tqdm import tqdm\n",
    "np.random.seed(1234)\n",
    "nb = 10000\n",
    "rho_8 = np.zeros(nb)\n",
    "rho_16 = np.zeros(nb)\n",
    "rho_32 = np.zeros(nb)\n",
    "for i in tqdm(np.arange(nb)):\n",
    "    A = np.random.rand(8, 8)\n",
    "    B = np.random.rand(16, 16)\n",
    "    C = np.random.rand(32, 32)\n",
    "    # Votre code ici\n",
    "    rho_8[i] = growth_factor(A)\n",
    "    rho_16[i] = growth_factor(B)\n",
    "    rho_32[i] = growth_factor(C)\n",
    "\n",
    "# Affichage des résultats (densité de probabilité)\n",
    "import matplotlib.pyplot as plt\n",
    "plt.hist(rho_8, bins=20, density=True, label=\"8 x 8\", histtype=\"step\")\n",
    "plt.hist(rho_16, bins=20, density=True, label=\"16 x 16\", histtype=\"step\")\n",
    "plt.hist(rho_32, bins=20, density=True, label=\"32 x 32\", histtype=\"step\")\n",
    "plt.legend()\n",
    "plt.grid()\n",
    "plt.yscale(\"log\")\n",
    "plt.xlabel(\"Facteur de croissance\")\n",
    "plt.ylabel(\"Densité de probabilité\")\n",
    "plt.title(\"Densité de probabilité du facteur de croissance pour des matrices aléatoires\")\n",
    "plt.show()\n",
    "\n"
   ]
  },
  {
   "attachments": {},
   "cell_type": "markdown",
   "metadata": {},
   "source": [
    "Que peut-on conclure ?"
   ]
  },
  {
   "attachments": {},
   "cell_type": "markdown",
   "metadata": {},
   "source": [
    "*Votre réponse ici*\n",
    "\n",
    "La densité de probabilité du facteur de croissance est très concentrée autour de petits facteur de croissance. Cela signifie que la factorisation LU avec pivot est très stable pour des matrices aléatoires."
   ]
  },
  {
   "attachments": {},
   "cell_type": "markdown",
   "metadata": {},
   "source": [
    "Cet observation est le résultat de beaucoup d'années de recherche en analyse numérique linéaire. Cependant, la distribution du facteur de croissance n'est pas théoriquement connue. Ce problème est ouvert !"
   ]
  },
  {
   "attachments": {},
   "cell_type": "markdown",
   "metadata": {},
   "source": [
    "## Exercice 2: Décomposition de Cholesky (optionnel)"
   ]
  },
  {
   "attachments": {},
   "cell_type": "markdown",
   "metadata": {},
   "source": [
    "Soit $n \\in \\mathbb N$, et soit $A \\in \\mathbb R^{n \\times n}$ une matrice symétrique définie positive. \n",
    "\n",
    "La décomposition de Cholesky de $A$ est donnée par la factorisation $$A = LL^T,$$ où $L$ est une matrice triangulaire inférieure.\n",
    "\n",
    "---\n",
    "\n",
    "Implémenter la fonction `Cholesky` qui prend en argument une matrice $A$ et qui renvoie la matrice $L$ telle que $A = LL^T$. \n",
    "\n",
    "Testez votre algorithme sur un matrice symétrie définie positive $A$.\n",
    "\n",
    "Indications: \n",
    "- Voir l'algorithme 5.18 du polycopié.\n",
    "- On peut générer une matrice symétrique définit positive en posant $A = G G^T$ où $G$ est une matrice inversible de taille $n \\times n$. \n",
    "\n",
    "NB: Les matrices aléatoires de `numpy` sont inversibles avec une probabilité proche de 1."
   ]
  },
  {
   "cell_type": "code",
   "execution_count": 16,
   "metadata": {},
   "outputs": [],
   "source": [
    "def Cholesky(A):\n",
    "    \"\"\"\n",
    "    Factorisation de Cholesky de A.\n",
    "\n",
    "    Entrées\n",
    "    -------\n",
    "    A : ndarray\n",
    "        Matrice symétrique et définie positive de taille n.\n",
    "\n",
    "    Sorties\n",
    "    -------\n",
    "    L : ndarray\n",
    "        Matrice triangulaire inférieure de taille n.\n",
    "    \"\"\"\n",
    "    # VOTRE CODE ICI\n",
    "    n = A.shape[0]\n",
    "    L = np.zeros((n,n))\n",
    "    for k in np.arange(n):\n",
    "        L[k,k] = np.sqrt(A[k,k] - np.sum(L[k,:k]**2))\n",
    "        for i in np.arange(k+1, n):\n",
    "            L[i,k] = (A[i,k] - np.sum(L[i,:k] * L[k,:k])) / L[k,k]\n",
    "    return L"
   ]
  },
  {
   "cell_type": "code",
   "execution_count": 17,
   "metadata": {},
   "outputs": [
    {
     "name": "stdout",
     "output_type": "stream",
     "text": [
      "A =  [[ 3.69499531  0.05316012  3.26028714  2.5653839  -0.83925724]\n",
      " [ 0.05316012  3.15812779 -1.0028361  -0.08092068 -1.53478455]\n",
      " [ 3.26028714 -1.0028361  18.41536771  5.82229471  0.42624673]\n",
      " [ 2.5653839  -0.08092068  5.82229471  3.16721624 -0.36952099]\n",
      " [-0.83925724 -1.53478455  0.42624673 -0.36952099  1.19097235]]\n",
      "L @ L.T =  [[ 3.69499531  0.05316012  3.26028714  2.5653839  -0.83925724]\n",
      " [ 0.05316012  3.15812779 -1.0028361  -0.08092068 -1.53478455]\n",
      " [ 3.26028714 -1.0028361  18.41536771  5.82229471  0.42624673]\n",
      " [ 2.5653839  -0.08092068  5.82229471  3.16721624 -0.36952099]\n",
      " [-0.83925724 -1.53478455  0.42624673 -0.36952099  1.19097235]]\n"
     ]
    }
   ],
   "source": [
    "# VOTRE TEST ICI\n",
    "G = np.random.randn(5, 5)\n",
    "A = G @ G.T\n",
    "L = Cholesky(A)\n",
    "\n",
    "print(\"A = \", A)\n",
    "print(\"L @ L.T = \", L @ L.T)\n"
   ]
  },
  {
   "cell_type": "code",
   "execution_count": 62,
   "metadata": {},
   "outputs": [
    {
     "name": "stdout",
     "output_type": "stream",
     "text": [
      "Tests automatiques réussis.\n"
     ]
    }
   ],
   "source": [
    "# Test automatique\n",
    "for n in np.arange(2, 10):\n",
    "    np.random.seed(1234)\n",
    "    A = np.random.rand(n, n)\n",
    "    A = A @ A.T\n",
    "    L = Cholesky(A)\n",
    "    assert np.allclose(A, L @ L.T), \"A != L @ L.T\"\n",
    "    L_ref = sp.linalg.cholesky(A, lower=True)\n",
    "    assert np.allclose(L, L_ref), \"L != L_ref\"\n",
    "print(\"Tests automatiques réussis.\")"
   ]
  }
 ],
 "metadata": {
  "kernelspec": {
   "display_name": "teaching",
   "language": "python",
   "name": "python3"
  },
  "language_info": {
   "codemirror_mode": {
    "name": "ipython",
    "version": 3
   },
   "file_extension": ".py",
   "mimetype": "text/x-python",
   "name": "python",
   "nbconvert_exporter": "python",
   "pygments_lexer": "ipython3",
   "version": "3.11.0"
  },
  "orig_nbformat": 4,
  "vscode": {
   "interpreter": {
    "hash": "112636ffc901f9de72bbe7266a0ede258d75bb786f9e0cb42dc192bccd4b68c6"
   }
  }
 },
 "nbformat": 4,
 "nbformat_minor": 2
}
