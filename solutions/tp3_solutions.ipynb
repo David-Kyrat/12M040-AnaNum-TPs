{
  "cells": [
    {
      "cell_type": "markdown",
      "metadata": {
        "id": "GfxCL8DQb08Z"
      },
      "source": [
        "## TP 3 : Erreurs d'arrondi\n",
        "\n",
        "Dans ce TP, on se concentrera sur les erreurs d'arrondi. On s'intéressera aux erreurs d'arrondi qui apparaissent dans la recherche et l'évaluation des racines de polynômes et dans le calcul des dérivées de fonctions analytiques."
      ]
    },
    {
      "cell_type": "markdown",
      "metadata": {
        "id": "JI4948Gcb08d"
      },
      "source": [
        "## Exercice 1 :  Erreurs d'arrondi et racines d'un polynôme.\n",
        "\n",
        "Dans cet exercice, on veut trouver les racines d'un polynôme, c.-à-d. résoudre\n",
        "$$\n",
        "p(x)=\\sum_{i=0}^n a_ix^i=0.\n",
        "$$\n",
        "Il est bien connu qu'un polynôme de  degré $n$ a $n$ racines $x_1\\, ,\\, x_2\\, \\dots,\\, x_n \\in\\mathbb{C}$."
      ]
    },
    {
      "cell_type": "markdown",
      "metadata": {
        "id": "SUDsWk4Xb08e"
      },
      "source": [
        "### Exercice 1 a)\n",
        " > Pour $p(x)=a_0 + a_1x + a_2x^2$, on peut trouver ses racines en utilisant la formule suivante\n",
        "$$\n",
        "x_{1,2}=\\frac{-a_1\\pm \\sqrt{a_1^2-4a_0a_2}}{2a_2}.\n",
        "$$\n",
        "> Appliquer la formule pour $p(x) = (x-10^{m})(x-10^{-m})$. Tracez l'erreur relative de $x_1$, $x_2$ par rapport aux vraies valeurs des racines pour $m=1,\\dots,12$.  \n",
        ">\n",
        "> _Explication_: Quand $a_1$ et $\\sqrt{a_1^2-4a_0a_2}$ sont du même ordre de grandeur, des annulations vont apparaître dans l'opération  $-a_1\\pm \\sqrt{a_1^2-4a_0a_2}$.\n",
        "---"
      ]
    },
    {
      "cell_type": "code",
      "execution_count": null,
      "metadata": {
        "colab": {
          "base_uri": "https://localhost:8080/",
          "height": 283
        },
        "id": "rehwK9HDb08f",
        "outputId": "d0a73b34-5808-4602-c7fe-7c6d981d7413"
      },
      "outputs": [
        {
          "output_type": "execute_result",
          "data": {
            "text/plain": [
              "<matplotlib.legend.Legend at 0x7f30f2612d90>"
            ]
          },
          "metadata": {},
          "execution_count": 5
        },
        {
          "output_type": "display_data",
          "data": {
            "text/plain": [
              "<Figure size 432x288 with 1 Axes>"
            ],
            "image/png": "[encoded data removed]"
          },
          "metadata": {
            "needs_background": "light"
          }
        }
      ],
      "source": [
        "import numpy as np\n",
        "import matplotlib.pyplot as plt\n",
        "\n",
        "\n",
        "def sol_quadratic(coeff):\n",
        "    \"\"\"\n",
        "    Calcule les racines d'un polynôme quadratique à coefficients `coeff`\n",
        "\n",
        "    `coeff` est une liste, et son premier élément est le coefficient du monomial\n",
        "    de degré 2.\n",
        "    \"\"\"\n",
        "    a0, a1, a2 = coeff\n",
        "    # VOTRE CODE ICI\n",
        "    delta = a1**2 - 4 * a0 * a2\n",
        "    delta_sqrt = np.sqrt(delta)\n",
        "    return (-a1 + delta_sqrt) / (2 * a0), (-a1 - delta_sqrt) / (2 * a0)\n",
        "\n",
        "\n",
        "errors1 = []\n",
        "errors2 = []\n",
        "m_vals = np.linspace(1, 13, 50)\n",
        "for m in m_vals:\n",
        "    x1, x2 = sol_quadratic([1, -(10.0 ** (-m)) - 10.0**m, 1])\n",
        "    errors1.append(abs(x1-10**m) / 10.0**m)\n",
        "    errors2.append(abs(x2-10**(-m)) * 10.0**m)\n",
        "\n",
        "\n",
        "plt.plot(m_vals, errors1, label=\"Erreur relative de x1\")\n",
        "plt.plot(m_vals, errors2, label=\"Erreur relative de x2\")\n",
        "plt.legend()\n"
      ]
    },
    {
      "cell_type": "markdown",
      "metadata": {
        "id": "3b0tpmxyb08i"
      },
      "source": [
        "> _Réflexion_ : L'une des deux racines est trouvée avec précision, et l'autre ne l'est pas. Pourquoi pensez-vous que c'est le cas ?\n",
        "\n",
        "> _Solution:_ La racine $10^{-m}$ est calculée en faisant la différence de deux très grands nombres, et est ainsi suceptible à des erreurs (extinction des chiffres significatifs). \n",
        "La racine $10^{m}$, quant à elle, est calculée en ajoutant deux grands nombres, ce qui ne pose pas de problèmes en général. \n",
        "\n",
        "\n",
        "> Réflexion : La méthode s'effondre aux alentours de $m=8$. Pourquoi à cette valeur ?\n",
        "\n",
        "> _Solution :_ La valeur de l'epsilon machine est d'environ $10^{-16}$, mais vu que nous prennons la racine carrée, the précision commence à se déteriorer à environ $10^{-8}$."
      ]
    },
    {
      "cell_type": "markdown",
      "metadata": {
        "id": "vMDW4cCtb08k"
      },
      "source": [
        "### Exercice 1b) \n",
        "On peut utiliser la méthode de Newton (qui sera étudiée plus en détail plus tard dans le cours) pour calculer itérativement les racines d'une fonction $p(x)$ en utilisant la formule suivante :\n",
        "$$\n",
        "    x_{n+1}=x_n-\\frac{p(x_n)}{p'(x_n)},\n",
        "$$\n",
        "\n",
        "----\n",
        "> Implémentez `methode_newton`, selon la description ci-dessous. Elle devrait afficher un avertissement si elle ne converge pas. Calculez $x_1$ et $x_2$ en utilisant la question précédente, et introduisez-les dans la méthode de Newton comme valeurs initiales avec $p(x)$ le polynôme de l'exercice précédent pour $m=10$. \n",
        ">\n",
        "> La méthode converge-t-elle pour les deux valeurs ? L'application de la méthode de Newton a-t-elle amélioré le résultat ?\n",
        "----\n",
        "\n",
        "_Indice : utilisez `np.polyval(coeff, x)` pour évaluer un polynôme, et utilisez `np.polyder(coeff)` pour obtenir les coefficients de la dérivée d'un polynôme._"
      ]
    },
    {
      "cell_type": "code",
      "execution_count": null,
      "metadata": {
        "colab": {
          "base_uri": "https://localhost:8080/"
        },
        "id": "5acjMmaBb08k",
        "outputId": "5ab8aebe-983f-4312-b6eb-7d47fddcddb4"
      },
      "outputs": [
        {
          "output_type": "stream",
          "name": "stdout",
          "text": [
            "x1 = 1.00e+10, x2 = 0.00e+00\n",
            "La méthode n'a pas convergé pour x0 = 1.00e+10\n",
            "Resultat avec x0=x1: 1.00e+10\n",
            "Resultat avec x0=x2: 1.00e-10\n"
          ]
        }
      ],
      "source": [
        "def newtons_method(coeff, x0, tol=1e-8, maxiter=100):\n",
        "    \"\"\"\n",
        "    Calculer la racine d'un polynôme par la méthode de Newton\n",
        "\n",
        "    Les coefficients du polynôme sont donnés par `coeff` sous forme de liste où\n",
        "    le premier élément est le coefficient du monomial de plus haut degré.\n",
        "\n",
        "    La valeur initiale est `x0`.\n",
        "\n",
        "    Après chaque itération, nous vérifions si `abs(p(x)) < tol`, si c'est le\n",
        "    cas, on retourne `x`.\n",
        "\n",
        "    Si après `maxiter` itérations on n'a pas trouvé de solution à cette\n",
        "    tolérance, on informe l'utilisateur via une instruction print que la méthode\n",
        "    n'a pas convergé.\n",
        "    \"\"\"\n",
        "    # VOTRE CODE ICI\n",
        "    poly_diff = np.polyder(coeff)\n",
        "    x = x0\n",
        "    for i in range(maxiter):\n",
        "        poly_val = np.polyval(coeff, x)\n",
        "        if np.abs(poly_val) < tol:\n",
        "            return x\n",
        "        poly_diff_val = np.polyval(poly_diff, x)\n",
        "        x = x - poly_val / np.polyval(poly_diff, x)\n",
        "\n",
        "    print(f\"La méthode n'a pas convergé pour x0 = {x0:.2e}\")\n",
        "    return x\n",
        "\n",
        "\n",
        "m = 10\n",
        "coeff = [1, -(10.0 ** (-m)) - 10.0**m, 1]\n",
        "x1, x2 = sol_quadratic(coeff)\n",
        "print(f\"x1 = {x1:.2e}, x2 = {x2:.2e}\")\n",
        "\n",
        "# VOTRE CODE ICI\n",
        "\n",
        "x1_newton = newtons_method(coeff, x1)\n",
        "print(f\"Resultat avec x0=x1: {x1_newton:.2e}\")\n",
        "x2_newton = newtons_method(coeff, x2)\n",
        "print(f\"Resultat avec x0=x2: {x2_newton:.2e}\")\n"
      ]
    },
    {
      "cell_type": "markdown",
      "metadata": {
        "id": "WTrEVhS1b08l"
      },
      "source": [
        "> _Solution : Nous observons que la méthode de Newton a trouvé le bon résultat pour $x_2$. Pour $x_1$, la méthode ne converge pas car malgré que la méthode ait trouvé le bon résultat, nous avons $p(x_1) = 1$ et non $p(x_1) = 0$ à cause des erreurs d'arrondi._"
      ]
    },
    {
      "cell_type": "markdown",
      "metadata": {
        "id": "2oFUnnv2b08m"
      },
      "source": [
        "Pour des polynômes de degré $n$, on peut utiliser la fonction `np.roots` pour calculer plus précisement les racines numériquement. Pour construire des polynômes, on peut utiliser `np.polymul` pour obtenir les coefficients des produits de deux polynômes. Par exemple ci-dessous on construit le polynôme $(x^2-2)^3$ et on calcule ses racines.\n"
      ]
    },
    {
      "cell_type": "code",
      "execution_count": null,
      "metadata": {
        "colab": {
          "base_uri": "https://localhost:8080/"
        },
        "id": "9iR9e3ETb08m",
        "outputId": "8096ce76-f720-40b8-fb2f-b1734b92d80f"
      },
      "outputs": [
        {
          "output_type": "stream",
          "name": "stdout",
          "text": [
            "Les coefficients de (x**2-2)**3: [ 1.  0. -6.  0. 12.  0. -8.]\n",
            "Les racines de (x**2-2)**3: [-1.41421016+0.00000000e+00j -1.41421526+2.94650779e-06j\n",
            " -1.41421526-2.94650779e-06j  1.41421986+0.00000000e+00j\n",
            "  1.41421041+5.45806908e-06j  1.41421041-5.45806908e-06j]\n"
          ]
        }
      ],
      "source": [
        "poly = [1.0]  # Commencer avec p(x) = 1.0\n",
        "for i in range(3):\n",
        "    poly = np.polymul(poly, [1, 0, -2])  # Multiplier par (x^2 - 2)\n",
        "print(f\"Les coefficients de (x**2-2)**3: {poly}\")\n",
        "racines = np.roots(poly)\n",
        "print(f\"Les racines de (x**2-2)**3: {racines}\")\n"
      ]
    },
    {
      "cell_type": "markdown",
      "metadata": {
        "id": "J6z1aH3Jb08m"
      },
      "source": [
        "Observez que les racines sont des nombres complexes. En précision infinie, on devrait obtenir les racines $\\sqrt{2}$ et $-\\sqrt{2}$, ainsi les parties imaginaires de ces racines devraient être égales à 0. Pourtant, certaines des racines trouvées par `np.roots` ont une partie imaginaire non nulle en raison d'erreurs d'arrondi."
      ]
    },
    {
      "cell_type": "markdown",
      "metadata": {
        "id": "zwzLuUCkb08n"
      },
      "source": [
        "### Exercice 1c)\n",
        "> Trouvez les racines du polynôme de Wilkinson perturbé : \n",
        "$$\n",
        "  p_\\delta (x)=\\prod_{i=1}^{20}(x-i)+ \\delta\\cdot  x^{19},\n",
        "$$\n",
        "> ou $\\delta$ est un parmètre de perturbation. \n",
        ">\n",
        "> Tracez le résultat dans le plan complexe pour $\\delta=0,\\,10^{-4},\\,10^{-8},\\,10^{-16}$.\n",
        ">\n",
        "> _Indication_ : Vous pouvez utiliser `np.real` et `np.imag` pour obtenir les parties réelles et imaginaires d'un nombre ou d'un array.\n",
        "---- \n",
        "\n",
        "**Important** : assurez-vous que les coefficients du polynôme de Wilkinson soient stockés en format virgule flottante et non en format entier, sinon vous risquez d'obtenir des résultats imprécis."
      ]
    },
    {
      "cell_type": "code",
      "execution_count": null,
      "metadata": {
        "colab": {
          "base_uri": "https://localhost:8080/",
          "height": 297
        },
        "id": "6-3fiBSEb08n",
        "outputId": "fa6c201f-8c63-43e3-cbef-371b0eba2d85"
      },
      "outputs": [
        {
          "output_type": "execute_result",
          "data": {
            "text/plain": [
              "<matplotlib.legend.Legend at 0x7f30f25bd450>"
            ]
          },
          "metadata": {},
          "execution_count": 8
        },
        {
          "output_type": "display_data",
          "data": {
            "text/plain": [
              "<Figure size 432x288 with 1 Axes>"
            ],
            "image/png": "[encoded data removed]"
          },
          "metadata": {
            "needs_background": "light"
          }
        }
      ],
      "source": [
        "from copy import copy\n",
        "\n",
        "# Vous pouvez utiliser la fonction copy pour copier une liste comme ceci :\n",
        "# liste2 = copy(liste1)\n",
        "\n",
        "# VOTRE CODE ICI\n",
        "\n",
        "poly = [1.0]\n",
        "for i in range(1, 21):\n",
        "    poly = np.polymul(poly, [1.0, -i])\n",
        "\n",
        "delta_vals = [0, 1e-4, 1e-8, 1e-16]\n",
        "for delta in delta_vals:\n",
        "    polynew = copy(poly)\n",
        "    polynew[1] += delta\n",
        "    roots = np.roots(polynew)\n",
        "    plt.plot(roots.real, roots.imag, \"x\", label=f\"delta = {delta:.0e}\")\n",
        "plt.xlabel(\"Partie réelle\")\n",
        "plt.ylabel(\"Partie imaginaire\")\n",
        "plt.legend()\n"
      ]
    },
    {
      "cell_type": "markdown",
      "metadata": {
        "id": "DXei2km-b08n"
      },
      "source": [
        "### Exercice 1d)\n",
        "Remarquez que l'on peut écrire \n",
        "$$\n",
        "    p_\\delta (x)=\\prod_{i=1}^{20}(x-i)+ \\delta\\cdot  x^{19} =\\prod_{i=1}^{20}(x-x_i)\n",
        "$$\n",
        "avec $x_i$ les racines.On peut traiter $x_i(\\delta)$ comme une fonction de $\\delta$, et on a\n",
        "$$\n",
        "\\frac{d x_i}{d \\delta} \\,\\bigg|_{\\delta=0}\n",
        "= \\frac{x_i^{19}}{\\prod_{j\\neq i} (x_j-x_i)}\\bigg|_{\\delta=0}\n",
        "= \\prod_{j\\neq i} \\frac{i}{j-i}.\n",
        "$$\n",
        "\n",
        "Ici $\\left|\\dfrac{d x_i}{d \\delta} \\right |_{\\delta=0}$ mesure la condition (en sens absolu) des racines  $x_i(0)=i$, c.-à-d., la sensibilité de $x_i$ aux perturbations par $\\delta$. \n",
        "\n",
        "----\n",
        "> Calculer la sensibilité de toutes les racines $x_i$ en utilisant la formule ci-dessus. Utilisez cette dernière pour expliquer vos observations de la figure que vous avez faite dans l'exercice précédent.\n",
        ">\n",
        "> Écrivez votre explication sous forme de commentaire ou de cellule markdown. \n",
        "---- "
      ]
    },
    {
      "cell_type": "code",
      "execution_count": null,
      "metadata": {
        "colab": {
          "base_uri": "https://localhost:8080/"
        },
        "id": "w9pZzGqRb08n",
        "outputId": "6bfa962c-97e3-402d-cf4c-8b0a60371041"
      },
      "outputs": [
        {
          "output_type": "stream",
          "name": "stdout",
          "text": [
            "Sensibilité pour la racine  1:  8.22e-18\n",
            "Sensibilité pour la racine  2: -8.19e-11\n",
            "Sensibilité pour la racine  3:  1.63e-06\n",
            "Sensibilité pour la racine  4: -2.19e-03\n",
            "Sensibilité pour la racine  5:  6.08e-01\n",
            "Sensibilité pour la racine  6: -5.82e+01\n",
            "Sensibilité pour la racine  7:  2.54e+03\n",
            "Sensibilité pour la racine  8: -5.97e+04\n",
            "Sensibilité pour la racine  9:  8.39e+05\n",
            "Sensibilité pour la racine 10: -7.59e+06\n",
            "Sensibilité pour la racine 11:  4.64e+07\n",
            "Sensibilité pour la racine 12: -1.99e+08\n",
            "Sensibilité pour la racine 13:  6.06e+08\n",
            "Sensibilité pour la racine 14: -1.33e+09\n",
            "Sensibilité pour la racine 15:  2.12e+09\n",
            "Sensibilité pour la racine 16: -2.41e+09\n",
            "Sensibilité pour la racine 17:  1.90e+09\n",
            "Sensibilité pour la racine 18: -9.96e+08\n",
            "Sensibilité pour la racine 19:  3.09e+08\n",
            "Sensibilité pour la racine 20: -4.31e+07\n"
          ]
        }
      ],
      "source": [
        "# VOTRE CODE ICI\n",
        "for i in range(1, 21):\n",
        "    product = 1.0\n",
        "    for j in range(1, 21):\n",
        "        if i != j:\n",
        "            product *= i / (j - i)\n",
        "    print(f\"Sensibilité pour la racine {i:2}: {product: .2e}\")\n"
      ]
    },
    {
      "cell_type": "markdown",
      "metadata": {
        "id": "MQBKuZ0Xb08o"
      },
      "source": [
        "> _Solution: La plupart des racines ont une très grande sensibilité par rapport à $\\delta$, mais cette sensibilité dépend fortement de la racine. Ainsi, certaines racines sont très fortement perturbées, même pour de petites valeurs de $\\delta$ ($\\approx 10^{-8}$), alors que d'autres restent inchangées. La plus grande sensibilité par rapport à $\\delta$ est d'environ `1e+9`, ainsi, si $\\delta=10^{-16}$ alors rien ne semble se passer._"
      ]
    },
    {
      "cell_type": "markdown",
      "metadata": {
        "id": "i6o9MVeGb08o"
      },
      "source": [
        "## Exercice 2 : Approcher la dérivée\n",
        "\n",
        "On veut approximer numériquement les dérivées de fonctions analytiques en utilisant les différences finies.\n",
        "\n",
        "--- \n",
        "> Ecrivez deux fonctions `diff_reel` et `diff_complex` qui approximent respectivement la dérivée d'une fonction analytique en utilisant les formules suivantes :\n",
        "\n",
        "$$\n",
        "    \\texttt{diff_reel}(x_0,h,f) := \\frac{f(x_0+h) - f(x_0)}{h}\n",
        "$$\n",
        "$$\n",
        "    \\texttt{diff_complex}(x_0,h,f) := \\mathrm{Im}\\left( \\frac{f(x_0+ih)}{h}\\right)\n",
        "$$\n",
        ">   Implémentez `diff_reel` et `diff_complex`. Essayez votre implémentation sur la fonction\n",
        "$$\n",
        "    f(x) = \\frac{x^2 \\cos^3 x + \\sin^3 x }{e^x}\n",
        "$$\n",
        "> en $x_0 = \\pi/4$. \n",
        ">\n",
        "> Tracer l'erreur d'approximation des dérivées en fonction de $h$ pour $h$ entre $10^{-16}$ et $1$. \n",
        "Utilisez un tracé logarithmique, et ajoutez les courbes $y=h$ et $y=h^2$ au tracé. \n",
        ">\n",
        "> _Conseil_ : Vous pouvez utiliser `sympy` pour calculer la dérivée de $f$ si vous ne voulez pas la calculer à la main. \n",
        "---\n"
      ]
    },
    {
      "cell_type": "code",
      "execution_count": null,
      "metadata": {
        "colab": {
          "base_uri": "https://localhost:8080/",
          "height": 283
        },
        "id": "l3cD_zsMb08o",
        "outputId": "51185865-7ef6-4b06-df04-3012e8026f56"
      },
      "outputs": [
        {
          "output_type": "display_data",
          "data": {
            "text/plain": [
              "<Figure size 432x288 with 1 Axes>"
            ],
            "image/png": "[encoded data removed]"
          },
          "metadata": {
            "needs_background": "light"
          }
        }
      ],
      "source": [
        "# VOTRE CODE ICI\n",
        "from sympy.abc import x\n",
        "import sympy\n",
        "\n",
        "f = (x**2 * sympy.cos(x) ** 3 + sympy.sin(x) ** 3) / sympy.exp(x)\n",
        "f_numpy = sympy.lambdify(x, f, \"numpy\")\n",
        "f_der = sympy.diff(f, x)\n",
        "f_der_val = f_der.subs(x, np.pi / 4)\n",
        "\n",
        "def diff_reel(x0, h, f):\n",
        "    return (f(x0 + h) - f(x0)) / h\n",
        "\n",
        "\n",
        "def diff_complex(x0, h, f):\n",
        "    return np.imag(f(x0 + h * 1j)) / h\n",
        "\n",
        "\n",
        "reel_errors = []\n",
        "complex_errors = []\n",
        "h_values = np.logspace(-16, 0, 100)\n",
        "for h in h_values:\n",
        "    reel_errors.append(np.abs(diff_reel(np.pi / 4, h, f_numpy) - f_der_val))\n",
        "    complex_errors.append(\n",
        "        np.abs(diff_complex(np.pi / 4, h, f_numpy) - f_der_val)\n",
        "    )\n",
        "plt.plot(h_values, reel_errors, \".\", c=\"r\", label=\"Différence finie réelle\")\n",
        "plt.plot(h_values, h_values, \"--\", c=\"r\", label=\"$h$\")\n",
        "plt.plot(\n",
        "    h_values, complex_errors, \".\", c=\"g\", label=\"Différence finie complexe\"\n",
        ")\n",
        "plt.plot(h_values, h_values**2, \"--\", c=\"g\", label=\"$h^2$\")\n",
        "plt.legend()\n",
        "plt.grid()\n",
        "plt.loglog()\n",
        "plt.xlabel(\"h\")\n",
        "plt.ylabel(\"Erreur absolue de derivée\")\n",
        "plt.ylim(1e-17, None)\n",
        "plt.show()\n"
      ]
    },
    {
      "cell_type": "markdown",
      "metadata": {
        "id": "SOO7uPvKb08p"
      },
      "source": [
        "\n",
        "> _Réflexion:_ En précision infinie, la première méthode satisfait $|\\texttt{diff_reel}(x_0,h,f) -f'(x_0)| = O(h)$, et la seconde satisfait $|\\texttt{diff_complex}(x_0,h,f) -f'(x_0)| = O(h^2)$. Essayez de déduire ce résultat vous-même.\n",
        "\n",
        "> _Réflexion:_ Pourquoi est-ce que la première méthode suit la ligne $O(h)$ mais remonte pour de petites valeurs de $h$ ? \n",
        "\n"
      ]
    },
    {
      "cell_type": "markdown",
      "metadata": {
        "id": "en8EcaBHb08p"
      },
      "source": [
        "## Exercice 3 : Méthode de Horner\n",
        "\n",
        "Dans cet exercice, on va implémenter la méthode de Horner pour évaluer des polynômes. On rappelle que la règle de Horner est donnée par\n",
        "$$\n",
        "    a_n x^n + a_{n-1}x^{n-1}+\\cdots+ a_1x+a_0 = a_0 + x(a_1+x(a_2+x(a_3+\\cdots+x(a_{n-1}+xa_n))))\n",
        "$$\n",
        "Cette formule peut être utilisée pour évaluer un polynôme en utilisant $n$ opérations d'addition et de multiplication, ce qui la rend plus efficace qu'un calcul plus naïf."
      ]
    },
    {
      "cell_type": "markdown",
      "metadata": {
        "id": "rKDJ4vXJb08p"
      },
      "source": [
        "### Exercice 3a)\n",
        "> Implémentez une fonction `methode_horner(coeff, x)` qui évalue un polynôme au point `x` en utilisant la méthode de Horner."
      ]
    },
    {
      "cell_type": "code",
      "execution_count": null,
      "metadata": {
        "id": "twXvZHyOb08p"
      },
      "outputs": [],
      "source": [
        "def methode_horner(coeff, x):\n",
        "    \"\"\"\n",
        "    Calculer la valeur d'un polynôme en x en utilisant la méthode de Horner\n",
        "\n",
        "    Les coefficients du polynôme sont donnés par `coeff` sous forme de liste où\n",
        "    le premier élément est le coefficient du monomial de plus haut degré.\n",
        "    \"\"\"\n",
        "    # VOTRE CODE ICI\n",
        "    y = np.zeros_like(x)\n",
        "    for a in coeff:\n",
        "        y = y * x + a\n",
        "    return y\n"
      ]
    },
    {
      "cell_type": "code",
      "execution_count": null,
      "metadata": {
        "id": "wiaOK2Oib08q"
      },
      "outputs": [],
      "source": [
        "def test_methode_horner():\n",
        "    # Le résultat devrait être équivalent à np.polyval de numpy.\n",
        "    coeff = [1, 2, 3, 4, 5]\n",
        "    assert np.allclose(\n",
        "        np.polyval(coeff, 2), methode_horner(coeff, 2)\n",
        "    ), \"Votre implémentation diffère de np.polyval\"\n",
        "    coeff = np.linspace(3, -5, 10)\n",
        "    x = 179.57\n",
        "    assert np.allclose(\n",
        "        np.polyval(coeff, x), methode_horner(coeff, x)\n",
        "    ), \"Votre implémentation diffère de np.polyval\"\n",
        "\n",
        "\n",
        "test_methode_horner()\n"
      ]
    },
    {
      "cell_type": "markdown",
      "metadata": {
        "id": "5pMQkXOYb08q"
      },
      "source": [
        "### Exercice 3b)\n",
        "> Tracez le résultat de votre implémentation de la méthode de Horner appliquée au polynôme $p(x) = (x-2)^9$ pour $x\\in [2-0.07, 2+0.07]$. Sur le même graphique, tracez également sa vraie valeur calculée en utilisant `(x-2)**9`."
      ]
    },
    {
      "cell_type": "code",
      "execution_count": null,
      "metadata": {
        "colab": {
          "base_uri": "https://localhost:8080/",
          "height": 294
        },
        "id": "51Dy47a6b08q",
        "outputId": "ac3aee76-5897-45d9-ccf5-8bb56e3b952c"
      },
      "outputs": [
        {
          "output_type": "execute_result",
          "data": {
            "text/plain": [
              "<matplotlib.legend.Legend at 0x7f30f10c65d0>"
            ]
          },
          "metadata": {},
          "execution_count": 13
        },
        {
          "output_type": "display_data",
          "data": {
            "text/plain": [
              "<Figure size 432x288 with 1 Axes>"
            ],
            "image/png": "[encoded data removed]"
          },
          "metadata": {
            "needs_background": "light"
          }
        }
      ],
      "source": [
        "# VOTRE CODE ICI\n",
        "coeffs = [1]\n",
        "for i in range(9):\n",
        "    coeffs = np.polymul(coeffs, [1, -2])\n",
        "\n",
        "x_vals = np.linspace(2 - 0.07, 2.07, 100)\n",
        "horner_vals = methode_horner(coeffs, x_vals)\n",
        "plt.plot(x_vals, horner_vals, \".\", label=\"Méthode d'Horner\")\n",
        "plt.plot(x_vals, (x_vals - 2) ** 9, label=\"Exact\")\n",
        "plt.legend()\n"
      ]
    },
    {
      "cell_type": "markdown",
      "metadata": {
        "id": "DJdrTtvzb08q"
      },
      "source": [
        "### Exercice 3c)\n",
        "\n",
        "On peut montrer que l'erreur de la méthode de Horner est bornée par :\n",
        "$$\n",
        "|p(x) - \\widehat p(x)| \\leq \\frac{2n\\varepsilon}{1-2n\\varepsilon} \\sum_{i=0}^n|a_ix^i|,\n",
        "$$\t\n",
        "où  $\\varepsilon$ est la précision de la machine, et  $\\widehat{p}(x)$ est le $p(x)$ calculé en arithmétique flottante.\n",
        "\n",
        "---\n",
        "> Tracez la borne supérieure de l'erreur absolue de la méthode de Horner pour $p(x)=(x-2)^9$ pour $x\\in [2-0.07,2+0.07]$. Sur la même figure, tracez l'erreur absolue de votre implémentation de la méthode de Horner pour le même polynôme.\n",
        "----\n"
      ]
    },
    {
      "cell_type": "code",
      "execution_count": null,
      "metadata": {
        "colab": {
          "base_uri": "https://localhost:8080/",
          "height": 279
        },
        "id": "ZGEcCCwUb08q",
        "outputId": "ba3f48c2-2ae9-430b-88df-6fd1dd8e2af3"
      },
      "outputs": [
        {
          "output_type": "display_data",
          "data": {
            "text/plain": [
              "<Figure size 432x288 with 1 Axes>"
            ],
            "image/png": "[encoded data removed]"
          },
          "metadata": {
            "needs_background": "light"
          }
        }
      ],
      "source": [
        "EPSILON = np.finfo(np.float64).eps # epsilon machine\n",
        "\n",
        "\n",
        "def borne_horner(coeff, x, eps=EPSILON):\n",
        "    \"\"\"\n",
        "    Calculer la borne supérieure de l'erreur de la méthode de Horner en `x`.\n",
        "\n",
        "    Les coefficients du polynôme sont donnés par `coeff` sous forme de liste où\n",
        "    le premier élément est le coefficient du monomial de plus haut degré.\n",
        "\n",
        "    Le paramètre `eps` est l'erreur machine. (defaut : 2.22e-16)\n",
        "    \"\"\"\n",
        "    poly_part = np.polyval(np.abs(coeff), np.abs(x))\n",
        "    deg = len(coeff) - 1\n",
        "    bound = 2 * deg * eps / (1 - 2 * deg * eps) * poly_part\n",
        "    return bound\n",
        "\n",
        "\n",
        "plt.plot(x_vals, horner_vals - (x_vals - 2) ** 9, \".\", label=\"Erreur\")\n",
        "plt.plot(x_vals, borne_horner(coeffs, x_vals), label=\"Borne d'erreur\")\n",
        "plt.yscale(\"log\")\n",
        "plt.legend()\n",
        "plt.ylabel(\"Erreur absolue\")\n",
        "plt.xlabel(\"x\")\n",
        "plt.show()"
      ]
    }
  ],
  "metadata": {
    "kernelspec": {
      "display_name": "Python 3.10.7 ('.venv': venv)",
      "language": "python",
      "name": "python3"
    },
    "language_info": {
      "codemirror_mode": {
        "name": "ipython",
        "version": 3
      },
      "file_extension": ".py",
      "mimetype": "text/x-python",
      "name": "python",
      "nbconvert_exporter": "python",
      "pygments_lexer": "ipython3",
      "version": "3.10.7"
    },
    "orig_nbformat": 4,
    "vscode": {
      "interpreter": {
        "hash": "84c4cf9d41f4d3e2da903ac961d4ad71e131edb88617ebe46bd9d8fef2f82bcd"
      }
    },
    "colab": {
      "provenance": [],
      "toc_visible": true
    }
  },
  "nbformat": 4,
  "nbformat_minor": 0
}