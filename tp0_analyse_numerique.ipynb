{
  "cells": [
    {
      "cell_type": "markdown",
      "metadata": {
        "id": "kSATToEdAnzn"
      },
      "source": [
        "# TP 0 : Se familiariser avec Jupyter et Python\n",
        "\n",
        "Dans ce TP, nous présentons Jupyter et Python. Vous apprendrez l'utilisation de base de Python, et vous apprendrez à utiliser trois bibliothèques importantes pour les mathématiques numériques en particulier. \n",
        "\n",
        "Si vous êtes déjà familiarisé avec Jupyter, Python, numpy/scipy et matplotlib, vous pouvez passer directement à la partie 2. \n",
        "\n",
        "Les exercices de ce TP se trouvent dans la partie 3.\n",
        "\n",
        "> Si vous utilisez Colab, vous pouvez utiliser le menu latéral pour naviguer rapidement vers n'importe quelle partie de ce document."
      ]
    },
    {
      "cell_type": "markdown",
      "metadata": {
        "id": "OZ4b0tAnwOJt"
      },
      "source": [
        "# Partie 1 : Utilisation basique de Jupyter et de Python\n",
        "\n",
        "Jupyter est une plateforme très utile pour l'écriture et exécution de code interactif en Python ainsi que dans d'autres languages (Julia, R, ...). (En fait, Jupyter est l'abréviation de Julia-Python-R).\n",
        "\n",
        "Bien qu'il soit possible d'écrire du Python en dehors de Jupter, ce dernier nous permet de: \n",
        "- Exécuter notre code bout par bout, \n",
        "- Mélanger du code et du text riche (avec du formattage et des formules mathématiques, comme dans Maple),\n",
        "- Afficher la sortie du code (graphiques, résultats) sans avoir à l'exécuter de nouveau.\n",
        "\n"
      ]
    },
    {
      "cell_type": "markdown",
      "metadata": {
        "id": "mCAJUYYbAnzp"
      },
      "source": [
        "## Installation de Jupyter\n",
        "\n",
        "Il existe plusieurs façons d'utiliser Jupyter. Nous allons vous expliquer deux méthodes."
      ]
    },
    {
      "cell_type": "markdown",
      "metadata": {
        "id": "C4dBGRGDGPZ2"
      },
      "source": [
        "### Google Colab\n",
        "\n",
        "Google offre un moyen gratuit d'utiliser les notebooks Jupyter sans aucune installation. Il suffit de se rendre sur https://colab.research.google.com/?hl=fr et de se connecter à l'aide d'un compte Google. Vous pourrez alors accéder à tous les fichiers .ipynb des notebooks stockés dans votre Google Drive, ou télécharger directement des fichiers .ipynb. Une fois que vous avez terminé, vous pouvez les télécharger en cliquant sur \"Fichier -> Télécharger -> Télécharger le fichier .ipynb\". Ceci est nécessaire pour déposer le notebook sur Moodle. Vous pouvez également sauvegarder le notebook sur Google Drive. "
      ]
    },
    {
      "cell_type": "markdown",
      "metadata": {
        "id": "pSnwuxYiGLdG"
      },
      "source": [
        "### Utilisation locale\n",
        "\n",
        "La méthode la plus facile pour utiliser Jupyter localement est d'installer **Anaconda**. Anaconda est déjà installé sur les ordinateurs des salles de TP. Pour l'utiliser sur votre propre ordinateur (Windows, Mac et Linux), vous pouvez le télécharger ici:\n",
        "\n",
        "https://www.anaconda.com/products/distribution\n",
        "\n",
        "Après avoir installé Anaconda, vous pouvez lancer le programme `Anaconda3` ou `Anaconda Navigator`. De là, cliquez sur lancer Jupyter. Jupyter s'ouvrira alors dans votre navigateur web à l'adresse `http://localhost:8888/tree`. Vous serez invités à ouvrir un navigateur de fichiers, où vous pourrez ouvrir les fichiers .ipynb. Vous pouvez également créer un nouveau fichier .ipynb en utilisant le menu \"New -> Python 3 (ipykernel)\", ou bien importer n'importe quel fichier de votre disque local en cliquant sur \"upload\". \n",
        "\n",
        "> **Important** : Lorsque vous lancez Jupyter, il s'ouvre dans un dossier spécifique. Jupyter n'a accès qu'à ce dossier et ses sous-dossiers, et ne peut pas accéder à l'ensemble de votre disque local. Cela signifie que vous devez placer tous les fichiers nécessaires dans un endroit que Jupyter peut accéder. En particulier, cela signifie que vous ne pouvez pas éditer les notebooks Jupyter sur le disque H:, et que vous devrez les déplacer manuellement entre le disque H: et, par exemple, les dossiers Downloads ou Desktop. "
      ]
    },
    {
      "cell_type": "markdown",
      "metadata": {
        "id": "rSArEj26GE2R"
      },
      "source": [
        "### Autres méthodes (Environnements de développement)\n",
        "\n",
        "Vous pouvez aussi modifier les notebooks à l'aide de votre IDE préféré, comme Pycharm ou VS Code. Il s'agit d'une méthode très populaire lorsque vous utilisez les notebooks dans le cadre d'un projet logiciel plus vaste. Cela vaut la peine de l'essayer si vous souhaitez utiliser les notebooks Python en dehors de ce cours."
      ]
    },
    {
      "cell_type": "markdown",
      "metadata": {
        "id": "_T-gR0dMAnzq"
      },
      "source": [
        "## Notebooks Jupyter (cellules)\n",
        "\n",
        "Il y a deux types de cellules en Jupyter. Celles qui contiennent du texte (également appelée cellule **markdown**) commes toutes celles d'avant, et celles qui contiennent du code comme la suivante:"
      ]
    },
    {
      "cell_type": "code",
      "execution_count": null,
      "metadata": {
        "id": "oEHCbJ_mAnzr"
      },
      "outputs": [],
      "source": [
        "x = 2\n",
        "y = 3\n",
        "\n",
        "x + y\n"
      ]
    },
    {
      "cell_type": "markdown",
      "metadata": {
        "id": "yalRbIBBAnzu"
      },
      "source": [
        "Nous pouvons exécuter une cellule en la sélectionnant et en appuyant sur `Ctrl+Enter` ou `Shift+Enter` (le premier exécute juste la cellule, et le second exécute la cellule et sélectionne ensuite sur la cellule suivante). \n",
        "\n",
        "Alternativement, sur Jupyter, nous pouvons sélectionner une cellule et appuyer sur le bouton \"▶ Run\" en haut de la page. Sur Colab, nous pouvons appuyer sur le \"▶\" apparaissant en haut à gauche dans la cellule, ou en allant dans le menu \"Exécution\". \n",
        "\n",
        "Si on exécute un cellule de code, la sortie de la dernière ligne de code est affichée. Tous les variables et fonctions évaluées sont conservées. Par exemple, on peut réutiliser les variables `x` et `y` définies dans la cellule ci-dessus:"
      ]
    },
    {
      "cell_type": "code",
      "execution_count": null,
      "metadata": {
        "id": "27G5B0A9Anzu"
      },
      "outputs": [],
      "source": [
        "x * y\n"
      ]
    },
    {
      "cell_type": "markdown",
      "metadata": {
        "id": "M5JUd17vZm9N"
      },
      "source": [
        "Une autre façon d'afficher quelque chose est d'utiliser la fonction `print` :"
      ]
    },
    {
      "cell_type": "code",
      "execution_count": null,
      "metadata": {
        "id": "wTDTKAwsZm9N"
      },
      "outputs": [],
      "source": [
        "print(\"Bonjour!\")\n",
        "print(\"La valeur de x - y est :\", x - y)\n"
      ]
    },
    {
      "cell_type": "markdown",
      "metadata": {
        "id": "aBoTvymuZm9N"
      },
      "source": [
        "> **Remarque**: Si vous n'avez pas exécuté la première cellule, alors la deuxième cellule donnera une erreur indiquant que `x` n'est pas défini. "
      ]
    },
    {
      "cell_type": "markdown",
      "metadata": {
        "id": "1qaMQaIJZm9O"
      },
      "source": [
        "Vous pouvez insérer de nouvelles cellules avec Jupyter en cliquant sur \"Insert -> Insert Cell Below\". Cela crée une nouvelle cellule de code. Pour changer la cellule en une cellule text, cliquez sur \"Cell -> Cell Type -> Markdown\". \n",
        "Dans Colab, vous pouvez cliquer sur le bouton \"+ Code\" ou \"+ Texte\" en haut de la page pour insérer respectivement une cellule de code ou de texte.\n",
        "\n",
        "Essayez-le maintenant en insérant une cellule de code et une cellule de texte. "
      ]
    },
    {
      "cell_type": "markdown",
      "metadata": {
        "id": "ibf9oPyuAnzv"
      },
      "source": [
        "\n",
        "\n",
        "## Fonctions\n",
        "\n",
        "En Python, nous pouvons définir des fonctions en utilisant la syntaxe suivante\n",
        "\n",
        "```python\n",
        "def <nom de la fonction>(<liste de variables>):\n",
        "    <corps de la fonction>\n",
        "    return <sortie de la fonction>\n",
        "```\n",
        "\n",
        "> **Attention**: Contrairement à d'autres langages de programmation, les espaces blancs ont une signification en Python. Par exemple, le corps d'une fonction doit être indenté. Par convention, une unité d'indentation correspond à 4 espaces, et le fait d'appuyer sur le bouton \"Tab\" permet toujours d'insérer 4 espaces. \n",
        "\n",
        "Après avoir exécuté une cellule définissant une fonction, on peut utiliser cette fonction partout ailleurs."
      ]
    },
    {
      "cell_type": "code",
      "execution_count": null,
      "metadata": {
        "id": "B9Q7VLf5Anzv"
      },
      "outputs": [],
      "source": [
        "def f(x):\n",
        "    resultat = x**2\n",
        "    return resultat\n"
      ]
    },
    {
      "cell_type": "markdown",
      "metadata": {
        "id": "C2EQG1R1Anzw"
      },
      "source": [
        "Ici, la fonction `f` renvoie le carré de son entrée. \n",
        "Maintenant que nous avons défini `f`, nous allons l'évaluer en `x=2`.\n",
        "\n",
        "**Attention** : Notez que contrairement à certains autres langages, nous utilisons `a ** b` pour désigner $a^b$. La plupart des langages utiliseraient plutôt `a ^ b`, mais en Python cela permet de calculer `a XOR b`, ce que vous n'aurez jamais besoin de faire dans ce cours."
      ]
    },
    {
      "cell_type": "code",
      "execution_count": null,
      "metadata": {
        "id": "YG7YZ0kHAnzx"
      },
      "outputs": [],
      "source": [
        "f(x)\n"
      ]
    },
    {
      "cell_type": "markdown",
      "metadata": {
        "id": "P6kyI23tZm9P"
      },
      "source": [
        "À l'intérieur d'une fonction, vous pouvez utiliser toute variable définie en dehors de la portée de la fonction. Toutefois, si vous essayez de mettre à jour une variable définie en dehors de la portée de la fonction, seule une copie locale de la variable est mise à jour à la place. En outre, les variables définies à l'intérieur d'une fonction ne peuvent pas être utilisées en dehors de la fonction. \n"
      ]
    },
    {
      "cell_type": "code",
      "execution_count": null,
      "metadata": {
        "id": "kiGX163lZm9P"
      },
      "outputs": [],
      "source": [
        "variable_globale = 2\n",
        "\n",
        "\n",
        "def g():\n",
        "    variable_locale = 3\n",
        "    variable_globale = 4\n",
        "    print(\"La variable locale est :\", variable_locale)\n",
        "    print(\n",
        "        \"La variable globale appelée à l'intérieur de g est : \",\n",
        "        variable_globale,\n",
        "    )\n",
        "\n",
        "\n",
        "print(\"La variable globale avant d'appeler g est :\", variable_globale)\n",
        "g()\n",
        "print(\"La variable globale après d'appeler g est :\", variable_globale)\n"
      ]
    },
    {
      "cell_type": "markdown",
      "metadata": {
        "id": "B5nhNr18EZqV"
      },
      "source": [
        "Les fonctions peuvent avoir plusieurs arguments en entrée et en sortie, et sont écrites sous forme de liste séparée par des virgules. "
      ]
    },
    {
      "cell_type": "code",
      "execution_count": null,
      "metadata": {
        "id": "JZjzM8Y1EVSg"
      },
      "outputs": [],
      "source": [
        "def somme_et_difference(a, b):\n",
        "    return a + b, a - b\n",
        "\n",
        "\n",
        "somme_et_difference(3, 4)\n"
      ]
    },
    {
      "cell_type": "markdown",
      "metadata": {
        "id": "NWpfGzbwFr4b"
      },
      "source": [
        "Observez que la sortie de `somme_et_difference` est maintenant un tuple. Nous avons le choix de stocker la sortie de cette fonction soit comme un tuple, soit comme deux variables séparées comme indiqué ci-dessous."
      ]
    },
    {
      "cell_type": "code",
      "execution_count": null,
      "metadata": {
        "id": "VFwrsb0_FqRg"
      },
      "outputs": [],
      "source": [
        "somme, difference = somme_et_difference(3, 4)\n",
        "print(\"La somme:\", somme)\n",
        "print(\"La différence:\", difference)\n",
        "\n",
        "somme_difference_tuple = somme_et_difference(3, 4)\n",
        "print(\"La somme et la différence:\", somme_difference_tuple)\n",
        "print(\"La somme:\", somme_difference_tuple[0])\n",
        "print(\"La différence:\", somme_difference_tuple[1])\n"
      ]
    },
    {
      "cell_type": "markdown",
      "metadata": {
        "id": "PFeYDNRjGLZM"
      },
      "source": [
        "Nous pouvons également ajouter des arguments facultatifs à une fonction. Pour créer une fonction avec un argument facultatif, nous devons fournir une valeur par défaut, en utilisant la syntaxe :\n",
        "```python\n",
        "def <fonction>(<arguments requis>, argument_facultatif = valeur_par_défaut) :\n",
        "   <corps de la fonction>\n",
        "```\n",
        "\n",
        "Par exemple, nous définissons ci-dessous une fonction qui, par défaut, ajoute la valeur `1` à son entrée, mais cette valeur peut être modifiée en ajoutant l'argument facultatif `b=...` lors de l'appel de la fonction."
      ]
    },
    {
      "cell_type": "code",
      "execution_count": null,
      "metadata": {
        "id": "22JCJBB_HZBH"
      },
      "outputs": [],
      "source": [
        "def ajouter_valeur(a, b=1):\n",
        "    return a + b\n",
        "\n",
        "\n",
        "print(ajouter_valeur(10))\n",
        "print(ajouter_valeur(10, b=2))\n"
      ]
    },
    {
      "cell_type": "markdown",
      "metadata": {
        "id": "twt3rIm4Zm9P"
      },
      "source": [
        "## Commentaires \n",
        "\n",
        "Nous pouvons ajouter des commentaires au code en utilisant `#`, qui indique à Python d'ignorer le reste du contenu de la ligne. \n",
        "\n",
        "Pour les fonctions, il est d'usage de décrire ce que fait la fonction dans une string de la première ligne du corps de la fonction. Dans une telle description, il est important de décrire :\n",
        "- Ce que fait la fonction\n",
        "- Ce que fait chacun des arguments, et toute contrainte supplémentaire attendue par la fonction (par exemple, si le concepteur de la fonction s'attend à ce que `x` soit un entier positif, il est bon de l'écrire explicitement).\n",
        "- La signification et le format attendu de la sortie.\n",
        "\n",
        "C'est une bonne habitude à prendre car cela aide les autres à comprendre ce que fait le code et cela permet de s'y retrouver quand nous n'avons pas travaillé sur le code depuis un moment.  "
      ]
    },
    {
      "cell_type": "code",
      "execution_count": null,
      "metadata": {
        "id": "9NDp-wBaZm9P"
      },
      "outputs": [],
      "source": [
        "def fonction_utile(x, y):\n",
        "    \"\"\"\n",
        "    Calcule la somme de x et y, où x et y sont deux nombres.\n",
        "\n",
        "    Cette fonction est très utile\n",
        "    \"\"\"\n",
        "    z = x + y  # On calcule la somme\n",
        "    return z  # On retourne le résultat\n",
        "\n",
        "\n",
        "fonction_utile(2, 3)  # On calcule la somme de 2 et 3\n"
      ]
    },
    {
      "cell_type": "markdown",
      "metadata": {
        "id": "RxJttq6MZm9P"
      },
      "source": [
        "Observez que nous avons utilisé trois guillemets `\"\"\" \"\"\"` dans cet exemple. Cela indique une string de plusieurs lignes, ce qui est très pratique si vous avez besoin d'une description plus longue.\n",
        "\n",
        "En général : \n",
        "- Utilisez les commentaires avec `#` _uniquement_ pour les commentaires courts.\n",
        "- Les commentaires plus longs doivent être écrits soit dans une cellule de texte, soit dans la description d'une fonction.\n",
        "- Un code bien écrit n'a pas besoin de beaucoup de commentaires, puisqu'il est généralement clair quel est le but de chaque ligne de code."
      ]
    },
    {
      "cell_type": "markdown",
      "metadata": {
        "id": "EqpKw2UUMp5u"
      },
      "source": [
        "## Instructions conditionnelles\n",
        "\n",
        "Le code peut être exécuté de manière conditionnelle à l'aide des instructions `if`, `else if` et `else`, en utilisant la syntaxe :\n",
        "\n",
        "```python\n",
        "if <condition>:\n",
        "    <faire quelque chose>\n",
        "else if <condition>:\n",
        "    <faire quelque chose>\n",
        "...\n",
        "else:\n",
        "   <faire autre chose>\n",
        "\n",
        "```\n",
        "\n",
        "Par exemple, ci-dessous, seule l'instruction `print(\"x > 5\")` est exécutée, puisque `x < 5` et `x == 5` sont tous deux faux."
      ]
    },
    {
      "cell_type": "code",
      "execution_count": null,
      "metadata": {
        "id": "eDpOekveMpIt"
      },
      "outputs": [],
      "source": [
        "x = 10\n",
        "if x < 5:\n",
        "    print(\"x < 5\")\n",
        "elif x == 5:\n",
        "    print(\"x == 5\")\n",
        "else:\n",
        "    print(\"x > 5\")\n"
      ]
    },
    {
      "cell_type": "markdown",
      "metadata": {
        "id": "Yxru0E68Zm9P"
      },
      "source": [
        "## Boucles et listes\n",
        "\n",
        "Nous pouvons créer une liste en utilisant la syntaxe `l = [1, 2, 3]`. Une liste en Python peut contenir n'importe quelle combinaison d'objets, et nous pouvons créer une liste vide en tapant `[ ]`. Nous pouvons ensuite ajouter des éléments à la liste en utilisant `l.append`. On peut accéder et/ou modifier un élément de la liste en utilisant la syntaxe `l[i]`, où `i` est l'indice de l'élément désiré. \n",
        "\n",
        "Voici un exemple :"
      ]
    },
    {
      "cell_type": "code",
      "execution_count": null,
      "metadata": {
        "id": "RaCaczzHZm9Q"
      },
      "outputs": [],
      "source": [
        "l = [1, 2, 3]\n",
        "print(l)\n",
        "\n",
        "l.append(\"Bonjour!\")\n",
        "l[0] = \"👍\"\n",
        "print(l)\n"
      ]
    },
    {
      "cell_type": "markdown",
      "metadata": {
        "id": "6aJmHQM5Zm9Q"
      },
      "source": [
        "> **Attention :**  Les indices commencent à 0 en Python. Par conséquent, `l[0]` est le _premier_ élément de `l`, alors que `l[1]` est le _second_ élément.\n",
        "\n",
        "Nous pouvons parcourir les éléments d'une liste en utilisant `for`:"
      ]
    },
    {
      "cell_type": "code",
      "execution_count": null,
      "metadata": {
        "id": "m3nJzM6aZm9Q"
      },
      "outputs": [],
      "source": [
        "for x in l:\n",
        "    print(x)\n"
      ]
    },
    {
      "cell_type": "markdown",
      "metadata": {
        "id": "mDw3zlo8Zm9Q"
      },
      "source": [
        "Pour parcourire les nombres entre `a` (**inclu**) et `b` (**exclu**), on boucle sur `range(a, b)`.\n",
        "\n",
        "Si on ne donne qu'un seul argument comme dans `range(a)`, alors on ira de `0` à `a` (sans inclure `a`)."
      ]
    },
    {
      "cell_type": "code",
      "execution_count": null,
      "metadata": {
        "id": "qP9ycXT6Zm9Q"
      },
      "outputs": [],
      "source": [
        "liste_de_nombres = []\n",
        "for i in range(4):\n",
        "    liste_de_nombres.append(i)\n",
        "print(liste_de_nombres)\n",
        "for i in range(5, 10):\n",
        "    liste_de_nombres.append(i)\n",
        "liste_de_nombres\n"
      ]
    },
    {
      "cell_type": "markdown",
      "metadata": {
        "id": "-mPU5SBjZm9R"
      },
      "source": [
        "Les boucles `while` ont la syntaxe suivante :\n",
        "```python\n",
        "while <condition>:\n",
        "    <faire quelque chose>\n",
        "```\n",
        "qui continue à exécuter le corps jusqu'à ce que `condition` devienne fausse. À titre d'exemple, nous utilisons ci-dessous une boucle while pour trouver le plus petit entier $n$ tel que $x \\leq 2^n$."
      ]
    },
    {
      "cell_type": "code",
      "execution_count": null,
      "metadata": {
        "id": "gmfJyDy5Zm9R"
      },
      "outputs": [],
      "source": [
        "x = 179.57\n",
        "\n",
        "\n",
        "def plus_petite_puissance_de_2(x):\n",
        "    \"\"\"\n",
        "    Calculez le plus petit entier `n` tel que `x <= 2^n`.\n",
        "\n",
        "    On suppose que `x` est un nombre positif.\n",
        "    \"\"\"\n",
        "    compteur = 0\n",
        "\n",
        "    # On divise x successivement par 2\n",
        "    # -- lorsque compteur = n, x/(2^n) <= 1 sinon x/(2^compteur)>1\n",
        "    while x > 1:\n",
        "        compteur += 1\n",
        "        x /= 2\n",
        "    return compteur\n",
        "\n",
        "\n",
        "n = plus_petite_puissance_de_2(x)\n",
        "print(x, \"est entre 2 **\", n - 1, \"et 2 **\", n)\n"
      ]
    },
    {
      "cell_type": "markdown",
      "metadata": {
        "id": "E0xn0cStZm9R"
      },
      "source": [
        "## Formatage des strings\n",
        "\n",
        "Parfois l'affichage de résultats devient fastidieux, en particulier quand on essaie d'afficher des nombres à virgule. \n",
        "Heureusement, Python permet de formater très facilement les chaînes de caractères pour améliorer l'affichage de nombres à l'aide de f-strings. Il suffit de placer la lettre `f` avant les guillemets, et Python évaluera automatiquement toute expression entre accolades { } . Par exemple :"
      ]
    },
    {
      "cell_type": "code",
      "execution_count": null,
      "metadata": {
        "id": "49mrUqIuZm9R"
      },
      "outputs": [],
      "source": [
        "x = 2\n",
        "y = 2.31293471082364509871623498716234087612340876\n",
        "\n",
        "print(f\"La valeur de x est {x} et la valeur de y est {y}\")\n"
      ]
    },
    {
      "cell_type": "markdown",
      "metadata": {
        "id": "f3GI_e2XZm9R"
      },
      "source": [
        "Si nous voulons afficher un float (nombre à virgule), arrondi à 2 décimales après la virgule, nous pouvons utiliser la syntaxe `f\"{x :.2f}\"`. Ici, le `.2` signifie 2 décimales, et `f` signifie \"formater en tant que  float\".\n",
        "\n",
        "Pour utiliser les notations scientifiques avec une précision de 4 chiffres, nous pouvons utiliser `f\"{x :.4e}\"`."
      ]
    },
    {
      "cell_type": "code",
      "execution_count": null,
      "metadata": {
        "id": "3UX6zr2uZm9S"
      },
      "outputs": [],
      "source": [
        "x = 1.123456\n",
        "y = 0.00012312\n",
        "print(f\"La valeur de x est {x:.2f} et la valeur de y est {y:.4e}\")\n"
      ]
    },
    {
      "cell_type": "markdown",
      "metadata": {
        "id": "tYlWEHjLZm9S"
      },
      "source": [
        "## Importation de modules \n",
        "\n",
        "L'une des raisons de la popularité de Python est la grande disponibilité de modules (librairies de fonctions). Dans ce cours, nous utiliserons trois modules en particulier : `numpy`, `scipy` pour les calculs numériques, et `matplotlib` pour les tracés (graphiques). \n",
        "\n",
        "Il existe plusieurs façons d'importer des modules. \n",
        "\n",
        "Supposons que nous voulons utiliser la fonction `perf_counter` de la bibliothèque standard `time`. Cette fonction permet de mesurer le temps qu'il faut pour exécuter du code Python.\n",
        "\n",
        "La première méthode consiste à importer le paquet `time` en écrivant `import time`. Ensuite, nous pouvons accéder à la fonction `perf_counter` en tappant `time.perf_counter`. Cela nous permet également d'utiliser n'importe quelle autre fonction de la bibliothèque, comme `time.sleep`.\n",
        "\n",
        "Lorsque nous importons un module, nous pouvons également fournir un nom alternatif (plus court) pour le module. Peut-être préférerions-nous taper `temps.sleep` au lieu de `time.sleep`. Dans ce cas, nous pouvons utiliser `import time as temps`. \n",
        "Ceci est souvent utilisé pour raccoursir le nom des modules. "
      ]
    },
    {
      "cell_type": "code",
      "execution_count": null,
      "metadata": {
        "id": "DuMM9H2MZm9S"
      },
      "outputs": [],
      "source": [
        "import time\n",
        "\n",
        "temps_avant = time.perf_counter()\n",
        "time.sleep(1)  # On attend 1 seconde\n",
        "temps_apres = time.perf_counter()\n",
        "print(f\"Le temps d'attente est de {temps_apres - temps_avant:.3f} secondes\")\n"
      ]
    },
    {
      "cell_type": "markdown",
      "metadata": {
        "id": "myP3wDc7Zm9S"
      },
      "source": [
        "La deuxième méthode consiste à seulement importer la fonction dont nous avons besoin dans le module en écrivant `import perf_counter from time`. Nous pouvons alors utiliser `perf_counter` sans spécifier le module auquel il appartient."
      ]
    },
    {
      "cell_type": "code",
      "execution_count": null,
      "metadata": {
        "id": "e5HqIiPzZm9S"
      },
      "outputs": [],
      "source": [
        "from time import perf_counter\n",
        "import time as temps\n",
        "\n",
        "temps_avant = perf_counter()\n",
        "temps.sleep(1)  # On attend 1 seconde\n",
        "temps_apres = perf_counter()\n",
        "print(f\"Le temps d'attente est de {temps_apres - temps_avant:.3f} secondes\")\n"
      ]
    },
    {
      "cell_type": "markdown",
      "metadata": {
        "id": "LoO3UwnKZm9S"
      },
      "source": [
        "### Numpy\n",
        "\n",
        "Numpy est une bibliothèque très utile pour les calculs numériques. Elle nous permet d'effectuer des opérations sur les vecteurs et les matrices. De plus, elle possède un grand nombre de fonctions pour manipuler les vecteurs et les matrices.\n",
        "\n",
        "Nous importons généralement numpy en utilisant l'alias `np`. L'objet principal de numpy est l'array (matrice ou vecteur). Contrairement aux listes de Python, la taille et le type d'un array sont fixes. \n",
        "\n",
        "Nous pouvons initialiser un array à partir d'une liste en utilisant `np.array`. Nous pouvons trouver le type de données et la taille du tableau en utilisant respectivement `np.dtype`, et `np.shape`."
      ]
    },
    {
      "cell_type": "code",
      "execution_count": null,
      "metadata": {
        "id": "q2-E4olfZm9T"
      },
      "outputs": [],
      "source": [
        "import numpy as np\n",
        "\n",
        "x = np.array([1, 2, 3])\n",
        "print(x.dtype)\n",
        "print(x.shape)\n"
      ]
    },
    {
      "cell_type": "markdown",
      "metadata": {
        "id": "3owhqM7PZm9T"
      },
      "source": [
        "Comme nous avons initialisé `x` avec une liste de 3 entiers, nous obtenons un array contenant des valeurs de type `int64` (entiers de 64 bits) et de taille `(3,)` (indiquant que le tableau est unidimensionnel (un vecteur) et a 3 éléments). Par défaut, les array numpy utilisent des nombres à virgule flottante de 64 bits (`float64` ; double précision).\n",
        "\n",
        "Nous pouvons créer une matrice en appliquant `np.array` à une liste de listes de tailles égales. Il existe également de nombreuses autres méthodes pour créer des matrices, comme `np.zeros` qui crée un array ne contenant que des zéros, ou `np.eye` qui crée une matrice identité.\n",
        "\n",
        "> **Remarque** La syntaxe de `np.zeros` et `np.eye` est très similaire aux commandes Matlab `zeros` et `eye`. En effet, la syntaxe de nombreuses fonctions Numpy est inspirée de celle de Matlab.\n",
        "\n",
        "> **Attention**: avec numpy, la multiplication des matrices se fait avec l'opérateur `@`, et non l'opérateur `*`. On peut aussi utiliser `np.dot(A, B)` ou `A.dot(B)`, mais l'opérateur `@` est généralement préféré. La multiplication de matrices n'est possible que si leurs dimensions sont compatibles. Si on tape `A * B` alors numpy calcule le produit par composantes de A et de B (comme l'opérateur `.*` de Matlab). Dans ce cas là, les matrices A et B doivent avoir les mêmes dimensions."
      ]
    },
    {
      "cell_type": "code",
      "execution_count": null,
      "metadata": {
        "id": "znJ0kx_OZm9T"
      },
      "outputs": [],
      "source": [
        "A = np.array([[1, 2, 3], [4, 5, 6], [7, 8, 9]])\n",
        "B = np.eye(3)  # Matrice identité de taille 3\n",
        "C = np.ones((3, 4))  # Matrice de 1 de taille 3x4\n",
        "\n",
        "print(f\"x = {x}\")\n",
        "print(f\"A @ x = {A @ x}\")\n",
        "\n",
        "# A * x multiplie la i-ème colonne de A avec la i-ème entrée de x.\n",
        "print(f\"A * x = {A * x}\")\n",
        "\n",
        "print(f\"A @ B - A = {A @ B - A}\")  # A @ B - A est la matrice nulle\n",
        "\n",
        "print(f\"A @ C = {A @ C}\")  # Produit d'une matrice 3x3 et 3x4\n",
        "\n",
        "# C @ A est impossible car le nombre de colonnes de C n'est pas égal au nombre de lignes de A\n",
        "C @ A\n"
      ]
    },
    {
      "cell_type": "markdown",
      "metadata": {
        "id": "tlbE9wDJZm9T"
      },
      "source": [
        "Ici, nous avons essayé de multiplier une matrice 3x4 par une matrice 3x3, ce qui n'est pas possible. Python répond avec une `ValueError`, et nous indique la ligne du code responsable de l'erreur. Il signale en outre que `Input operand 1 has a mismatch in its core dimension 0`. Cela signifie que la dimension 0 (le nombre de lignes) de l'opérande 1 (le second argument ; la matrice C) ne correspond pas au nombre de lignes attendu à partir de la forme du premier argument (matrice A). Il nous dit alors `size 3 is different from 4`, c'est-à-dire qu'il s'attendait à une matrice à 4 lignes mais a obtenu une matrice à 3 lignes.\n",
        "\n",
        "\n",
        "> __Important :__ Contrairement à Matlab, Numpy ne fait pas de distinction entre les vecteurs colonne et ligne. Si $x$ est un vecteur de taille $m$, et $y$ est un vecteur de taille $n$ et $A$ est une matrice de taille $m\\times n$, alors on peut écrire `x@A` (un vecteur de taille `n`), `A@y` (un vecteur de taille `m`) ou `x@A@y` (un nombre) :"
      ]
    },
    {
      "cell_type": "code",
      "execution_count": null,
      "metadata": {
        "id": "QiUTvWbNZm9T"
      },
      "outputs": [],
      "source": [
        "A = np.ones((3, 4))\n",
        "x = np.ones(3)\n",
        "y = np.ones(4)\n",
        "print(x @ A)\n",
        "print(A @ y)\n",
        "print(x @ A @ y)\n"
      ]
    },
    {
      "cell_type": "markdown",
      "metadata": {
        "id": "F5mjYMESZm9T"
      },
      "source": [
        "Il existe de nombreuses fonctions que nous pouvons appliquer par composantes à des matrices et à des vecteurs, telles que $\\sin$, $\\cos$, $\\exp$ etc. Voici quelques exemples :"
      ]
    },
    {
      "cell_type": "code",
      "execution_count": null,
      "metadata": {
        "id": "t5atwcfuZm9U"
      },
      "outputs": [],
      "source": [
        "A = np.array([[1, 2, 3], [4, 5, 6], [7, 8, 9]])\n",
        "print(np.sin(A))\n",
        "\n",
        "# On vérifie que sin(x)**2 + cos(x)**2 = 1\n",
        "print(np.sin(A) ** 2 + np.cos(A) ** 2)\n",
        "\n",
        "# On vérifie que exp(log(x)) = x\n",
        "print(np.exp(np.log(A)) - A)\n"
      ]
    },
    {
      "cell_type": "markdown",
      "metadata": {
        "id": "xOFcHJYcZm9U"
      },
      "source": [
        "Numpy permet de sélectionner très facilement des parties de matrices ou de vecteurs. Si `A` est une matrice, alors `A[1, 2]` sélectionne l'entrée correspondante à la deuxième ligne et à la troisième colonne. Si nous voulons la deuxième ligne en entier, nous pouvons écrire `A[1, :]`. Ici, les deux points `:` signifient \"tout sélectionner\". Si nous ne voulons que la troisième colonne, alors nous pouvons utiliser `A[:, 2]`."
      ]
    },
    {
      "cell_type": "code",
      "execution_count": null,
      "metadata": {
        "id": "F6muyPCAZm9U"
      },
      "outputs": [],
      "source": [
        "# On crée une matrice 3x4 avec les entiers de 0 à 11\n",
        "A = np.arange(12).reshape(3, 4)\n",
        "print(f\"A = {A}\")\n",
        "print(\n",
        "    f\"A[1, 2] = {A[1, 2]}\"\n",
        ")  # On accède à l'élément de la 2e ligne et 3e colonne\n",
        "print(f\"A[1, :] = {A[1, :]}\")  # On accède à la 2e ligne\n",
        "print(f\"A[:, 2] = {A[:, 2]}\")  # On accède à la 3e colonne\n"
      ]
    },
    {
      "cell_type": "markdown",
      "metadata": {
        "id": "5NB2eJNnZm9U"
      },
      "source": [
        "Ici, nous avons construit la matrice `A` en construisant d'abord un vecteur `np.array([0, 1, ..., 11])` en utilisant `np.arange(12)`. Puis nous avons appliqué `.reshape(3, 4)` pour le transformer en une matrice `3 x 4`.\n",
        "\n",
        "Si nous ne voulons qu'une partie d'une ligne ou d'une colonne, par exemple les éléments 1 et 2 de la ligne, et les éléments 0 à 2 des colonnes, nous pouvons utiliser `A[1:3, 0:3]`. Notez que dans `a:b`, on entend de `a` à `b-1` (`b` non inclus). L'indice `-1` correspond au dernier élément, et `-2` à l'avant-dernier, et ainsi de suite."
      ]
    },
    {
      "cell_type": "code",
      "execution_count": null,
      "metadata": {
        "id": "CLitLLTCZm9U"
      },
      "outputs": [],
      "source": [
        "# On accède à la 2e et 3e lignes et à la 1e à 2 colonnes\n",
        "\n",
        "print(f\"A[1:3, 0:3] = {A[1:3, 0:3]}\")\n",
        "print(f\"A[-1, :] = {A[-1, :]}\")  # On accède à la dernière ligne\n"
      ]
    },
    {
      "cell_type": "markdown",
      "metadata": {
        "id": "IbqS-BBjZm9U"
      },
      "source": [
        "### Matplotlib\n",
        "\n",
        "Pour le traçage, nous pouvons utiliser la bibliothèque `matplotlib`, plus précisément, nous utilisons la sous-bibliothèque `matplotlib.pyplot`, qui est usuellement raccourcie en `plt`. \n",
        "\n",
        "L'utilisation la plus basique est `plt.plot(x,y)` qui crée un graphique en prennant deux vecteurs de même taille où `x` spécifie les valeurs en abscisse et `y` les valeurs en ordonnées. \n",
        "\n",
        "Ci-dessous, nous définissons `x` comme étant un vecteur contenant 100 points équidistants compris entre $0$ et $2\\pi$ à l'aide de la fonction `np.linspace`. Ensuite, nous traçons la fonction $y = \\sin(x)$ à l'aide de la fonction `plt.plot`."
      ]
    },
    {
      "cell_type": "code",
      "execution_count": null,
      "metadata": {
        "id": "C97lQHEGZm9U"
      },
      "outputs": [],
      "source": [
        "import matplotlib.pyplot as plt\n",
        "\n",
        "x = np.linspace(0, 2 * np.pi, 100)\n",
        "plt.plot(x, np.sin(x))\n"
      ]
    },
    {
      "cell_type": "markdown",
      "metadata": {
        "id": "CPqzWG-EZm9U"
      },
      "source": [
        "Pour tracer plusieurs fonctions sur le même graphique, il suffit d'appeler `plt.plot` plusieurs fois. Il attribue automatiquement une couleur différente à chaque tracé."
      ]
    },
    {
      "cell_type": "code",
      "execution_count": null,
      "metadata": {
        "id": "d8Tp3tjIZm9V"
      },
      "outputs": [],
      "source": [
        "x = np.linspace(0, 2 * np.pi, 100)\n",
        "plt.plot(x, np.sin(x) ** 2)\n",
        "plt.plot(x, np.cos(x) ** 2)\n"
      ]
    },
    {
      "cell_type": "markdown",
      "metadata": {
        "id": "hQSk5dZrZm9V"
      },
      "source": [
        "Nous pouvons également changer la façon dont les graphiques sont affichés en passant des arguments supplémentaires à `plt.plot`. Par exemple, passer l'argument `ls=\"--\"` change le style de la ligne (anglais : \"line style\") pour être en pointillés. Passer l'argument `color=\"black\"` change la couleur de la ligne en noir. \n",
        "\n",
        "> Vous pouvez trouver plus d'options [ici](https://matplotlib.org/stable/api/_as_gen/matplotlib.pyplot.plot.html).\n",
        "\n",
        "Nous pouvons alors ajouter un titre au tracé en utilisant `plt.title`. La commande `plt.legend` permet d'afficher la légende du graphique, pour cela il faut également passer un argument `label` à chaque tracé. Nous pouvons ajuster la taille du tracé en passant le paramètre `figsize=(width, height)` à la fonction `plt.figure`. Nous pouvons voir tout cela en action ci-dessous :\n"
      ]
    },
    {
      "cell_type": "code",
      "execution_count": null,
      "metadata": {
        "id": "EzCsYZ6VZm9V"
      },
      "outputs": [],
      "source": [
        "x = np.linspace(0, 2 * np.pi, 100)\n",
        "\n",
        "plt.figure(figsize=(10, 5))  # On crée une figure de taille 10x5\n",
        "plt.title(\"Fonctions trigonométriques\")\n",
        "plt.plot(x, np.sin(x) ** 2, color=\"red\", ls=\"--\", label=\"$\\sin^2(x)$\")\n",
        "plt.plot(x, np.cos(x) ** 2, color=\"green\", ls=\"-.\", label=\"$\\cos^2(x)$\")\n",
        "plt.legend()\n"
      ]
    },
    {
      "cell_type": "markdown",
      "metadata": {
        "id": "5mvvPGz4Zm9V"
      },
      "source": [
        "### Scipy\n",
        "\n",
        "MAYBE : put the last paragraph before the example. \n",
        "\n",
        "Le dernier module dont nous allons parler est scipy. Cette bibliothèque est une collection de méthodes numériques plus avancées. Par exemple, la sous-bibliothèque `scipy.linalg` contient de nombreuses fonctions d'algèbre linéaire utiles que l'on ne trouve pas dans numpy. \n",
        "\n",
        "> **Note**: Nous vous indiquerons lorsque l'utilisation d'une fonction de `scipy` est nécessaire. \n",
        "\n",
        "Scipy inclut de nombreuses décompositions de matrices, divers solveurs (moindres carrés, problèmes de valeurs propres), et des fonctions pour construire certaines matrices utiles.\n",
        "\n",
        "Par exemple, nous calculons l'exponentielle de la matrice en utilisant `scipy.linalg.expm` ci-dessous. Rappelons que si $A$ est une matrice, alors son exponentielle est donnée par\n",
        "$$\n",
        "    \\exp(A) = \\sum_{k=0}^\\infty A^k\n",
        "$$"
      ]
    },
    {
      "cell_type": "code",
      "execution_count": null,
      "metadata": {
        "id": "HzVCBRm1Zm9V"
      },
      "outputs": [],
      "source": [
        "from scipy.linalg import expm\n",
        "\n",
        "A = np.array([[1, 0, 1], [0, 1, 0], [1, 0, 1]])\n",
        "expm(A)\n"
      ]
    },
    {
      "cell_type": "markdown",
      "metadata": {
        "id": "Tjykb-EZl_03"
      },
      "source": [
        "--- \n",
        "\n",
        "De plus, `scipy.special` possède une grande variété de fonctions spéciales utiles, telles que `comb` pour calculer les coefficients binomiaux, `factorial` pour calculer les factorielles. D'autres sous-bibliothèques utiles incluent `scipy.optimize` pour l'optimisation, `scipy.integrate` pour l'intégration, et `scipy.sparse` pour les matrices creuses.\n",
        "\n",
        "OR \n",
        "\n",
        "D'autes modules de `scipy` mettent à disposition des fonction utiles: \n",
        "- `scipy.special` possède une grande variété de fonctions spéciales, en particulier, \n",
        "  - `comb` pour calculer des coefficients binomiaux, \n",
        "  - `factorial` pour les factorielles. \n",
        "- `scipy.integrate` est un module pour l'intégration, \n",
        "- `scipy.optimize` est un module pour l'optimisation, \n",
        "- `scipy.sparse` est un module pour les matrices creuses. \n"
      ]
    },
    {
      "cell_type": "markdown",
      "metadata": {
        "id": "jyglaMOpJWwe"
      },
      "source": [
        "## Références \n",
        "\n",
        "La bibliothèque standard de Python et la plupart des modules sont très bien documentés. La bibliothèque standard Python a une documentation en français et en anglais, mais la plupart des modules n'ont qu'une documentation en anglais.   \n",
        "\n",
        "- [Documentation de Python de base (anglais)](https://docs.python.org/3/)\n",
        "- [Documentation de Python de base (français)](https://docs.python.org/fr/3/)\n",
        "- [Documentation de numpy/scipy](https://docs.scipy.org/doc/)\n",
        "- [Documentation de matplotlib](https://matplotlib.org/stable/api/index.html)"
      ]
    },
    {
      "cell_type": "markdown",
      "metadata": {
        "id": "y5tgPg4BFRBj"
      },
      "source": [
        "# Partie 2 : Informations importantes"
      ]
    },
    {
      "cell_type": "markdown",
      "metadata": {
        "id": "JSBfj2riLAu4"
      },
      "source": [
        "## Important : Redémarrer le noyau de Jupyter\n",
        "\n",
        " N'oubliez pas de redémarrer le noyau de Jupyter de temps en temps et de réexécuter tout votre code (en particulier avant de rendre). Par exemple, si nous écririvons `x=1` dans une cellule, puis supprimons cette cellule plus tard. Jupyter pense toujours que `x=1`, alors qu'il n'y a plus de code qui définit `x`. Ce genre de chose peut causer des problèmes qui sont très difficiles à débugger.\n",
        "\n",
        "> Pour redémarrer le noyau sur Jupyter, cliquez sur `Kernel -> Restart & Run All`. Sur Colab, utilisez `Exécution -> Redémarrer et tout exécuter`."
      ]
    },
    {
      "cell_type": "markdown",
      "metadata": {
        "id": "YxvQV9pXZm9X"
      },
      "source": [
        "## Tests automatiques\n",
        "\n",
        "De nombreux exercices de ce cours font appel à des tests automatiques pour vérifier si votre solution est correcte. \n",
        "Cela vous donne aussi un moyen d'auto-évaluation.\n",
        "\n",
        "Nous vous demanderons d'écrire une fonction qui fait quelque chose. \n",
        "Après l'avoir écrit, vous pourrez exécuter la fonction de test, si elle ne rend pas d'erreurs votre code devrait être bon. \n",
        "La fonction de test appelle votre fonction avec certaines valeurs d'entrée et vérifient la sortie en utilisant des déclarations `assert`. \n",
        "\n",
        "> **Important**: Nous vous demenderons de ne pas modifier les fonctions de test ainsi que les noms des fonctions demandées. "
      ]
    },
    {
      "cell_type": "markdown",
      "metadata": {
        "id": "uy-pa0fRZm9X"
      },
      "source": [
        "Une instruction `assert` évalue une expression et la convertit en booléen (vrai/faux). Si elle est vraie, elle ne fait rien, et si elle est fausse, elle génère une erreur. \n",
        "\n",
        "\n"
      ]
    },
    {
      "cell_type": "code",
      "execution_count": null,
      "metadata": {
        "id": "y6cQLnB_Zm9Y"
      },
      "outputs": [],
      "source": [
        "a = 10\n",
        "b = 5\n",
        "assert a >= b, \"a doit être plus grand que b\"\n",
        "assert a == b, \"a doit être égal à b\"\n"
      ]
    },
    {
      "cell_type": "markdown",
      "metadata": {
        "id": "y3MNwhpKZm9Y"
      },
      "source": [
        "Ci-dessus, nous avons deux déclarations d'assertion. La première vérifie si `10 >= 5`, ce qui est vrai. Elle ne fait donc rien.\n",
        "La deuxième instruction assert vérifie si `10 == 5`, ce qui est faux. Elle rend alors une erreur avec la description \" a doit être égal à b\". "
      ]
    },
    {
      "cell_type": "markdown",
      "metadata": {
        "id": "6Ix-sd1CZm9Y"
      },
      "source": [
        "\n",
        "Nous donnons ci-dessous un exemple de problème avec une solution proposée qui passe des tests.\n",
        "\n",
        "### Exercice 0: Exemple\n",
        "---\n",
        "> Écrivez une fonction `moins_un(x)` qui soustrait un de son entrée. \n",
        "---"
      ]
    },
    {
      "cell_type": "code",
      "execution_count": null,
      "metadata": {
        "id": "i7KUD2wUZm9Y"
      },
      "outputs": [],
      "source": [
        "# SOLUTION\n",
        "def moins_un(x):\n",
        "    \"\"\"\n",
        "    Retourne x - 1\n",
        "    \"\"\"\n",
        "    return x - 1\n"
      ]
    },
    {
      "cell_type": "markdown",
      "metadata": {
        "id": "3jGIbZI0M4Md"
      },
      "source": [
        "Exécutez cette cellule :"
      ]
    },
    {
      "cell_type": "code",
      "execution_count": null,
      "metadata": {
        "id": "pThilsAnZm9Y"
      },
      "outputs": [],
      "source": [
        "# Tests automatiques\n",
        "def test_moins_un():\n",
        "    assert moins_un(2) == 1\n",
        "    assert moins_un(0) == -1\n",
        "    assert moins_un(10) == 9\n",
        "    assert moins_un(-1) == -2\n",
        "    assert moins_un(0.39) == -0.61\n",
        "\n",
        "\n",
        "# Le test s'exécute sans erreur, ce qui signifie que la solution est\n",
        "# (probablement) correcte.\n",
        "test_moins_un()\n"
      ]
    },
    {
      "cell_type": "markdown",
      "metadata": {
        "id": "HLON-fsZFc01"
      },
      "source": [
        "# Partie 3 : Exercices"
      ]
    },
    {
      "cell_type": "markdown",
      "metadata": {
        "id": "NzqQMPzUZm9Y"
      },
      "source": [
        "## Exercice 1 : Intégrale de Gauss\n",
        "\n",
        "Dans cet exercice, nous allons vérifier numériquement la célèbre intégrale de Gauss : \n",
        "\n",
        "$$\n",
        "\\int_{-\\infty}^\\infty\\! e^{-x^2}\\, \\mathrm{d}x = \\sqrt{\\pi}\n",
        "$$\n",
        "\n",
        "### Exercice 1a)\n",
        "---\n",
        "> Ecrivez une fonction `gauss(x)` qui calcule $\\exp(-x^2)/\\sqrt\\pi$. N'utilisez que des fonctions numpy, afin que `gauss` fonctionne correctement sur les matrices (arrays numpy).\n",
        "--- "
      ]
    },
    {
      "cell_type": "code",
      "execution_count": null,
      "metadata": {
        "id": "rDAOexTSZm9Y"
      },
      "outputs": [],
      "source": [
        "import numpy as np\n",
        "import matplotlib.pyplot as plt\n",
        "\n",
        "\n",
        "def gauss(x):\n",
        "    \"\"\"\n",
        "    Retourne la valeur de la gaussienne en x\n",
        "    \"\"\"\n",
        "    # ÉCRIVEZ VOTRE SOLUTION ICI\n"
      ]
    },
    {
      "cell_type": "code",
      "execution_count": null,
      "metadata": {
        "id": "FYNd-YxtZm9Y"
      },
      "outputs": [],
      "source": [
        "def test_gauss():\n",
        "    assert (\n",
        "        np.abs(gauss(0.123) - 0.5557182026803765) < 1e-10\n",
        "    ), \"Erreur dans la gaussienne\"\n",
        "    assert np.abs(gauss(-10000)) < 1e-16, \"Erreur dans la gaussienne\"\n",
        "    x = np.linspace(-10, 10, 23)\n",
        "    y = gauss(x)\n",
        "    assert y.shape == x.shape, \"La fonction ne fonctionne pas pour les arrays\"\n",
        "    assert np.all(y >= 0), \"La gaussienne doit être positive\"\n",
        "\n",
        "\n",
        "test_gauss()\n"
      ]
    },
    {
      "cell_type": "markdown",
      "metadata": {
        "id": "wQQnbdG-Zm9Z"
      },
      "source": [
        "### Exercice 1b)\n",
        "---\n",
        "> Utilisez la fonction `gauss` de l'exercice précédent pour produire un graphique de $\\exp(-x^2)/\\sqrt\\pi$ pour $y$ entre $-3$ et $3$, en utilisant 100 points de tracé. \n",
        ">\n",
        "> Modifier le graphique à partir des paramètres par défaut en :\n",
        "- modifiant la taille de la figure;\n",
        "- modifiant la couleur et le style de ligne du tracé;\n",
        "- ajoutant un titre et une légende\n",
        "\n",
        "---"
      ]
    },
    {
      "cell_type": "code",
      "execution_count": null,
      "metadata": {
        "id": "SytG4X0KZm9Z"
      },
      "outputs": [],
      "source": [
        "# ÉCRIVEZ VOTRE SOLUTION ICI\n"
      ]
    },
    {
      "cell_type": "markdown",
      "metadata": {
        "id": "1H6QGoHYZm9Z"
      },
      "source": [
        "### Exercice 1c)\n",
        "\n",
        "Nous pouvons faire une intégration numérique en utilisant la fonction `scipy.integrate.quad` ('quad' est l'abréviation de quadrature). \n",
        "Sa syntaxe est `quad(f, a, b)` pour calculer l'intégrale définie $\\int_a^b\\  f(x)\\mathrm dx$. Elle retourne deux nombres : l'intégrale estimée, et une estimation de l'erreur. En Python, nous pouvons stocker la sortie d'une fonction qui renvoie deux résultats comme ceci :\n",
        "\n",
        "```py\n",
        "    resultat, erreur = quad(f, a, b)\n",
        "```\n",
        "\n",
        "---\n",
        "> Ecrivez une fonction `gauss_integrale(a, b)` qui calcule l'intégrale entre `a` et `b` de la fonction `gauss`. \n",
        ">\n",
        "> Vous devriez importer vous-même la fonction `scipy.integrate.quad`.\n",
        "---"
      ]
    },
    {
      "cell_type": "code",
      "execution_count": null,
      "metadata": {
        "id": "9aR_4rBNZm9Z"
      },
      "outputs": [],
      "source": [
        "# Imporation de la fonction quad\n",
        "from scipy.integrate import quad\n",
        "\n",
        "\n",
        "def gauss_integrale(a, b):\n",
        "    \"\"\"\n",
        "    Retourne l'intégrale de la gaussienne sur [a, b]\n",
        "    \"\"\"\n",
        "    # ÉCRIVEZ VOTRE SOLUTION ICI\n"
      ]
    },
    {
      "cell_type": "code",
      "execution_count": null,
      "metadata": {
        "id": "QApZDGa3Zm9Z"
      },
      "outputs": [],
      "source": [
        "def test_gauss_integrale():\n",
        "    assert np.abs(gauss_integrale(0, 1) - 0.4213503964748575) < 1e-10\n",
        "    assert np.abs(gauss_integrale(0, 100) - 0.5) < 1e-10\n",
        "\n",
        "\n",
        "test_gauss_integrale()\n"
      ]
    },
    {
      "cell_type": "markdown",
      "metadata": {
        "id": "qrazM8GzZm9Z"
      },
      "source": [
        "### Exercice 1d)\n",
        "---\n",
        "> Évaluez votre fonction `gauss_integrale` sur un très grand intervalle, par exemple [-100,100]. Essayez aussi pour `a=-np.inf` et `b=np.inf`. Le résultat est-il en accord avec la formule théorique ? Y a-t-il une différence entre l'intégration sur un grand intervalle ou sur tous les nombres réels ? Pourquoi pas ?\n",
        "---"
      ]
    },
    {
      "cell_type": "code",
      "execution_count": null,
      "metadata": {
        "id": "dg8pZFgaZm9Z"
      },
      "outputs": [],
      "source": [
        "# ÉCRIVEZ VOTRE SOLUTION ICI\n"
      ]
    },
    {
      "cell_type": "markdown",
      "metadata": {
        "id": "cq3ehuNoZm9Z"
      },
      "source": [
        "## Exercice 2: La méthode de Newton\n",
        "\n",
        "La méthode de Newton est un algorithme itératif permettant de trouver la racine d'une fonction à l'aide de la règle simple de mise à jour\n",
        "$$\n",
        "x_{n+1} = x_n - f(x_n) / f'(x_n)\n",
        "$$\n",
        "\n",
        "Nous allons implémenter la méthode de Newton pour les polynômes univariés. Tout d'abord, nous devons implémenter les polynômes et leurs dérivées.\n",
        "\n",
        "### Exercice 2a)\n",
        "---\n",
        "> Ecrivez une fonction `poly(coeff, x)` qui évalue un polynôme en un point `x`. Ici, `coeff` est une liste ou un array de coefficients, où la première entrée correspond au terme du plus haut degré du polynôme. Si `coeff` a une longueur de $n$, alors le polynôme est de degré $n-1$. C'est-à-dire, \n",
        "$$\n",
        "p(\\mathtt{x}) = \\mathtt{coeff}[n-1] + \\mathtt{coeff}[n-2]\\cdot x + \\mathtt{coeff}[n-3]\\cdot x^2 +\\cdots + \\mathtt{coeff}[1]\\cdot x^{n-2}+\\mathtt{coeff}[0]\\cdot x^{n-1}\n",
        "$$\n",
        "> Veillez à écrire votre fonction de manière à ce qu'elle fonctionne à la fois lorsque $x$ est un nombre et lorsque $x$ est un array.\n",
        "---"
      ]
    },
    {
      "cell_type": "code",
      "execution_count": null,
      "metadata": {
        "id": "aKpGxUvGZm9Z"
      },
      "outputs": [],
      "source": [
        "import numpy as np\n",
        "import matplotlib.pyplot as plt\n",
        "\n",
        "\n",
        "def poly(coeff, x):\n",
        "    \"\"\"\n",
        "    Retourne le polynôme de coefficients coeff en x\n",
        "    \"\"\"\n",
        "    # ÉCRIVEZ VOTRE SOLUTION ICI\n"
      ]
    },
    {
      "cell_type": "code",
      "execution_count": null,
      "metadata": {
        "id": "IUyN9VmAZm9a"
      },
      "outputs": [],
      "source": [
        "def test_poly():\n",
        "    assert (\n",
        "        poly([0], 10) == 0\n",
        "    ), \"La fonction ne fonctionne pas pour le polynôme nul\"\n",
        "    assert (\n",
        "        poly([], 10) == 0\n",
        "    ), \"La fonction ne fonctionne pas pour le polynôme nul\"\n",
        "    assert (\n",
        "        poly([1.23], 10) == 1.23\n",
        "    ), \"La fonction ne fonctionne pas pour un polynôme constant\"\n",
        "    assert poly([1, 1, 0], 10) == 110, \"Erreur dans la fonction poly\"\n",
        "    x = np.linspace(0, 1, 21)\n",
        "    y = poly([1, 1, 0], x)\n",
        "    assert y.shape == x.shape, \"La fonction ne fonctionne pas pour les arrays\"\n",
        "    assert abs(np.sum(y) - 17.675) < 1e-10, \"Erreur dans la fonction poly\"\n",
        "\n",
        "\n",
        "test_poly()\n"
      ]
    },
    {
      "cell_type": "markdown",
      "metadata": {
        "id": "88jYIrzWZm9a"
      },
      "source": [
        "### Exercice 2b)\n",
        "---\n",
        "> Ecrivez une fonction `derivee(coeff)` qui retourne les coefficients du polynôme correspondant à la liste de coefficients `coeff`. \n",
        "---"
      ]
    },
    {
      "cell_type": "code",
      "execution_count": null,
      "metadata": {
        "id": "O5PuGI6SZm9a"
      },
      "outputs": [],
      "source": [
        "def derivee(coeff):\n",
        "    \"\"\"\n",
        "    Retourne les coefficients du polynôme dérivé\n",
        "    \"\"\"\n",
        "    # ÉCRIVEZ VOTRE SOLUTION ICI\n"
      ]
    },
    {
      "cell_type": "code",
      "execution_count": null,
      "metadata": {
        "id": "S3ZIXGemZm9a"
      },
      "outputs": [],
      "source": [
        "def test_derivee():\n",
        "    assert (\n",
        "        derivee([0]) == []\n",
        "    ), \"Derivee d'un polynome constant est nulle (coeff = [])\"\n",
        "    assert (\n",
        "        derivee([10]) == []\n",
        "    ), \"Derivee d'un polynome constant est nulle (coeff = [])\"\n",
        "    assert derivee([1, 2, 3, 4]) == [3, 4, 3], \"Erreur dans la fonction derivee\"\n",
        "    coeff_correct = [500, 0, 0, 0, 0]\n",
        "    assert (\n",
        "        derivee([100, 0, 0, 0, 0, 0]) == coeff_correct\n",
        "    ), \"Erreur dans la fonction derivee\"\n",
        "\n",
        "test_derivee()\n"
      ]
    },
    {
      "cell_type": "markdown",
      "metadata": {
        "id": "Y4X-GX2AZm9a"
      },
      "source": [
        "### Exercice 2c)\n",
        "---\n",
        "> Écrivez une fonction `methode_newton(coeff, x0, n_pas)` qui calcule `n_pas` itérations de la méthode de Newton appliquée au polynôme défini par `coeff` en prenant `x0` comme point de départ.  \n",
        ">\n",
        "> La fonction doit retourner la liste de toutes les itérées intermédiaires, `x0`=$x_0$, $x_{1}$, ..., $x_{n\\_\\mathrm{pas}}$. On s'attend donc à une liste de longueur `n_pas+1`.\n",
        "---"
      ]
    },
    {
      "cell_type": "code",
      "execution_count": null,
      "metadata": {
        "id": "-sJSRqPcZm9a"
      },
      "outputs": [],
      "source": [
        "def methode_newton(coeff, x0, n_pas):\n",
        "    \"\"\"\n",
        "    Retourne les n_pas premières itérations de la méthode de Newton\n",
        "    \"\"\"\n",
        "    # ÉCRIVEZ VOTRE SOLUTION ICI\n"
      ]
    },
    {
      "cell_type": "code",
      "execution_count": null,
      "metadata": {
        "id": "3V__8oQhZm9a"
      },
      "outputs": [],
      "source": [
        "def test_methode_newton():\n",
        "    # poly(x) = x**2 - 2\n",
        "    coeff = [1, 0, -2]\n",
        "    x_newton = methode_newton(coeff, 1, 10)\n",
        "    assert x_newton.shape == (\n",
        "        11,\n",
        "    ), \"La méthode de Newton ne retourne pas un array de la bonne taille\"\n",
        "    assert (\n",
        "        x_newton[0] == 1\n",
        "    ), \"La méthode de Newton ne retourne pas le bon point de départ\"\n",
        "    assert (\n",
        "        np.abs(x_newton[-1] ** 2 - 2) < 1e-8\n",
        "    ), \"La méthode ne converge pas vers le point correct\"\n",
        "\n",
        "    x_newton = methode_newton(coeff, -1, 10)\n",
        "    assert x_newton[-1] < 0, \"La méthode semble ignorer le point de départ\"\n",
        "    assert (\n",
        "        np.abs(x_newton[-1] ** 2 - 2) < 1e-8\n",
        "    ), \"La méthode ne converge pas vers le bon point\"\n",
        "\n",
        "    coeff = [12.3, 4.20, 1.79, 0.42, 0.01]\n",
        "    x_newton = methode_newton(coeff, 1, 10)\n",
        "    x_final = x_newton[-1]\n",
        "    assert (\n",
        "        np.abs(poly(coeff, x_final)) < 1e-8\n",
        "    ), \"La méthode ne fonctionne pas pour tous les polynômes\"\n",
        "\n",
        "\n",
        "test_methode_newton()\n"
      ]
    },
    {
      "cell_type": "markdown",
      "metadata": {
        "id": "X4_nbv4vZm9a"
      },
      "source": [
        "Si nous appliquons la méthode de Newton à `coeff = [1, 0, -2]`, qui représente la fonction $x^2-2$, nous devrions obtenir une approximation de $\\sqrt 2$ comme solution. Ci-dessous, nous traçons la fonction $x^2-2$, ainsi que les points produits par la méthode de Newton. Comme vous pouvez le constater, la méthode de Newton converge rapidement vers la valeur correcte. "
      ]
    },
    {
      "cell_type": "code",
      "execution_count": null,
      "metadata": {
        "id": "caw2EIzSZm9a"
      },
      "outputs": [],
      "source": [
        "x = np.linspace(0, 2, 30)\n",
        "coeff = [1, 0, -2]  # x**2 - 2\n",
        "plt.axhline(0, c=\"k\", ls=\"--\", label=\"$y = 0$\")\n",
        "plt.plot(x, poly(coeff, x), c=\"b\", label=\"$x^2 - 2$\")\n",
        "\n",
        "x_newton = methode_newton(coeff, 1, 10)\n",
        "plt.plot(x_newton, poly(coeff, x_newton), \"o\", c=\"r\", label=\"Méthode de Newton\")\n",
        "plt.legend()\n"
      ]
    }
  ],
  "metadata": {
    "colab": {
      "collapsed_sections": [],
      "provenance": [],
      "toc_visible": true
    },
    "kernelspec": {
      "display_name": "Python 3.10.4 ('tensors')",
      "language": "python",
      "name": "python3"
    },
    "language_info": {
      "codemirror_mode": {
        "name": "ipython",
        "version": 3
      },
      "file_extension": ".py",
      "mimetype": "text/x-python",
      "name": "python",
      "nbconvert_exporter": "python",
      "pygments_lexer": "ipython3",
      "version": "3.10.4"
    },
    "vscode": {
      "interpreter": {
        "hash": "53e3584a94e8c7d99898d4a2cb47bea56236d638682d6d87741bc73b63e7db14"
      }
    }
  },
  "nbformat": 4,
  "nbformat_minor": 0
}