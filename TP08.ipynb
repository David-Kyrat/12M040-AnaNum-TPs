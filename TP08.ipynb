{
 "cells": [
  {
   "attachments": {},
   "cell_type": "markdown",
   "metadata": {},
   "source": [
    "# TP8: Equations non-linéaires\n",
    "\n",
    "On s'intéresse à trouver une solution à l'équation non linéaire $f(x) = 0.$ Dans ce TP, nous verrons trois méthodes pour y parvenir: \n",
    "- La méthode de la bissection\n",
    "- La méthode des points fixes\n",
    "- La méthode de Newton\n"
   ]
  },
  {
   "attachments": {},
   "cell_type": "markdown",
   "metadata": {},
   "source": [
    "## Exercice 1: Méthode de la bissection"
   ]
  },
  {
   "attachments": {},
   "cell_type": "markdown",
   "metadata": {},
   "source": [
    "Dans le programme télévisé \"Le juste prix\", le jeu final consiste à deviner le prix d'une enveloppe cadeau en moins de 25 secondes. Le candidat doit proposer un prix, le présentateur répond par \"c'est plus\" ou \"c'est moins\", puis le candidat propose un nouveau prix, etc. \n",
    "\n",
    "Quelle approche utiliser pour être le plus rapide ? La méthode de la bissection!\n",
    "\n",
    "La méthode de la bissection, aussi appelée méthode de dichotomie, consiste à choisir successivement des points pour approcher un zéro d'une fonction, sur un intervalle donné. On peut la résumer ainsi:\n",
    "\n",
    "1. Commencer avec l'intervalle $[a, b]$ de sorte que $f(a)f(b) < 0$\n",
    "2. Définir $m = \\frac{b-a}{2}$.\n",
    "   1. Si $f(a)f(m) < 0$ alors on continue avec l'intervalle $[a, m]$.\n",
    "   2. Si $f(b)f(m) < 0$ alors on continue avec l'intervalle $[m, b]$.\n",
    "   3. Si $f(m) = 0$, on a terminé.\n",
    "\n",
    "En pratique, on impose un nombre maximal d'itération, et on donne une tolérance au-delà de laquelle le résultat est numériquement satisfaisant.\n"
   ]
  },
  {
   "attachments": {},
   "cell_type": "markdown",
   "metadata": {},
   "source": [
    "### Exercice 1.0 : Réflexion \n",
    "\n",
    "Formuler le problème du jeu \"Le juste prix\" sous la forme du problème du type: trouver $x$ tel que $f(x) = 0$. "
   ]
  },
  {
   "attachments": {},
   "cell_type": "markdown",
   "metadata": {},
   "source": [
    "### Exercice 1.1 : Implémentation de la méthode de la bissection\n",
    "\n",
    "1. Programmer la méthode de la bissection."
   ]
  },
  {
   "cell_type": "code",
   "execution_count": null,
   "metadata": {},
   "outputs": [],
   "source": [
    "import numpy as np\n",
    "def Bissection(f, a, b, max_iter, tol):\n",
    "    \"\"\"Méthode de la bissection pour trouver une racine d'une fonction f\n",
    "    La méthode s'arrête si le nombre d'itérations max_iter est atteint ou\n",
    "    si la valeur absolue de f(x) est inférieure à tol.\n",
    "    \n",
    "    Entrées\n",
    "    -------\n",
    "    f : callable\n",
    "        Fonction dont on cherche une racine\n",
    "    a : float\n",
    "        borne inférieure de l'intervalle\n",
    "    b : float\n",
    "        borne supérieure de l'intervalle\n",
    "    max_iter : int\n",
    "        nombre maximal d'itérations\n",
    "    tol : float\n",
    "        tolérance pour la convergence\n",
    "\n",
    "    Sorties\n",
    "    -------\n",
    "    xk : list\n",
    "        liste des valeurs de x à chaque itération\n",
    "    \"\"\"\n",
    "    # Vérification des entrées\n",
    "    if a >= b:\n",
    "        raise ValueError(\"a doit être inférieur à b\")\n",
    "    if f(a) * f(b) > 0:\n",
    "        raise ValueError(\"f(a) et f(b) doivent avoir des signes opposés\")\n",
    "    # VOTRE CODE ICI\n",
    "    "
   ]
  },
  {
   "attachments": {},
   "cell_type": "markdown",
   "metadata": {},
   "source": [
    "### Exercice 1.2: Convergence de la méthode de la bissection\n",
    "\n",
    "Considérons les fonction $$f_1(x) = x^2 - 3x - 4, \\quad f_2(x) = (x+1) (x+5)^3 (x-5)^5.$$\n",
    "\n",
    "Posons $a = -3.8$ et $b=0.5$.\n",
    "\n",
    "1. D'après le cours, combien d'iterations faut-il, au minimum, pour atteindre une tolérance de $\\epsilon = 10^{-10}$ ?\n",
    "\n",
    "2. Testez votre code sur $f_1$ et $f_2$. Observez-vous la condition théorique?"
   ]
  },
  {
   "attachments": {},
   "cell_type": "markdown",
   "metadata": {},
   "source": [
    "*Votre réponse théorique ici*\n"
   ]
  },
  {
   "cell_type": "code",
   "execution_count": null,
   "metadata": {},
   "outputs": [],
   "source": [
    "## Paramètres\n",
    "a = -3.8\n",
    "b = 0.5\n",
    "max_iter = 50\n",
    "tol = 1e-10\n",
    "\n",
    "# Première fonction\n",
    "f1 = lambda x: x**2 - 3*x - 4\n",
    "# VOTRE CODE ICI\n",
    "\n",
    "\n",
    "# Deuxième fonction\n",
    "f2 = lambda x: (x+1) * (x+5)**3 * (x-5)**5\n",
    "# VOTRE CODE ICI\n",
    "\n"
   ]
  },
  {
   "cell_type": "code",
   "execution_count": null,
   "metadata": {},
   "outputs": [],
   "source": [
    "# Figure de la convergence de la méthode de la bissection\n",
    "import matplotlib.pyplot as plt\n",
    "# VOTRE CODE ICI\n"
   ]
  },
  {
   "attachments": {},
   "cell_type": "markdown",
   "metadata": {},
   "source": [
    "3. Quel est l'ordre de cette méthode ?"
   ]
  },
  {
   "attachments": {},
   "cell_type": "markdown",
   "metadata": {},
   "source": [
    "*Votre réponse ici*\n"
   ]
  },
  {
   "attachments": {},
   "cell_type": "markdown",
   "metadata": {},
   "source": [
    "## Exercice 2. Méthode des points fixes\n",
    "\n",
    "On aimerait résoudre une équation non-linéaire de la forme \n",
    "$$\\phi(\\pmb{x}) = \\pmb{x},$$\n",
    "pour une certaine fonction $\\phi : \\mathbb R^n \\rightarrow \\mathbb R^n$. \n",
    "\n",
    "La méthode des points fixes consiste à itérer\n",
    "$$\\pmb{x}^{(k+1)} = \\phi(\\pmb{x}^{(k)}),$$\n",
    "jusqu'à ce que la différence entre deux itérations soit plus petite qu'une certaine tolérance, ou bien qu'un nombre maximum d'itération soit atteint.\n"
   ]
  },
  {
   "attachments": {},
   "cell_type": "markdown",
   "metadata": {},
   "source": [
    "### Exercice 2.1: Implémentation de la méthode des points fixes\n",
    "\n",
    "Implémentez une fonction `point_fixe` qui applique la méthode décrite ci-dessus. \n",
    "\n",
    "Indication: Vous pouvez utiliser la fonction `np.linalg.norm` pour calculer la différence entre deux itérations."
   ]
  },
  {
   "cell_type": "code",
   "execution_count": null,
   "metadata": {},
   "outputs": [],
   "source": [
    "def point_fixe(phi, x0, max_iter, tol):\n",
    "    \"\"\"Itération du point fixe.\n",
    "    La méthode s'arrête lorsque le nombre maximal d'itération est atteint,\n",
    "    ou bien lorsque la différence entre deux itérations est plus petite que la tolérance donnée.\n",
    "    Retourne une liste contenant les valeurs de x à chaque itération.\n",
    "\n",
    "    Entrées\n",
    "    -------\n",
    "    phi: callable\n",
    "        Fonction de l'itération du point fixe\n",
    "    x0: float\n",
    "        Valeur initiale\n",
    "    max_iter: int\n",
    "        Nombre maximal d'itérations\n",
    "    tol: float\n",
    "        Tolérance pour la convergence\n",
    "\n",
    "    Sorties\n",
    "    -------\n",
    "    xk: list\n",
    "        Liste des valeurs de x à chaque itération\n",
    "    \"\"\"\n",
    "\n",
    "    # VOTRE CODE ICI\n"
   ]
  },
  {
   "cell_type": "code",
   "execution_count": null,
   "metadata": {},
   "outputs": [],
   "source": [
    "# Tests automatiques\n",
    "## Test avec une fonction scalaire\n",
    "phi = lambda x: x - np.sin(x)\n",
    "x0 = 0.5\n",
    "max_iter = 100\n",
    "tol = 1e-10\n",
    "xk = point_fixe(phi, x0, max_iter, tol)\n",
    "assert isinstance(xk, list), \"La méthode du point fixe doit retourner une liste\"\n",
    "assert isinstance(xk[0], float), \"La méthode du point fixe doit retourner une liste de scalaires\"\n",
    "assert np.linalg.norm(xk[-1] - 0) < tol, \"La méthode du point fixe n'a pas convergé pour une fonction scalaire\"\n",
    "\n",
    "\n",
    "## Test avec une fonction vectorielle\n",
    "phi = lambda x: np.array([x[0] - np.sin(x[0]), x[1] - np.cos(x[1])])\n",
    "x0 = np.array([0.5, 0.5])\n",
    "max_iter = 100\n",
    "tol = 1e-10\n",
    "xk = point_fixe(phi, x0, max_iter, tol)\n",
    "assert isinstance(xk, list), \"La méthode du point fixe doit retourner une liste\"\n",
    "assert isinstance(xk[0], np.ndarray), \"La méthode du point fixe doit retourner une liste de vecteurs\"\n",
    "assert np.linalg.norm(xk[-1] - np.array([0, -np.pi/2])) < tol, \"La méthode du point fixe n'a pas convergé pour une fonction vectorielle\"\n",
    "\n",
    "print(\"Tests réussis\")"
   ]
  },
  {
   "attachments": {},
   "cell_type": "markdown",
   "metadata": {},
   "source": [
    "### Exercice 2.2: Convergence de la méthode des points fixes\n",
    "\n",
    "Le but de cet exercice est de reproduire les exemples du cours. \n",
    "\n",
    "Pour rappel, si l'on souhaite trouver les racines d'une fonction $f : \\mathbb R \\rightarrow \\mathbb R$, on peut utiliser la méthode des points fixes en posant \n",
    "$$\\phi(x) = x - \\alpha f(x), \\quad \\text{ avec } \\alpha \\neq 0.$$ \n",
    "\n",
    "Plus généralement pour une fonction $f : \\mathbb R^n \\rightarrow \\mathbb R^n$, on peut poser \n",
    "$$\\phi(\\pmb{x}) = \\pmb{x} - B f(\\pmb{x}),$$ \n",
    "où $B \\in \\mathbb R^{n\\times n}$ est une matrice **inversible**.\n",
    "\n"
   ]
  },
  {
   "attachments": {},
   "cell_type": "markdown",
   "metadata": {},
   "source": [
    "#### Rôle de $\\alpha$\n",
    "\n",
    "La solution exacte de l'équation $\\cos(x) = 0$ est $x=\\frac{\\pi}{2}$. Comme expliqué ci-dessus, on peut estimer cette valeur en définissant \n",
    "$$\\phi(x) = x + \\alpha \\cos(x), \\quad \\alpha \\neq 0.$$\n",
    "\n",
    "Pour différentes valeurs de $\\alpha$, tracez la convergence de la méthode des points fixes. Dans le cours, nous avions choisi $\\alpha_1 = 1, \\alpha_2 = 0.5, \\alpha_3 = 10$ et $x_0 = 1$.\n",
    "\n",
    "Qu'observez-vous ?\n",
    "\n",
    "**Indication:** Pour tracer la convergence, vous pouvez utiliser la fonction `plt.semilogy` qui trace un graphe en échelle logarithmique. (Pourquoi utiliser une échelle logarithmique ?)"
   ]
  },
  {
   "cell_type": "code",
   "execution_count": null,
   "metadata": {},
   "outputs": [],
   "source": [
    "x_ref = np.pi/2\n",
    "x0 = 1\n",
    "max_iter = 50\n",
    "tol = 1e-12\n",
    "\n",
    "# VOTRE CODE ICI\n"
   ]
  },
  {
   "attachments": {},
   "cell_type": "markdown",
   "metadata": {},
   "source": [
    "*Votre observation ici*\n",
    "\n"
   ]
  },
  {
   "attachments": {},
   "cell_type": "markdown",
   "metadata": {},
   "source": [
    "#### Une infinité de possibilités\n",
    "\n",
    "Bien que le choix de poser $\\phi(x) = x - \\alpha f(x)$ avec $\\alpha \\neq 0$ soit naturel, ce n'est pas le seul choix possible.\n",
    "\n",
    "En fait, il y a une infinité de choix possibles. Par exemple, on voit facilement que\n",
    "$$\\phi(x) = x \\iff \\phi(x) + x \\delta(x) = x + x \\delta(x) \\quad \\overset{\\delta(x) \\neq -1}{\\iff} \\quad \\frac{\\phi(x) + \\delta(x)}{1 + \\delta(x)} = x \\iff \\tilde{\\phi}(x) = x.$$\n",
    "\n",
    "Bien que cette modification semble triviale, le choix de $\\delta(x)$ peut changer l'ordre de convergence de la méthode.\n",
    "\n",
    "On cherche à résoudre l'équation $x e^x = 1$.\n",
    "\n",
    "On a, par exemple, les deux possibilités suivantes:\n",
    "1. On écrit $x = e^{-x},$ d'où $\\phi_1(x) = e^{-x}$.\n",
    "2. On écrit $x e^x + x = 1 + x$ d'où $\\phi_2(x) = \\frac{1 + x}{e^x + 1}$.\n",
    "\n",
    "Pour chaque choix, tracez la convergence de la méthode des points fixes. Qu'observez-vous ?\n"
   ]
  },
  {
   "cell_type": "code",
   "execution_count": null,
   "metadata": {},
   "outputs": [],
   "source": [
    "# Paramètres\n",
    "x0 = 2\n",
    "max_iter = 50\n",
    "tol = 1e-12\n",
    "import scipy\n",
    "x_ref = scipy.optimize.newton(lambda x: x*np.exp(x) - 1, 1)\n",
    "\n",
    "# Première fonction\n",
    "phi1 = lambda x: np.exp(-x)\n",
    "# VOTRE CODE ICI\n",
    "\n",
    "\n",
    "# Deuxième fonction\n",
    "phi2 = lambda x: (1+x) / (np.exp(x) + 1)\n",
    "# VOTRE CODE ICI\n",
    "\n",
    "# Plot\n",
    "# VOTRE CODE ICI\n"
   ]
  },
  {
   "attachments": {},
   "cell_type": "markdown",
   "metadata": {},
   "source": [
    "*Votre observation ici*\n"
   ]
  },
  {
   "attachments": {},
   "cell_type": "markdown",
   "metadata": {},
   "source": [
    "### Exercice 2.3: Application à la résolution de systèmes linéaires\n",
    "\n",
    "Lorsque l'on cherche à résoudre un système linéaire $A \\pmb{x} = \\pmb{b}$ de manière exacte, la méthode la plus efficace est d'utiliser la factorisation LU, ou bien la décomposition QR comme nous l'avons vu dans les précédents TPs.\n",
    "\n",
    "Cependant, lorsque le système est très large, ces décompositions peuvent être trop coûteuses.\n",
    "Souvent une approximation moins coûteuse de la solution est suffisante. Ce genre d'approximations peuvent être obtenues avec des méthodes itératives, comme la méthode du point fixe.\n",
    "\n",
    "Dans le code ci-dessous, on implémente une fonction `point_fixe_solve` qui résout le système linéaire $A \\pmb{x} = \\pmb{b}$ en itérant\n",
    "\n",
    "$$\\pmb{x}^{(k+1)} = \\pmb{x}^{(k)} - \\alpha (A \\pmb{x}^{(k)} - \\pmb{b}), \\quad \\alpha \\neq 0.$$\n"
   ]
  },
  {
   "attachments": {},
   "cell_type": "markdown",
   "metadata": {},
   "source": [
    "#### "
   ]
  },
  {
   "cell_type": "code",
   "execution_count": null,
   "metadata": {},
   "outputs": [],
   "source": [
    "def point_fixe_solve(A, b, x0, alpha, max_iter, tol):\n",
    "    \"\"\"Résolution d'un système linéaire par la méthode du point fixe\n",
    "    \n",
    "    Entrées\n",
    "    -------\n",
    "    A : ndarray\n",
    "        Matrice du système linéaire\n",
    "    b : ndarray\n",
    "        Vecteur du système linéaire\n",
    "    x0 : ndarray\n",
    "        Valeur initiale de x\n",
    "    alpha : float\n",
    "        Paramètre de la méthode du point fixe\n",
    "    max_iter : int\n",
    "        Nombre maximal d'itérations\n",
    "    tol : float\n",
    "        Tolérance pour la convergence\n",
    "\n",
    "    Sorties\n",
    "    -------\n",
    "    x : ndarray\n",
    "        Solution du système linéaire\n",
    "    all_x : list (optionnel)\n",
    "        Liste des valeurs de x à chaque itération\n",
    "    \"\"\"\n",
    "    # Initialisation\n",
    "    x = x0\n",
    "    all_x = [x]\n",
    "    # Boucle\n",
    "    for k in np.arange(max_iter):\n",
    "        x1 = x - alpha * (A.dot(x) - b)\n",
    "        all_x.append(x1)\n",
    "        if np.linalg.norm(x1 - x) < tol:\n",
    "            break\n",
    "        x = x1\n",
    "    # Vérification de la convergence\n",
    "    # if k == max_iter - 1:\n",
    "    #     print(\"La méthode du point fixe n'a pas convergé.\")\n",
    "\n",
    "    return x1, all_x"
   ]
  },
  {
   "attachments": {},
   "cell_type": "markdown",
   "metadata": {},
   "source": [
    "Considérons le système $A \\pmb{x} = \\pmb{b}$ d'ordre $n$, avec une matrice $A \\in \\mathbb R^{n \\times n}$ symétrique, dont le spectre est inclus dans $[ \\lambda_{\\min}, \\lambda_{\\max} ]$. \n",
    "\n",
    "Pour plusieurs valeurs de $\\alpha \\in [-0.1, 0.1]$, on affiche l'historique de convergence de la méthode en traçant l'erreur relative \n",
    "$$\\frac{|| \\pmb{x}_k - \\pmb{x}^* ||_2}{||\\pmb{x}_0 - \\pmb{x}^*||_2}, \\quad k = 0, 1, 2, \\ldots, k_{\\max}.$$\n",
    "\n",
    "Pour quelle valeur de $\\alpha$ la convergence est-elle la plus rapide ? La convergence (en échelle logarithmique) est-elle linéaire ou quadratique ?"
   ]
  },
  {
   "cell_type": "code",
   "execution_count": null,
   "metadata": {},
   "outputs": [],
   "source": [
    "# Génération du système\n",
    "n = 100\n",
    "lambda_min = 3\n",
    "lambda_max = 17\n",
    "np.random.seed(1234)\n",
    "U, _ = np.linalg.qr(np.random.rand(n, n))\n",
    "d = lambda_min + (lambda_max-lambda_min) * np.random.rand(n)\n",
    "A = U.dot(np.diag(d)).dot(U.T)\n",
    "x = 2 * np.random.rand(n) - 1\n",
    "b = A.dot(x)\n",
    "\n",
    "# Paramètres\n",
    "all_alpha = np.linspace(-0.1, 0.1, 5)\n",
    "all_alpha = all_alpha[all_alpha != 0]\n",
    "x0 = x * 0\n",
    "max_iter = 50\n",
    "tol = 1e-15\n",
    "it = np.arange(0, max_iter)\n",
    "\n",
    "fig = plt.figure()\n",
    "for i, alpha in enumerate(all_alpha):\n",
    "    _, all_xi = point_fixe_solve(A, b, x0, alpha, max_iter, tol)\n",
    "    erreur_relative = [np.linalg.norm(xi - x)/np.linalg.norm(all_xi[0] - x) for xi in all_xi]\n",
    "    plt.semilogy(erreur_relative, label='alpha = {:.2f}'.format(alpha))\n",
    "    # L_alpha = np.linalg.norm(np.eye(n) - alpha * A)\n",
    "    # plt.semilogy(it, L_alpha**it, '--', color=colors[i])\n",
    "plt.grid()\n",
    "plt.ylim([1e-10, 1e3])\n",
    "plt.legend()\n",
    "plt.show()"
   ]
  },
  {
   "attachments": {},
   "cell_type": "markdown",
   "metadata": {},
   "source": [
    "*Votre réponse ici*\n"
   ]
  },
  {
   "attachments": {},
   "cell_type": "markdown",
   "metadata": {},
   "source": [
    "#### Méthodes de splitting (optionnel)\n",
    "\n",
    "Une autre manière d'appliquer l'itération du point fixe est d'appliquer un splitting algébrique de $A$ en deux matrices $A = B - C$.\n",
    "\n",
    "Ainsi, $A \\pmb{x} = \\pmb{b}$ est équivalent à $B \\pmb{x} = C \\pmb{x} + \\pmb{b}$. Si $B$ est **inversible**, on peut résoudre l'itération du point fixe\n",
    "$$\\pmb{x}^{(k+1)} = B^{-1} (C \\pmb{x}^{(k)} + \\pmb{b}). $$\n",
    "Bien sûr, pour que la méthode soit applicable, il faut que l'inverse de $B$ soit rapide à calculer. Parmi les choix canoniques pour les matrices $B$ et $C$, on trouve:\n",
    "\n",
    "1. *Méthode de Jacobi*: $B$ est la diagonale de $A$, et $C = B - A$.\n",
    "2. *Méthode de Gauss-Seidel*: B est la partie triangulaire inférieure (diagonale inclue) de $A$, et $C = B - A$.\n",
    "\n",
    "---\n",
    "\n",
    "Pour chaque méthode, dérivez (à la main) un facteur de convergence $\\gamma$ tel que \n",
    "$$\\| \\pmb{x}^{(k+1)} - \\pmb{x}^* \\|_2 \\leq \\gamma \\| \\pmb{x}^{(k)} - \\pmb{x}^2 \\|_2,$$\n",
    "où $x^*$ est la solution exacte telle que $A \\pmb{x}^* = \\pmb{b}$.\n",
    "\n",
    "Ensuite, ajoutez vos taux de convergence dans les figures ci-dessous. Comparez-les aux pentes $\\beta = \\max(\\mathrm{abs}(\\mathrm{eig}(B^{-1}C)))$."
   ]
  },
  {
   "attachments": {},
   "cell_type": "markdown",
   "metadata": {},
   "source": [
    "*Dérivation des taux de convergence ici*\n"
   ]
  },
  {
   "cell_type": "code",
   "execution_count": null,
   "metadata": {},
   "outputs": [],
   "source": [
    "# Paramètres\n",
    "nb_iter = 40\n",
    "x_ref = np.linalg.solve(A, b)\n",
    "\n",
    "# Splitting de Jacobi\n",
    "B_J = np.diag(np.diag(A))\n",
    "C_J = B_J - A\n",
    "xk_J = [x0]\n",
    "for _ in np.arange(0, nb_iter):\n",
    "    xk_J.append(np.linalg.solve(B_J, C_J.dot(xk_J[-1]) + b))\n",
    "err_rel_J = [np.linalg.norm(xk - x_ref) / np.linalg.norm(x0 - x_ref) for xk in xk_J]\n",
    "\n",
    "# Splitting de Gauss-Seidel\n",
    "B_GS = np.tril(A)\n",
    "C_GS = B_GS - A\n",
    "xk_GS = [x0]\n",
    "for _ in np.arange(0, nb_iter):\n",
    "    xk_GS.append(np.linalg.solve(B_GS, C_GS.dot(xk_GS[-1]) + b))\n",
    "err_rel_GS = [np.linalg.norm(xk - x_ref) / np.linalg.norm(x0 - x_ref) for xk in xk_GS]\n",
    "\n",
    "# Figure\n",
    "it = np.arange(0, nb_iter+1)\n",
    "fig = plt.figure()\n",
    "# JACOBI\n",
    "plt.semilogy(it , err_rel_J, color='blue', label='Jacobi')\n",
    "# VOTRE TAUX DE CONVERGENCE ICI\n",
    "\n",
    "# GAUSS-SEIDEL\n",
    "plt.semilogy(it, err_rel_GS, color='red', label='Gauss-Seidel')\n",
    "# VOTRE TAUX DE CONVERGENCE ICI\n",
    "plt.legend()\n",
    "plt.grid()\n",
    "plt.xlim([0, 40])\n",
    "plt.ylim([1e-14, 1e0])\n",
    "plt.xlabel(\"Nombre d'itérations\")\n",
    "plt.ylabel(\"Erreur relative\")\n",
    "plt.show()\n",
    "\n"
   ]
  },
  {
   "attachments": {},
   "cell_type": "markdown",
   "metadata": {},
   "source": [
    "## Exercice 3: Méthode de Newton"
   ]
  },
  {
   "attachments": {},
   "cell_type": "markdown",
   "metadata": {},
   "source": [
    "### Exercice 3.1: Méthode de Newton scalaire\n",
    "\n",
    "Soit $f : \\mathbb R \\rightarrow \\mathbb R$ une fonction dérivable.\n",
    "\n",
    "La méthode de Newton scalaire est un cas particulier de l'itération du point fixe, donnée par l'itération\n",
    "$$x^{(k+1)} = x^{(k)} - \\frac{f(x^{(k)})}{f'(x^{(k)})},$$\n",
    "à partir d'une valeur initiale $x^{(0)}$. Cette itération va converger vers une racine de $f$. \n",
    "\n",
    "--- \n",
    "\n",
    "Implémentez la méthode de Newton scalaire dans une fonction `Newton_scalaire`.\n"
   ]
  },
  {
   "cell_type": "code",
   "execution_count": null,
   "metadata": {},
   "outputs": [],
   "source": [
    "def Newton_scalaire(f, df, x0, max_iter, tol):\n",
    "    \"\"\"Méthode de Newton scalaire.\n",
    "    L'itération s'arrête lorsque le nombre maximal d'itérations est atteint,\n",
    "    ou bien lorsque la différence entre deux itérations est plus petite que la tolérance donnée.\n",
    "\n",
    "    Entrées\n",
    "    -------\n",
    "    f : callable\n",
    "        Fonction du problème; y = f(x)\n",
    "    df : callable\n",
    "        Dérivée de f; z = df(x)\n",
    "    x0 : float\n",
    "        Valeur initiale\n",
    "    max_iter : int\n",
    "        Nombre maximal d'itérations\n",
    "    tol : float\n",
    "        Tolérance pour la convergence\n",
    "\n",
    "    Sorties\n",
    "    -------\n",
    "    xk: list\n",
    "        Liste des valeurs de x à chaque itération\n",
    "    \"\"\"\n",
    "    # VOTRE CODE ICI\n",
    "    "
   ]
  },
  {
   "attachments": {},
   "cell_type": "markdown",
   "metadata": {},
   "source": [
    "Testez votre fonction sur la fonction $f(x) = x^3 - x - 3$.\n",
    "\n",
    "Tracez la courbe de la fonction $f$ sur l'intervalle $[1, 2]$ et les itérés de la méthode de Newton.\n",
    "\n",
    "Vous pourrez utiliser les paramètres suivants:\n",
    "\n",
    "    x0 = 1.5\n",
    "    tol = 1e-8\n",
    "    max_iter = 20"
   ]
  },
  {
   "cell_type": "code",
   "execution_count": null,
   "metadata": {},
   "outputs": [],
   "source": [
    "# VOTRE CODE ICI\n",
    "\n"
   ]
  },
  {
   "attachments": {},
   "cell_type": "markdown",
   "metadata": {},
   "source": [
    "### Exercice 3.2: Méthode de Newton vectorielle\n",
    "\n",
    "Soit $f : \\mathbb R^n \\rightarrow \\mathbb R^n$ une fonction dérivable.\n",
    "\n",
    "Sous la condition que $f'(\\pmb{x}^{(k)})$ est inversible, la méthode de Newton est donnée par l'itération\n",
    "$$\\pmb{x}^{(k+1)} = \\pmb{x}^{(k)} + \\pmb{p}_k, \\quad \\text{ où } f'(\\pmb{x}^{(k)}) \\pmb{p}_k = - f(\\pmb{x}^{(k)}).$$\n",
    "\n",
    "Le code ci-dessous implémente la méthode de Newton vectorielle.\n"
   ]
  },
  {
   "cell_type": "code",
   "execution_count": null,
   "metadata": {},
   "outputs": [],
   "source": [
    "def Newton_vectoriel(f, df, x0, max_iter, tol):\n",
    "    \"\"\"Méthode de Newton vectoriel.\n",
    "    L'itération s'arrête lorsque le nombre maximal d'itérations est atteint,\n",
    "    ou bien lorsque la différence entre deux itérations est plus petite que la tolérance donnée.\n",
    "\n",
    "    Entrées\n",
    "    -------\n",
    "    f : callable\n",
    "        Fonction du problème; y = f(x)\n",
    "    df : callable\n",
    "        Dérivée de f; z = df(x)\n",
    "    x0 : ndarray\n",
    "        Valeur initiale\n",
    "    max_iter : int\n",
    "        Nombre maximal d'itérations\n",
    "    tol : float\n",
    "        Tolérance pour la convergence\n",
    "\n",
    "    Sorties\n",
    "    -------\n",
    "    xk: list\n",
    "        Liste des valeurs de x à chaque itération\n",
    "    \"\"\"\n",
    "    # VOTRE CODE ICI\n",
    "    xk = [x0]\n",
    "    for k in np.arange(max_iter):\n",
    "        x1 = xk[-1] - np.linalg.solve(df(xk[-1]), f(xk[-1]))\n",
    "        xk.append(x1)\n",
    "        if np.linalg.norm(x1 - xk[-2]) < tol:\n",
    "            break\n",
    "    return xk"
   ]
  },
  {
   "attachments": {},
   "cell_type": "markdown",
   "metadata": {},
   "source": [
    "Considérons la fonction complexe \n",
    "$$f: \\mathbb C \\rightarrow \\mathbb C, \\quad f(z) = z^3 - 1.$$\n",
    "\n",
    "1. À la main, écrire cette fonction sous forme vectorielle, c'est-à-dire comme une fonction $g: \\mathbb R^2 \\rightarrow \\mathbb R^2$. Calculez la jacobienne de $g$.\n",
    "2. Appliquez la méthode de Newton vectorielle à cette fonction. Vous pourrez utiliser les paramètres suivants:\n",
    "    * $x_0 = - 1 - 1i$\n",
    "    * $tol = 1e-8$\n",
    "    * $max\\_iter = 20$\n",
    "3. Tracez la courbe de l'erreur relative en fonction du nombre d'itérations. (Quelle est le zéro de $f$ le plus proche de $x_0$?)\n",
    "4. (Optionnel) Essayez avec différentes valeurs de $x_0$. Converge-t-on toujours vers le zéro le plus proche de $x_0$?"
   ]
  },
  {
   "attachments": {},
   "cell_type": "markdown",
   "metadata": {},
   "source": [
    "*Dérivation de la fonction vectorielle et de sa jacobienne ici*\n"
   ]
  },
  {
   "cell_type": "code",
   "execution_count": null,
   "metadata": {},
   "outputs": [],
   "source": [
    "# VOTRE CODE ICI\n",
    "\n"
   ]
  },
  {
   "attachments": {},
   "cell_type": "markdown",
   "metadata": {},
   "source": [
    "### Exercice 3.3: Bassins d'attraction\n",
    "\n",
    "Soit $\\pmb{x}^*$ une racine de $f$. Le **bassin d'attraction** de $\\pmb{x}^*$ est l'ensemble des valeurs initiales $x_0$ tels que la méthode de Newton converge vers $x^*$ à partir de $\\pmb{x}_0$. En d'autres termes,\n",
    "$$\n",
    "\\begin{aligned}\n",
    "A_{\\pmb{x}^*} &= \\{\\pmb{x}^{(0)} \\in \\mathbb R^n \\mid \\pmb{x}^{(k)} \\text{ converge vers } \\pmb{x}^* \\} \\\\ \n",
    "&= \\{ \\pmb{x}^{(0)} \\in \\mathbb R^n \\mid \\forall \\varepsilon > 0, \\exists K \\in \\mathbb N,  (k \\geq K \\implies \\| \\pmb{x}^{(k)} - \\pmb{x}^* \\|_2 < \\varepsilon) \\}.\n",
    "\\end{aligned}$$\n",
    "\n",
    "Contrairement à ce que l'on pourrait penser, ces ensembles sont loin d'être simple. Voyons par exemple le cas de la fonction de l'exercice précédent, c'est à dire $$f(z) = z^3 - 1.$$\n",
    "Les racines de cette fonction sont $$z_1 = 1, \\quad z_2 = - \\frac{1}{2} + \\frac{\\sqrt{3}}{2} i, \\quad z_3 = - \\frac{1}{2} - \\frac{\\sqrt{3}}{2} i.$$\n",
    "Concentrons-nous sur le carré unité dans le plan complexe. \n",
    "\n",
    "L'idée est la suivante:\n",
    "- On discrétise le carré unité en une grille de $N \\times N$ points.\n",
    "- On se fixe une tolérance et un nombre maximal d'itérations, puis on applique la méthode de Newton à chaque point de la grille.\n",
    "- On regarde vers quelle racine chaque point de la grille a convergé. \n",
    "  \n",
    "Pour chaque point de la grille, on peut donc associer un nombre entier $1, 2, 3$ qui indique vers quelle racine il a convergé (ou $0$, si la méthode n'a pas convergée). On peut alors représenter le bassin d'attraction de chaque racine par une couleur différente avec la fonction `imshow` de `matplotlib`.\n",
    "\n",
    "---\n",
    "\n",
    "Écrire une fonction `RacineAssociee` qui prend en argument une valeur initiale $\\pmb{x}_0$ et qui renvoie le nombre associé à la racine vers laquelle a convergé la méthode.\n",
    "\n",
    "**Indications:** \n",
    "- Utilisez les fonctions définies dans l'exercice 3.2.\n",
    "- Si vous n'avez pas réussi à implémenter la méthode de Newton vectorielle, vous pouvez utiliser la méthode de scipy `scipy.optimize.newton(g, x_0, dg)`, où `g` est la fonction vectorielle et `dg` sa jacobienne. Cette fonction renvoie la racine de `g` la plus proche de `x_0`."
   ]
  },
  {
   "cell_type": "code",
   "execution_count": null,
   "metadata": {},
   "outputs": [],
   "source": [
    "def RacineAssociee(x_0, max_iter, tol):\n",
    "    \"\"\"\n",
    "    Retourne la catégorie de la racine associée à la valeur initiale x_0.\n",
    "\n",
    "    Entrées\n",
    "    -------\n",
    "    x_0 : float\n",
    "        Valeur initiale\n",
    "    max_iter : int\n",
    "        Nombre maximal d'itérations\n",
    "    tol : float\n",
    "        Tolérance pour la convergence\n",
    "\n",
    "    Sorties\n",
    "    -------\n",
    "    numero : int\n",
    "        Numéro de la catégorie de la racine associée\n",
    "    \"\"\"\n",
    "    z1 = np.asarray([1, 0])\n",
    "    z2 = np.asarray([-1/2, np.sqrt(3)/2])\n",
    "    z3 = np.asarray([-1/2, -np.sqrt(3)/2])\n",
    "    # VOTRE CODE ICI\n",
    "    "
   ]
  },
  {
   "attachments": {},
   "cell_type": "markdown",
   "metadata": {},
   "source": [
    "Complétez le code ci-dessous pour estimer numériquement les bassins d'attractions des trois racines. Vous pourrez utiliser les paramètres suivants:\n",
    "\n",
    "    tol = 1e-8\n",
    "    max_iter = 20\n",
    "    N = 200\n",
    "\n",
    "Tracez le résultat avec la fonction `imshow` de `matplotlib`.\n",
    "\n",
    "Vous pouvez raffiner la grille en augmentant la valeur de `N`. (Cela prend environ 2 minutes pour $N=1000$.)\n",
    "\n",
    "Qu'observez-vous? Commentez."
   ]
  },
  {
   "cell_type": "code",
   "execution_count": null,
   "metadata": {},
   "outputs": [],
   "source": [
    "# Discrétisation du carré [-1, 1] x [-1, 1]\n",
    "N = 1000\n",
    "grille = np.linspace(-1, 1, N)\n",
    "X, Y = np.meshgrid(grille, grille)\n",
    "\n",
    "# Calcul de la catégorie de chaque point de la grille : np.array([X[i, j], Y[i, j]])\n",
    "# VOTRE CODE ICI\n",
    "\n",
    "\n",
    "# Figure\n",
    "fig = plt.figure()\n",
    "# VOTRE CODE ICI\n",
    "plt.xticks([-1, 0, 1])\n",
    "plt.yticks([-1, 0, 1])\n",
    "plt.colorbar(ticks = [0, 1, 2, 3])\n",
    "plt.show()\n",
    "\n"
   ]
  },
  {
   "attachments": {},
   "cell_type": "markdown",
   "metadata": {},
   "source": [
    "*Votre observation ici*\n",
    "\n"
   ]
  },
  {
   "cell_type": "markdown",
   "metadata": {},
   "source": []
  }
 ],
 "metadata": {
  "kernelspec": {
   "display_name": "teaching",
   "language": "python",
   "name": "python3"
  },
  "language_info": {
   "codemirror_mode": {
    "name": "ipython",
    "version": 3
   },
   "file_extension": ".py",
   "mimetype": "text/x-python",
   "name": "python",
   "nbconvert_exporter": "python",
   "pygments_lexer": "ipython3",
   "version": "3.11.0"
  },
  "orig_nbformat": 4
 },
 "nbformat": 4,
 "nbformat_minor": 2
}
