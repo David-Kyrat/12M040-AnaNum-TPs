{
  "cells": [
    {
      "cell_type": "markdown",
      "metadata": {
        "id": "mBRjE3wriyUA"
      },
      "source": [
        "## TP 2: Analyse des erreurs\n",
        "\n",
        "Dans ce TP, nous allons d'abord analyser les erreurs d'interpolation de la méthode de Lagrange et comment elles dépendent du nombre de nœuds utilisés, de la position de ces nœuds, et de la fonction que nous essayons d'interpoler. Ensuite, nous nous intéresserons à l'arithmétique en virgule flottante et à l'analyse des erreurs numériques. "
      ]
    },
    {
      "cell_type": "markdown",
      "metadata": {
        "id": "kYGwqKZ1iyUD"
      },
      "source": [
        "## Exercice 1: Les erreurs d'interpolation\n",
        "\n",
        "Soit $p_n(x)$ une approximation polynomiale de degré $n$ de la fonction $f$ sur l'intervalle $[a,b]$. L'erreur d'interpolation est alors définie comme suit:\n",
        "$$\n",
        "    \\max_{x\\in[a,b]} |p_n(x) - f(x)|.\n",
        "$$\n",
        "On commencera par implémenter une approximation de l'erreur d'interpolation ci-dessus."
      ]
    },
    {
      "cell_type": "markdown",
      "metadata": {
        "id": "ITNv6DKriyUE",
        "tags": []
      },
      "source": [
        "### Exercise 1a)\n",
        "---\n",
        "> Implémenter une fonction `max_deviation(f, g, a, b)` qui estime l'erreur\n",
        "$$\n",
        "    \\max_{x\\in [a,b]} |f(x)-g(x)|\n",
        "$$\n",
        "> en évaluant les deux fonctions en de nombreux points dans l'intervalle $[a, b]$.\n",
        ">\n",
        "> **Remarque** La précision de cette fonction dépend du nombre de points d'évaluation. Si vous pensez que les exercices présentés plus loin dans ce Notebook prennent trop de temps à s'exécuter, essayez de diminuer le nombre de points (en veillant à ce que les tests passent toujours).\n",
        "----"
      ]
    },
    {
      "cell_type": "code",
      "execution_count": null,
      "metadata": {
        "id": "7Jc5giL5iyUF"
      },
      "outputs": [],
      "source": [
        "import matplotlib.pyplot as plt\n",
        "import numpy as np\n",
        "\n",
        "\n",
        "def max_deviation(f, g = lambda x: 0, a=-1, b=1):\n",
        "    \"\"\"Renvoie la déviation maximale de f sur [a,b] par rapport à g.\n",
        "       By default, return ||f||_{∞}\n",
        "       g (optional): function to compute distance (|f-g|) with, (by default g is the 0 function)\n",
        "       a (optional): default to -1 \n",
        "       b (optional): default to 1. (Both define the interval [a,b] to compute max over)\n",
        "    \"\"\"\n",
        "    # VOTRE CODE ICI\n",
        "    nb_points = 5000\n",
        "    def_set = np.linspace(a, b, num=nb_points)\n",
        "    return np.max([np.abs(f(x) - g(x)) for x in def_set]) if g != (lambda x: 0) else np.max([np.abs(f(x)) for x in def_set])\n",
        "    # specify both case to avoid rounding error when substracting by 0"
      ]
    },
    {
      "cell_type": "code",
      "execution_count": null,
      "metadata": {
        "id": "bzrwo8luiyUG"
      },
      "outputs": [],
      "source": [
        "def test_max_deviation():\n",
        "    f = np.sin\n",
        "    g = np.cos\n",
        "    max_dev = max_deviation(f, g, 0, np.pi)\n",
        "    assert max_dev > 0, \"La valeur de max_deviation doit être positive.\"\n",
        "    error = np.abs(max_dev - np.sqrt(2))\n",
        "    assert error < 1e-2, \"La valeur de max_deviation n'est pas correcte.\"\n",
        "    assert error < 1e-6, \"Rendre votre méthode plus précise.\"\n",
        "\n",
        "    def sin_taylor(x):\n",
        "        \"\"\"Renvoie l'expansion de Taylor de degré 9 de sin(x) autour de x=0\"\"\"\n",
        "        return x - x**3 / 6 + x**5 / 120 - x**7 / 5040 + x**9 / 362880\n",
        "\n",
        "    error = (\n",
        "        max_deviation(np.sin, sin_taylor, -np.pi, np.pi) - 0.006925270707505013\n",
        "    )\n",
        "    assert error < 1e-6, \"Rendre votre méthode plus précise.\"\n",
        "\n",
        "\n",
        "test_max_deviation()"
      ]
    },
    {
      "cell_type": "markdown",
      "metadata": {
        "id": "IPFLtf3FiyUG"
      },
      "source": [
        "Dans le TP précédent, vous avez implémenté l'interpolation de Lagrange. Alors que nous pourrions vous demander de réutiliser les fonctions que vous avez implémentées la dernière fois, vous allez plutôt utiliser les méthodes d'interpolation implémentées dans Scipy.  On peut utiliser `BarycentricInterpolator` qui utilise l'interpolation de Lagrange barycentrique.\n",
        "\n",
        "\n",
        "Son utilisation est la suivante : si `xi` et `yi = f(xi)` sont les valeurs que l'on veut utiliser pour construire le polynôme d'interpolation, alors on peut appeler\n",
        "\n",
        "```python\n",
        "    poly = BarycentricInterpolator(xi, yi)\n",
        "```\n",
        "Cela renvoie un objet qui stocke toutes les informations nécessaires pour évaluer le polynôme d'interpolation. On peut simplement appeler cet objet comme indiqué ci-dessous :\n",
        "```python\n",
        "    x = np.linspace(-1, 1, 10)\n",
        "    poly(x)\n",
        "```\n",
        "Ci-dessous, on peut le voir en action pour l'interpolation de $f(x) = 1/(1+x^2)$ :"
      ]
    },
    {
      "cell_type": "code",
      "execution_count": null,
      "metadata": {
        "colab": {
          "base_uri": "https://localhost:8080/",
          "height": 265
        },
        "id": "4EEtdwK2iyUH",
        "outputId": "3b504695-1da1-47a7-a8f4-737b6f33d60f"
      },
      "outputs": [
        {
          "output_type": "display_data",
          "data": {
            "text/plain": [
              "<Figure size 432x288 with 1 Axes>"
            ],
            "image/png": "[encoded data removed]"
          },
          "metadata": {
            "needs_background": "light"
          }
        }
      ],
      "source": [
        "from scipy.interpolate import BarycentricInterpolator\n",
        "\n",
        "\n",
        "def f(x):\n",
        "    return 1 / (1 + x**2)\n",
        "\n",
        "\n",
        "n_noeuds = 4\n",
        "noeuds = np.linspace(-1, 1, n_noeuds)\n",
        "valeurs = f(noeuds)\n",
        "poly = BarycentricInterpolator(noeuds, valeurs)\n",
        "\n",
        "plot_x = np.linspace(-1, 1, 100)\n",
        "plot_y = poly(plot_x)\n",
        "plt.plot(plot_x, plot_y, label=\"Interpolation\")\n",
        "plt.plot(plot_x, f(plot_x), label=\"Original\")\n",
        "plt.plot(noeuds, valeurs, \"o\", label=\"Noeuds\")\n",
        "plt.legend()\n",
        "plt.show()"
      ]
    },
    {
      "cell_type": "markdown",
      "metadata": {
        "id": "VIeM91xriyUI",
        "tags": []
      },
      "source": [
        "On souhaite maintenant étudier comment l'erreur d'interpolation évolue lorsque l'on augmente le nombre de nœuds d'interpolation. \n",
        "\n",
        "### Exercice 1b) i)\n",
        "----\n",
        "> Implémentez une fonction `interpolation_error_equidistant(f, a, b, n)` qui estime l'erreur d'interpolation\n",
        "$$\n",
        "    \\max_{x\\in[a,b]} |p_n(x)-f(x)|\n",
        "$$\n",
        "> où $p_n(x)$ est le polynôme d'interpolation de degré $n$ obtenu en utilisant la formule de Lagrange barycentrique avec des nœuds d'interpolation équidistants.\n",
        "> Vous devrez utiliser la fonction `max_deviation` de l'exercice 1a).   \n",
        ">\n",
        "> **Attention:** Le polynôme d'interpolation $p_n(x)$ est de degré $n$, ce qui nécessite $n+1$ nœuds d'interpolation !\n",
        "----\n"
      ]
    },
    {
      "cell_type": "code",
      "execution_count": null,
      "metadata": {
        "id": "LNt_N7NYiyUJ"
      },
      "outputs": [],
      "source": [
        "def interpolation_error_equidistant(f, a, b, n):\n",
        "    \"\"\"\n",
        "    Calcule l'erreur d'interpolation de degré n de f sur l'intervalle [a,b]\n",
        "    en utilisant des noeuds équidistants.\n",
        "    \"\"\"\n",
        "    # VOTRE CODE ICI\n",
        "    nodes = np.linspace(a,b, num=n+1)\n",
        "    yis = f(nodes) #np.array([f(x) for x in nodes])\n",
        "    #print(yis)\n",
        "    poly = BarycentricInterpolator(nodes, yis)\n",
        "    return max_deviation(f, poly, a, b)\n",
        "\n",
        "\n",
        "\n",
        "#"
      ]
    },
    {
      "cell_type": "code",
      "execution_count": null,
      "metadata": {
        "id": "Pu2WX3ZRiyUJ"
      },
      "outputs": [],
      "source": [
        "def test_interpolation_error_equidistant():\n",
        "    error4 = interpolation_error_equidistant(np.sin, -1, 1, 4)\n",
        "    error9 = interpolation_error_equidistant(np.sin, -1, 1, 9)\n",
        "    assert error4 > 0, \"L'erreur doit être positive\"\n",
        "    assert error9 > 0, \"L'erreur doit être positive\"\n",
        "    assert error4 > error9, \"L'erreur devrait diminuer avec n pour les petits n\"\n",
        "    error4_correct = 0.0009031431406134605\n",
        "    assert (\n",
        "        abs(error4 - error4_correct) / error4_correct < 1e-2\n",
        "    ), \"L'erreur n'est pas correcte\"\n",
        "    error9_correct = 2.902040829866337e-10\n",
        "    assert (\n",
        "        abs(error9 - error9_correct) / error9_correct < 1e-2\n",
        "    ), \"L'erreur n'est pas correcte\"\n",
        "\n",
        "    error19 = interpolation_error_equidistant(np.exp, 5, 10, 19)\n",
        "    assert (\n",
        "        1e-06 > error19 > 1e-10\n",
        "    ), \"Assurez-vous que vous prenez correctement en compte l'intervalle [a,b].\"\n",
        "\n",
        "\n",
        "test_interpolation_error_equidistant()"
      ]
    },
    {
      "cell_type": "code",
      "execution_count": null,
      "metadata": {
        "id": "qpdOQ-NWiyUK",
        "colab": {
          "base_uri": "https://localhost:8080/"
        },
        "outputId": "ab9903b5-1bbd-4eb0-9318-ab14d8d5b26a"
      },
      "outputs": [
        {
          "output_type": "execute_result",
          "data": {
            "text/plain": [
              "Text(0.5, 0, \"Degré n du polynôme d'interpolation\")"
            ]
          },
          "metadata": {},
          "execution_count": 6
        },
        {
          "output_type": "display_data",
          "data": {
            "text/plain": [
              "<Figure size 720x360 with 1 Axes>"
            ],
            "image/png": "[encoded data removed]"
          },
          "metadata": {
            "needs_background": "light"
          }
        }
      ],
      "source": [
        "plt.figure(figsize=(10, 5))\n",
        "plt.title(\"Tracé de l'erreur d'interpolation pour $f(x) = \\exp(x)$ sur [-1,1].\")\n",
        "\n",
        "results = []\n",
        "n_vals = np.arange(2, 31)\n",
        "#for n in n_vals:\n",
        "#    results.append(interpolation_error_equidistant(np.exp, -1, 1, n))\n",
        "results = [interpolation_error_equidistant(np.exp, -1, 1, n) for n in n_vals]\n",
        "\n",
        "plt.plot(n_vals, results, \"o-\")\n",
        "\n",
        "plt.xticks(n_vals)\n",
        "plt.yscale(\"log\")\n",
        "plt.grid()\n",
        "plt.xlabel(\"Degré n du polynôme d'interpolation\")\n",
        "\n",
        "#"
      ]
    },
    {
      "cell_type": "markdown",
      "metadata": {
        "id": "t1mZJCLNiyUK"
      },
      "source": [
        "> **Réflexion** : Pourquoi l'erreur descend-elle d'abord et remonte-t-elle ensuite ?"
      ]
    },
    {
      "cell_type": "markdown",
      "metadata": {
        "id": "ZnviGZD6iyUK"
      },
      "source": [
        "Bien que simple, vous avez vu que les nœuds d'interpolation équidistants ne sont pas les meilleurs. Au lieu de cela, l'utilisation des nœuds de Chebyshev est généralement privilégiée. Rappelons que les points d'interpolation de Chebyshev pour l'intervalle $[-1,1]$ sont donnés par:\n",
        "$$\n",
        "    x_k = \\cos\\left(\\frac{2k+1}{2n}\\pi\\right),\\qquad k=0,\\dots,n-1.\n",
        "$$\n",
        "Pour obtenir les nœuds de Chebyshev dans l'intervalle $[a,b]$, on peut appliquer une transformation affine.\n",
        "\n",
        "### Exercice 1b) ii)\n",
        "> Implémentez une fonction `interpolation_error_chebyshev(f, a, b, n)` qui estime l'erreur d'interpolation\n",
        "$$\n",
        "    \\max_{x\\in[a,b]} |p_n(x)-f(x)|\n",
        "$$\n",
        "> où $p_n(x)$ est le polynôme d'interpolation de degré $n$ obtenu en utilisant les noeuds d'interpolation de Chebyshev.  \n",
        "----"
      ]
    },
    {
      "cell_type": "code",
      "execution_count": null,
      "metadata": {
        "id": "-6QYh8nwiyUL"
      },
      "outputs": [],
      "source": [
        "def chebyshev_noeuds(a, b, n):\n",
        "    \"\"\"Renvoie les n noeuds de Chebyshev sur [a,b]\"\"\"\n",
        "    # VOTRE CODE ICI\n",
        "\n",
        "    def inner(): return np.array([(k + 0.5) * np.pi/n for k in range(n)])\n",
        "    return np.cos(inner())\n",
        "#[inner(k) for k in range(n)])\n",
        "\n",
        "\n",
        "\n",
        "def interpolation_error_chebyshev(f, a, b, n):\n",
        "    \"\"\"\n",
        "    Calcule l'erreur d'interpolation de degré n de f sur l'intervalle [a,b] en\n",
        "    utilisant des noeuds de Chebyshev.\n",
        "    \"\"\"\n",
        "    # VOTRE CODE ICI\n",
        "    def transfo() :\n",
        "        return a + (b-a) * (1 + chebyshev_noeuds(a,b,n))/2\n",
        "    nodes = transfo()\n",
        "    #print(\"Cheb nodes\", nodes, \"##\")\n",
        "    yis = f(nodes)\n",
        "    #print(\"yis\", yis, \"##\")\n",
        "    poly = BarycentricInterpolator(nodes, yis)\n",
        "    #print(\"poly\", poly(np.linspace(a,b, num=10000)), \"##\")\n",
        "    return max_deviation(f, poly, a, b)\n",
        "\n",
        "\n",
        "    #"
      ]
    },
    {
      "cell_type": "code",
      "execution_count": null,
      "metadata": {
        "id": "x5Fre1spiyUL"
      },
      "outputs": [],
      "source": [
        "def test_interpolation_error_chebyshev():\n",
        "    error4 = interpolation_error_chebyshev(np.sin, -1, 1, 4)\n",
        "    error9 = interpolation_error_chebyshev(np.sin, -1, 1, 9)\n",
        "    assert error4 > 0, \"L'erreur doit être positive\"\n",
        "    assert error9 > 0, \"L'erreur doit être positive\"\n",
        "    assert error4 > error9, \"L'erreur devrait diminuer avec n pour les petits n\"\n",
        "    error4_correct = 0.0005043855644989437\n",
        "    error9_correct = 4.784317386707926e-11\n",
        "    assert (\n",
        "        abs(error4 - error4_correct) / error4_correct < 1e-2\n",
        "    ), \"L'erreur n'est pas correcte\"\n",
        "    assert (\n",
        "        abs(error9 - error9_correct) / error9_correct < 1e-2\n",
        "    ), \"L'erreur n'est pas correcte\"\n",
        "\n",
        "    error19 = interpolation_error_chebyshev(np.exp, 5, 10, 19)\n",
        "    assert (\n",
        "        1e-08 > error19)"
      ]
    },
    {
      "cell_type": "markdown",
      "metadata": {
        "id": "AfGuzIc7iyUL"
      },
      "source": [
        "Nous traçons ci-dessous l'erreur d'interpolation pour $f=\\exp$ sur l'intervalle [-1,1] en utilisant des noeuds d'interpolation équidistants et de Chebyshev.\n",
        "> **Réflexion** : Pour les petits $n$, les noeuds de Chebyshev sont un peu meilleurs que les noeuds équidistants. Pour des $n$ plus grands, l'erreur devient pire pour les noeuds équidistants, mais reste à peu près la même pour les noeuds Chebyshev. Comment cela se fait-il ?"
      ]
    },
    {
      "cell_type": "code",
      "execution_count": null,
      "metadata": {
        "id": "o7bZOfHAiyUM",
        "colab": {
          "base_uri": "https://localhost:8080/",
          "height": 352
        },
        "outputId": "cec03529-18fb-4f6e-f702-5efa011603bb"
      },
      "outputs": [
        {
          "output_type": "display_data",
          "data": {
            "text/plain": [
              "<Figure size 720x360 with 1 Axes>"
            ],
            "image/png": "[encoded data removed]"
          },
          "metadata": {
            "needs_background": "light"
          }
        }
      ],
      "source": [
        "plt.figure(figsize=(10, 5))\n",
        "plt.title(\"Tracé de l'erreur d'inrepolation pour $f(x) = \\exp(x)$ sur [-1,1].\")\n",
        "\n",
        "errors = []\n",
        "n_vals = np.arange(2, 31)\n",
        "for n in n_vals:\n",
        "    errors.append(interpolation_error_equidistant(np.exp, -1, 1, n))\n",
        "plt.plot(n_vals, errors, \"o-\", label=\"Equidistant\")\n",
        "\n",
        "errors = []\n",
        "n_vals = np.arange(2, 31)\n",
        "for n in n_vals:\n",
        "    errors.append(interpolation_error_chebyshev(np.exp, -1, 1, n))\n",
        "plt.plot(n_vals, errors, \"o-\", label=\"Chebyshev\")\n",
        "\n",
        "plt.xticks(n_vals)\n",
        "plt.yscale(\"log\")\n",
        "plt.xlabel(\"Degré n du polynôme d'interpolation\")\n",
        "plt.grid()\n",
        "plt.legend()\n",
        "plt.show()"
      ]
    },
    {
      "cell_type": "markdown",
      "metadata": {
        "id": "rdGdTQkriyUM"
      },
      "source": [
        "L'erreur d'interpolation pour des points équidistants est bornée par\n",
        "$$\n",
        "    \\max_{x\\in[a,b]}|p_n(x)-f(x)| \\leq b_{\\text{equi}} = \\max_{x\\in[a,b]}|f^{(n+1)}(x)|\\frac{1}{4(n+1)} \\left(\\frac{b-a}n\\right)^{n+1}.\n",
        "$$\n",
        "Pour les noeuds de Chebyshev, la borne est\n",
        "$$\n",
        "    \\max_{x\\in[a,b]}|p_n(x)-f(x)| \\leq b_{\\text{Cheby}} = \\max_{x\\in[a,b]}|f^{(n+1)}(x)| \\left(\\frac{(b-a)^{n+1}}{2^{2n+1}(n+1)!}\\right).\n",
        "$$\n",
        "On étudiera la précision de ces limites en pratique. Mais d'abord, pour éviter de calculer les dérivées à la main, on verra comment utiliser le module Python `sympy` pour calculer les dérivées.\n",
        "\n",
        "`sympy` est un module Python pour l'algèbre symbolique. Tout comme Maple, il peut faire des choses comme intégrer, différencier ou résoudre des expressions symboliques. Pour l'instant, on va juste voir comment il peut être utilisé pour calculer les dérivées de fonctions simples. \n",
        "\n",
        "Si on importe `x` de `sympy.abc`, alors la variable `x` est interprétée comme un symbole. On peut former des expressions avec ce symbole :"
      ]
    },
    {
      "cell_type": "code",
      "execution_count": null,
      "metadata": {
        "id": "g120Yu-GiyUM",
        "colab": {
          "base_uri": "https://localhost:8080/",
          "height": 39
        },
        "outputId": "2ba6f55e-f58b-44d4-d8f9-f02ef2b7bcf8"
      },
      "outputs": [
        {
          "output_type": "execute_result",
          "data": {
            "text/plain": [
              "x**2 + 15*x - 1"
            ],
            "text/latex": "$\\displaystyle x^{2} + 15 x - 1$"
          },
          "metadata": {},
          "execution_count": 10
        }
      ],
      "source": [
        "from sympy.abc import x\n",
        "\n",
        "poly = x**2 + 15 * x - 1\n",
        "poly"
      ]
    },
    {
      "cell_type": "markdown",
      "metadata": {
        "id": "1qYD5FZhiyUM"
      },
      "source": [
        "On peut différencier les expressions en utilisant `sympy.diff` comme ceci :"
      ]
    },
    {
      "cell_type": "code",
      "execution_count": null,
      "metadata": {
        "id": "77pcoOQ9iyUM",
        "colab": {
          "base_uri": "https://localhost:8080/",
          "height": 39
        },
        "outputId": "595d6447-0b91-4f24-95d6-525c73059b23"
      },
      "outputs": [
        {
          "output_type": "execute_result",
          "data": {
            "text/plain": [
              "2*x + 15"
            ],
            "text/latex": "$\\displaystyle 2 x + 15$"
          },
          "metadata": {},
          "execution_count": 11
        }
      ],
      "source": [
        "import sympy\n",
        "\n",
        "sympy.diff(poly, x)"
      ]
    },
    {
      "cell_type": "markdown",
      "metadata": {
        "id": "X9ZOowR7iyUN"
      },
      "source": [
        "On ne veut pas seulement une expression symbolique des dérivées des fonctions, on a aussi besoin d'évaluer ces dérivées en de nombreux points. On peut faire cela en utilisant la function `subs` (`poly_der2.subs(x, 1)` pour évaluer la fonction en $1$). Si nous souhaitons évaluer la fonction en de nombreux points, il est plus naturel de transformer l'expression `sympy` en une fonction qui peut accepter des arrays `numpy`, à l'aide de la fonction `sympy.lambdify` comme ceci :"
      ]
    },
    {
      "cell_type": "code",
      "execution_count": null,
      "metadata": {
        "id": "hAcH55LRiyUN"
      },
      "outputs": [],
      "source": [
        "import sympy\n",
        "from sympy.abc import x\n",
        "\n",
        "def lambdify(expr, var):\n",
        "  return sympy.lambdify(var, expr, \"numpy\")\n",
        "\n",
        "poly = x**10 - x**5 + 16\n",
        "poly_der2 = sympy.diff(poly, x, 2)  # deuxième dérivée\n",
        "f_2 = sympy.lambdify(x, poly_der2, \"numpy\")  # convertir en fonction numpy\n",
        "f = lambdify(poly_der2, x)\n",
        "test_x_range = np.linspace(-1, 1, 10)\n",
        "assert (f(test_x_range) == f_2(test_x_range)).all(), \"Not Equal\"\n",
        "\n"
      ]
    },
    {
      "cell_type": "markdown",
      "metadata": {
        "id": "-9PGQ9gYiyUN"
      },
      "source": [
        "### Exercice 1c) i)\n",
        "----\n",
        "> Ecrivez une fonction `nder(expr, n)` qui prend une expression `sympy` qui dépend de `x` en entrée, et sort la `n`ième dérivée sous forme de fonction `numpy`. Ecrivez ensuite les fonctions `b_equidistant(f, a, b, n)` et `b_chebyshev(f, a, b, n)` qui calculent respectivement les bornes d'erreur d'interpolation $b_{\\text{equi}}$ et $b_{\\text{Cheby}}$.\n",
        ">\n",
        "> Faites attention à votre implémentation de `b_chebyshev` ; vous devrez peut-être réarranger les termes de la formule pour éviter d'avoir des fractions dont le numérateur et le dénominateur sont tous deux très grands. \n",
        "----"
      ]
    },
    {
      "cell_type": "code",
      "source": [
        "#from sympy.abc import n, b, a\n",
        "#poly = ((b-a)/n) ** (n+1) / (4*(n+1))\n",
        "#poly\n",
        "def f(x): return 2*x\n",
        "max_deviation(f, lambda x: 0, -1, 1)"
      ],
      "metadata": {
        "colab": {
          "base_uri": "https://localhost:8080/"
        },
        "id": "muZBEcFthPJn",
        "outputId": "0b3ba5c5-b425-4348-e9d6-b2b5cbca85a5"
      },
      "execution_count": null,
      "outputs": [
        {
          "output_type": "execute_result",
          "data": {
            "text/plain": [
              "2.0"
            ]
          },
          "metadata": {},
          "execution_count": 13
        }
      ]
    },
    {
      "cell_type": "code",
      "execution_count": null,
      "metadata": {
        "id": "c_IkE01wiyUN"
      },
      "outputs": [],
      "source": [
        "def nder(expr, n):\n",
        "    \"\"\"Calcule la nième dérivée de expr comme fonction numpy\"\"\"\n",
        "    dexpr_d2 = sympy.diff(expr, x, n) # d²(expr)/dx²\n",
        "    return lambdify(dexpr_d2, x)\n",
        "\n",
        "def b_equidistant(f, a, b, n):\n",
        "    \"\"\"Calcule les bornes d'erreur pour l'interpolation de Lagrange équidistante.\n",
        "     - L'interpolation est effectuée sur l'intervalle [a,b].\n",
        "     - f est une expression sympy\n",
        "     - n est le degré du polynôme d'interpolation \"\"\"\n",
        "    def rhs() : return ((b-a)/n) ** (n+1) / (4*(n+1))\n",
        "    def lhs(): return max_deviation(nder(f, n+1), a=a, b=b)\n",
        "    return lhs() * rhs()\n",
        "\n",
        "def fact(n): return np.math.factorial(n)\n",
        "\n",
        "def b_chebyshev(f, a, b, n):\n",
        "    \"\"\"\n",
        "    Calcule les bornes d'erreur pour l'interpolation de Lagrange Chebyshev.\n",
        "\n",
        "     - L'interpolation est effectuée sur l'intervalle [a,b].\n",
        "     - f est une expression sympy\n",
        "     - n est le degré du polynôme d'interpolation\n",
        "    \"\"\"\n",
        "    def numerator(): return ((b - a)**(n + 1))\n",
        "    def rhs1(): return numerator() / (2**(2*n+1))\n",
        "    def rhs2(): return 1 / fact(n+1)\n",
        "    # Splitting into 2 divisions and storing to 'rhs' to avoid overflow error\n",
        "    rhs = rhs1() * rhs2()\n",
        "    def lhs(): return (max_deviation(nder(f, n+1), a=a, b=b))\n",
        "    return lhs() * rhs\n",
        "    \n",
        "    \n",
        "    # VOTRE CODE ICI"
      ]
    },
    {
      "cell_type": "code",
      "source": [
        "def test_nder():\n",
        "    from sympy.abc import x\n",
        "\n",
        "    poly = x**2 + 15 * x - 1\n",
        "    x_samples = np.linspace(-1, 1, 10)\n",
        "    deriv1 = nder(poly, 1)\n",
        "    assert np.allclose(\n",
        "        deriv1(x_samples), 2 * x_samples + 15\n",
        "    ), \"La dérivée n'est pas correcte\"\n",
        "    deriv2 = nder(poly, 2)\n",
        "    assert np.allclose(\n",
        "        deriv2(x_samples), 2 * np.ones_like(x_samples)\n",
        "    ), \"La dérivée n'est pas correcte\"\n",
        "    deriv3 = nder(poly, 3)\n",
        "    assert np.allclose(\n",
        "        deriv3(x_samples), np.zeros_like(x_samples)\n",
        "    ), \"La dérivée n'est pas correcte\"\n",
        "\n",
        "    func = sympy.sin(x)\n",
        "    deriv101 = nder(func, 101)\n",
        "    assert np.allclose(\n",
        "        deriv101(x_samples), np.cos(x_samples)\n",
        "    ), \"La dérivée n'est pas correcte\"\n",
        "\n",
        "test_nder()"
      ],
      "metadata": {
        "id": "36Mh_9rYmhFM"
      },
      "execution_count": null,
      "outputs": []
    },
    {
      "cell_type": "code",
      "source": [
        "def test_b_equidistant():\n",
        "    expr = sympy.sin(x) ** 2\n",
        "    error = b_equidistant(expr, -1, 1, 5)\n",
        "    assert error > 0, \"L'erreur doit être positive\"\n",
        "    correct_error = 0.005461333332241047\n",
        "    assert (\n",
        "        abs(error - correct_error) / correct_error < 1e-2\n",
        "    ), \"L'erreur n'est pas correcte\"\n",
        "\n",
        "    expr = sympy.cos(x) - 2 * sympy.sin(x)\n",
        "    error = b_equidistant(expr, -np.pi, np.pi, 7)\n",
        "    assert error > 0, \"L'erreur doit être positive\"\n",
        "    correct_error = 0.02944351467839892\n",
        "    assert (\n",
        "        abs(error - correct_error) / correct_error < 1e-2\n",
        "    ), \"L'erreur n'est pas correcte\"\n",
        "\n",
        "test_b_equidistant()"
      ],
      "metadata": {
        "id": "FffEtVUHmokZ"
      },
      "execution_count": null,
      "outputs": []
    },
    {
      "cell_type": "code",
      "execution_count": null,
      "metadata": {
        "id": "DnmTrspbiyUN"
      },
      "outputs": [],
      "source": [
        "def test_b_chebyshev():\n",
        "    expr = sympy.sin(x) ** 2\n",
        "    error = b_chebyshev(expr, -1, 1, 5)\n",
        "    assert error > 0, \"L'erreur doit être positive\"\n",
        "    correct_error = 0.0013888888886111055\n",
        "    dist =  abs(error - correct_error) / correct_error\n",
        "    assert (\n",
        "        abs(error - correct_error) / correct_error < 1e-2\n",
        "    ), \"L'erreur n'est pas correcte\"\n",
        "\n",
        "    expr = sympy.cos(x) - 2 * sympy.sin(x)\n",
        "    error = b_chebyshev(expr, -np.pi, np.pi, 7)\n",
        "    assert error > 0, \"L'erreur doit être positive\"\n",
        "    correct_error = 0.004111056926946459\n",
        "    assert (\n",
        "        abs(error - correct_error) / correct_error < 1e-2\n",
        "    ), \"L'erreur n'est pas correcte\"\n",
        "\n",
        "\n",
        "test_b_chebyshev()"
      ]
    },
    {
      "cell_type": "markdown",
      "metadata": {
        "id": "odIU92JSiyUO"
      },
      "source": [
        "On trace ci-dessous les erreurs d'interpolation pour $f=\\exp$ sur l'intervalle [-1,1] pour les noeuds équidistants et de Chebyshev, ainsi que les bornes théoriques respectives. \n"
      ]
    },
    {
      "cell_type": "code",
      "execution_count": null,
      "metadata": {
        "id": "iFojx_pmiyUO",
        "colab": {
          "base_uri": "https://localhost:8080/",
          "height": 352
        },
        "outputId": "ead38dfd-ccc3-4c28-e802-ad22d2e7ecf0"
      },
      "outputs": [
        {
          "output_type": "display_data",
          "data": {
            "text/plain": [
              "<Figure size 720x360 with 1 Axes>"
            ],
            "image/png": "[encoded data removed]"
          },
          "metadata": {
            "needs_background": "light"
          }
        }
      ],
      "source": [
        "def interpolation_error_comparison(expr, a, b, n_max):\n",
        "    plt.figure(figsize=(10, 5))\n",
        "    func_numpy = sympy.lambdify(x, expr, \"numpy\")\n",
        "    n_vals = np.arange(1, n_max)\n",
        "\n",
        "    # Equidistant\n",
        "    erreurs_vrais = []\n",
        "    erreurs_theoriques = []\n",
        "    for n in n_vals:\n",
        "        erreurs_vrais.append(interpolation_error_equidistant(func_numpy, -1, 1, n))\n",
        "        erreurs_theoriques.append(b_equidistant(expr, -1, 1, n))\n",
        "    plt.plot(n_vals, erreurs_vrais, \"-\", c=\"r\", label=\"Equidistant\")\n",
        "    plt.plot(n_vals, erreurs_theoriques, \"--\", c=\"r\", label=\"$b_{equi}$\")\n",
        "\n",
        "    # Chebyshev\n",
        "    erreurs_vrais = []\n",
        "    erreurs_theoriques = []\n",
        "    for n in n_vals:\n",
        "        erreurs_vrais.append(\n",
        "            interpolation_error_chebyshev(func_numpy, -1, 1, n)\n",
        "        )\n",
        "        erreurs_theoriques.append(b_chebyshev(expr, -1, 1, n))\n",
        "    plt.plot(n_vals, erreurs_vrais, \"-\", c=\"b\", label=\"Chebyshev\")\n",
        "    plt.plot(n_vals, erreurs_theoriques, \"--\", c=\"b\", label=\"$b_{Cheby}$\")\n",
        "\n",
        "    plt.title(f\"Erreurs d'interpolation pour $f(x) = {sympy.latex(expr)}$\")\n",
        "    x_ticks = n_vals\n",
        "    if len(x_ticks) > 25:\n",
        "        x_ticks = x_ticks[:: len(x_ticks) // 20]\n",
        "    plt.xticks(x_ticks)\n",
        "    plt.yscale(\"log\")\n",
        "    plt.xlabel(\"Degré n du polynôme d'interpolation\")\n",
        "    plt.legend()\n",
        "    plt.grid()\n",
        "\n",
        "\n",
        "interpolation_error_comparison(sympy.exp(x), -1, 1, 20)"
      ]
    },
    {
      "cell_type": "markdown",
      "metadata": {
        "id": "8UMAo7D4iyUO"
      },
      "source": [
        "### Exercice 1c) ii)\n",
        "> Utilisez `interpolation_error_comparison` pour réaliser des tracés similaires pour les fonctions $1/(1+x^2)$ et $\\sin(x)$. \n",
        "> - Observez-vous une différence dans la vitesse de décroissance de l'erreur entre ces deux fonctions ? Pourquoi ?\n",
        "> - Finalement, l'erreur d'interpolation devient pire que la borne théorique, à la fois pour les noeuds d'interpolation équidistants et de Chebyshev. Pourquoi la valeur de $n$ à laquelle cela se produit diffère-t-elle entre ces deux fonctions ?\n",
        ">\n",
        "> **Remarque** : Si le temps d'exécution est très long, changez votre fonction `max_deviation` de l'exercice 1a) pour qu'elle soit moins coûteuse à calculer."
      ]
    },
    {
      "cell_type": "code",
      "execution_count": null,
      "metadata": {
        "id": "MxSjVFlPiyUO",
        "colab": {
          "base_uri": "https://localhost:8080/",
          "height": 357
        },
        "outputId": "1408fe14-9905-410c-d362-60306580de35"
      },
      "outputs": [
        {
          "output_type": "display_data",
          "data": {
            "text/plain": [
              "<Figure size 720x360 with 1 Axes>"
            ],
            "image/png": "[encoded data removed]"
          },
          "metadata": {
            "needs_background": "light"
          }
        }
      ],
      "source": [
        "# VOTRE CODE ICI\n",
        "interpolation_error_comparison(1 / (1 + x**2), -1, 1, 20)"
      ]
    },
    {
      "cell_type": "code",
      "source": [
        "interpolation_error_comparison(sympy.sin(x), -1, 1, 20)"
      ],
      "metadata": {
        "colab": {
          "base_uri": "https://localhost:8080/",
          "height": 352
        },
        "id": "PwvzrqqV402s",
        "outputId": "466c0753-adfd-4dd7-9770-aa6a52157687"
      },
      "execution_count": null,
      "outputs": [
        {
          "output_type": "display_data",
          "data": {
            "text/plain": [
              "<Figure size 720x360 with 1 Axes>"
            ],
            "image/png": "[encoded data removed]"
          },
          "metadata": {
            "needs_background": "light"
          }
        }
      ]
    },
    {
      "cell_type": "markdown",
      "source": [
        "### Pourquoi les valeurs arrêtent-elles de faire du sens après un certain y ?\n",
        "\n",
        "Ce y avoisine le $10^{-16}$ qui est le nombre machine $\\varepsilon_{mach}$ de la plupart des OS.\n",
        "\n",
        "- On peut donc supposer que les valeurs deviennent simplement trop petites pour pouvoir bosser avec. i.e. On dispose pas d'une precision de calcul assez grande pour faire correctement des calculs avec.\n",
        "\n",
        "- Ca peut aussi être une cause d'une phénomène \"d'anulation de chiffres significatifs\".  \n",
        "i.e. Soit a =4.23, b = 3.64 des floats, faire :\n",
        "    - $a^2$  ($\\Rightarrow$ erreur d'arrondis sur carré)\n",
        "    - $b^2$  ($\\Rightarrow$ erreur d'arrondis sur carré)\n",
        "    - $a^2 - b^2$ ($\\Rightarrow$ encore plus grosse erreur sur soustraction de carrés.)  \n",
        "  \n",
        "  Peut causer un erreur d'arrondi jusqu'à **20%** de la valeur correct, même si le $\\varepsilon_{mach}$ avoisine les **1%**.  \n",
        "\n",
        "  En revanche, faire :\n",
        "    - $a+b$\n",
        "    - $a-b$\n",
        "    - $(a+b)(a-b)$  \n",
        "\n",
        "  Donnera en général bien, ici, une erreur d'arrondi de $≈$ **1%**.\n",
        "\n",
        "Il faudrait juste savoir quel opération appliquer dans quel ordre.\n",
        "\n",
        "\n",
        "**Dans notre cas, l'erreur numérique (en fonction de h) majore l'erreur théorique $⇒$ voir cours 27.10**\n",
        "\n",
        "(En très très gros on aura $E_{th}(h)$ et $(E_{num}(h)$ qui seront de l'ordre de:   \n",
        "\n",
        "$$\n",
        "E_{th}(h)  \\leq C_2 \\cdot h^2 \\qquad \\qquad (⟶ 0,\\quad pour\\ h\\ qui\\ tend\\ vers\\ 0)\n",
        "$$\n",
        "$$\n",
        "E_{num} \\leq C_2 \\cdot h^2 + C_1 \\cdot ɛ_{mach} \\quad ( ❌ ⟶ pas\\ vers\\ 0 )\n",
        "$$\n",
        ")"
      ],
      "metadata": {
        "id": "8rFgVvlWKcl0"
      }
    },
    {
      "cell_type": "markdown",
      "metadata": {
        "id": "cYAZUsoQiyUP"
      },
      "source": [
        "### Exercice 1d)\n",
        "> On considère l'erreur d'interpolation pour les noeuds de Chebyshev. Si une fonction $f$ est $k$ fois différentiable, alors\n",
        "$$\n",
        "    \\max_{x\\in[a,b]}|p_n(x)-f(x)| \\leq C_k n^{-k}\n",
        "$$\n",
        "> où $C_k>0$ est une constante indépendante de $n$. Nous allons confirmer cette relation numériquement.\n",
        ">\n",
        "> Pour $f_1(x) = |x|$, $f_2(x) = |\\sin(5x)|^3$ :\n",
        "> - Tracez l'erreur d'interpolation en utilisant les noeuds de Chebyshev sur l'intervalle $[-1,1]$ pour $n=1,\\dots,100$.   \n",
        "> - Si $f_i$ est $k$ fois différentiable, alors tracez $n^{-k}$ dans le même graphe.  \n",
        "> - L'erreur d'interpolation a-t-elle la même pente que $n^{-k}$ ? \n",
        "> - Utilisez une échelle log-log en utilisant `plt.loglog()` pour mieux voir cette relation.\n",
        "> - Assurez-vous d'ajouter une légende et un titre, et d'utiliser les options de traçage pour rendre le tracé plus clair."
      ]
    },
    {
      "cell_type": "code",
      "source": [
        "def interpolation_error_comparison(expr, a, b, n_max):\n",
        "    plt.figure(figsize=(10, 5))\n",
        "    func_numpy = sympy.lambdify(x, expr, \"numpy\")\n",
        "    n_vals = np.arange(1, n_max)\n",
        "\n",
        "    # Chebyshev\n",
        "    # erreurs_vrais = []\n",
        "    # erreurs_theoriques = []\n",
        "    errors = [interpolation_error_chebyshev(func_numpy, -1, 1, n) for n in n_vals]\n",
        "    plt.plot(n_vals, errors, \"-\", c=\"b\", label=\"Interpolation error - Chebyshev nodes\")\n",
        "    #plt.plot(n_vals, erreurs_theoriques, \"--\", c=\"b\", label=\"$b_{Cheby}$\")\n",
        "\n",
        "    plt.title(f\"Interpolation error for $f(x) = {sympy.latex(expr)}$ using Chebyshev nodes\")\n",
        "    x_ticks = n_vals\n",
        "    if len(x_ticks) > 25:\n",
        "        x_ticks = x_ticks[:: len(x_ticks) // 20]\n",
        "    plt.xticks(x_ticks)\n",
        "    plt.yscale(\"log\")\n",
        "    plt.xlabel(\"degree (n) of interpolation polynomial\")\n",
        "    plt.legend()\n",
        "    plt.grid()"
      ],
      "metadata": {
        "id": "S7gKHazgRyrX"
      },
      "execution_count": null,
      "outputs": []
    },
    {
      "cell_type": "code",
      "execution_count": null,
      "metadata": {
        "id": "CyTy6xgUiyUP",
        "colab": {
          "base_uri": "https://localhost:8080/"
        },
        "outputId": "32b4dbf1-15e5-4e3a-fe64-5c5efefadbf7"
      },
      "outputs": [
        {
          "output_type": "stream",
          "name": "stdout",
          "text": [
            "f1 = Abs(x)  f2 = Abs(sin(5*x))**3\n"
          ]
        }
      ],
      "source": [
        "f1, f2 = sympy.Abs(x), sympy.Abs(sympy.sin(5*x)) ** 3\n",
        "print(\"f1 =\", f1, \" f2 =\", f2)\n",
        "a, b, node_nb = -1, 1, 100 + 1\n",
        "\n",
        "#interpolation_error_chebyshev(, a, b, node_nb)"
      ]
    },
    {
      "cell_type": "markdown",
      "metadata": {
        "id": "nmTr163U-INr"
      },
      "source": [
        "**Reflexion** : L'erreur d'interpolation semble former deux lignes parallèles, en effet elle alterne entre de plus grandes et de plus petites valeurs. Comment cela se fait-il ?"
      ]
    },
    {
      "cell_type": "markdown",
      "metadata": {
        "id": "6gf2KWZoiyUP"
      },
      "source": [
        "## Exercice 2: Introduction à l’analyse des erreurs d’arrondi\n",
        "\n",
        "Les nombres à virgule flottante dans numpy sont par défaut représentés sur 64 bits, mais on peut aussi les représenter sur 32 bits. Il existe aussi des formats pour les nombres à virgule flottante moins courants comme 16 bits et 128 bits, mais ils ne sont que partiellement supportés par numpy. Rappelez-vous que tous éléments des arrays de numpy ont un type de données, qui est stocké dans `.dtype`:"
      ]
    },
    {
      "cell_type": "code",
      "execution_count": null,
      "metadata": {
        "id": "H7MnnPV7iyUP",
        "colab": {
          "base_uri": "https://localhost:8080/"
        },
        "outputId": "5edf1611-6f26-43a3-e3e2-09b477a46fbf"
      },
      "outputs": [
        {
          "output_type": "execute_result",
          "data": {
            "text/plain": [
              "dtype('float64')"
            ]
          },
          "metadata": {},
          "execution_count": 23
        }
      ],
      "source": [
        "import numpy as np\n",
        "\n",
        "A = np.linspace(-1, 1, 10)\n",
        "A.dtype"
      ]
    },
    {
      "cell_type": "markdown",
      "metadata": {
        "id": "x76Zmtj9iyUP"
      },
      "source": [
        "Pour créer un array avec un `dtype` donné, nous pouvons utiliser le paramètre `dtype`. On peut aussi appeler `.astype()` sur n'importe quel array numpy pour convertir tous ses éléments à un type différent. Notez que si nous convertissons de 64 à 32 bits par exemple, il y a bien sûr une perte de précision."
      ]
    },
    {
      "cell_type": "code",
      "execution_count": null,
      "metadata": {
        "id": "Lt6zzubniyUQ",
        "colab": {
          "base_uri": "https://localhost:8080/"
        },
        "outputId": "266e9eb4-ac12-4de6-f433-0152a7563e01"
      },
      "outputs": [
        {
          "output_type": "stream",
          "name": "stdout",
          "text": [
            "float32\n",
            "float32\n"
          ]
        }
      ],
      "source": [
        "A = np.linspace(-1, 1, 10, dtype=np.float32)\n",
        "print(A.dtype)\n",
        "\n",
        "A = np.linspace(-1, 1, 10).astype(np.float32)\n",
        "print(A.dtype)"
      ]
    },
    {
      "cell_type": "markdown",
      "metadata": {
        "id": "RlraGSLViyUQ"
      },
      "source": [
        "Il existe également plusieurs formats pour les nombres entiers. Par exemple, `int32` encode les entiers sur 32 bits, c'est-à-dire cet entier peut prendre une valeur comprise dans l'intervalle $[-2^{31},\\dots,2^{31}-1]$. Les arrays de nombres entiers peuvent être convertis en arrays de nombres à virgule et inversement (faites attention aux arrondis)."
      ]
    },
    {
      "cell_type": "code",
      "execution_count": null,
      "metadata": {
        "id": "zAkH2YxUiyUQ",
        "colab": {
          "base_uri": "https://localhost:8080/"
        },
        "outputId": "2639ec2b-61fd-4c35-a68e-450fc1d2db9c"
      },
      "outputs": [
        {
          "output_type": "stream",
          "name": "stdout",
          "text": [
            "[-1.  -0.8 -0.6 -0.4 -0.2  0.   0.2  0.4  0.6  0.8  1. ]\n"
          ]
        },
        {
          "output_type": "execute_result",
          "data": {
            "text/plain": [
              "array([-1,  0,  0,  0,  0,  0,  0,  0,  0,  0,  1], dtype=int32)"
            ]
          },
          "metadata": {},
          "execution_count": 25
        }
      ],
      "source": [
        "A = np.linspace(-1, 1, 11)\n",
        "print(A)\n",
        "A.astype(np.int32)"
      ]
    },
    {
      "cell_type": "markdown",
      "metadata": {
        "id": "1uPdcKahiyUQ"
      },
      "source": [
        "Pour trouver des informations sur un nombre à virgule flottante, on peut utiliser `np.finfo`. Celui-ci renvoie un objet qui stocke des informations utiles sur le format de ce nombre. Par exemple, l'attribut `.eps` de cet objet renvoie l'epsilon machine pour le format de nombre à virgule flottante donné:"
      ]
    },
    {
      "cell_type": "code",
      "execution_count": null,
      "metadata": {
        "id": "Ch3qD7XhiyUQ",
        "colab": {
          "base_uri": "https://localhost:8080/"
        },
        "outputId": "9e7384da-1bca-4ece-cc7b-5b2840be3426"
      },
      "outputs": [
        {
          "output_type": "execute_result",
          "data": {
            "text/plain": [
              "2.220446049250313e-16"
            ]
          },
          "metadata": {},
          "execution_count": 26
        }
      ],
      "source": [
        "f64_info = np.finfo(np.float64)\n",
        "f64_info.eps"
      ]
    },
    {
      "cell_type": "markdown",
      "metadata": {
        "id": "N2VbMo1siyUQ"
      },
      "source": [
        "### Exercise 2a)\n",
        "----\n",
        "> Utilisez `np.finfo` pour imprimer les informations suivantes sur le type de données `float32` :\n",
        "> - L'epsilon de la machine\n",
        "> - Le plus petit nombre positif normalisé\n",
        "> - Le plus grand nombre positif\n",
        "> \n",
        "> Lisez [la documentation](https://numpy.org/doc/1.21/reference/generated/numpy.finfo.html) pour trouver les attributs appropriés.\n",
        "----"
      ]
    },
    {
      "cell_type": "code",
      "execution_count": null,
      "metadata": {
        "id": "fCseCCPviyUR"
      },
      "outputs": [],
      "source": [
        "# VOTRE CODE ICI"
      ]
    },
    {
      "cell_type": "markdown",
      "metadata": {
        "id": "0O_U-U4TiyUR"
      },
      "source": [
        "Rappelez-vous que, par l'exemple 2.2 du cours, les nombres à virgule flottante normalisés de 32 bits ont la forme suivante :\n",
        "$$\n",
        "    \\tilde x = (-1)^s\\times 1.m\\times 2^{e-127}\n",
        "$$\n",
        "Où $s$ est le signe, $m$ est la mantisse et $e$ est l'exposant. Avec numpy, on peut extraire la mantisse et l'exposant en utilisant `np.frexp`, qui donne la mantisse et l'exposant sous une forme légèrement différente. Pour les nombres normalisés, la mantisse est soit entre $0.5$ et $1$, soit entre $-1$ et $-0.5$, alors que pour les nombres dénormalisés, la mantisse est entre $-0.5$ et $0.5$. L'exposant est un nombre entier $\\leq 127$. Pour tous les nombres on a alors que $\\tilde x = m\\times 2^e$ (même les nombres dénormalisés). L'exception bien sûr sont les valeurs à virgule flottante `NaN`, $-\\infty$ et $+\\infty$.\n",
        "\n",
        "Par exemple, on voit ci-dessous comment 10.0 est décomposé en une mantisse et un exposant."
      ]
    },
    {
      "cell_type": "code",
      "execution_count": null,
      "metadata": {
        "id": "sF6t9Rd0iyUR",
        "colab": {
          "base_uri": "https://localhost:8080/"
        },
        "outputId": "35b6d9de-ff5e-400b-ebfd-0a3c200b309c"
      },
      "outputs": [
        {
          "output_type": "stream",
          "name": "stdout",
          "text": [
            "Mantisse: 0.625, exposant: 4\n"
          ]
        },
        {
          "output_type": "execute_result",
          "data": {
            "text/plain": [
              "10.0"
            ]
          },
          "metadata": {},
          "execution_count": 28
        }
      ],
      "source": [
        "mantisse, exposant = np.frexp(10.0)\n",
        "print(f\"Mantisse: {mantisse}, exposant: {exposant}\")\n",
        "mantisse * 2**exposant"
      ]
    },
    {
      "cell_type": "markdown",
      "metadata": {
        "id": "4vr-Ib8GiyUS"
      },
      "source": [
        "### Exercise 2b)\n",
        "----\n",
        "> Dans deux figures distinctes, tracez la mantisse et l'exposant des nombres à virgule flottante de 32 bits entre $10^{-50}$ et $10^{50}$. Placez l'exposant en base 10 sur l'axe horizontal.\n",
        ">\n",
        "> Que se passe-t-il lorsque les nombres à virgule flottante deviennent plus petits que le plus petit nombre normalisé ? Que se passe-t-il lorsqu'ils deviennent plus grands que le plus grand nombre représentable ? Cela correspond-il à ce qui devrait se passer avec la mantisse dans la spécification IEEE ?\n",
        "> \n",
        "> Portez une attention particulière à l'axe horizontal des deux graphiques. Pourquoi y a-t-il une différence ?\n",
        "> \n",
        "> Tapez vos réponses dans un commentaire ou une cellule markdown.\n",
        "----"
      ]
    },
    {
      "cell_type": "code",
      "execution_count": null,
      "metadata": {
        "id": "X2tzqxauiyUS"
      },
      "outputs": [],
      "source": [
        "# VOTRE CODE ICI"
      ]
    },
    {
      "cell_type": "markdown",
      "metadata": {
        "id": "wwkYk6rViyUS"
      },
      "source": [
        "----\n",
        "Lorsque l'on travaille avec des nombres à virgule flottante, des erreurs d'arrondi et des débordements peuvent se produire si l'on prend inutilement des fractions de très grands nombres. Par exemple :"
      ]
    },
    {
      "cell_type": "code",
      "execution_count": null,
      "metadata": {
        "id": "Ea1jD3a3iyUS",
        "colab": {
          "base_uri": "https://localhost:8080/"
        },
        "outputId": "89975f09-d3a7-4db3-8d7a-a00e87b5fbdb"
      },
      "outputs": [
        {
          "output_type": "stream",
          "name": "stdout",
          "text": [
            "0.5\n",
            "0.0\n"
          ]
        }
      ],
      "source": [
        "print(1.00 / 2.00)\n",
        "nombre_grand = 10.0**308\n",
        "print((1.00 * nombre_grand) / (2.00 * nombre_grand))"
      ]
    },
    {
      "cell_type": "markdown",
      "metadata": {
        "id": "05RxoYw0iyUS"
      },
      "source": [
        "Si on choisit `nombre_grand` pour être encore plus grand, alors cela produit une erreur d'overflow. L'astuce consiste donc à éviter ces grandes fractions en simplifiant une expression. Il n'est pas toujours évident comment le faire. Considérons le cas particulier suivant de la formule du binôme de Newton :\n",
        "$$\n",
        "    1 = (1+1)^n/2^n = \\sum_{k=0}^n \\binom nk 2^{-n} \\tag{$\\star$}\n",
        "$$\n",
        "Si $n$ et $k$ sont très grands, alors chaque terme de cette somme est le produit d'un très grand et d'un très petit nombre, ce qui est une situation que nous aimerions éviter. On a ci-dessous une implémentation naïve de cette formule qui fonctionne bien pour $n=100$, mais pour $n=10\\,000$ par exemple cela ne fonctionne pas (essayez !)."
      ]
    },
    {
      "cell_type": "code",
      "execution_count": null,
      "metadata": {
        "id": "3HLh21l-iyUS",
        "colab": {
          "base_uri": "https://localhost:8080/"
        },
        "outputId": "e11b93b6-7bd6-4b9e-90ed-054a447147f4"
      },
      "outputs": [
        {
          "output_type": "execute_result",
          "data": {
            "text/plain": [
              "1.0"
            ]
          },
          "metadata": {},
          "execution_count": 31
        }
      ],
      "source": [
        "from scipy.special import comb\n",
        "\n",
        "\n",
        "def formule_naive(k, n):\n",
        "    \"\"\"\n",
        "    Calcule le kième terme de la formule (*)\n",
        "\n",
        "    - n est un nombre entier positif\n",
        "    - k est soit un entier positif, soit un array numpy d'entiers positifs, tous\n",
        "      inférieurs ou égaux à n.\n",
        "    \"\"\"\n",
        "    return comb(n, k) / 2**n\n",
        "\n",
        "\n",
        "n = 100\n",
        "np.sum(formule_naive(np.arange(n + 1), n))"
      ]
    },
    {
      "cell_type": "markdown",
      "metadata": {
        "id": "Q30G5rMBiyUT"
      },
      "source": [
        "Nous pouvons résoudre ce problème d'overflow en prenant un logarithme :\n",
        "$$\n",
        "    \\binom nk 2^{-n} = \\exp\\left( \\log\\left(\\binom nk\\right)-n\\log 2\\right)\n",
        "$$\n",
        "Cependant, il faut maintenant calculer le logarithme d'un coefficient binomial. Cela peut être fait en exprimant le coefficient binomial en termes de factorielles, puis d'utiliser la formule :\n",
        "$$\n",
        "    \\log(n !) = \\log\\Gamma(n+1)\n",
        "$$\n",
        "Heureusement, $\\log\\Gamma$ peut être calculé en utilisant `scipy.special.loggamma`.\n",
        "\n",
        "### Exercice 2c)\n",
        "----\n",
        "> Implémentez une fonction `safe_formula(n, k)` qui calcule le `k`ième terme de la somme $(\\star)$ sans rencontrer de problèmes d'overflow même pour de très grandes valeurs de $n$ et $k$.\n",
        "----"
      ]
    },
    {
      "cell_type": "code",
      "execution_count": null,
      "metadata": {
        "id": "aVLbd7rdiyUT"
      },
      "outputs": [],
      "source": [
        "from scipy.special import loggamma\n",
        "\n",
        "\n",
        "def log_comb(n, k):\n",
        "    \"\"\"\n",
        "    Calcul du logarithme du coefficient binomial\n",
        "\n",
        "    - n est un nombre entier positif\n",
        "    - k est soit un entier positif, soit un array numpy d'entiers positifs, tous\n",
        "      inférieurs ou égaux à n.\n",
        "    \"\"\"\n",
        "    # VOTRE CODE ICI\n",
        "\n",
        "\n",
        "def safe_formula(k, n):\n",
        "    \"\"\"\n",
        "    Calcule le kième terme de la formule (*)\n",
        "\n",
        "    - n est un nombre entier positif\n",
        "    - k est soit un entier positif, soit un array numpy d'entiers positifs, tous\n",
        "      inférieurs ou égaux à n.\n",
        "    \"\"\"\n",
        "    # VOTRE CODE ICI\n",
        "\n",
        "\n",
        "n = 10_000\n",
        "np.sum(safe_formula(np.arange(n + 1), n))  # devrait être environ 1.0"
      ]
    },
    {
      "cell_type": "code",
      "execution_count": null,
      "metadata": {
        "id": "yFdqLb9RiyUU",
        "colab": {
          "base_uri": "https://localhost:8080/",
          "height": 433
        },
        "outputId": "f540de8c-7366-4a65-b030-f6c9522d8696"
      },
      "outputs": [
        {
          "output_type": "error",
          "ename": "TypeError",
          "evalue": "ignored",
          "traceback": [
            "\u001b[0;31m---------------------------------------------------------------------------\u001b[0m",
            "\u001b[0;31mTypeError\u001b[0m                                 Traceback (most recent call last)",
            "\u001b[0;32m<ipython-input-33-353124eced1b>\u001b[0m in \u001b[0;36m<module>\u001b[0;34m\u001b[0m\n\u001b[1;32m     19\u001b[0m \u001b[0;34m\u001b[0m\u001b[0m\n\u001b[1;32m     20\u001b[0m \u001b[0;34m\u001b[0m\u001b[0m\n\u001b[0;32m---> 21\u001b[0;31m \u001b[0mtest_safe_formula\u001b[0m\u001b[0;34m(\u001b[0m\u001b[0;34m)\u001b[0m\u001b[0;34m\u001b[0m\u001b[0;34m\u001b[0m\u001b[0m\n\u001b[0m",
            "\u001b[0;32m<ipython-input-33-353124eced1b>\u001b[0m in \u001b[0;36mtest_safe_formula\u001b[0;34m()\u001b[0m\n\u001b[1;32m      2\u001b[0m     \u001b[0mn\u001b[0m \u001b[0;34m=\u001b[0m \u001b[0;36m20\u001b[0m\u001b[0;34m\u001b[0m\u001b[0;34m\u001b[0m\u001b[0m\n\u001b[1;32m      3\u001b[0m     assert np.allclose(\n\u001b[0;32m----> 4\u001b[0;31m         \u001b[0msafe_formula\u001b[0m\u001b[0;34m(\u001b[0m\u001b[0mnp\u001b[0m\u001b[0;34m.\u001b[0m\u001b[0marange\u001b[0m\u001b[0;34m(\u001b[0m\u001b[0mn\u001b[0m \u001b[0;34m+\u001b[0m \u001b[0;36m1\u001b[0m\u001b[0;34m)\u001b[0m\u001b[0;34m,\u001b[0m \u001b[0mn\u001b[0m\u001b[0;34m)\u001b[0m\u001b[0;34m,\u001b[0m \u001b[0mformule_naive\u001b[0m\u001b[0;34m(\u001b[0m\u001b[0mnp\u001b[0m\u001b[0;34m.\u001b[0m\u001b[0marange\u001b[0m\u001b[0;34m(\u001b[0m\u001b[0mn\u001b[0m \u001b[0;34m+\u001b[0m \u001b[0;36m1\u001b[0m\u001b[0;34m)\u001b[0m\u001b[0;34m,\u001b[0m \u001b[0mn\u001b[0m\u001b[0;34m)\u001b[0m\u001b[0;34m\u001b[0m\u001b[0;34m\u001b[0m\u001b[0m\n\u001b[0m\u001b[1;32m      5\u001b[0m     ), \"safe_formula ne donne pas le même résultat que formule_naive\"\n\u001b[1;32m      6\u001b[0m \u001b[0;34m\u001b[0m\u001b[0m\n",
            "\u001b[0;32m<__array_function__ internals>\u001b[0m in \u001b[0;36mallclose\u001b[0;34m(*args, **kwargs)\u001b[0m\n",
            "\u001b[0;32m/usr/local/lib/python3.7/dist-packages/numpy/core/numeric.py\u001b[0m in \u001b[0;36mallclose\u001b[0;34m(a, b, rtol, atol, equal_nan)\u001b[0m\n\u001b[1;32m   2247\u001b[0m \u001b[0;34m\u001b[0m\u001b[0m\n\u001b[1;32m   2248\u001b[0m     \"\"\"\n\u001b[0;32m-> 2249\u001b[0;31m     \u001b[0mres\u001b[0m \u001b[0;34m=\u001b[0m \u001b[0mall\u001b[0m\u001b[0;34m(\u001b[0m\u001b[0misclose\u001b[0m\u001b[0;34m(\u001b[0m\u001b[0ma\u001b[0m\u001b[0;34m,\u001b[0m \u001b[0mb\u001b[0m\u001b[0;34m,\u001b[0m \u001b[0mrtol\u001b[0m\u001b[0;34m=\u001b[0m\u001b[0mrtol\u001b[0m\u001b[0;34m,\u001b[0m \u001b[0matol\u001b[0m\u001b[0;34m=\u001b[0m\u001b[0matol\u001b[0m\u001b[0;34m,\u001b[0m \u001b[0mequal_nan\u001b[0m\u001b[0;34m=\u001b[0m\u001b[0mequal_nan\u001b[0m\u001b[0;34m)\u001b[0m\u001b[0;34m)\u001b[0m\u001b[0;34m\u001b[0m\u001b[0;34m\u001b[0m\u001b[0m\n\u001b[0m\u001b[1;32m   2250\u001b[0m     \u001b[0;32mreturn\u001b[0m \u001b[0mbool\u001b[0m\u001b[0;34m(\u001b[0m\u001b[0mres\u001b[0m\u001b[0;34m)\u001b[0m\u001b[0;34m\u001b[0m\u001b[0;34m\u001b[0m\u001b[0m\n\u001b[1;32m   2251\u001b[0m \u001b[0;34m\u001b[0m\u001b[0m\n",
            "\u001b[0;32m<__array_function__ internals>\u001b[0m in \u001b[0;36misclose\u001b[0;34m(*args, **kwargs)\u001b[0m\n",
            "\u001b[0;32m/usr/local/lib/python3.7/dist-packages/numpy/core/numeric.py\u001b[0m in \u001b[0;36misclose\u001b[0;34m(a, b, rtol, atol, equal_nan)\u001b[0m\n\u001b[1;32m   2353\u001b[0m         \u001b[0my\u001b[0m \u001b[0;34m=\u001b[0m \u001b[0masanyarray\u001b[0m\u001b[0;34m(\u001b[0m\u001b[0my\u001b[0m\u001b[0;34m,\u001b[0m \u001b[0mdtype\u001b[0m\u001b[0;34m=\u001b[0m\u001b[0mdt\u001b[0m\u001b[0;34m)\u001b[0m\u001b[0;34m\u001b[0m\u001b[0;34m\u001b[0m\u001b[0m\n\u001b[1;32m   2354\u001b[0m \u001b[0;34m\u001b[0m\u001b[0m\n\u001b[0;32m-> 2355\u001b[0;31m     \u001b[0mxfin\u001b[0m \u001b[0;34m=\u001b[0m \u001b[0misfinite\u001b[0m\u001b[0;34m(\u001b[0m\u001b[0mx\u001b[0m\u001b[0;34m)\u001b[0m\u001b[0;34m\u001b[0m\u001b[0;34m\u001b[0m\u001b[0m\n\u001b[0m\u001b[1;32m   2356\u001b[0m     \u001b[0myfin\u001b[0m \u001b[0;34m=\u001b[0m \u001b[0misfinite\u001b[0m\u001b[0;34m(\u001b[0m\u001b[0my\u001b[0m\u001b[0;34m)\u001b[0m\u001b[0;34m\u001b[0m\u001b[0;34m\u001b[0m\u001b[0m\n\u001b[1;32m   2357\u001b[0m     \u001b[0;32mif\u001b[0m \u001b[0mall\u001b[0m\u001b[0;34m(\u001b[0m\u001b[0mxfin\u001b[0m\u001b[0;34m)\u001b[0m \u001b[0;32mand\u001b[0m \u001b[0mall\u001b[0m\u001b[0;34m(\u001b[0m\u001b[0myfin\u001b[0m\u001b[0;34m)\u001b[0m\u001b[0;34m:\u001b[0m\u001b[0;34m\u001b[0m\u001b[0;34m\u001b[0m\u001b[0m\n",
            "\u001b[0;31mTypeError\u001b[0m: ufunc 'isfinite' not supported for the input types, and the inputs could not be safely coerced to any supported types according to the casting rule ''safe''"
          ]
        }
      ],
      "source": [
        "def test_safe_formula():\n",
        "    n = 20\n",
        "    assert np.allclose(\n",
        "        safe_formula(np.arange(n + 1), n), formule_naive(np.arange(n + 1), n)\n",
        "    ), \"safe_formula ne donne pas le même résultat que formule_naive\"\n",
        "\n",
        "    n = 10_000\n",
        "    s = np.sum(safe_formula(np.arange(n + 1), n))\n",
        "    assert abs(s - 1) < 1e-6, \"safe_formula ne donne pas la bonne somme\"\n",
        "\n",
        "    assert (\n",
        "        abs(safe_formula(100_000, 200_000) - 0.0017841218869290864) < 1e-6\n",
        "    ), \"safe_formula ne donne pas la bonne valeur pour k=100_000, n=200_000\"\n",
        "\n",
        "    assert (\n",
        "        abs(np.sum(safe_formula(np.arange(5001), 10_000)) - 0.5039893230697347)\n",
        "        < 1e-6\n",
        "    ), \"safe_formula ne donne pas la bonne somme pour n=10_000\"\n",
        "\n",
        "\n",
        "test_safe_formula()"
      ]
    },
    {
      "cell_type": "markdown",
      "metadata": {
        "id": "sbb9FgbQiyUU"
      },
      "source": [
        "Une formule utile faisant intervenir des produits et des fractions de très grands nombres est la formule de Sterling, qui donne l'approximation suivante pour $n!$ :\n",
        "$$\n",
        "    n ! \\approx \\sqrt{2\\pi n}\\cdot n^n / e^n \\tag{$\\star \\star$}\n",
        "$$\n",
        "Nous allons étudier la vitesse de convergence de cette approximation.\n",
        "\n",
        "### Exercice 2d)\n",
        "---\n",
        "> Ecrivez une fonction `quotient_sterling` qui approxime le logarithme du quotient des côtés gauche et droit de l'approximation de Stirling $(\\star\\star)$.\n",
        "> \n",
        "> Faites un graphique qui montre la vitesse à laquelle ce quotient logarithmique converge vers 0. Utilisez des valeurs de $n$ entre $1$ et $10^{10}$. Utilisez des axes horizontaux et verticaux appropriés pour faciliter l'interprétation de la relation. N'oubliez pas d'ajouter des étiquettes descriptives aux axes et d'ajouter un titre.\n",
        "---"
      ]
    },
    {
      "cell_type": "code",
      "execution_count": null,
      "metadata": {
        "id": "1nB6IgKciyUU"
      },
      "outputs": [],
      "source": [
        "def quotient_sterling(n):\n",
        "    \"\"\"\n",
        "    Calcule le logarithme de quotient de deux côtés de la formule de Sterling\n",
        "    \"\"\"\n",
        "    if isinstance(n, np.ndarray):\n",
        "        n = n.astype(np.int64)  # on s'assure que n est un entier\n",
        "\n",
        "    # VOTRE CODE ICI\n",
        "\n",
        "\n",
        "# VOTRE CODE ICI POUR LE GRAPHIQUE"
      ]
    }
  ],
  "metadata": {
    "colab": {
      "collapsed_sections": [
        "VIeM91xriyUI"
      ],
      "provenance": []
    },
    "kernelspec": {
      "display_name": "Python 3 (ipykernel)",
      "language": "python",
      "name": "python3"
    },
    "language_info": {
      "codemirror_mode": {
        "name": "ipython",
        "version": 3
      },
      "file_extension": ".py",
      "mimetype": "text/x-python",
      "name": "python",
      "nbconvert_exporter": "python",
      "pygments_lexer": "ipython3",
      "version": "3.10.8"
    },
    "toc-autonumbering": false,
    "toc-showcode": false,
    "toc-showmarkdowntxt": false,
    "toc-showtags": false,
    "vscode": {
      "interpreter": {
        "hash": "aa8f53eae326bb3efc32035631559d37779200e37cbfd9a8c4c0dd4a4acba3ea"
      }
    }
  },
  "nbformat": 4,
  "nbformat_minor": 0
}